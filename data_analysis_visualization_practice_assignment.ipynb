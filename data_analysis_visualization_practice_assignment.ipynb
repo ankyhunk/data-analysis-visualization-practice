{
  "cells": [
    {
      "cell_type": "markdown",
      "id": "f03d1ebe",
      "metadata": {
        "id": "f03d1ebe"
      },
      "source": [
        "# Assignment - Data Analysis and Visualization Practice \n",
        "\n",
        "This assignment is part of the [Zero to Data Science Bootcamp by Jovian](https://jovian.ai/learn/zero-to-data-analyst-bootcamp).\n",
        "\n",
        "As you go through this notebook, you will find the symbol **???** in certain places. To complete this assignment, you must replace all the **???** with appropriate values, expressions, or statements to ensure that the notebook runs properly end-to-end. \n",
        "\n",
        "**Guidelines**\n",
        "\n",
        "1. Make sure to run all the code cells in order. Otherwise, you may get errors like `NameError` for undefined variables.\n",
        "2. Do not change variable names, delete cells, or disturb other existing code. It may cause problems during evaluation.\n",
        "3. In some cases, you may need to add some code cells or new statements before or after the line of code containing the **???**. \n",
        "4. Since you'll be using a temporary online service for code execution, save your work by running `jovian.commit` at regular intervals.\n",
        "5. Questions marked **(Optional)** will not be considered for evaluation and can be skipped. They are for your learning.\n",
        "\n",
        "\n",
        "**How to Get Help**\n",
        "\n",
        "If you are stuck, you can ask for help on the Bootcamp Slack group. Post errors, ask for hints, and help others. Follow these guidelines for getting help:\n",
        "\n",
        "- Try to spend at least 20 minutes solving a problem before asking for help. But if you've been stuck on a problem for more than 2 hours, please ask for help!\n",
        "- When you ask a question, make sure to explain what you have tried already and share your code and results if possible. This makes it easy for others to help you faster.\n",
        "- Try to be as specific as possible when asking a question. E.g. \"I can't solve question 3\" is too vague. \"I can't figure out how to create separate lines for different countries in question 1. Here's what I've tried: ...\" is specific enough.\n",
        "- Help others by resolving their errors, suggesting the correct approaches and sharing relevant resources. **Please don't share a complete working solution code on Slack** to give others a chance to solve the problem themselves.\n",
        "\n",
        "\n",
        "Make a submission here: https://jovian.ai/learn/zero-to-data-analyst-bootcamp/assignment/assignment-6-data-analysis-and-visualization-practice"
      ]
    },
    {
      "cell_type": "markdown",
      "id": "3e1a8810",
      "metadata": {
        "id": "3e1a8810"
      },
      "source": [
        "### How to run the code and save your work\n",
        "\n",
        "\n",
        "**Option 1: Running using free online resources (1-click, recommended):** The easiest way to start executing the code is to click the **Run** button at the top of this page and select **Run on Colab**. [Follow these instructions](https://jovian.ai/docs/user-guide/run.html#run-on-colab) to connect your Google Drive with Jovian.\n",
        "\n",
        "\n",
        "**Option 2: Running on your computer locally:** To run the code on your computer locally, you'll need to set up [Python](https://www.python.org), download the notebook and install the required libraries. We recommend using the [Conda](https://docs.conda.io/projects/conda/en/latest/user-guide/install/) distribution of Python. Click the **Run** button at the top of this page, select the **Run Locally** option, and follow the instructions.\n",
        "\n",
        "**Saving your work**: You can save a snapshot of the assignment to your [Jovian](https://jovian.ai) profile, so that you can access it later and continue your work. Keep saving your work by running `jovian.commit` from time to time."
      ]
    },
    {
      "cell_type": "code",
      "execution_count": null,
      "id": "bde54edb",
      "metadata": {
        "id": "bde54edb"
      },
      "outputs": [],
      "source": [
        "!pip install jovian --upgrade --quiet"
      ]
    },
    {
      "cell_type": "code",
      "execution_count": null,
      "id": "cccd43dc",
      "metadata": {
        "id": "cccd43dc"
      },
      "outputs": [],
      "source": [
        "import jovian"
      ]
    },
    {
      "cell_type": "code",
      "execution_count": null,
      "id": "5f83c4c4",
      "metadata": {
        "id": "5f83c4c4"
      },
      "outputs": [],
      "source": [
        "project_name = 'data-analysis-visualization-practice-assignment'"
      ]
    },
    {
      "cell_type": "code",
      "execution_count": null,
      "id": "21717739",
      "metadata": {
        "colab": {
          "base_uri": "https://localhost:8080/"
        },
        "id": "21717739",
        "outputId": "e70e8ff5-2b19-4773-c3da-02d373168ea6"
      },
      "outputs": [
        {
          "data": {
            "application/javascript": [
              "window.require && require([\"base/js/namespace\"],function(Jupyter){Jupyter.notebook.save_checkpoint()})"
            ],
            "text/plain": [
              "<IPython.core.display.Javascript object>"
            ]
          },
          "metadata": {},
          "output_type": "display_data"
        },
        {
          "name": "stdout",
          "output_type": "stream",
          "text": [
            "[jovian] Updating notebook \"ankyhunk-bg4/data-analysis-visualization-practice-assignment\" on https://jovian.ai\u001b[0m\n",
            "[jovian] Committed successfully! https://jovian.ai/ankyhunk-bg4/data-analysis-visualization-practice-assignment\u001b[0m\n"
          ]
        },
        {
          "data": {
            "text/plain": [
              "'https://jovian.ai/ankyhunk-bg4/data-analysis-visualization-practice-assignment'"
            ]
          },
          "execution_count": 38,
          "metadata": {},
          "output_type": "execute_result"
        }
      ],
      "source": [
        "jovian.commit(project=project_name)"
      ]
    },
    {
      "cell_type": "markdown",
      "id": "1c214a45",
      "metadata": {
        "id": "1c214a45"
      },
      "source": [
        "Let's begin by installing and importing the required libraries."
      ]
    },
    {
      "cell_type": "code",
      "execution_count": null,
      "id": "363f48e0",
      "metadata": {
        "id": "363f48e0"
      },
      "outputs": [],
      "source": [
        "#restart the kernel after installation\n",
        "!pip install numpy pandas-profiling matplotlib seaborn plotly folium opendatasets wordcloud --quiet --upgrade"
      ]
    },
    {
      "cell_type": "code",
      "execution_count": null,
      "id": "61d49683",
      "metadata": {
        "id": "61d49683"
      },
      "outputs": [],
      "source": [
        "import numpy as np\n",
        "import pandas as pd\n",
        "import opendatasets as od\n",
        "import matplotlib.pyplot as plt\n",
        "import seaborn as sns\n",
        "import plotly.express as px\n",
        "import folium\n",
        "import wordcloud"
      ]
    },
    {
      "cell_type": "markdown",
      "id": "6a6363d9",
      "metadata": {
        "id": "6a6363d9"
      },
      "source": [
        "> **QUESTION 1 (Line Chart)**: The Gapminder dataset provides population data from 1952 to 2007 (at 5 year intervals) for several countries around the world. Compare the populations of the European countries France, United Kingdom, Italy, Germany and Spain over this period using a line chart. Make appropriate modifications to the chart title, axis titles, legend, figure size, font size, colors etc. to make the chart readable and visually appealing.\n",
        ">\n",
        "> Hints (not all of these may be useful):\n",
        ">\n",
        "> - You can use either Matplotlib or Plotly to create this chart\n",
        "> - To select the data for the given countries, you may find the `isin` method of a Pandas series useful"
      ]
    },
    {
      "cell_type": "code",
      "execution_count": null,
      "id": "82ffb625",
      "metadata": {
        "id": "82ffb625"
      },
      "outputs": [],
      "source": [
        "gapminder_url = 'https://raw.githubusercontent.com/plotly/datasets/master/gapminderDataFiveYear.csv'"
      ]
    },
    {
      "cell_type": "code",
      "execution_count": null,
      "id": "62d221e2",
      "metadata": {
        "id": "62d221e2"
      },
      "outputs": [],
      "source": [
        "gapminder_df = pd.read_csv(gapminder_url)"
      ]
    },
    {
      "cell_type": "code",
      "execution_count": null,
      "id": "7986536c",
      "metadata": {
        "colab": {
          "base_uri": "https://localhost:8080/",
          "height": 424
        },
        "id": "7986536c",
        "outputId": "20decd7b-15aa-4755-bcb7-8324b51270e4",
        "scrolled": false
      },
      "outputs": [
        {
          "data": {
            "text/html": [
              "<div>\n",
              "<style scoped>\n",
              "    .dataframe tbody tr th:only-of-type {\n",
              "        vertical-align: middle;\n",
              "    }\n",
              "\n",
              "    .dataframe tbody tr th {\n",
              "        vertical-align: top;\n",
              "    }\n",
              "\n",
              "    .dataframe thead th {\n",
              "        text-align: right;\n",
              "    }\n",
              "</style>\n",
              "<table border=\"1\" class=\"dataframe\">\n",
              "  <thead>\n",
              "    <tr style=\"text-align: right;\">\n",
              "      <th></th>\n",
              "      <th>country</th>\n",
              "      <th>year</th>\n",
              "      <th>pop</th>\n",
              "      <th>continent</th>\n",
              "      <th>lifeExp</th>\n",
              "      <th>gdpPercap</th>\n",
              "    </tr>\n",
              "  </thead>\n",
              "  <tbody>\n",
              "    <tr>\n",
              "      <th>0</th>\n",
              "      <td>Afghanistan</td>\n",
              "      <td>1952</td>\n",
              "      <td>8425333.0</td>\n",
              "      <td>Asia</td>\n",
              "      <td>28.801</td>\n",
              "      <td>779.445314</td>\n",
              "    </tr>\n",
              "    <tr>\n",
              "      <th>1</th>\n",
              "      <td>Afghanistan</td>\n",
              "      <td>1957</td>\n",
              "      <td>9240934.0</td>\n",
              "      <td>Asia</td>\n",
              "      <td>30.332</td>\n",
              "      <td>820.853030</td>\n",
              "    </tr>\n",
              "    <tr>\n",
              "      <th>2</th>\n",
              "      <td>Afghanistan</td>\n",
              "      <td>1962</td>\n",
              "      <td>10267083.0</td>\n",
              "      <td>Asia</td>\n",
              "      <td>31.997</td>\n",
              "      <td>853.100710</td>\n",
              "    </tr>\n",
              "    <tr>\n",
              "      <th>3</th>\n",
              "      <td>Afghanistan</td>\n",
              "      <td>1967</td>\n",
              "      <td>11537966.0</td>\n",
              "      <td>Asia</td>\n",
              "      <td>34.020</td>\n",
              "      <td>836.197138</td>\n",
              "    </tr>\n",
              "    <tr>\n",
              "      <th>4</th>\n",
              "      <td>Afghanistan</td>\n",
              "      <td>1972</td>\n",
              "      <td>13079460.0</td>\n",
              "      <td>Asia</td>\n",
              "      <td>36.088</td>\n",
              "      <td>739.981106</td>\n",
              "    </tr>\n",
              "    <tr>\n",
              "      <th>...</th>\n",
              "      <td>...</td>\n",
              "      <td>...</td>\n",
              "      <td>...</td>\n",
              "      <td>...</td>\n",
              "      <td>...</td>\n",
              "      <td>...</td>\n",
              "    </tr>\n",
              "    <tr>\n",
              "      <th>1699</th>\n",
              "      <td>Zimbabwe</td>\n",
              "      <td>1987</td>\n",
              "      <td>9216418.0</td>\n",
              "      <td>Africa</td>\n",
              "      <td>62.351</td>\n",
              "      <td>706.157306</td>\n",
              "    </tr>\n",
              "    <tr>\n",
              "      <th>1700</th>\n",
              "      <td>Zimbabwe</td>\n",
              "      <td>1992</td>\n",
              "      <td>10704340.0</td>\n",
              "      <td>Africa</td>\n",
              "      <td>60.377</td>\n",
              "      <td>693.420786</td>\n",
              "    </tr>\n",
              "    <tr>\n",
              "      <th>1701</th>\n",
              "      <td>Zimbabwe</td>\n",
              "      <td>1997</td>\n",
              "      <td>11404948.0</td>\n",
              "      <td>Africa</td>\n",
              "      <td>46.809</td>\n",
              "      <td>792.449960</td>\n",
              "    </tr>\n",
              "    <tr>\n",
              "      <th>1702</th>\n",
              "      <td>Zimbabwe</td>\n",
              "      <td>2002</td>\n",
              "      <td>11926563.0</td>\n",
              "      <td>Africa</td>\n",
              "      <td>39.989</td>\n",
              "      <td>672.038623</td>\n",
              "    </tr>\n",
              "    <tr>\n",
              "      <th>1703</th>\n",
              "      <td>Zimbabwe</td>\n",
              "      <td>2007</td>\n",
              "      <td>12311143.0</td>\n",
              "      <td>Africa</td>\n",
              "      <td>43.487</td>\n",
              "      <td>469.709298</td>\n",
              "    </tr>\n",
              "  </tbody>\n",
              "</table>\n",
              "<p>1704 rows × 6 columns</p>\n",
              "</div>"
            ],
            "text/plain": [
              "          country  year         pop continent  lifeExp   gdpPercap\n",
              "0     Afghanistan  1952   8425333.0      Asia   28.801  779.445314\n",
              "1     Afghanistan  1957   9240934.0      Asia   30.332  820.853030\n",
              "2     Afghanistan  1962  10267083.0      Asia   31.997  853.100710\n",
              "3     Afghanistan  1967  11537966.0      Asia   34.020  836.197138\n",
              "4     Afghanistan  1972  13079460.0      Asia   36.088  739.981106\n",
              "...           ...   ...         ...       ...      ...         ...\n",
              "1699     Zimbabwe  1987   9216418.0    Africa   62.351  706.157306\n",
              "1700     Zimbabwe  1992  10704340.0    Africa   60.377  693.420786\n",
              "1701     Zimbabwe  1997  11404948.0    Africa   46.809  792.449960\n",
              "1702     Zimbabwe  2002  11926563.0    Africa   39.989  672.038623\n",
              "1703     Zimbabwe  2007  12311143.0    Africa   43.487  469.709298\n",
              "\n",
              "[1704 rows x 6 columns]"
            ]
          },
          "execution_count": 43,
          "metadata": {},
          "output_type": "execute_result"
        }
      ],
      "source": [
        "gapminder_df"
      ]
    },
    {
      "cell_type": "code",
      "execution_count": null,
      "id": "f3abd0ea",
      "metadata": {
        "id": "f3abd0ea"
      },
      "outputs": [],
      "source": [
        "countries = ['France', 'United Kingdom', 'Italy', 'Germany', 'Spain']"
      ]
    },
    {
      "cell_type": "code",
      "execution_count": null,
      "id": "i9G5hfo8KtdA",
      "metadata": {
        "id": "i9G5hfo8KtdA"
      },
      "outputs": [],
      "source": [
        "pop_df = pd.DataFrame()\n",
        "pop_df['year'] = gapminder_df['year'].unique()\n",
        "\n",
        "#Appending dataframe columns with country's population\n",
        "for country in countries:\n",
        "  pop_df[country] = list(gapminder_df[gapminder_df['country'].isin([country])]['pop'])\n",
        "  pop_df = pop_df.set_index(pop_df['year'])\n",
        "del pop_df['year']\n"
      ]
    },
    {
      "cell_type": "code",
      "execution_count": null,
      "id": "aMAgh7_g8LJL",
      "metadata": {
        "colab": {
          "base_uri": "https://localhost:8080/",
          "height": 457
        },
        "id": "aMAgh7_g8LJL",
        "outputId": "9a015e2c-df14-4e95-e2a7-53d8249740b7"
      },
      "outputs": [
        {
          "data": {
            "text/html": [
              "<div>\n",
              "<style scoped>\n",
              "    .dataframe tbody tr th:only-of-type {\n",
              "        vertical-align: middle;\n",
              "    }\n",
              "\n",
              "    .dataframe tbody tr th {\n",
              "        vertical-align: top;\n",
              "    }\n",
              "\n",
              "    .dataframe thead th {\n",
              "        text-align: right;\n",
              "    }\n",
              "</style>\n",
              "<table border=\"1\" class=\"dataframe\">\n",
              "  <thead>\n",
              "    <tr style=\"text-align: right;\">\n",
              "      <th></th>\n",
              "      <th>France</th>\n",
              "      <th>United Kingdom</th>\n",
              "      <th>Italy</th>\n",
              "      <th>Germany</th>\n",
              "      <th>Spain</th>\n",
              "    </tr>\n",
              "    <tr>\n",
              "      <th>year</th>\n",
              "      <th></th>\n",
              "      <th></th>\n",
              "      <th></th>\n",
              "      <th></th>\n",
              "      <th></th>\n",
              "    </tr>\n",
              "  </thead>\n",
              "  <tbody>\n",
              "    <tr>\n",
              "      <th>1952</th>\n",
              "      <td>42459667.0</td>\n",
              "      <td>50430000.0</td>\n",
              "      <td>47666000.0</td>\n",
              "      <td>69145952.0</td>\n",
              "      <td>28549870.0</td>\n",
              "    </tr>\n",
              "    <tr>\n",
              "      <th>1957</th>\n",
              "      <td>44310863.0</td>\n",
              "      <td>51430000.0</td>\n",
              "      <td>49182000.0</td>\n",
              "      <td>71019069.0</td>\n",
              "      <td>29841614.0</td>\n",
              "    </tr>\n",
              "    <tr>\n",
              "      <th>1962</th>\n",
              "      <td>47124000.0</td>\n",
              "      <td>53292000.0</td>\n",
              "      <td>50843200.0</td>\n",
              "      <td>73739117.0</td>\n",
              "      <td>31158061.0</td>\n",
              "    </tr>\n",
              "    <tr>\n",
              "      <th>1967</th>\n",
              "      <td>49569000.0</td>\n",
              "      <td>54959000.0</td>\n",
              "      <td>52667100.0</td>\n",
              "      <td>76368453.0</td>\n",
              "      <td>32850275.0</td>\n",
              "    </tr>\n",
              "    <tr>\n",
              "      <th>1972</th>\n",
              "      <td>51732000.0</td>\n",
              "      <td>56079000.0</td>\n",
              "      <td>54365564.0</td>\n",
              "      <td>78717088.0</td>\n",
              "      <td>34513161.0</td>\n",
              "    </tr>\n",
              "    <tr>\n",
              "      <th>1977</th>\n",
              "      <td>53165019.0</td>\n",
              "      <td>56179000.0</td>\n",
              "      <td>56059245.0</td>\n",
              "      <td>78160773.0</td>\n",
              "      <td>36439000.0</td>\n",
              "    </tr>\n",
              "    <tr>\n",
              "      <th>1982</th>\n",
              "      <td>54433565.0</td>\n",
              "      <td>56339704.0</td>\n",
              "      <td>56535636.0</td>\n",
              "      <td>78335266.0</td>\n",
              "      <td>37983310.0</td>\n",
              "    </tr>\n",
              "    <tr>\n",
              "      <th>1987</th>\n",
              "      <td>55630100.0</td>\n",
              "      <td>56981620.0</td>\n",
              "      <td>56729703.0</td>\n",
              "      <td>77718298.0</td>\n",
              "      <td>38880702.0</td>\n",
              "    </tr>\n",
              "    <tr>\n",
              "      <th>1992</th>\n",
              "      <td>57374179.0</td>\n",
              "      <td>57866349.0</td>\n",
              "      <td>56840847.0</td>\n",
              "      <td>80597764.0</td>\n",
              "      <td>39549438.0</td>\n",
              "    </tr>\n",
              "    <tr>\n",
              "      <th>1997</th>\n",
              "      <td>58623428.0</td>\n",
              "      <td>58808266.0</td>\n",
              "      <td>57479469.0</td>\n",
              "      <td>82011073.0</td>\n",
              "      <td>39855442.0</td>\n",
              "    </tr>\n",
              "    <tr>\n",
              "      <th>2002</th>\n",
              "      <td>59925035.0</td>\n",
              "      <td>59912431.0</td>\n",
              "      <td>57926999.0</td>\n",
              "      <td>82350671.0</td>\n",
              "      <td>40152517.0</td>\n",
              "    </tr>\n",
              "    <tr>\n",
              "      <th>2007</th>\n",
              "      <td>61083916.0</td>\n",
              "      <td>60776238.0</td>\n",
              "      <td>58147733.0</td>\n",
              "      <td>82400996.0</td>\n",
              "      <td>40448191.0</td>\n",
              "    </tr>\n",
              "  </tbody>\n",
              "</table>\n",
              "</div>"
            ],
            "text/plain": [
              "          France  United Kingdom       Italy     Germany       Spain\n",
              "year                                                                \n",
              "1952  42459667.0      50430000.0  47666000.0  69145952.0  28549870.0\n",
              "1957  44310863.0      51430000.0  49182000.0  71019069.0  29841614.0\n",
              "1962  47124000.0      53292000.0  50843200.0  73739117.0  31158061.0\n",
              "1967  49569000.0      54959000.0  52667100.0  76368453.0  32850275.0\n",
              "1972  51732000.0      56079000.0  54365564.0  78717088.0  34513161.0\n",
              "1977  53165019.0      56179000.0  56059245.0  78160773.0  36439000.0\n",
              "1982  54433565.0      56339704.0  56535636.0  78335266.0  37983310.0\n",
              "1987  55630100.0      56981620.0  56729703.0  77718298.0  38880702.0\n",
              "1992  57374179.0      57866349.0  56840847.0  80597764.0  39549438.0\n",
              "1997  58623428.0      58808266.0  57479469.0  82011073.0  39855442.0\n",
              "2002  59925035.0      59912431.0  57926999.0  82350671.0  40152517.0\n",
              "2007  61083916.0      60776238.0  58147733.0  82400996.0  40448191.0"
            ]
          },
          "execution_count": 46,
          "metadata": {},
          "output_type": "execute_result"
        }
      ],
      "source": [
        "pop_df"
      ]
    },
    {
      "cell_type": "code",
      "execution_count": null,
      "id": "7e2da7de",
      "metadata": {
        "id": "7e2da7de"
      },
      "outputs": [],
      "source": [
        "fig=px.line(pop_df,title='Population')"
      ]
    },
    {
      "cell_type": "code",
      "execution_count": null,
      "id": "ae9f2a99",
      "metadata": {
        "colab": {
          "base_uri": "https://localhost:8080/",
          "height": 542
        },
        "id": "ae9f2a99",
        "outputId": "46f27360-9fc2-4fab-8101-586111dcb0c9"
      },
      "outputs": [
        {
          "data": {
            "application/vnd.plotly.v1+json": {
              "config": {
                "plotlyServerURL": "https://plot.ly"
              },
              "data": [
                {
                  "hovertemplate": "variable=France<br>year=%{x}<br>value=%{y}<extra></extra>",
                  "legendgroup": "France",
                  "line": {
                    "color": "#636efa",
                    "dash": "solid"
                  },
                  "marker": {
                    "symbol": "circle"
                  },
                  "mode": "lines",
                  "name": "France",
                  "orientation": "v",
                  "showlegend": true,
                  "type": "scatter",
                  "x": [
                    1952,
                    1957,
                    1962,
                    1967,
                    1972,
                    1977,
                    1982,
                    1987,
                    1992,
                    1997,
                    2002,
                    2007
                  ],
                  "xaxis": "x",
                  "y": [
                    42459667,
                    44310863,
                    47124000,
                    49569000,
                    51732000,
                    53165019,
                    54433565,
                    55630100,
                    57374179,
                    58623428,
                    59925035,
                    61083916
                  ],
                  "yaxis": "y"
                },
                {
                  "hovertemplate": "variable=United Kingdom<br>year=%{x}<br>value=%{y}<extra></extra>",
                  "legendgroup": "United Kingdom",
                  "line": {
                    "color": "#EF553B",
                    "dash": "solid"
                  },
                  "marker": {
                    "symbol": "circle"
                  },
                  "mode": "lines",
                  "name": "United Kingdom",
                  "orientation": "v",
                  "showlegend": true,
                  "type": "scatter",
                  "x": [
                    1952,
                    1957,
                    1962,
                    1967,
                    1972,
                    1977,
                    1982,
                    1987,
                    1992,
                    1997,
                    2002,
                    2007
                  ],
                  "xaxis": "x",
                  "y": [
                    50430000,
                    51430000,
                    53292000,
                    54959000,
                    56079000,
                    56179000,
                    56339704,
                    56981620,
                    57866349,
                    58808266,
                    59912431,
                    60776238
                  ],
                  "yaxis": "y"
                },
                {
                  "hovertemplate": "variable=Italy<br>year=%{x}<br>value=%{y}<extra></extra>",
                  "legendgroup": "Italy",
                  "line": {
                    "color": "#00cc96",
                    "dash": "solid"
                  },
                  "marker": {
                    "symbol": "circle"
                  },
                  "mode": "lines",
                  "name": "Italy",
                  "orientation": "v",
                  "showlegend": true,
                  "type": "scatter",
                  "x": [
                    1952,
                    1957,
                    1962,
                    1967,
                    1972,
                    1977,
                    1982,
                    1987,
                    1992,
                    1997,
                    2002,
                    2007
                  ],
                  "xaxis": "x",
                  "y": [
                    47666000,
                    49182000,
                    50843200,
                    52667100,
                    54365564,
                    56059245,
                    56535636,
                    56729703,
                    56840847,
                    57479469,
                    57926999,
                    58147733
                  ],
                  "yaxis": "y"
                },
                {
                  "hovertemplate": "variable=Germany<br>year=%{x}<br>value=%{y}<extra></extra>",
                  "legendgroup": "Germany",
                  "line": {
                    "color": "#ab63fa",
                    "dash": "solid"
                  },
                  "marker": {
                    "symbol": "circle"
                  },
                  "mode": "lines",
                  "name": "Germany",
                  "orientation": "v",
                  "showlegend": true,
                  "type": "scatter",
                  "x": [
                    1952,
                    1957,
                    1962,
                    1967,
                    1972,
                    1977,
                    1982,
                    1987,
                    1992,
                    1997,
                    2002,
                    2007
                  ],
                  "xaxis": "x",
                  "y": [
                    69145952,
                    71019069,
                    73739117,
                    76368453,
                    78717088,
                    78160773,
                    78335266,
                    77718298,
                    80597764,
                    82011073,
                    82350671,
                    82400996
                  ],
                  "yaxis": "y"
                },
                {
                  "hovertemplate": "variable=Spain<br>year=%{x}<br>value=%{y}<extra></extra>",
                  "legendgroup": "Spain",
                  "line": {
                    "color": "#FFA15A",
                    "dash": "solid"
                  },
                  "marker": {
                    "symbol": "circle"
                  },
                  "mode": "lines",
                  "name": "Spain",
                  "orientation": "v",
                  "showlegend": true,
                  "type": "scatter",
                  "x": [
                    1952,
                    1957,
                    1962,
                    1967,
                    1972,
                    1977,
                    1982,
                    1987,
                    1992,
                    1997,
                    2002,
                    2007
                  ],
                  "xaxis": "x",
                  "y": [
                    28549870,
                    29841614,
                    31158061,
                    32850275,
                    34513161,
                    36439000,
                    37983310,
                    38880702,
                    39549438,
                    39855442,
                    40152517,
                    40448191
                  ],
                  "yaxis": "y"
                }
              ],
              "layout": {
                "font": {
                  "color": "#cc3e0e",
                  "family": "Arial",
                  "size": 14
                },
                "legend": {
                  "title": {
                    "text": "Country"
                  },
                  "tracegroupgap": 0
                },
                "plot_bgcolor": "#ffcc9c",
                "template": {
                  "data": {
                    "bar": [
                      {
                        "error_x": {
                          "color": "#2a3f5f"
                        },
                        "error_y": {
                          "color": "#2a3f5f"
                        },
                        "marker": {
                          "line": {
                            "color": "#E5ECF6",
                            "width": 0.5
                          },
                          "pattern": {
                            "fillmode": "overlay",
                            "size": 10,
                            "solidity": 0.2
                          }
                        },
                        "type": "bar"
                      }
                    ],
                    "barpolar": [
                      {
                        "marker": {
                          "line": {
                            "color": "#E5ECF6",
                            "width": 0.5
                          },
                          "pattern": {
                            "fillmode": "overlay",
                            "size": 10,
                            "solidity": 0.2
                          }
                        },
                        "type": "barpolar"
                      }
                    ],
                    "carpet": [
                      {
                        "aaxis": {
                          "endlinecolor": "#2a3f5f",
                          "gridcolor": "white",
                          "linecolor": "white",
                          "minorgridcolor": "white",
                          "startlinecolor": "#2a3f5f"
                        },
                        "baxis": {
                          "endlinecolor": "#2a3f5f",
                          "gridcolor": "white",
                          "linecolor": "white",
                          "minorgridcolor": "white",
                          "startlinecolor": "#2a3f5f"
                        },
                        "type": "carpet"
                      }
                    ],
                    "choropleth": [
                      {
                        "colorbar": {
                          "outlinewidth": 0,
                          "ticks": ""
                        },
                        "type": "choropleth"
                      }
                    ],
                    "contour": [
                      {
                        "colorbar": {
                          "outlinewidth": 0,
                          "ticks": ""
                        },
                        "colorscale": [
                          [
                            0,
                            "#0d0887"
                          ],
                          [
                            0.1111111111111111,
                            "#46039f"
                          ],
                          [
                            0.2222222222222222,
                            "#7201a8"
                          ],
                          [
                            0.3333333333333333,
                            "#9c179e"
                          ],
                          [
                            0.4444444444444444,
                            "#bd3786"
                          ],
                          [
                            0.5555555555555556,
                            "#d8576b"
                          ],
                          [
                            0.6666666666666666,
                            "#ed7953"
                          ],
                          [
                            0.7777777777777778,
                            "#fb9f3a"
                          ],
                          [
                            0.8888888888888888,
                            "#fdca26"
                          ],
                          [
                            1,
                            "#f0f921"
                          ]
                        ],
                        "type": "contour"
                      }
                    ],
                    "contourcarpet": [
                      {
                        "colorbar": {
                          "outlinewidth": 0,
                          "ticks": ""
                        },
                        "type": "contourcarpet"
                      }
                    ],
                    "heatmap": [
                      {
                        "colorbar": {
                          "outlinewidth": 0,
                          "ticks": ""
                        },
                        "colorscale": [
                          [
                            0,
                            "#0d0887"
                          ],
                          [
                            0.1111111111111111,
                            "#46039f"
                          ],
                          [
                            0.2222222222222222,
                            "#7201a8"
                          ],
                          [
                            0.3333333333333333,
                            "#9c179e"
                          ],
                          [
                            0.4444444444444444,
                            "#bd3786"
                          ],
                          [
                            0.5555555555555556,
                            "#d8576b"
                          ],
                          [
                            0.6666666666666666,
                            "#ed7953"
                          ],
                          [
                            0.7777777777777778,
                            "#fb9f3a"
                          ],
                          [
                            0.8888888888888888,
                            "#fdca26"
                          ],
                          [
                            1,
                            "#f0f921"
                          ]
                        ],
                        "type": "heatmap"
                      }
                    ],
                    "heatmapgl": [
                      {
                        "colorbar": {
                          "outlinewidth": 0,
                          "ticks": ""
                        },
                        "colorscale": [
                          [
                            0,
                            "#0d0887"
                          ],
                          [
                            0.1111111111111111,
                            "#46039f"
                          ],
                          [
                            0.2222222222222222,
                            "#7201a8"
                          ],
                          [
                            0.3333333333333333,
                            "#9c179e"
                          ],
                          [
                            0.4444444444444444,
                            "#bd3786"
                          ],
                          [
                            0.5555555555555556,
                            "#d8576b"
                          ],
                          [
                            0.6666666666666666,
                            "#ed7953"
                          ],
                          [
                            0.7777777777777778,
                            "#fb9f3a"
                          ],
                          [
                            0.8888888888888888,
                            "#fdca26"
                          ],
                          [
                            1,
                            "#f0f921"
                          ]
                        ],
                        "type": "heatmapgl"
                      }
                    ],
                    "histogram": [
                      {
                        "marker": {
                          "pattern": {
                            "fillmode": "overlay",
                            "size": 10,
                            "solidity": 0.2
                          }
                        },
                        "type": "histogram"
                      }
                    ],
                    "histogram2d": [
                      {
                        "colorbar": {
                          "outlinewidth": 0,
                          "ticks": ""
                        },
                        "colorscale": [
                          [
                            0,
                            "#0d0887"
                          ],
                          [
                            0.1111111111111111,
                            "#46039f"
                          ],
                          [
                            0.2222222222222222,
                            "#7201a8"
                          ],
                          [
                            0.3333333333333333,
                            "#9c179e"
                          ],
                          [
                            0.4444444444444444,
                            "#bd3786"
                          ],
                          [
                            0.5555555555555556,
                            "#d8576b"
                          ],
                          [
                            0.6666666666666666,
                            "#ed7953"
                          ],
                          [
                            0.7777777777777778,
                            "#fb9f3a"
                          ],
                          [
                            0.8888888888888888,
                            "#fdca26"
                          ],
                          [
                            1,
                            "#f0f921"
                          ]
                        ],
                        "type": "histogram2d"
                      }
                    ],
                    "histogram2dcontour": [
                      {
                        "colorbar": {
                          "outlinewidth": 0,
                          "ticks": ""
                        },
                        "colorscale": [
                          [
                            0,
                            "#0d0887"
                          ],
                          [
                            0.1111111111111111,
                            "#46039f"
                          ],
                          [
                            0.2222222222222222,
                            "#7201a8"
                          ],
                          [
                            0.3333333333333333,
                            "#9c179e"
                          ],
                          [
                            0.4444444444444444,
                            "#bd3786"
                          ],
                          [
                            0.5555555555555556,
                            "#d8576b"
                          ],
                          [
                            0.6666666666666666,
                            "#ed7953"
                          ],
                          [
                            0.7777777777777778,
                            "#fb9f3a"
                          ],
                          [
                            0.8888888888888888,
                            "#fdca26"
                          ],
                          [
                            1,
                            "#f0f921"
                          ]
                        ],
                        "type": "histogram2dcontour"
                      }
                    ],
                    "mesh3d": [
                      {
                        "colorbar": {
                          "outlinewidth": 0,
                          "ticks": ""
                        },
                        "type": "mesh3d"
                      }
                    ],
                    "parcoords": [
                      {
                        "line": {
                          "colorbar": {
                            "outlinewidth": 0,
                            "ticks": ""
                          }
                        },
                        "type": "parcoords"
                      }
                    ],
                    "pie": [
                      {
                        "automargin": true,
                        "type": "pie"
                      }
                    ],
                    "scatter": [
                      {
                        "fillpattern": {
                          "fillmode": "overlay",
                          "size": 10,
                          "solidity": 0.2
                        },
                        "type": "scatter"
                      }
                    ],
                    "scatter3d": [
                      {
                        "line": {
                          "colorbar": {
                            "outlinewidth": 0,
                            "ticks": ""
                          }
                        },
                        "marker": {
                          "colorbar": {
                            "outlinewidth": 0,
                            "ticks": ""
                          }
                        },
                        "type": "scatter3d"
                      }
                    ],
                    "scattercarpet": [
                      {
                        "marker": {
                          "colorbar": {
                            "outlinewidth": 0,
                            "ticks": ""
                          }
                        },
                        "type": "scattercarpet"
                      }
                    ],
                    "scattergeo": [
                      {
                        "marker": {
                          "colorbar": {
                            "outlinewidth": 0,
                            "ticks": ""
                          }
                        },
                        "type": "scattergeo"
                      }
                    ],
                    "scattergl": [
                      {
                        "marker": {
                          "colorbar": {
                            "outlinewidth": 0,
                            "ticks": ""
                          }
                        },
                        "type": "scattergl"
                      }
                    ],
                    "scattermapbox": [
                      {
                        "marker": {
                          "colorbar": {
                            "outlinewidth": 0,
                            "ticks": ""
                          }
                        },
                        "type": "scattermapbox"
                      }
                    ],
                    "scatterpolar": [
                      {
                        "marker": {
                          "colorbar": {
                            "outlinewidth": 0,
                            "ticks": ""
                          }
                        },
                        "type": "scatterpolar"
                      }
                    ],
                    "scatterpolargl": [
                      {
                        "marker": {
                          "colorbar": {
                            "outlinewidth": 0,
                            "ticks": ""
                          }
                        },
                        "type": "scatterpolargl"
                      }
                    ],
                    "scatterternary": [
                      {
                        "marker": {
                          "colorbar": {
                            "outlinewidth": 0,
                            "ticks": ""
                          }
                        },
                        "type": "scatterternary"
                      }
                    ],
                    "surface": [
                      {
                        "colorbar": {
                          "outlinewidth": 0,
                          "ticks": ""
                        },
                        "colorscale": [
                          [
                            0,
                            "#0d0887"
                          ],
                          [
                            0.1111111111111111,
                            "#46039f"
                          ],
                          [
                            0.2222222222222222,
                            "#7201a8"
                          ],
                          [
                            0.3333333333333333,
                            "#9c179e"
                          ],
                          [
                            0.4444444444444444,
                            "#bd3786"
                          ],
                          [
                            0.5555555555555556,
                            "#d8576b"
                          ],
                          [
                            0.6666666666666666,
                            "#ed7953"
                          ],
                          [
                            0.7777777777777778,
                            "#fb9f3a"
                          ],
                          [
                            0.8888888888888888,
                            "#fdca26"
                          ],
                          [
                            1,
                            "#f0f921"
                          ]
                        ],
                        "type": "surface"
                      }
                    ],
                    "table": [
                      {
                        "cells": {
                          "fill": {
                            "color": "#EBF0F8"
                          },
                          "line": {
                            "color": "white"
                          }
                        },
                        "header": {
                          "fill": {
                            "color": "#C8D4E3"
                          },
                          "line": {
                            "color": "white"
                          }
                        },
                        "type": "table"
                      }
                    ]
                  },
                  "layout": {
                    "annotationdefaults": {
                      "arrowcolor": "#2a3f5f",
                      "arrowhead": 0,
                      "arrowwidth": 1
                    },
                    "autotypenumbers": "strict",
                    "coloraxis": {
                      "colorbar": {
                        "outlinewidth": 0,
                        "ticks": ""
                      }
                    },
                    "colorscale": {
                      "diverging": [
                        [
                          0,
                          "#8e0152"
                        ],
                        [
                          0.1,
                          "#c51b7d"
                        ],
                        [
                          0.2,
                          "#de77ae"
                        ],
                        [
                          0.3,
                          "#f1b6da"
                        ],
                        [
                          0.4,
                          "#fde0ef"
                        ],
                        [
                          0.5,
                          "#f7f7f7"
                        ],
                        [
                          0.6,
                          "#e6f5d0"
                        ],
                        [
                          0.7,
                          "#b8e186"
                        ],
                        [
                          0.8,
                          "#7fbc41"
                        ],
                        [
                          0.9,
                          "#4d9221"
                        ],
                        [
                          1,
                          "#276419"
                        ]
                      ],
                      "sequential": [
                        [
                          0,
                          "#0d0887"
                        ],
                        [
                          0.1111111111111111,
                          "#46039f"
                        ],
                        [
                          0.2222222222222222,
                          "#7201a8"
                        ],
                        [
                          0.3333333333333333,
                          "#9c179e"
                        ],
                        [
                          0.4444444444444444,
                          "#bd3786"
                        ],
                        [
                          0.5555555555555556,
                          "#d8576b"
                        ],
                        [
                          0.6666666666666666,
                          "#ed7953"
                        ],
                        [
                          0.7777777777777778,
                          "#fb9f3a"
                        ],
                        [
                          0.8888888888888888,
                          "#fdca26"
                        ],
                        [
                          1,
                          "#f0f921"
                        ]
                      ],
                      "sequentialminus": [
                        [
                          0,
                          "#0d0887"
                        ],
                        [
                          0.1111111111111111,
                          "#46039f"
                        ],
                        [
                          0.2222222222222222,
                          "#7201a8"
                        ],
                        [
                          0.3333333333333333,
                          "#9c179e"
                        ],
                        [
                          0.4444444444444444,
                          "#bd3786"
                        ],
                        [
                          0.5555555555555556,
                          "#d8576b"
                        ],
                        [
                          0.6666666666666666,
                          "#ed7953"
                        ],
                        [
                          0.7777777777777778,
                          "#fb9f3a"
                        ],
                        [
                          0.8888888888888888,
                          "#fdca26"
                        ],
                        [
                          1,
                          "#f0f921"
                        ]
                      ]
                    },
                    "colorway": [
                      "#636efa",
                      "#EF553B",
                      "#00cc96",
                      "#ab63fa",
                      "#FFA15A",
                      "#19d3f3",
                      "#FF6692",
                      "#B6E880",
                      "#FF97FF",
                      "#FECB52"
                    ],
                    "font": {
                      "color": "#2a3f5f"
                    },
                    "geo": {
                      "bgcolor": "white",
                      "lakecolor": "white",
                      "landcolor": "#E5ECF6",
                      "showlakes": true,
                      "showland": true,
                      "subunitcolor": "white"
                    },
                    "hoverlabel": {
                      "align": "left"
                    },
                    "hovermode": "closest",
                    "mapbox": {
                      "style": "light"
                    },
                    "paper_bgcolor": "white",
                    "plot_bgcolor": "#E5ECF6",
                    "polar": {
                      "angularaxis": {
                        "gridcolor": "white",
                        "linecolor": "white",
                        "ticks": ""
                      },
                      "bgcolor": "#E5ECF6",
                      "radialaxis": {
                        "gridcolor": "white",
                        "linecolor": "white",
                        "ticks": ""
                      }
                    },
                    "scene": {
                      "xaxis": {
                        "backgroundcolor": "#E5ECF6",
                        "gridcolor": "white",
                        "gridwidth": 2,
                        "linecolor": "white",
                        "showbackground": true,
                        "ticks": "",
                        "zerolinecolor": "white"
                      },
                      "yaxis": {
                        "backgroundcolor": "#E5ECF6",
                        "gridcolor": "white",
                        "gridwidth": 2,
                        "linecolor": "white",
                        "showbackground": true,
                        "ticks": "",
                        "zerolinecolor": "white"
                      },
                      "zaxis": {
                        "backgroundcolor": "#E5ECF6",
                        "gridcolor": "white",
                        "gridwidth": 2,
                        "linecolor": "white",
                        "showbackground": true,
                        "ticks": "",
                        "zerolinecolor": "white"
                      }
                    },
                    "shapedefaults": {
                      "line": {
                        "color": "#2a3f5f"
                      }
                    },
                    "ternary": {
                      "aaxis": {
                        "gridcolor": "white",
                        "linecolor": "white",
                        "ticks": ""
                      },
                      "baxis": {
                        "gridcolor": "white",
                        "linecolor": "white",
                        "ticks": ""
                      },
                      "bgcolor": "#E5ECF6",
                      "caxis": {
                        "gridcolor": "white",
                        "linecolor": "white",
                        "ticks": ""
                      }
                    },
                    "title": {
                      "x": 0.05
                    },
                    "xaxis": {
                      "automargin": true,
                      "gridcolor": "white",
                      "linecolor": "white",
                      "ticks": "",
                      "title": {
                        "standoff": 15
                      },
                      "zerolinecolor": "white",
                      "zerolinewidth": 2
                    },
                    "yaxis": {
                      "automargin": true,
                      "gridcolor": "white",
                      "linecolor": "white",
                      "ticks": "",
                      "title": {
                        "standoff": 15
                      },
                      "zerolinecolor": "white",
                      "zerolinewidth": 2
                    }
                  }
                },
                "title": {
                  "text": "Population data from 1952 to 2007"
                },
                "xaxis": {
                  "anchor": "y",
                  "domain": [
                    0,
                    1
                  ],
                  "title": {
                    "text": "Year"
                  }
                },
                "yaxis": {
                  "anchor": "x",
                  "domain": [
                    0,
                    1
                  ],
                  "rangemode": "tozero",
                  "title": {
                    "text": "Population (in millions)"
                  }
                }
              }
            },
            "text/html": [
              "<div>                            <div id=\"ad45684f-0a2d-41cc-b308-506b557bbeee\" class=\"plotly-graph-div\" style=\"height:525px; width:100%;\"></div>            <script type=\"text/javascript\">                require([\"plotly\"], function(Plotly) {                    window.PLOTLYENV=window.PLOTLYENV || {};                                    if (document.getElementById(\"ad45684f-0a2d-41cc-b308-506b557bbeee\")) {                    Plotly.newPlot(                        \"ad45684f-0a2d-41cc-b308-506b557bbeee\",                        [{\"hovertemplate\":\"variable=France<br>year=%{x}<br>value=%{y}<extra></extra>\",\"legendgroup\":\"France\",\"line\":{\"color\":\"#636efa\",\"dash\":\"solid\"},\"marker\":{\"symbol\":\"circle\"},\"mode\":\"lines\",\"name\":\"France\",\"orientation\":\"v\",\"showlegend\":true,\"x\":[1952,1957,1962,1967,1972,1977,1982,1987,1992,1997,2002,2007],\"xaxis\":\"x\",\"y\":[42459667.0,44310863.0,47124000.0,49569000.0,51732000.0,53165019.0,54433565.0,55630100.0,57374179.0,58623428.0,59925035.0,61083916.0],\"yaxis\":\"y\",\"type\":\"scatter\"},{\"hovertemplate\":\"variable=United Kingdom<br>year=%{x}<br>value=%{y}<extra></extra>\",\"legendgroup\":\"United Kingdom\",\"line\":{\"color\":\"#EF553B\",\"dash\":\"solid\"},\"marker\":{\"symbol\":\"circle\"},\"mode\":\"lines\",\"name\":\"United Kingdom\",\"orientation\":\"v\",\"showlegend\":true,\"x\":[1952,1957,1962,1967,1972,1977,1982,1987,1992,1997,2002,2007],\"xaxis\":\"x\",\"y\":[50430000.0,51430000.0,53292000.0,54959000.0,56079000.0,56179000.0,56339704.0,56981620.0,57866349.0,58808266.0,59912431.0,60776238.0],\"yaxis\":\"y\",\"type\":\"scatter\"},{\"hovertemplate\":\"variable=Italy<br>year=%{x}<br>value=%{y}<extra></extra>\",\"legendgroup\":\"Italy\",\"line\":{\"color\":\"#00cc96\",\"dash\":\"solid\"},\"marker\":{\"symbol\":\"circle\"},\"mode\":\"lines\",\"name\":\"Italy\",\"orientation\":\"v\",\"showlegend\":true,\"x\":[1952,1957,1962,1967,1972,1977,1982,1987,1992,1997,2002,2007],\"xaxis\":\"x\",\"y\":[47666000.0,49182000.0,50843200.0,52667100.0,54365564.0,56059245.0,56535636.0,56729703.0,56840847.0,57479469.0,57926999.0,58147733.0],\"yaxis\":\"y\",\"type\":\"scatter\"},{\"hovertemplate\":\"variable=Germany<br>year=%{x}<br>value=%{y}<extra></extra>\",\"legendgroup\":\"Germany\",\"line\":{\"color\":\"#ab63fa\",\"dash\":\"solid\"},\"marker\":{\"symbol\":\"circle\"},\"mode\":\"lines\",\"name\":\"Germany\",\"orientation\":\"v\",\"showlegend\":true,\"x\":[1952,1957,1962,1967,1972,1977,1982,1987,1992,1997,2002,2007],\"xaxis\":\"x\",\"y\":[69145952.0,71019069.0,73739117.0,76368453.0,78717088.0,78160773.0,78335266.0,77718298.0,80597764.0,82011073.0,82350671.0,82400996.0],\"yaxis\":\"y\",\"type\":\"scatter\"},{\"hovertemplate\":\"variable=Spain<br>year=%{x}<br>value=%{y}<extra></extra>\",\"legendgroup\":\"Spain\",\"line\":{\"color\":\"#FFA15A\",\"dash\":\"solid\"},\"marker\":{\"symbol\":\"circle\"},\"mode\":\"lines\",\"name\":\"Spain\",\"orientation\":\"v\",\"showlegend\":true,\"x\":[1952,1957,1962,1967,1972,1977,1982,1987,1992,1997,2002,2007],\"xaxis\":\"x\",\"y\":[28549870.0,29841614.0,31158061.0,32850275.0,34513161.0,36439000.0,37983310.0,38880702.0,39549438.0,39855442.0,40152517.0,40448191.0],\"yaxis\":\"y\",\"type\":\"scatter\"}],                        {\"template\":{\"data\":{\"histogram2dcontour\":[{\"type\":\"histogram2dcontour\",\"colorbar\":{\"outlinewidth\":0,\"ticks\":\"\"},\"colorscale\":[[0.0,\"#0d0887\"],[0.1111111111111111,\"#46039f\"],[0.2222222222222222,\"#7201a8\"],[0.3333333333333333,\"#9c179e\"],[0.4444444444444444,\"#bd3786\"],[0.5555555555555556,\"#d8576b\"],[0.6666666666666666,\"#ed7953\"],[0.7777777777777778,\"#fb9f3a\"],[0.8888888888888888,\"#fdca26\"],[1.0,\"#f0f921\"]]}],\"choropleth\":[{\"type\":\"choropleth\",\"colorbar\":{\"outlinewidth\":0,\"ticks\":\"\"}}],\"histogram2d\":[{\"type\":\"histogram2d\",\"colorbar\":{\"outlinewidth\":0,\"ticks\":\"\"},\"colorscale\":[[0.0,\"#0d0887\"],[0.1111111111111111,\"#46039f\"],[0.2222222222222222,\"#7201a8\"],[0.3333333333333333,\"#9c179e\"],[0.4444444444444444,\"#bd3786\"],[0.5555555555555556,\"#d8576b\"],[0.6666666666666666,\"#ed7953\"],[0.7777777777777778,\"#fb9f3a\"],[0.8888888888888888,\"#fdca26\"],[1.0,\"#f0f921\"]]}],\"heatmap\":[{\"type\":\"heatmap\",\"colorbar\":{\"outlinewidth\":0,\"ticks\":\"\"},\"colorscale\":[[0.0,\"#0d0887\"],[0.1111111111111111,\"#46039f\"],[0.2222222222222222,\"#7201a8\"],[0.3333333333333333,\"#9c179e\"],[0.4444444444444444,\"#bd3786\"],[0.5555555555555556,\"#d8576b\"],[0.6666666666666666,\"#ed7953\"],[0.7777777777777778,\"#fb9f3a\"],[0.8888888888888888,\"#fdca26\"],[1.0,\"#f0f921\"]]}],\"heatmapgl\":[{\"type\":\"heatmapgl\",\"colorbar\":{\"outlinewidth\":0,\"ticks\":\"\"},\"colorscale\":[[0.0,\"#0d0887\"],[0.1111111111111111,\"#46039f\"],[0.2222222222222222,\"#7201a8\"],[0.3333333333333333,\"#9c179e\"],[0.4444444444444444,\"#bd3786\"],[0.5555555555555556,\"#d8576b\"],[0.6666666666666666,\"#ed7953\"],[0.7777777777777778,\"#fb9f3a\"],[0.8888888888888888,\"#fdca26\"],[1.0,\"#f0f921\"]]}],\"contourcarpet\":[{\"type\":\"contourcarpet\",\"colorbar\":{\"outlinewidth\":0,\"ticks\":\"\"}}],\"contour\":[{\"type\":\"contour\",\"colorbar\":{\"outlinewidth\":0,\"ticks\":\"\"},\"colorscale\":[[0.0,\"#0d0887\"],[0.1111111111111111,\"#46039f\"],[0.2222222222222222,\"#7201a8\"],[0.3333333333333333,\"#9c179e\"],[0.4444444444444444,\"#bd3786\"],[0.5555555555555556,\"#d8576b\"],[0.6666666666666666,\"#ed7953\"],[0.7777777777777778,\"#fb9f3a\"],[0.8888888888888888,\"#fdca26\"],[1.0,\"#f0f921\"]]}],\"surface\":[{\"type\":\"surface\",\"colorbar\":{\"outlinewidth\":0,\"ticks\":\"\"},\"colorscale\":[[0.0,\"#0d0887\"],[0.1111111111111111,\"#46039f\"],[0.2222222222222222,\"#7201a8\"],[0.3333333333333333,\"#9c179e\"],[0.4444444444444444,\"#bd3786\"],[0.5555555555555556,\"#d8576b\"],[0.6666666666666666,\"#ed7953\"],[0.7777777777777778,\"#fb9f3a\"],[0.8888888888888888,\"#fdca26\"],[1.0,\"#f0f921\"]]}],\"mesh3d\":[{\"type\":\"mesh3d\",\"colorbar\":{\"outlinewidth\":0,\"ticks\":\"\"}}],\"scatter\":[{\"fillpattern\":{\"fillmode\":\"overlay\",\"size\":10,\"solidity\":0.2},\"type\":\"scatter\"}],\"parcoords\":[{\"type\":\"parcoords\",\"line\":{\"colorbar\":{\"outlinewidth\":0,\"ticks\":\"\"}}}],\"scatterpolargl\":[{\"type\":\"scatterpolargl\",\"marker\":{\"colorbar\":{\"outlinewidth\":0,\"ticks\":\"\"}}}],\"bar\":[{\"error_x\":{\"color\":\"#2a3f5f\"},\"error_y\":{\"color\":\"#2a3f5f\"},\"marker\":{\"line\":{\"color\":\"#E5ECF6\",\"width\":0.5},\"pattern\":{\"fillmode\":\"overlay\",\"size\":10,\"solidity\":0.2}},\"type\":\"bar\"}],\"scattergeo\":[{\"type\":\"scattergeo\",\"marker\":{\"colorbar\":{\"outlinewidth\":0,\"ticks\":\"\"}}}],\"scatterpolar\":[{\"type\":\"scatterpolar\",\"marker\":{\"colorbar\":{\"outlinewidth\":0,\"ticks\":\"\"}}}],\"histogram\":[{\"marker\":{\"pattern\":{\"fillmode\":\"overlay\",\"size\":10,\"solidity\":0.2}},\"type\":\"histogram\"}],\"scattergl\":[{\"type\":\"scattergl\",\"marker\":{\"colorbar\":{\"outlinewidth\":0,\"ticks\":\"\"}}}],\"scatter3d\":[{\"type\":\"scatter3d\",\"line\":{\"colorbar\":{\"outlinewidth\":0,\"ticks\":\"\"}},\"marker\":{\"colorbar\":{\"outlinewidth\":0,\"ticks\":\"\"}}}],\"scattermapbox\":[{\"type\":\"scattermapbox\",\"marker\":{\"colorbar\":{\"outlinewidth\":0,\"ticks\":\"\"}}}],\"scatterternary\":[{\"type\":\"scatterternary\",\"marker\":{\"colorbar\":{\"outlinewidth\":0,\"ticks\":\"\"}}}],\"scattercarpet\":[{\"type\":\"scattercarpet\",\"marker\":{\"colorbar\":{\"outlinewidth\":0,\"ticks\":\"\"}}}],\"carpet\":[{\"aaxis\":{\"endlinecolor\":\"#2a3f5f\",\"gridcolor\":\"white\",\"linecolor\":\"white\",\"minorgridcolor\":\"white\",\"startlinecolor\":\"#2a3f5f\"},\"baxis\":{\"endlinecolor\":\"#2a3f5f\",\"gridcolor\":\"white\",\"linecolor\":\"white\",\"minorgridcolor\":\"white\",\"startlinecolor\":\"#2a3f5f\"},\"type\":\"carpet\"}],\"table\":[{\"cells\":{\"fill\":{\"color\":\"#EBF0F8\"},\"line\":{\"color\":\"white\"}},\"header\":{\"fill\":{\"color\":\"#C8D4E3\"},\"line\":{\"color\":\"white\"}},\"type\":\"table\"}],\"barpolar\":[{\"marker\":{\"line\":{\"color\":\"#E5ECF6\",\"width\":0.5},\"pattern\":{\"fillmode\":\"overlay\",\"size\":10,\"solidity\":0.2}},\"type\":\"barpolar\"}],\"pie\":[{\"automargin\":true,\"type\":\"pie\"}]},\"layout\":{\"autotypenumbers\":\"strict\",\"colorway\":[\"#636efa\",\"#EF553B\",\"#00cc96\",\"#ab63fa\",\"#FFA15A\",\"#19d3f3\",\"#FF6692\",\"#B6E880\",\"#FF97FF\",\"#FECB52\"],\"font\":{\"color\":\"#2a3f5f\"},\"hovermode\":\"closest\",\"hoverlabel\":{\"align\":\"left\"},\"paper_bgcolor\":\"white\",\"plot_bgcolor\":\"#E5ECF6\",\"polar\":{\"bgcolor\":\"#E5ECF6\",\"angularaxis\":{\"gridcolor\":\"white\",\"linecolor\":\"white\",\"ticks\":\"\"},\"radialaxis\":{\"gridcolor\":\"white\",\"linecolor\":\"white\",\"ticks\":\"\"}},\"ternary\":{\"bgcolor\":\"#E5ECF6\",\"aaxis\":{\"gridcolor\":\"white\",\"linecolor\":\"white\",\"ticks\":\"\"},\"baxis\":{\"gridcolor\":\"white\",\"linecolor\":\"white\",\"ticks\":\"\"},\"caxis\":{\"gridcolor\":\"white\",\"linecolor\":\"white\",\"ticks\":\"\"}},\"coloraxis\":{\"colorbar\":{\"outlinewidth\":0,\"ticks\":\"\"}},\"colorscale\":{\"sequential\":[[0.0,\"#0d0887\"],[0.1111111111111111,\"#46039f\"],[0.2222222222222222,\"#7201a8\"],[0.3333333333333333,\"#9c179e\"],[0.4444444444444444,\"#bd3786\"],[0.5555555555555556,\"#d8576b\"],[0.6666666666666666,\"#ed7953\"],[0.7777777777777778,\"#fb9f3a\"],[0.8888888888888888,\"#fdca26\"],[1.0,\"#f0f921\"]],\"sequentialminus\":[[0.0,\"#0d0887\"],[0.1111111111111111,\"#46039f\"],[0.2222222222222222,\"#7201a8\"],[0.3333333333333333,\"#9c179e\"],[0.4444444444444444,\"#bd3786\"],[0.5555555555555556,\"#d8576b\"],[0.6666666666666666,\"#ed7953\"],[0.7777777777777778,\"#fb9f3a\"],[0.8888888888888888,\"#fdca26\"],[1.0,\"#f0f921\"]],\"diverging\":[[0,\"#8e0152\"],[0.1,\"#c51b7d\"],[0.2,\"#de77ae\"],[0.3,\"#f1b6da\"],[0.4,\"#fde0ef\"],[0.5,\"#f7f7f7\"],[0.6,\"#e6f5d0\"],[0.7,\"#b8e186\"],[0.8,\"#7fbc41\"],[0.9,\"#4d9221\"],[1,\"#276419\"]]},\"xaxis\":{\"gridcolor\":\"white\",\"linecolor\":\"white\",\"ticks\":\"\",\"title\":{\"standoff\":15},\"zerolinecolor\":\"white\",\"automargin\":true,\"zerolinewidth\":2},\"yaxis\":{\"gridcolor\":\"white\",\"linecolor\":\"white\",\"ticks\":\"\",\"title\":{\"standoff\":15},\"zerolinecolor\":\"white\",\"automargin\":true,\"zerolinewidth\":2},\"scene\":{\"xaxis\":{\"backgroundcolor\":\"#E5ECF6\",\"gridcolor\":\"white\",\"linecolor\":\"white\",\"showbackground\":true,\"ticks\":\"\",\"zerolinecolor\":\"white\",\"gridwidth\":2},\"yaxis\":{\"backgroundcolor\":\"#E5ECF6\",\"gridcolor\":\"white\",\"linecolor\":\"white\",\"showbackground\":true,\"ticks\":\"\",\"zerolinecolor\":\"white\",\"gridwidth\":2},\"zaxis\":{\"backgroundcolor\":\"#E5ECF6\",\"gridcolor\":\"white\",\"linecolor\":\"white\",\"showbackground\":true,\"ticks\":\"\",\"zerolinecolor\":\"white\",\"gridwidth\":2}},\"shapedefaults\":{\"line\":{\"color\":\"#2a3f5f\"}},\"annotationdefaults\":{\"arrowcolor\":\"#2a3f5f\",\"arrowhead\":0,\"arrowwidth\":1},\"geo\":{\"bgcolor\":\"white\",\"landcolor\":\"#E5ECF6\",\"subunitcolor\":\"white\",\"showland\":true,\"showlakes\":true,\"lakecolor\":\"white\"},\"title\":{\"x\":0.05},\"mapbox\":{\"style\":\"light\"}}},\"xaxis\":{\"anchor\":\"y\",\"domain\":[0.0,1.0],\"title\":{\"text\":\"Year\"}},\"yaxis\":{\"anchor\":\"x\",\"domain\":[0.0,1.0],\"title\":{\"text\":\"Population (in millions)\"},\"rangemode\":\"tozero\"},\"legend\":{\"title\":{\"text\":\"Country\"},\"tracegroupgap\":0},\"title\":{\"text\":\"Population data from 1952 to 2007\"},\"font\":{\"family\":\"Arial\",\"size\":14,\"color\":\"#cc3e0e\"},\"plot_bgcolor\":\"#ffcc9c\"},                        {\"responsive\": true}                    ).then(function(){\n",
              "                            \n",
              "var gd = document.getElementById('ad45684f-0a2d-41cc-b308-506b557bbeee');\n",
              "var x = new MutationObserver(function (mutations, observer) {{\n",
              "        var display = window.getComputedStyle(gd).display;\n",
              "        if (!display || display === 'none') {{\n",
              "            console.log([gd, 'removed!']);\n",
              "            Plotly.purge(gd);\n",
              "            observer.disconnect();\n",
              "        }}\n",
              "}});\n",
              "\n",
              "// Listen for the removal of the full notebook cells\n",
              "var notebookContainer = gd.closest('#notebook-container');\n",
              "if (notebookContainer) {{\n",
              "    x.observe(notebookContainer, {childList: true});\n",
              "}}\n",
              "\n",
              "// Listen for the clearing of the current output cell\n",
              "var outputEl = gd.closest('.output');\n",
              "if (outputEl) {{\n",
              "    x.observe(outputEl, {childList: true});\n",
              "}}\n",
              "\n",
              "                        })                };                });            </script>        </div>"
            ]
          },
          "metadata": {},
          "output_type": "display_data"
        }
      ],
      "source": [
        "fig.update_layout(\n",
        "    title=\"Population data from 1952 to 2007\",\n",
        "    xaxis_title=\"Year\",\n",
        "    yaxis_title=\"Population (in millions)\",\n",
        "    legend_title=\"Country\",\n",
        "    plot_bgcolor=\"#ffcc9c\",\n",
        "    font=dict(\n",
        "        family=\"Arial\",\n",
        "        size=14,\n",
        "        color=\"#cc3e0e\"\n",
        "    )\n",
        ")\n",
        "fig.update_yaxes(rangemode=\"tozero\")"
      ]
    },
    {
      "cell_type": "code",
      "execution_count": null,
      "id": "bd0d612b",
      "metadata": {
        "id": "bd0d612b"
      },
      "outputs": [],
      "source": []
    },
    {
      "cell_type": "markdown",
      "id": "88db4841",
      "metadata": {
        "id": "88db4841"
      },
      "source": [
        "Let's save our work before continuing."
      ]
    },
    {
      "cell_type": "code",
      "execution_count": null,
      "id": "7a155f1b",
      "metadata": {
        "colab": {
          "base_uri": "https://localhost:8080/"
        },
        "id": "7a155f1b",
        "outputId": "5f2e169e-d427-46a7-cb91-7875d3ffcedf",
        "scrolled": true
      },
      "outputs": [
        {
          "data": {
            "application/javascript": [
              "window.require && require([\"base/js/namespace\"],function(Jupyter){Jupyter.notebook.save_checkpoint()})"
            ],
            "text/plain": [
              "<IPython.core.display.Javascript object>"
            ]
          },
          "metadata": {},
          "output_type": "display_data"
        },
        {
          "name": "stdout",
          "output_type": "stream",
          "text": [
            "[jovian] Updating notebook \"ankyhunk-bg4/data-analysis-visualization-practice-assignment\" on https://jovian.ai\u001b[0m\n",
            "[jovian] Committed successfully! https://jovian.ai/ankyhunk-bg4/data-analysis-visualization-practice-assignment\u001b[0m\n"
          ]
        },
        {
          "data": {
            "text/plain": [
              "'https://jovian.ai/ankyhunk-bg4/data-analysis-visualization-practice-assignment'"
            ]
          },
          "execution_count": 49,
          "metadata": {},
          "output_type": "execute_result"
        }
      ],
      "source": [
        "jovian.commit()"
      ]
    },
    {
      "cell_type": "markdown",
      "id": "0d45e4de",
      "metadata": {
        "id": "0d45e4de"
      },
      "source": [
        "> **QUESTION 2 (Scatter Plot)**: `diamonds_url` points to a CSV file containing various attributes like carat, cut, color, clarity, price etc. for over 53,000 diamonds. Visualize the relationship between the carat (size of diamond) and price using a scatter plot. Instead of using the entire dataset for this visualization, just pick the diamonds with a clarify `\"SI2\"` and color `\"E\"`. Use the values of the \"cut\" column to color the dots in the scatter plot. Make appropriate modifications to the chart title, axis titles, legend, figure size, font size, colors etc. to make the chart readable and visually appealing.\n",
        ">\n",
        "> Hints (not all of these may be useful):\n",
        "> - You can use Seaborn or Plotly to create the scatter plot for this dataset\n",
        "> - Check [this stackoverflow answer](https://stackoverflow.com/questions/22591174/pandas-multiple-conditions-while-indexing-data-frame-unexpected-behavior) for selecting data frame rows using multiple conditions.\n",
        "\n"
      ]
    },
    {
      "cell_type": "code",
      "execution_count": null,
      "id": "f88b3ae8",
      "metadata": {
        "id": "f88b3ae8"
      },
      "outputs": [],
      "source": [
        "diamonds_url = 'https://raw.githubusercontent.com/mwaskom/seaborn-data/master/diamonds.csv'"
      ]
    },
    {
      "cell_type": "code",
      "execution_count": null,
      "id": "f23a51bf",
      "metadata": {
        "id": "f23a51bf"
      },
      "outputs": [],
      "source": [
        "diamonds_df = pd.read_csv(diamonds_url)"
      ]
    },
    {
      "cell_type": "code",
      "execution_count": null,
      "id": "d220035a",
      "metadata": {
        "colab": {
          "base_uri": "https://localhost:8080/",
          "height": 424
        },
        "id": "d220035a",
        "outputId": "237a9b98-661f-4b6b-e4b5-e5d3bc348942"
      },
      "outputs": [
        {
          "data": {
            "text/html": [
              "<div>\n",
              "<style scoped>\n",
              "    .dataframe tbody tr th:only-of-type {\n",
              "        vertical-align: middle;\n",
              "    }\n",
              "\n",
              "    .dataframe tbody tr th {\n",
              "        vertical-align: top;\n",
              "    }\n",
              "\n",
              "    .dataframe thead th {\n",
              "        text-align: right;\n",
              "    }\n",
              "</style>\n",
              "<table border=\"1\" class=\"dataframe\">\n",
              "  <thead>\n",
              "    <tr style=\"text-align: right;\">\n",
              "      <th></th>\n",
              "      <th>carat</th>\n",
              "      <th>cut</th>\n",
              "      <th>color</th>\n",
              "      <th>clarity</th>\n",
              "      <th>depth</th>\n",
              "      <th>table</th>\n",
              "      <th>price</th>\n",
              "      <th>x</th>\n",
              "      <th>y</th>\n",
              "      <th>z</th>\n",
              "    </tr>\n",
              "  </thead>\n",
              "  <tbody>\n",
              "    <tr>\n",
              "      <th>0</th>\n",
              "      <td>0.23</td>\n",
              "      <td>Ideal</td>\n",
              "      <td>E</td>\n",
              "      <td>SI2</td>\n",
              "      <td>61.5</td>\n",
              "      <td>55.0</td>\n",
              "      <td>326</td>\n",
              "      <td>3.95</td>\n",
              "      <td>3.98</td>\n",
              "      <td>2.43</td>\n",
              "    </tr>\n",
              "    <tr>\n",
              "      <th>1</th>\n",
              "      <td>0.21</td>\n",
              "      <td>Premium</td>\n",
              "      <td>E</td>\n",
              "      <td>SI1</td>\n",
              "      <td>59.8</td>\n",
              "      <td>61.0</td>\n",
              "      <td>326</td>\n",
              "      <td>3.89</td>\n",
              "      <td>3.84</td>\n",
              "      <td>2.31</td>\n",
              "    </tr>\n",
              "    <tr>\n",
              "      <th>2</th>\n",
              "      <td>0.23</td>\n",
              "      <td>Good</td>\n",
              "      <td>E</td>\n",
              "      <td>VS1</td>\n",
              "      <td>56.9</td>\n",
              "      <td>65.0</td>\n",
              "      <td>327</td>\n",
              "      <td>4.05</td>\n",
              "      <td>4.07</td>\n",
              "      <td>2.31</td>\n",
              "    </tr>\n",
              "    <tr>\n",
              "      <th>3</th>\n",
              "      <td>0.29</td>\n",
              "      <td>Premium</td>\n",
              "      <td>I</td>\n",
              "      <td>VS2</td>\n",
              "      <td>62.4</td>\n",
              "      <td>58.0</td>\n",
              "      <td>334</td>\n",
              "      <td>4.20</td>\n",
              "      <td>4.23</td>\n",
              "      <td>2.63</td>\n",
              "    </tr>\n",
              "    <tr>\n",
              "      <th>4</th>\n",
              "      <td>0.31</td>\n",
              "      <td>Good</td>\n",
              "      <td>J</td>\n",
              "      <td>SI2</td>\n",
              "      <td>63.3</td>\n",
              "      <td>58.0</td>\n",
              "      <td>335</td>\n",
              "      <td>4.34</td>\n",
              "      <td>4.35</td>\n",
              "      <td>2.75</td>\n",
              "    </tr>\n",
              "    <tr>\n",
              "      <th>...</th>\n",
              "      <td>...</td>\n",
              "      <td>...</td>\n",
              "      <td>...</td>\n",
              "      <td>...</td>\n",
              "      <td>...</td>\n",
              "      <td>...</td>\n",
              "      <td>...</td>\n",
              "      <td>...</td>\n",
              "      <td>...</td>\n",
              "      <td>...</td>\n",
              "    </tr>\n",
              "    <tr>\n",
              "      <th>53935</th>\n",
              "      <td>0.72</td>\n",
              "      <td>Ideal</td>\n",
              "      <td>D</td>\n",
              "      <td>SI1</td>\n",
              "      <td>60.8</td>\n",
              "      <td>57.0</td>\n",
              "      <td>2757</td>\n",
              "      <td>5.75</td>\n",
              "      <td>5.76</td>\n",
              "      <td>3.50</td>\n",
              "    </tr>\n",
              "    <tr>\n",
              "      <th>53936</th>\n",
              "      <td>0.72</td>\n",
              "      <td>Good</td>\n",
              "      <td>D</td>\n",
              "      <td>SI1</td>\n",
              "      <td>63.1</td>\n",
              "      <td>55.0</td>\n",
              "      <td>2757</td>\n",
              "      <td>5.69</td>\n",
              "      <td>5.75</td>\n",
              "      <td>3.61</td>\n",
              "    </tr>\n",
              "    <tr>\n",
              "      <th>53937</th>\n",
              "      <td>0.70</td>\n",
              "      <td>Very Good</td>\n",
              "      <td>D</td>\n",
              "      <td>SI1</td>\n",
              "      <td>62.8</td>\n",
              "      <td>60.0</td>\n",
              "      <td>2757</td>\n",
              "      <td>5.66</td>\n",
              "      <td>5.68</td>\n",
              "      <td>3.56</td>\n",
              "    </tr>\n",
              "    <tr>\n",
              "      <th>53938</th>\n",
              "      <td>0.86</td>\n",
              "      <td>Premium</td>\n",
              "      <td>H</td>\n",
              "      <td>SI2</td>\n",
              "      <td>61.0</td>\n",
              "      <td>58.0</td>\n",
              "      <td>2757</td>\n",
              "      <td>6.15</td>\n",
              "      <td>6.12</td>\n",
              "      <td>3.74</td>\n",
              "    </tr>\n",
              "    <tr>\n",
              "      <th>53939</th>\n",
              "      <td>0.75</td>\n",
              "      <td>Ideal</td>\n",
              "      <td>D</td>\n",
              "      <td>SI2</td>\n",
              "      <td>62.2</td>\n",
              "      <td>55.0</td>\n",
              "      <td>2757</td>\n",
              "      <td>5.83</td>\n",
              "      <td>5.87</td>\n",
              "      <td>3.64</td>\n",
              "    </tr>\n",
              "  </tbody>\n",
              "</table>\n",
              "<p>53940 rows × 10 columns</p>\n",
              "</div>"
            ],
            "text/plain": [
              "       carat        cut color clarity  depth  table  price     x     y     z\n",
              "0       0.23      Ideal     E     SI2   61.5   55.0    326  3.95  3.98  2.43\n",
              "1       0.21    Premium     E     SI1   59.8   61.0    326  3.89  3.84  2.31\n",
              "2       0.23       Good     E     VS1   56.9   65.0    327  4.05  4.07  2.31\n",
              "3       0.29    Premium     I     VS2   62.4   58.0    334  4.20  4.23  2.63\n",
              "4       0.31       Good     J     SI2   63.3   58.0    335  4.34  4.35  2.75\n",
              "...      ...        ...   ...     ...    ...    ...    ...   ...   ...   ...\n",
              "53935   0.72      Ideal     D     SI1   60.8   57.0   2757  5.75  5.76  3.50\n",
              "53936   0.72       Good     D     SI1   63.1   55.0   2757  5.69  5.75  3.61\n",
              "53937   0.70  Very Good     D     SI1   62.8   60.0   2757  5.66  5.68  3.56\n",
              "53938   0.86    Premium     H     SI2   61.0   58.0   2757  6.15  6.12  3.74\n",
              "53939   0.75      Ideal     D     SI2   62.2   55.0   2757  5.83  5.87  3.64\n",
              "\n",
              "[53940 rows x 10 columns]"
            ]
          },
          "execution_count": 52,
          "metadata": {},
          "output_type": "execute_result"
        }
      ],
      "source": [
        "diamonds_df"
      ]
    },
    {
      "cell_type": "code",
      "execution_count": null,
      "id": "316aecff",
      "metadata": {
        "colab": {
          "base_uri": "https://localhost:8080/"
        },
        "id": "316aecff",
        "outputId": "4624ec18-46a1-4c61-e292-aa28e74056f7"
      },
      "outputs": [
        {
          "data": {
            "text/plain": [
              "(1713, 10)"
            ]
          },
          "execution_count": 53,
          "metadata": {},
          "output_type": "execute_result"
        }
      ],
      "source": [
        "plot_df=diamonds_df[(diamonds_df.clarity=='SI2')&(diamonds_df.color=='E')]\n",
        "plot_df.shape"
      ]
    },
    {
      "cell_type": "code",
      "execution_count": null,
      "id": "1e1acbdd",
      "metadata": {
        "colab": {
          "base_uri": "https://localhost:8080/",
          "height": 542
        },
        "id": "1e1acbdd",
        "outputId": "24a3f9e8-61df-4b01-c84e-772cfcb57e5d"
      },
      "outputs": [
        {
          "data": {
            "application/vnd.plotly.v1+json": {
              "config": {
                "plotlyServerURL": "https://plot.ly"
              },
              "data": [
                {
                  "hovertemplate": "cut=Ideal<br>carat=%{x}<br>price=%{y}<extra></extra>",
                  "legendgroup": "Ideal",
                  "marker": {
                    "color": "#636efa",
                    "opacity": 0.5,
                    "symbol": "circle"
                  },
                  "mode": "markers",
                  "name": "Ideal",
                  "showlegend": true,
                  "type": "scattergl",
                  "x": [
                    0.23,
                    0.74,
                    0.73,
                    0.77,
                    0.81,
                    0.83,
                    0.76,
                    0.73,
                    0.81,
                    0.31,
                    0.31,
                    0.31,
                    0.82,
                    0.81,
                    0.8,
                    0.72,
                    0.8,
                    0.76,
                    0.82,
                    0.81,
                    0.81,
                    0.81,
                    0.83,
                    0.81,
                    0.78,
                    0.81,
                    0.83,
                    0.83,
                    0.75,
                    0.82,
                    0.83,
                    0.85,
                    0.9,
                    0.8,
                    0.82,
                    0.88,
                    0.79,
                    0.89,
                    0.85,
                    1,
                    1,
                    1.02,
                    0.86,
                    0.87,
                    1.04,
                    0.9,
                    0.9,
                    0.91,
                    0.91,
                    0.91,
                    1.09,
                    0.91,
                    0.91,
                    0.85,
                    0.91,
                    0.9,
                    0.9,
                    0.86,
                    1.12,
                    0.89,
                    0.91,
                    0.91,
                    0.94,
                    0.92,
                    0.92,
                    0.92,
                    0.9,
                    0.32,
                    0.32,
                    0.91,
                    0.91,
                    1.06,
                    0.93,
                    0.92,
                    0.92,
                    0.92,
                    0.9,
                    0.32,
                    1.01,
                    0.95,
                    1.1,
                    1,
                    1,
                    0.97,
                    0.9,
                    1.03,
                    1.01,
                    0.91,
                    0.9,
                    1.11,
                    1.03,
                    1.13,
                    0.92,
                    1.01,
                    0.94,
                    1.07,
                    1.02,
                    1.01,
                    1.01,
                    1.03,
                    1.02,
                    1.02,
                    1.02,
                    1.02,
                    1.01,
                    1.01,
                    1.03,
                    1.02,
                    1.07,
                    1.02,
                    1.01,
                    1.07,
                    1,
                    1.02,
                    1.01,
                    1.01,
                    1.01,
                    1.01,
                    1.01,
                    1.07,
                    1.02,
                    1.05,
                    1,
                    1.01,
                    1.01,
                    1.01,
                    1.01,
                    1.03,
                    1,
                    1,
                    0.9,
                    1.01,
                    1.01,
                    1.02,
                    1.02,
                    1.02,
                    1.07,
                    1.04,
                    1.04,
                    1,
                    1,
                    1.01,
                    0.91,
                    1.02,
                    1.1,
                    1,
                    1.01,
                    1.03,
                    0.93,
                    0.92,
                    1.01,
                    1.18,
                    1.04,
                    1.04,
                    1.02,
                    1.01,
                    1.26,
                    1.11,
                    1.11,
                    0.94,
                    1.22,
                    1.02,
                    1.01,
                    1.08,
                    1.12,
                    1.16,
                    1.16,
                    1.11,
                    1.14,
                    1.09,
                    1.09,
                    1.09,
                    1.04,
                    1.08,
                    1.1,
                    1.16,
                    1.16,
                    1.13,
                    1.04,
                    1.09,
                    1.09,
                    1.06,
                    1.04,
                    1.1,
                    1.06,
                    1.11,
                    1.1,
                    1.2,
                    1.07,
                    1.06,
                    1.07,
                    1.11,
                    1.1,
                    1.07,
                    1.01,
                    1.24,
                    1.13,
                    1.14,
                    1.03,
                    1.2,
                    1.19,
                    1.04,
                    1.12,
                    1.19,
                    1.07,
                    0.38,
                    1.07,
                    1.19,
                    1.19,
                    1.11,
                    1.11,
                    1.2,
                    1.16,
                    1.2,
                    1.07,
                    1.12,
                    1.23,
                    1.18,
                    1.22,
                    1.27,
                    1.23,
                    1.29,
                    1.26,
                    0.31,
                    1.25,
                    0.34,
                    1.09,
                    1.55,
                    0.34,
                    0.34,
                    1.2,
                    1.27,
                    1.32,
                    0.39,
                    1.51,
                    1.25,
                    1.23,
                    1.52,
                    1.46,
                    1.65,
                    1.56,
                    0.41,
                    1.48,
                    1.7,
                    1.52,
                    1.51,
                    1.52,
                    1.61,
                    0.38,
                    0.38,
                    1.74,
                    1.51,
                    1.51,
                    1.53,
                    1.63,
                    1.57,
                    1.57,
                    1.51,
                    1.53,
                    0.4,
                    0.4,
                    0.4,
                    0.4,
                    0.35,
                    1.66,
                    1.51,
                    1.6,
                    1.51,
                    0.35,
                    1.61,
                    1.59,
                    1.61,
                    1.59,
                    1.68,
                    1.71,
                    1.68,
                    1.7,
                    2,
                    1.71,
                    2.14,
                    1.71,
                    1.83,
                    2.01,
                    2.03,
                    0.4,
                    0.32,
                    0.33,
                    0.33,
                    0.32,
                    0.32,
                    2,
                    2.28,
                    2.16,
                    2.01,
                    2.01,
                    2.08,
                    0.41,
                    0.38,
                    0.4,
                    0.31,
                    0.4,
                    0.41,
                    0.41,
                    0.41,
                    0.31,
                    0.31,
                    0.42,
                    0.4,
                    0.44,
                    0.42,
                    0.45,
                    0.43,
                    0.43,
                    0.32,
                    0.32,
                    0.41,
                    0.34,
                    0.34,
                    0.34,
                    0.32,
                    0.38,
                    0.41,
                    0.4,
                    0.46,
                    0.41,
                    0.41,
                    0.41,
                    0.41,
                    0.42,
                    0.42,
                    0.42,
                    0.43,
                    0.43,
                    0.47,
                    0.46,
                    0.34,
                    0.34,
                    0.35,
                    0.35,
                    0.51,
                    0.5,
                    0.5,
                    0.54,
                    0.46,
                    0.51,
                    0.52,
                    0.5,
                    0.5,
                    0.54,
                    0.51,
                    0.51,
                    0.5,
                    0.5,
                    0.5,
                    0.51,
                    0.55,
                    0.53,
                    0.53,
                    0.53,
                    0.52,
                    0.52,
                    0.58,
                    0.5,
                    0.5,
                    0.5,
                    0.57,
                    0.54,
                    0.54,
                    0.54,
                    0.59,
                    0.54,
                    0.53,
                    0.51,
                    0.54,
                    0.51,
                    0.55,
                    0.55,
                    0.59,
                    0.52,
                    0.56,
                    0.52,
                    0.59,
                    0.53,
                    0.54,
                    0.54,
                    0.54,
                    0.58,
                    0.57,
                    0.5,
                    0.58,
                    0.61,
                    0.6,
                    0.51,
                    0.58,
                    0.52,
                    0.53,
                    0.66,
                    0.66,
                    0.71,
                    0.73,
                    0.7,
                    0.7,
                    0.73,
                    0.71,
                    0.7,
                    0.75,
                    0.7,
                    0.3,
                    0.3,
                    0.3,
                    0.3,
                    0.72,
                    0.7,
                    0.7,
                    0.72,
                    0.71,
                    0.78,
                    0.72,
                    0.72,
                    0.77,
                    0.71,
                    0.7,
                    0.7,
                    0.71,
                    0.72,
                    0.72,
                    0.7,
                    0.71,
                    0.72,
                    0.7,
                    0.73,
                    0.73,
                    0.73,
                    0.73,
                    0.7,
                    0.7,
                    0.71,
                    0.74,
                    0.73,
                    0.71,
                    0.7,
                    0.74,
                    0.74,
                    0.71,
                    0.71,
                    0.77,
                    0.72,
                    0.72,
                    0.71,
                    0.73,
                    0.81,
                    0.7,
                    0.77,
                    0.73,
                    0.73,
                    0.74,
                    0.78,
                    0.75,
                    0.74,
                    0.71,
                    0.82,
                    0.81,
                    0.72,
                    0.77,
                    0.76,
                    0.76,
                    0.76,
                    0.77,
                    0.77
                  ],
                  "xaxis": "x",
                  "y": [
                    326,
                    2761,
                    2805,
                    2834,
                    2864,
                    2870,
                    2873,
                    2896,
                    2901,
                    558,
                    558,
                    558,
                    2937,
                    2938,
                    2939,
                    2939,
                    2978,
                    2978,
                    3012,
                    3013,
                    3013,
                    3015,
                    3049,
                    3050,
                    3053,
                    3101,
                    3103,
                    3125,
                    3129,
                    3131,
                    3143,
                    3189,
                    3200,
                    3251,
                    3328,
                    3329,
                    3390,
                    3429,
                    3441,
                    3450,
                    3450,
                    3455,
                    3478,
                    3566,
                    3588,
                    3599,
                    3662,
                    3723,
                    3723,
                    3756,
                    3760,
                    3772,
                    3774,
                    3787,
                    3800,
                    3804,
                    3808,
                    3828,
                    3864,
                    3872,
                    3898,
                    3898,
                    3915,
                    3941,
                    3941,
                    3941,
                    3958,
                    576,
                    576,
                    3968,
                    3968,
                    3977,
                    3990,
                    4011,
                    4011,
                    4011,
                    4034,
                    576,
                    4044,
                    4068,
                    4071,
                    4077,
                    4077,
                    4078,
                    4091,
                    4095,
                    4118,
                    4160,
                    4191,
                    4196,
                    4199,
                    4303,
                    4309,
                    4355,
                    4366,
                    4374,
                    4398,
                    4434,
                    4434,
                    4441,
                    4465,
                    4478,
                    4478,
                    4478,
                    4479,
                    4504,
                    4522,
                    4547,
                    4564,
                    4585,
                    4604,
                    4613,
                    4623,
                    4645,
                    4666,
                    4666,
                    4666,
                    4668,
                    4694,
                    4698,
                    4712,
                    4714,
                    4743,
                    4751,
                    4751,
                    4751,
                    4751,
                    4758,
                    4760,
                    4766,
                    4770,
                    4787,
                    4788,
                    4798,
                    4798,
                    4798,
                    4799,
                    4804,
                    4804,
                    4808,
                    4808,
                    4808,
                    4821,
                    4824,
                    4829,
                    4829,
                    4832,
                    4845,
                    4858,
                    4871,
                    4875,
                    4885,
                    4892,
                    4892,
                    4912,
                    4921,
                    4939,
                    4969,
                    4969,
                    4972,
                    4974,
                    4983,
                    4984,
                    4989,
                    5000,
                    5001,
                    5001,
                    5004,
                    5005,
                    5035,
                    5035,
                    5042,
                    5067,
                    5080,
                    5082,
                    5093,
                    5093,
                    5120,
                    5125,
                    5127,
                    5127,
                    5147,
                    5163,
                    5174,
                    5223,
                    5262,
                    5263,
                    5268,
                    5280,
                    5319,
                    5325,
                    5358,
                    5359,
                    5393,
                    5437,
                    5444,
                    5457,
                    5473,
                    5491,
                    5494,
                    5497,
                    5531,
                    5546,
                    5598,
                    5602,
                    603,
                    5704,
                    5717,
                    5822,
                    5938,
                    5962,
                    5964,
                    5991,
                    6006,
                    6060,
                    6168,
                    6288,
                    6328,
                    6343,
                    6383,
                    6403,
                    6473,
                    6477,
                    421,
                    6670,
                    612,
                    6852,
                    6901,
                    612,
                    612,
                    7018,
                    7023,
                    7037,
                    614,
                    7272,
                    7289,
                    7336,
                    8299,
                    8421,
                    8455,
                    8518,
                    625,
                    8818,
                    9139,
                    9405,
                    9513,
                    9576,
                    9961,
                    628,
                    628,
                    10085,
                    10147,
                    10210,
                    10339,
                    10357,
                    10362,
                    10550,
                    10588,
                    10698,
                    629,
                    629,
                    629,
                    629,
                    630,
                    10754,
                    10781,
                    10798,
                    10935,
                    630,
                    11090,
                    11149,
                    11220,
                    11251,
                    11781,
                    11816,
                    11888,
                    11924,
                    12210,
                    12978,
                    13065,
                    13097,
                    13254,
                    13387,
                    14308,
                    644,
                    427,
                    427,
                    427,
                    427,
                    427,
                    16650,
                    16969,
                    17263,
                    17688,
                    17849,
                    18128,
                    654,
                    663,
                    666,
                    435,
                    679,
                    683,
                    683,
                    683,
                    435,
                    435,
                    687,
                    689,
                    691,
                    700,
                    706,
                    716,
                    716,
                    449,
                    449,
                    760,
                    454,
                    454,
                    454,
                    456,
                    812,
                    818,
                    855,
                    870,
                    876,
                    876,
                    876,
                    876,
                    882,
                    898,
                    898,
                    919,
                    919,
                    931,
                    935,
                    477,
                    477,
                    491,
                    491,
                    1098,
                    1104,
                    1104,
                    1111,
                    1116,
                    1128,
                    1146,
                    1154,
                    1154,
                    1163,
                    1170,
                    1177,
                    1181,
                    1181,
                    1185,
                    1205,
                    1221,
                    1223,
                    1229,
                    1229,
                    1229,
                    1232,
                    1234,
                    1240,
                    1240,
                    1240,
                    1244,
                    1246,
                    1246,
                    1246,
                    1248,
                    1250,
                    1262,
                    1265,
                    1266,
                    1268,
                    1273,
                    1273,
                    1286,
                    1290,
                    1296,
                    1299,
                    1305,
                    1315,
                    1340,
                    1340,
                    1340,
                    1346,
                    1357,
                    1359,
                    1359,
                    1368,
                    1385,
                    1385,
                    1392,
                    1412,
                    1438,
                    1560,
                    1584,
                    1991,
                    2059,
                    2061,
                    2100,
                    2155,
                    2190,
                    2239,
                    2278,
                    2283,
                    401,
                    401,
                    401,
                    401,
                    2308,
                    2332,
                    2332,
                    2337,
                    2340,
                    2340,
                    2345,
                    2355,
                    2360,
                    2370,
                    2375,
                    2376,
                    2388,
                    2398,
                    2398,
                    2398,
                    2398,
                    2401,
                    2405,
                    2431,
                    2431,
                    2434,
                    2434,
                    2436,
                    2453,
                    2458,
                    2464,
                    2467,
                    2470,
                    2475,
                    2501,
                    2501,
                    2511,
                    2511,
                    2519,
                    2526,
                    2530,
                    2550,
                    2559,
                    2559,
                    2560,
                    2563,
                    2581,
                    2581,
                    2594,
                    2596,
                    2609,
                    2617,
                    2619,
                    2668,
                    2673,
                    2674,
                    2677,
                    2680,
                    2680,
                    2680,
                    2689,
                    2753
                  ],
                  "yaxis": "y"
                },
                {
                  "hovertemplate": "cut=Premium<br>carat=%{x}<br>price=%{y}<extra></extra>",
                  "legendgroup": "Premium",
                  "marker": {
                    "color": "#EF553B",
                    "opacity": 0.5,
                    "symbol": "circle"
                  },
                  "mode": "markers",
                  "name": "Premium",
                  "showlegend": true,
                  "type": "scattergl",
                  "x": [
                    0.2,
                    0.82,
                    0.75,
                    0.8,
                    0.83,
                    0.82,
                    0.79,
                    0.81,
                    0.31,
                    0.8,
                    0.96,
                    0.31,
                    0.31,
                    0.96,
                    0.9,
                    0.9,
                    0.9,
                    0.84,
                    0.91,
                    0.91,
                    1.04,
                    1.04,
                    1,
                    1,
                    1,
                    0.9,
                    0.9,
                    1,
                    0.91,
                    0.91,
                    0.91,
                    0.9,
                    0.9,
                    0.9,
                    1.01,
                    0.92,
                    0.9,
                    0.91,
                    0.91,
                    1,
                    0.94,
                    1,
                    1.01,
                    1.01,
                    1.01,
                    0.9,
                    0.94,
                    0.9,
                    0.91,
                    0.9,
                    0.9,
                    1.03,
                    1.05,
                    0.91,
                    1.13,
                    0.95,
                    1.04,
                    0.9,
                    1.01,
                    0.92,
                    0.92,
                    1.05,
                    0.32,
                    0.32,
                    0.93,
                    1.06,
                    0.92,
                    1,
                    0.94,
                    0.32,
                    0.32,
                    1.13,
                    1.01,
                    1.01,
                    0.95,
                    1.03,
                    1,
                    1,
                    1,
                    1,
                    1.01,
                    0.94,
                    1.09,
                    0.96,
                    1,
                    1.01,
                    0.9,
                    1.05,
                    0.95,
                    1.04,
                    1.11,
                    1.11,
                    1,
                    1,
                    1.1,
                    1,
                    1.12,
                    1.04,
                    1.04,
                    1.15,
                    0.93,
                    1.12,
                    1.24,
                    1.24,
                    1.07,
                    1.01,
                    1.15,
                    1.15,
                    1.03,
                    1.01,
                    1.07,
                    1.04,
                    1.01,
                    1,
                    1,
                    1.01,
                    1.01,
                    1.01,
                    1.04,
                    1.03,
                    1.09,
                    0.96,
                    1.02,
                    0.98,
                    1.02,
                    1.02,
                    1.02,
                    1.02,
                    1.04,
                    1,
                    1.03,
                    1.04,
                    1,
                    1.11,
                    1,
                    1,
                    1,
                    1.1,
                    1,
                    1.06,
                    1.06,
                    1.08,
                    1.11,
                    1.01,
                    1.01,
                    1.24,
                    1.01,
                    1.15,
                    1.1,
                    1.15,
                    1,
                    1,
                    1,
                    1,
                    1.03,
                    1.06,
                    1.05,
                    1.05,
                    1.08,
                    1.01,
                    1.01,
                    1.01,
                    1.01,
                    1.01,
                    1.03,
                    1.01,
                    1.1,
                    1.03,
                    0.33,
                    1.01,
                    1.03,
                    1.04,
                    0.33,
                    0.38,
                    1.01,
                    1.21,
                    1.13,
                    1.05,
                    1.07,
                    1.07,
                    1.1,
                    1.1,
                    1.22,
                    1.03,
                    1.22,
                    1.02,
                    1.07,
                    1.07,
                    1.26,
                    1.09,
                    1.09,
                    1.11,
                    1.1,
                    1.31,
                    1.18,
                    1.15,
                    1.13,
                    1.2,
                    1.13,
                    1.05,
                    1.28,
                    1.12,
                    0.36,
                    1.3,
                    1.35,
                    1.2,
                    1.21,
                    1.23,
                    1.59,
                    1.22,
                    1.21,
                    1.21,
                    1.26,
                    1.22,
                    1.22,
                    1.4,
                    1.23,
                    1.21,
                    1.22,
                    1.33,
                    1.51,
                    1.22,
                    1.24,
                    1.2,
                    1.37,
                    0.34,
                    1.33,
                    0.34,
                    0.34,
                    0.34,
                    0.34,
                    0.34,
                    1.33,
                    1.55,
                    1.5,
                    1.39,
                    1.33,
                    1.36,
                    1.39,
                    1.5,
                    1.51,
                    1.36,
                    1.58,
                    1.54,
                    1.5,
                    1.51,
                    1.5,
                    1.5,
                    1.5,
                    1.54,
                    1.52,
                    1.64,
                    1.51,
                    1.5,
                    1.53,
                    1.52,
                    1.5,
                    1.5,
                    1.59,
                    1.5,
                    1.52,
                    1.51,
                    1.5,
                    1.5,
                    1.51,
                    1.62,
                    1.62,
                    1.52,
                    1.76,
                    1.7,
                    1.52,
                    1.5,
                    1.56,
                    1.5,
                    1.5,
                    1.5,
                    1.56,
                    1.52,
                    2.46,
                    1.6,
                    1.66,
                    1.51,
                    1.78,
                    0.35,
                    0.35,
                    1.75,
                    1.75,
                    1.83,
                    2,
                    2.01,
                    0.4,
                    1.81,
                    2.02,
                    2.07,
                    2.07,
                    2.12,
                    2.01,
                    2.02,
                    2.06,
                    2.01,
                    2.04,
                    2.08,
                    2,
                    2.01,
                    2.1,
                    2.05,
                    2.05,
                    2.57,
                    2.71,
                    2.01,
                    2.01,
                    2.05,
                    2.05,
                    2.04,
                    2,
                    2.02,
                    2.02,
                    2.11,
                    2.02,
                    2.12,
                    2.19,
                    2.14,
                    2.03,
                    2,
                    2.03,
                    0.36,
                    0.36,
                    0.36,
                    0.42,
                    0.37,
                    0.4,
                    0.35,
                    0.41,
                    0.41,
                    0.41,
                    0.31,
                    0.43,
                    0.43,
                    0.43,
                    0.32,
                    0.32,
                    0.32,
                    0.41,
                    0.42,
                    0.39,
                    0.4,
                    0.38,
                    0.42,
                    0.41,
                    0.41,
                    0.4,
                    0.33,
                    0.39,
                    0.42,
                    0.42,
                    0.4,
                    0.4,
                    0.4,
                    0.4,
                    0.3,
                    0.41,
                    0.41,
                    0.41,
                    0.41,
                    0.41,
                    0.41,
                    0.41,
                    0.43,
                    0.43,
                    0.43,
                    0.43,
                    0.43,
                    0.36,
                    0.34,
                    0.34,
                    0.34,
                    0.34,
                    0.49,
                    0.41,
                    0.53,
                    0.53,
                    0.53,
                    0.53,
                    0.48,
                    0.49,
                    0.44,
                    0.57,
                    0.57,
                    0.5,
                    0.47,
                    0.35,
                    0.35,
                    0.52,
                    0.5,
                    0.5,
                    0.55,
                    0.53,
                    0.5,
                    0.63,
                    0.51,
                    0.5,
                    0.5,
                    0.5,
                    0.55,
                    0.59,
                    0.51,
                    0.51,
                    0.51,
                    0.56,
                    0.51,
                    0.53,
                    0.57,
                    0.52,
                    0.59,
                    0.3,
                    0.5,
                    0.5,
                    0.5,
                    0.5,
                    0.54,
                    0.5,
                    0.51,
                    0.51,
                    0.55,
                    0.62,
                    0.55,
                    0.5,
                    0.62,
                    0.51,
                    0.56,
                    0.57,
                    0.57,
                    0.36,
                    0.36,
                    0.55,
                    0.57,
                    0.6,
                    0.36,
                    0.21,
                    0.62,
                    0.62,
                    0.65,
                    0.61,
                    0.63,
                    0.72,
                    0.65,
                    0.74,
                    0.72,
                    0.7,
                    0.71,
                    0.72,
                    0.7,
                    0.7,
                    0.3,
                    0.7,
                    0.77,
                    0.3,
                    0.3,
                    0.3,
                    0.3,
                    0.75,
                    0.7,
                    0.71,
                    0.73,
                    0.71,
                    0.7,
                    0.7,
                    0.73,
                    0.76,
                    0.8,
                    0.71,
                    0.71,
                    0.7,
                    0.7,
                    0.72,
                    0.71,
                    0.76,
                    0.82,
                    0.73,
                    0.7,
                    0.71,
                    0.73,
                    0.7,
                    0.71,
                    0.72,
                    0.77,
                    0.81,
                    0.75,
                    0.72,
                    0.7,
                    0.7,
                    0.72,
                    0.71,
                    0.76,
                    0.73,
                    0.71,
                    0.7,
                    0.74,
                    0.71,
                    0.76,
                    0.7,
                    0.7,
                    0.7,
                    0.74,
                    0.77,
                    0.74,
                    0.83,
                    0.74,
                    0.81,
                    0.84,
                    0.76,
                    0.82,
                    0.74,
                    0.77,
                    0.74,
                    0.76,
                    0.77,
                    0.77,
                    0.79
                  ],
                  "xaxis": "x",
                  "y": [
                    345,
                    2824,
                    2829,
                    2829,
                    2859,
                    2861,
                    2868,
                    2901,
                    558,
                    2939,
                    2961,
                    558,
                    558,
                    3016,
                    3084,
                    3084,
                    3084,
                    3086,
                    3379,
                    3379,
                    3392,
                    3392,
                    3450,
                    3450,
                    3450,
                    3599,
                    3599,
                    3612,
                    3639,
                    3639,
                    3644,
                    3662,
                    3662,
                    3662,
                    3674,
                    3679,
                    3701,
                    3703,
                    3743,
                    3752,
                    3758,
                    3763,
                    3801,
                    3801,
                    3801,
                    3804,
                    3825,
                    3830,
                    3846,
                    3856,
                    3856,
                    3876,
                    3886,
                    3898,
                    3898,
                    3907,
                    3914,
                    3924,
                    3928,
                    3941,
                    3941,
                    3951,
                    576,
                    576,
                    3984,
                    3989,
                    4011,
                    4014,
                    4027,
                    576,
                    576,
                    4040,
                    4044,
                    4054,
                    4070,
                    4070,
                    4077,
                    4077,
                    4077,
                    4077,
                    4089,
                    4098,
                    4102,
                    4113,
                    4116,
                    4118,
                    4133,
                    4139,
                    4142,
                    4164,
                    4177,
                    4177,
                    4200,
                    4200,
                    4201,
                    4202,
                    4215,
                    4240,
                    4240,
                    4250,
                    4250,
                    4277,
                    4278,
                    4278,
                    4284,
                    4308,
                    4328,
                    4328,
                    4328,
                    4355,
                    4362,
                    4370,
                    4371,
                    4390,
                    4390,
                    4412,
                    4434,
                    4434,
                    4436,
                    4441,
                    4444,
                    4462,
                    4478,
                    4478,
                    4478,
                    4478,
                    4478,
                    4478,
                    4484,
                    4496,
                    4522,
                    4566,
                    4579,
                    4581,
                    4620,
                    4620,
                    4620,
                    4622,
                    4648,
                    4652,
                    4654,
                    4656,
                    4664,
                    4666,
                    4666,
                    4666,
                    4688,
                    4688,
                    4691,
                    4701,
                    4704,
                    4704,
                    4704,
                    4704,
                    4730,
                    4737,
                    4742,
                    4742,
                    4742,
                    4751,
                    4751,
                    4751,
                    4751,
                    4751,
                    4758,
                    4790,
                    4829,
                    4845,
                    594,
                    4878,
                    4885,
                    4892,
                    594,
                    596,
                    4921,
                    4933,
                    4936,
                    4939,
                    4943,
                    4943,
                    4967,
                    4967,
                    4974,
                    4974,
                    4974,
                    4990,
                    5033,
                    5033,
                    5058,
                    5127,
                    5127,
                    5152,
                    5174,
                    5176,
                    5181,
                    5193,
                    5220,
                    5268,
                    5316,
                    5400,
                    5620,
                    5620,
                    605,
                    5751,
                    5758,
                    5779,
                    5920,
                    5929,
                    6010,
                    6012,
                    6065,
                    6071,
                    6085,
                    6121,
                    6121,
                    6147,
                    6172,
                    6223,
                    6237,
                    6256,
                    6342,
                    6351,
                    6377,
                    6397,
                    6751,
                    612,
                    6963,
                    612,
                    612,
                    612,
                    612,
                    612,
                    7090,
                    7161,
                    7182,
                    7311,
                    7341,
                    7421,
                    7445,
                    7560,
                    7610,
                    7677,
                    7963,
                    8020,
                    8064,
                    8135,
                    8190,
                    8190,
                    8316,
                    8408,
                    8810,
                    8835,
                    8879,
                    8988,
                    8996,
                    9028,
                    9072,
                    9072,
                    9082,
                    9157,
                    9193,
                    9302,
                    9450,
                    9450,
                    9513,
                    9526,
                    9526,
                    9576,
                    9580,
                    9596,
                    9831,
                    9900,
                    9909,
                    10080,
                    10080,
                    10080,
                    10090,
                    10214,
                    10470,
                    10483,
                    10553,
                    10570,
                    10765,
                    630,
                    630,
                    11655,
                    12238,
                    12492,
                    12987,
                    13387,
                    640,
                    13561,
                    13677,
                    13786,
                    13786,
                    13884,
                    14502,
                    14574,
                    14634,
                    14948,
                    15398,
                    15873,
                    15984,
                    16064,
                    16783,
                    17066,
                    17081,
                    17116,
                    17146,
                    17179,
                    17179,
                    17237,
                    17294,
                    17379,
                    17760,
                    17825,
                    17938,
                    18034,
                    18117,
                    18120,
                    18232,
                    18291,
                    18310,
                    18426,
                    18477,
                    648,
                    648,
                    648,
                    653,
                    666,
                    666,
                    672,
                    683,
                    683,
                    683,
                    435,
                    704,
                    716,
                    716,
                    449,
                    449,
                    449,
                    771,
                    778,
                    778,
                    798,
                    812,
                    814,
                    818,
                    818,
                    821,
                    463,
                    834,
                    838,
                    838,
                    855,
                    855,
                    855,
                    855,
                    468,
                    876,
                    876,
                    876,
                    876,
                    876,
                    876,
                    876,
                    882,
                    903,
                    919,
                    919,
                    919,
                    475,
                    477,
                    477,
                    477,
                    477,
                    949,
                    953,
                    984,
                    984,
                    984,
                    984,
                    1005,
                    1011,
                    1028,
                    1058,
                    1058,
                    1063,
                    1072,
                    491,
                    491,
                    1088,
                    1097,
                    1097,
                    1134,
                    1141,
                    1154,
                    1169,
                    1177,
                    1181,
                    1181,
                    1181,
                    1185,
                    1195,
                    1205,
                    1205,
                    1205,
                    1206,
                    1211,
                    1227,
                    1228,
                    1229,
                    1229,
                    504,
                    1240,
                    1240,
                    1240,
                    1240,
                    1250,
                    1262,
                    1265,
                    1265,
                    1269,
                    1271,
                    1273,
                    1286,
                    1291,
                    1294,
                    1297,
                    1320,
                    1320,
                    505,
                    505,
                    1364,
                    1414,
                    1426,
                    518,
                    394,
                    1579,
                    1579,
                    1640,
                    1715,
                    1775,
                    1808,
                    1827,
                    2002,
                    2019,
                    2037,
                    2096,
                    2125,
                    2135,
                    2135,
                    540,
                    2159,
                    2171,
                    540,
                    540,
                    540,
                    540,
                    2214,
                    2215,
                    2215,
                    2256,
                    2271,
                    2273,
                    2273,
                    2278,
                    2303,
                    2304,
                    2306,
                    2306,
                    2307,
                    2307,
                    2320,
                    2322,
                    2329,
                    2329,
                    2335,
                    2335,
                    2340,
                    2341,
                    2342,
                    2343,
                    2355,
                    2360,
                    2368,
                    2372,
                    2376,
                    2376,
                    2376,
                    2376,
                    2386,
                    2399,
                    2409,
                    2410,
                    2442,
                    2447,
                    2450,
                    2451,
                    2463,
                    2475,
                    2475,
                    2512,
                    2519,
                    2527,
                    2544,
                    2553,
                    2559,
                    2574,
                    2580,
                    2593,
                    2594,
                    2614,
                    2617,
                    2688,
                    2723,
                    2723,
                    2756
                  ],
                  "yaxis": "y"
                },
                {
                  "hovertemplate": "cut=Fair<br>carat=%{x}<br>price=%{y}<extra></extra>",
                  "legendgroup": "Fair",
                  "marker": {
                    "color": "#00cc96",
                    "opacity": 0.5,
                    "symbol": "circle"
                  },
                  "mode": "markers",
                  "name": "Fair",
                  "showlegend": true,
                  "type": "scattergl",
                  "x": [
                    0.86,
                    1.01,
                    0.96,
                    0.98,
                    1.01,
                    0.9,
                    1,
                    0.9,
                    1,
                    0.9,
                    0.9,
                    0.91,
                    1,
                    1,
                    1,
                    0.9,
                    1.01,
                    0.9,
                    0.96,
                    1,
                    0.96,
                    1,
                    1,
                    1.01,
                    1.02,
                    1.08,
                    1.03,
                    1,
                    1.01,
                    1.01,
                    1,
                    1,
                    1.01,
                    1.01,
                    1,
                    1,
                    1.07,
                    1,
                    1,
                    1.04,
                    1.01,
                    1.11,
                    1.33,
                    1.21,
                    1.43,
                    1.32,
                    1.5,
                    1.5,
                    1.5,
                    1.5,
                    1.64,
                    1.5,
                    2.01,
                    2.04,
                    2.04,
                    2.01,
                    2,
                    0.41,
                    0.5,
                    0.5,
                    0.48,
                    0.5,
                    0.6,
                    0.5,
                    0.5,
                    0.56,
                    0.62,
                    0.7,
                    0.7,
                    0.7,
                    0.7,
                    0.71,
                    0.7,
                    0.72,
                    0.7,
                    0.74,
                    0.9,
                    0.78
                  ],
                  "xaxis": "x",
                  "y": [
                    2757,
                    2797,
                    2815,
                    2855,
                    2862,
                    2930,
                    2948,
                    2982,
                    3011,
                    3084,
                    3084,
                    3119,
                    3136,
                    3136,
                    3136,
                    3187,
                    3294,
                    3342,
                    3533,
                    3575,
                    3674,
                    3763,
                    3763,
                    3801,
                    3838,
                    3861,
                    3876,
                    3889,
                    3916,
                    3991,
                    4032,
                    4077,
                    4118,
                    4118,
                    4256,
                    4265,
                    4496,
                    4516,
                    4516,
                    4566,
                    4600,
                    4873,
                    4916,
                    4926,
                    6086,
                    6221,
                    6922,
                    7459,
                    7560,
                    8190,
                    8954,
                    10080,
                    11156,
                    12454,
                    12799,
                    14948,
                    15540,
                    818,
                    851,
                    871,
                    907,
                    945,
                    1033,
                    1114,
                    1141,
                    1389,
                    1435,
                    1723,
                    1828,
                    1998,
                    1998,
                    2002,
                    2092,
                    2125,
                    2600,
                    2617,
                    2639,
                    2721
                  ],
                  "yaxis": "y"
                },
                {
                  "hovertemplate": "cut=Very Good<br>carat=%{x}<br>price=%{y}<extra></extra>",
                  "legendgroup": "Very Good",
                  "marker": {
                    "color": "#ab63fa",
                    "opacity": 0.5,
                    "symbol": "circle"
                  },
                  "mode": "markers",
                  "name": "Very Good",
                  "showlegend": true,
                  "type": "scattergl",
                  "x": [
                    0.83,
                    0.8,
                    0.76,
                    0.81,
                    0.9,
                    0.79,
                    0.91,
                    0.85,
                    0.82,
                    0.77,
                    0.91,
                    0.81,
                    0.8,
                    0.72,
                    0.9,
                    0.9,
                    0.84,
                    0.9,
                    0.9,
                    0.88,
                    0.9,
                    0.9,
                    0.9,
                    0.91,
                    1.09,
                    0.91,
                    0.91,
                    0.9,
                    0.9,
                    0.9,
                    0.95,
                    0.34,
                    0.9,
                    0.95,
                    0.91,
                    0.91,
                    0.9,
                    0.9,
                    1.01,
                    0.92,
                    0.9,
                    0.91,
                    0.9,
                    0.9,
                    1.08,
                    0.93,
                    0.91,
                    0.91,
                    1,
                    1,
                    0.91,
                    1.12,
                    1.01,
                    1.05,
                    1.01,
                    1.12,
                    0.9,
                    0.91,
                    0.94,
                    0.98,
                    0.9,
                    0.9,
                    0.9,
                    0.91,
                    1.02,
                    0.94,
                    1.13,
                    0.91,
                    0.91,
                    1,
                    1,
                    1,
                    1.05,
                    0.92,
                    1,
                    1.11,
                    1.11,
                    0.93,
                    1.01,
                    1,
                    1.1,
                    1.11,
                    1.11,
                    1,
                    0.96,
                    1.01,
                    1.15,
                    1.01,
                    1.05,
                    1.02,
                    0.9,
                    1.01,
                    1.11,
                    1,
                    1,
                    1,
                    1,
                    1,
                    1,
                    1,
                    1,
                    0.93,
                    1.03,
                    1.01,
                    1.01,
                    1.01,
                    1.01,
                    1.01,
                    1.01,
                    1,
                    1,
                    1.02,
                    1.02,
                    1.02,
                    1.02,
                    1.02,
                    1.05,
                    1.02,
                    1.02,
                    1.02,
                    1.08,
                    1,
                    1.01,
                    1,
                    1.01,
                    1.04,
                    1.02,
                    1,
                    1.04,
                    1,
                    1.1,
                    1.1,
                    1.02,
                    1.01,
                    1.01,
                    1.01,
                    1.06,
                    1.01,
                    1,
                    1,
                    1.01,
                    1.1,
                    1.07,
                    1,
                    1,
                    1,
                    0.38,
                    1.08,
                    1.01,
                    1.01,
                    1.03,
                    0.91,
                    1,
                    1,
                    1.05,
                    1.11,
                    1,
                    0.99,
                    1,
                    1.05,
                    1.07,
                    1.08,
                    1.05,
                    1.08,
                    1.11,
                    1.14,
                    1.06,
                    1,
                    1.14,
                    1.08,
                    1.16,
                    1.09,
                    1.13,
                    1.34,
                    1.1,
                    1.18,
                    1.13,
                    1.17,
                    1.09,
                    1.15,
                    1.14,
                    1.15,
                    1.07,
                    1.01,
                    1.03,
                    1.14,
                    1.2,
                    1.22,
                    1.08,
                    1.26,
                    1.25,
                    1.2,
                    1.5,
                    0.3,
                    0.4,
                    0.4,
                    1.36,
                    1.37,
                    1.5,
                    1.51,
                    1.51,
                    1.54,
                    1.5,
                    1.53,
                    0.4,
                    1.61,
                    1.5,
                    1.5,
                    0.3,
                    0.3,
                    0.3,
                    1.53,
                    1.5,
                    1.5,
                    1.51,
                    1.59,
                    1.51,
                    1.51,
                    1.5,
                    1.51,
                    1.51,
                    1.62,
                    1.5,
                    1.51,
                    1.51,
                    1.5,
                    1.55,
                    1.51,
                    1.51,
                    1.6,
                    1.5,
                    1.51,
                    1.51,
                    1.5,
                    1.52,
                    1.61,
                    1.69,
                    1.61,
                    1.61,
                    1.53,
                    1.6,
                    1.72,
                    1.7,
                    0.38,
                    1.83,
                    0.41,
                    0.41,
                    0.41,
                    1.83,
                    0.4,
                    2.03,
                    2,
                    2.01,
                    1.92,
                    2.01,
                    2.03,
                    2,
                    2,
                    2,
                    2,
                    2,
                    2.03,
                    2,
                    2.51,
                    2.01,
                    2.01,
                    2.01,
                    2.05,
                    2.01,
                    2.11,
                    2.19,
                    2.03,
                    2.14,
                    2.08,
                    0.39,
                    0.42,
                    0.4,
                    0.4,
                    0.4,
                    0.43,
                    0.39,
                    0.31,
                    0.41,
                    0.41,
                    0.41,
                    0.41,
                    0.41,
                    0.31,
                    0.43,
                    0.42,
                    0.43,
                    0.45,
                    0.32,
                    0.32,
                    0.43,
                    0.4,
                    0.4,
                    0.41,
                    0.41,
                    0.41,
                    0.41,
                    0.33,
                    0.4,
                    0.43,
                    0.44,
                    0.36,
                    0.34,
                    0.34,
                    0.34,
                    0.5,
                    0.5,
                    0.52,
                    0.51,
                    0.5,
                    0.5,
                    0.5,
                    0.5,
                    0.5,
                    0.5,
                    0.51,
                    0.51,
                    0.5,
                    0.51,
                    0.52,
                    0.52,
                    0.52,
                    0.37,
                    0.55,
                    0.52,
                    0.5,
                    0.5,
                    0.5,
                    0.5,
                    0.53,
                    0.54,
                    0.53,
                    0.52,
                    0.53,
                    0.52,
                    0.51,
                    0.5,
                    0.5,
                    0.52,
                    0.51,
                    0.52,
                    0.53,
                    0.53,
                    0.58,
                    0.5,
                    0.55,
                    0.3,
                    0.51,
                    0.57,
                    0.67,
                    0.6,
                    0.6,
                    0.54,
                    0.56,
                    0.58,
                    0.51,
                    0.54,
                    0.59,
                    0.57,
                    0.59,
                    0.36,
                    0.59,
                    0.52,
                    0.58,
                    0.57,
                    0.6,
                    0.54,
                    0.62,
                    0.51,
                    0.62,
                    0.74,
                    0.66,
                    0.68,
                    0.7,
                    0.7,
                    0.73,
                    0.7,
                    0.71,
                    0.72,
                    0.74,
                    0.3,
                    0.7,
                    0.71,
                    0.7,
                    0.71,
                    0.37,
                    0.72,
                    0.71,
                    0.7,
                    0.7,
                    0.7,
                    0.7,
                    0.7,
                    0.7,
                    0.7,
                    0.74,
                    0.7,
                    0.7,
                    0.7,
                    0.7,
                    0.7,
                    0.7,
                    0.71,
                    0.7,
                    0.7,
                    0.73,
                    0.71,
                    0.72,
                    0.73,
                    0.75,
                    0.71,
                    0.71,
                    0.72,
                    0.75,
                    0.74,
                    0.73,
                    0.73,
                    0.71,
                    0.72,
                    0.73,
                    0.71,
                    0.7,
                    0.7,
                    0.7,
                    0.78,
                    0.7,
                    0.76,
                    0.72,
                    0.74,
                    0.72,
                    0.74,
                    0.8,
                    0.74,
                    0.72,
                    0.72,
                    0.72,
                    0.8,
                    0.75,
                    0.74,
                    0.81,
                    0.77
                  ],
                  "xaxis": "x",
                  "y": [
                    2799,
                    2804,
                    2831,
                    2894,
                    2930,
                    2941,
                    2963,
                    2966,
                    2975,
                    3002,
                    3015,
                    3059,
                    3070,
                    3084,
                    3084,
                    3084,
                    3125,
                    3139,
                    3139,
                    3150,
                    3187,
                    3239,
                    3342,
                    3379,
                    3418,
                    3438,
                    3438,
                    3449,
                    3482,
                    3526,
                    3527,
                    571,
                    3584,
                    3590,
                    3632,
                    3638,
                    3662,
                    3662,
                    3674,
                    3679,
                    3697,
                    3703,
                    3715,
                    3715,
                    3726,
                    3746,
                    3751,
                    3763,
                    3763,
                    3763,
                    3772,
                    3794,
                    3801,
                    3816,
                    3857,
                    3864,
                    3872,
                    3876,
                    3886,
                    3895,
                    3902,
                    3902,
                    3924,
                    3936,
                    3947,
                    3963,
                    3967,
                    3968,
                    3986,
                    4004,
                    4004,
                    4004,
                    4010,
                    4011,
                    4077,
                    4102,
                    4102,
                    4113,
                    4118,
                    4125,
                    4140,
                    4170,
                    4177,
                    4181,
                    4186,
                    4244,
                    4250,
                    4270,
                    4281,
                    4286,
                    4288,
                    4299,
                    4307,
                    4308,
                    4311,
                    4311,
                    4312,
                    4312,
                    4321,
                    4321,
                    4321,
                    4325,
                    4326,
                    4352,
                    4355,
                    4355,
                    4355,
                    4355,
                    4363,
                    4390,
                    4392,
                    4398,
                    4398,
                    4398,
                    4398,
                    4398,
                    4398,
                    4404,
                    4404,
                    4414,
                    4415,
                    4426,
                    4434,
                    4435,
                    4445,
                    4472,
                    4478,
                    4480,
                    4486,
                    4532,
                    4539,
                    4539,
                    4540,
                    4540,
                    4561,
                    4566,
                    4570,
                    4575,
                    4576,
                    4579,
                    4581,
                    4607,
                    4609,
                    4620,
                    4620,
                    4630,
                    590,
                    4656,
                    4666,
                    4666,
                    4668,
                    4668,
                    4685,
                    4704,
                    4763,
                    4769,
                    4777,
                    4780,
                    4781,
                    4797,
                    4824,
                    4840,
                    4851,
                    4857,
                    4914,
                    4915,
                    4972,
                    4975,
                    5014,
                    5018,
                    5034,
                    5035,
                    5052,
                    5065,
                    5073,
                    5088,
                    5147,
                    5163,
                    5165,
                    5193,
                    5236,
                    5257,
                    5304,
                    5340,
                    5393,
                    5593,
                    5645,
                    5739,
                    5805,
                    5976,
                    6073,
                    6130,
                    6300,
                    421,
                    611,
                    611,
                    7288,
                    7365,
                    7728,
                    7737,
                    7848,
                    7877,
                    8167,
                    8270,
                    622,
                    8288,
                    8291,
                    8538,
                    421,
                    421,
                    421,
                    8654,
                    8820,
                    8827,
                    8916,
                    8994,
                    9058,
                    9140,
                    9281,
                    9343,
                    9343,
                    9355,
                    9450,
                    9513,
                    9513,
                    9548,
                    9557,
                    9727,
                    9731,
                    9900,
                    9900,
                    9936,
                    10012,
                    10080,
                    10214,
                    10293,
                    10317,
                    10580,
                    10891,
                    11069,
                    11537,
                    11638,
                    12030,
                    633,
                    12379,
                    638,
                    638,
                    638,
                    13134,
                    644,
                    14646,
                    14763,
                    14813,
                    15364,
                    15618,
                    15690,
                    15840,
                    15864,
                    16064,
                    16064,
                    16380,
                    16412,
                    16462,
                    16717,
                    17024,
                    17024,
                    17118,
                    17138,
                    17759,
                    17871,
                    18067,
                    18115,
                    18125,
                    18128,
                    650,
                    653,
                    666,
                    666,
                    666,
                    671,
                    672,
                    435,
                    683,
                    683,
                    683,
                    683,
                    683,
                    435,
                    688,
                    700,
                    716,
                    731,
                    449,
                    449,
                    765,
                    798,
                    798,
                    818,
                    818,
                    818,
                    818,
                    463,
                    855,
                    858,
                    878,
                    471,
                    477,
                    477,
                    477,
                    1009,
                    1046,
                    1059,
                    1067,
                    1077,
                    1077,
                    1077,
                    1097,
                    1097,
                    1098,
                    1098,
                    1098,
                    1104,
                    1104,
                    1112,
                    1120,
                    1120,
                    493,
                    1145,
                    1146,
                    1154,
                    1154,
                    1154,
                    1154,
                    1160,
                    1163,
                    1167,
                    1173,
                    1174,
                    1175,
                    1180,
                    1181,
                    1181,
                    1190,
                    1195,
                    1200,
                    1227,
                    1227,
                    1234,
                    1235,
                    1238,
                    393,
                    1239,
                    1244,
                    1244,
                    1250,
                    1250,
                    1250,
                    1259,
                    1265,
                    1265,
                    1278,
                    1286,
                    1315,
                    1325,
                    505,
                    1362,
                    1372,
                    1377,
                    1384,
                    1385,
                    1415,
                    1426,
                    1427,
                    1624,
                    1632,
                    1769,
                    1821,
                    1894,
                    1964,
                    1975,
                    2066,
                    2123,
                    2125,
                    2179,
                    540,
                    2224,
                    2225,
                    2230,
                    2238,
                    541,
                    2252,
                    2256,
                    2257,
                    2263,
                    2263,
                    2263,
                    2263,
                    2273,
                    2281,
                    2282,
                    2290,
                    2298,
                    2298,
                    2307,
                    2310,
                    2310,
                    2313,
                    2324,
                    2335,
                    2335,
                    2343,
                    2345,
                    2359,
                    2363,
                    2368,
                    2375,
                    2376,
                    2383,
                    2391,
                    2395,
                    2395,
                    2397,
                    2401,
                    2409,
                    2423,
                    2453,
                    2453,
                    2464,
                    2512,
                    2514,
                    2530,
                    2573,
                    2574,
                    2608,
                    2617,
                    2623,
                    2638,
                    2651,
                    2655,
                    2688,
                    2715,
                    2719,
                    2728,
                    2735,
                    2753
                  ],
                  "yaxis": "y"
                },
                {
                  "hovertemplate": "cut=Good<br>carat=%{x}<br>price=%{y}<extra></extra>",
                  "legendgroup": "Good",
                  "marker": {
                    "color": "#FFA15A",
                    "opacity": 0.5,
                    "symbol": "circle"
                  },
                  "mode": "markers",
                  "name": "Good",
                  "showlegend": true,
                  "type": "scattergl",
                  "x": [
                    0.8,
                    0.9,
                    0.82,
                    0.9,
                    0.9,
                    0.9,
                    0.92,
                    0.9,
                    0.89,
                    0.9,
                    0.9,
                    0.9,
                    1,
                    0.91,
                    0.91,
                    1.01,
                    0.9,
                    0.9,
                    0.9,
                    0.9,
                    0.9,
                    1.01,
                    0.91,
                    0.9,
                    1,
                    0.9,
                    0.9,
                    1.01,
                    0.92,
                    1,
                    1,
                    1,
                    1.02,
                    1,
                    1,
                    0.9,
                    1,
                    1,
                    1.1,
                    1.18,
                    1,
                    1.01,
                    1.01,
                    1.01,
                    1.01,
                    1,
                    1.05,
                    1.03,
                    1.06,
                    1,
                    1,
                    1.01,
                    1.04,
                    1,
                    1,
                    1.06,
                    1.01,
                    1,
                    1.02,
                    1,
                    1.01,
                    1.02,
                    1.01,
                    1.01,
                    1.07,
                    1.02,
                    1.01,
                    1,
                    1.01,
                    0.4,
                    0.35,
                    1.11,
                    1.01,
                    1,
                    1.08,
                    1.01,
                    1.01,
                    1.02,
                    1.02,
                    1.08,
                    1.01,
                    1.01,
                    1.2,
                    1.21,
                    1.24,
                    1.5,
                    1.36,
                    0.34,
                    1.51,
                    0.4,
                    1.53,
                    1.42,
                    0.4,
                    0.4,
                    0.4,
                    1.5,
                    0.3,
                    1.5,
                    1.5,
                    1.5,
                    1.5,
                    1.5,
                    1.51,
                    1.51,
                    0.35,
                    1.61,
                    1.51,
                    0.41,
                    0.41,
                    0.41,
                    0.41,
                    0.41,
                    2,
                    2.01,
                    2,
                    2,
                    2,
                    2.01,
                    2.01,
                    2.01,
                    2,
                    2.02,
                    0.36,
                    0.4,
                    0.43,
                    0.43,
                    0.45,
                    0.44,
                    0.34,
                    0.35,
                    0.4,
                    0.4,
                    0.41,
                    0.47,
                    0.43,
                    0.34,
                    0.5,
                    0.5,
                    0.5,
                    0.5,
                    0.64,
                    0.35,
                    0.5,
                    0.5,
                    0.54,
                    0.52,
                    0.53,
                    0.51,
                    0.53,
                    0.53,
                    0.53,
                    0.54,
                    0.54,
                    0.56,
                    0.5,
                    0.52,
                    0.57,
                    0.52,
                    0.54,
                    0.36,
                    0.59,
                    0.62,
                    0.61,
                    0.7,
                    0.71,
                    0.71,
                    0.7,
                    0.71,
                    0.7,
                    0.7,
                    0.77,
                    0.7,
                    0.7,
                    0.7,
                    0.7,
                    0.7,
                    0.71,
                    0.7,
                    0.7,
                    0.71,
                    0.71,
                    0.7,
                    0.7,
                    0.75,
                    0.7,
                    0.72,
                    0.7,
                    0.78,
                    0.77,
                    0.78,
                    0.73,
                    0.71,
                    0.7,
                    0.7,
                    0.75,
                    0.7,
                    0.75,
                    0.8,
                    0.8,
                    0.76,
                    0.75,
                    0.89
                  ],
                  "xaxis": "x",
                  "y": [
                    2829,
                    2982,
                    3050,
                    3084,
                    3139,
                    3139,
                    3153,
                    3218,
                    3284,
                    3401,
                    3401,
                    3422,
                    3450,
                    3520,
                    3538,
                    3546,
                    3584,
                    3595,
                    3595,
                    3595,
                    3595,
                    3611,
                    3632,
                    3660,
                    3696,
                    3724,
                    3736,
                    3737,
                    3744,
                    3752,
                    3763,
                    3819,
                    3838,
                    3880,
                    3889,
                    3895,
                    4004,
                    4026,
                    4065,
                    4071,
                    4077,
                    4118,
                    4149,
                    4168,
                    4171,
                    4184,
                    4204,
                    4250,
                    4257,
                    4258,
                    4265,
                    4285,
                    4290,
                    4307,
                    4312,
                    4321,
                    4355,
                    4394,
                    4398,
                    4400,
                    4413,
                    4414,
                    4436,
                    4440,
                    4453,
                    4478,
                    4479,
                    4496,
                    4506,
                    588,
                    588,
                    4532,
                    4566,
                    4620,
                    4656,
                    4666,
                    4685,
                    4712,
                    4712,
                    4742,
                    4751,
                    4807,
                    5544,
                    5787,
                    5809,
                    6300,
                    6397,
                    612,
                    7314,
                    617,
                    7643,
                    8019,
                    622,
                    622,
                    622,
                    8492,
                    421,
                    8910,
                    8910,
                    9072,
                    9281,
                    9281,
                    9343,
                    9833,
                    630,
                    10793,
                    10884,
                    638,
                    638,
                    638,
                    638,
                    638,
                    13320,
                    15255,
                    15393,
                    15962,
                    16206,
                    16582,
                    16733,
                    17115,
                    17760,
                    18236,
                    648,
                    666,
                    669,
                    669,
                    680,
                    684,
                    445,
                    454,
                    798,
                    798,
                    818,
                    844,
                    858,
                    477,
                    1000,
                    1077,
                    1077,
                    1077,
                    1080,
                    491,
                    1098,
                    1101,
                    1112,
                    1120,
                    1127,
                    1130,
                    1140,
                    1141,
                    1141,
                    1163,
                    1163,
                    1172,
                    1181,
                    1199,
                    1214,
                    1229,
                    1250,
                    505,
                    1327,
                    1333,
                    1408,
                    1758,
                    1783,
                    1783,
                    1793,
                    1816,
                    1860,
                    1929,
                    2005,
                    2026,
                    2028,
                    2032,
                    2092,
                    2116,
                    2120,
                    2159,
                    2192,
                    2215,
                    2226,
                    2229,
                    2239,
                    2278,
                    2307,
                    2308,
                    2310,
                    2363,
                    2371,
                    2379,
                    2388,
                    2390,
                    2405,
                    2435,
                    2453,
                    2453,
                    2497,
                    2542,
                    2640,
                    2680,
                    2702,
                    2728
                  ],
                  "yaxis": "y"
                }
              ],
              "layout": {
                "legend": {
                  "title": {
                    "text": "Diamond cut"
                  },
                  "tracegroupgap": 0
                },
                "template": {
                  "data": {
                    "bar": [
                      {
                        "error_x": {
                          "color": "#2a3f5f"
                        },
                        "error_y": {
                          "color": "#2a3f5f"
                        },
                        "marker": {
                          "line": {
                            "color": "#E5ECF6",
                            "width": 0.5
                          },
                          "pattern": {
                            "fillmode": "overlay",
                            "size": 10,
                            "solidity": 0.2
                          }
                        },
                        "type": "bar"
                      }
                    ],
                    "barpolar": [
                      {
                        "marker": {
                          "line": {
                            "color": "#E5ECF6",
                            "width": 0.5
                          },
                          "pattern": {
                            "fillmode": "overlay",
                            "size": 10,
                            "solidity": 0.2
                          }
                        },
                        "type": "barpolar"
                      }
                    ],
                    "carpet": [
                      {
                        "aaxis": {
                          "endlinecolor": "#2a3f5f",
                          "gridcolor": "white",
                          "linecolor": "white",
                          "minorgridcolor": "white",
                          "startlinecolor": "#2a3f5f"
                        },
                        "baxis": {
                          "endlinecolor": "#2a3f5f",
                          "gridcolor": "white",
                          "linecolor": "white",
                          "minorgridcolor": "white",
                          "startlinecolor": "#2a3f5f"
                        },
                        "type": "carpet"
                      }
                    ],
                    "choropleth": [
                      {
                        "colorbar": {
                          "outlinewidth": 0,
                          "ticks": ""
                        },
                        "type": "choropleth"
                      }
                    ],
                    "contour": [
                      {
                        "colorbar": {
                          "outlinewidth": 0,
                          "ticks": ""
                        },
                        "colorscale": [
                          [
                            0,
                            "#0d0887"
                          ],
                          [
                            0.1111111111111111,
                            "#46039f"
                          ],
                          [
                            0.2222222222222222,
                            "#7201a8"
                          ],
                          [
                            0.3333333333333333,
                            "#9c179e"
                          ],
                          [
                            0.4444444444444444,
                            "#bd3786"
                          ],
                          [
                            0.5555555555555556,
                            "#d8576b"
                          ],
                          [
                            0.6666666666666666,
                            "#ed7953"
                          ],
                          [
                            0.7777777777777778,
                            "#fb9f3a"
                          ],
                          [
                            0.8888888888888888,
                            "#fdca26"
                          ],
                          [
                            1,
                            "#f0f921"
                          ]
                        ],
                        "type": "contour"
                      }
                    ],
                    "contourcarpet": [
                      {
                        "colorbar": {
                          "outlinewidth": 0,
                          "ticks": ""
                        },
                        "type": "contourcarpet"
                      }
                    ],
                    "heatmap": [
                      {
                        "colorbar": {
                          "outlinewidth": 0,
                          "ticks": ""
                        },
                        "colorscale": [
                          [
                            0,
                            "#0d0887"
                          ],
                          [
                            0.1111111111111111,
                            "#46039f"
                          ],
                          [
                            0.2222222222222222,
                            "#7201a8"
                          ],
                          [
                            0.3333333333333333,
                            "#9c179e"
                          ],
                          [
                            0.4444444444444444,
                            "#bd3786"
                          ],
                          [
                            0.5555555555555556,
                            "#d8576b"
                          ],
                          [
                            0.6666666666666666,
                            "#ed7953"
                          ],
                          [
                            0.7777777777777778,
                            "#fb9f3a"
                          ],
                          [
                            0.8888888888888888,
                            "#fdca26"
                          ],
                          [
                            1,
                            "#f0f921"
                          ]
                        ],
                        "type": "heatmap"
                      }
                    ],
                    "heatmapgl": [
                      {
                        "colorbar": {
                          "outlinewidth": 0,
                          "ticks": ""
                        },
                        "colorscale": [
                          [
                            0,
                            "#0d0887"
                          ],
                          [
                            0.1111111111111111,
                            "#46039f"
                          ],
                          [
                            0.2222222222222222,
                            "#7201a8"
                          ],
                          [
                            0.3333333333333333,
                            "#9c179e"
                          ],
                          [
                            0.4444444444444444,
                            "#bd3786"
                          ],
                          [
                            0.5555555555555556,
                            "#d8576b"
                          ],
                          [
                            0.6666666666666666,
                            "#ed7953"
                          ],
                          [
                            0.7777777777777778,
                            "#fb9f3a"
                          ],
                          [
                            0.8888888888888888,
                            "#fdca26"
                          ],
                          [
                            1,
                            "#f0f921"
                          ]
                        ],
                        "type": "heatmapgl"
                      }
                    ],
                    "histogram": [
                      {
                        "marker": {
                          "pattern": {
                            "fillmode": "overlay",
                            "size": 10,
                            "solidity": 0.2
                          }
                        },
                        "type": "histogram"
                      }
                    ],
                    "histogram2d": [
                      {
                        "colorbar": {
                          "outlinewidth": 0,
                          "ticks": ""
                        },
                        "colorscale": [
                          [
                            0,
                            "#0d0887"
                          ],
                          [
                            0.1111111111111111,
                            "#46039f"
                          ],
                          [
                            0.2222222222222222,
                            "#7201a8"
                          ],
                          [
                            0.3333333333333333,
                            "#9c179e"
                          ],
                          [
                            0.4444444444444444,
                            "#bd3786"
                          ],
                          [
                            0.5555555555555556,
                            "#d8576b"
                          ],
                          [
                            0.6666666666666666,
                            "#ed7953"
                          ],
                          [
                            0.7777777777777778,
                            "#fb9f3a"
                          ],
                          [
                            0.8888888888888888,
                            "#fdca26"
                          ],
                          [
                            1,
                            "#f0f921"
                          ]
                        ],
                        "type": "histogram2d"
                      }
                    ],
                    "histogram2dcontour": [
                      {
                        "colorbar": {
                          "outlinewidth": 0,
                          "ticks": ""
                        },
                        "colorscale": [
                          [
                            0,
                            "#0d0887"
                          ],
                          [
                            0.1111111111111111,
                            "#46039f"
                          ],
                          [
                            0.2222222222222222,
                            "#7201a8"
                          ],
                          [
                            0.3333333333333333,
                            "#9c179e"
                          ],
                          [
                            0.4444444444444444,
                            "#bd3786"
                          ],
                          [
                            0.5555555555555556,
                            "#d8576b"
                          ],
                          [
                            0.6666666666666666,
                            "#ed7953"
                          ],
                          [
                            0.7777777777777778,
                            "#fb9f3a"
                          ],
                          [
                            0.8888888888888888,
                            "#fdca26"
                          ],
                          [
                            1,
                            "#f0f921"
                          ]
                        ],
                        "type": "histogram2dcontour"
                      }
                    ],
                    "mesh3d": [
                      {
                        "colorbar": {
                          "outlinewidth": 0,
                          "ticks": ""
                        },
                        "type": "mesh3d"
                      }
                    ],
                    "parcoords": [
                      {
                        "line": {
                          "colorbar": {
                            "outlinewidth": 0,
                            "ticks": ""
                          }
                        },
                        "type": "parcoords"
                      }
                    ],
                    "pie": [
                      {
                        "automargin": true,
                        "type": "pie"
                      }
                    ],
                    "scatter": [
                      {
                        "fillpattern": {
                          "fillmode": "overlay",
                          "size": 10,
                          "solidity": 0.2
                        },
                        "type": "scatter"
                      }
                    ],
                    "scatter3d": [
                      {
                        "line": {
                          "colorbar": {
                            "outlinewidth": 0,
                            "ticks": ""
                          }
                        },
                        "marker": {
                          "colorbar": {
                            "outlinewidth": 0,
                            "ticks": ""
                          }
                        },
                        "type": "scatter3d"
                      }
                    ],
                    "scattercarpet": [
                      {
                        "marker": {
                          "colorbar": {
                            "outlinewidth": 0,
                            "ticks": ""
                          }
                        },
                        "type": "scattercarpet"
                      }
                    ],
                    "scattergeo": [
                      {
                        "marker": {
                          "colorbar": {
                            "outlinewidth": 0,
                            "ticks": ""
                          }
                        },
                        "type": "scattergeo"
                      }
                    ],
                    "scattergl": [
                      {
                        "marker": {
                          "colorbar": {
                            "outlinewidth": 0,
                            "ticks": ""
                          }
                        },
                        "type": "scattergl"
                      }
                    ],
                    "scattermapbox": [
                      {
                        "marker": {
                          "colorbar": {
                            "outlinewidth": 0,
                            "ticks": ""
                          }
                        },
                        "type": "scattermapbox"
                      }
                    ],
                    "scatterpolar": [
                      {
                        "marker": {
                          "colorbar": {
                            "outlinewidth": 0,
                            "ticks": ""
                          }
                        },
                        "type": "scatterpolar"
                      }
                    ],
                    "scatterpolargl": [
                      {
                        "marker": {
                          "colorbar": {
                            "outlinewidth": 0,
                            "ticks": ""
                          }
                        },
                        "type": "scatterpolargl"
                      }
                    ],
                    "scatterternary": [
                      {
                        "marker": {
                          "colorbar": {
                            "outlinewidth": 0,
                            "ticks": ""
                          }
                        },
                        "type": "scatterternary"
                      }
                    ],
                    "surface": [
                      {
                        "colorbar": {
                          "outlinewidth": 0,
                          "ticks": ""
                        },
                        "colorscale": [
                          [
                            0,
                            "#0d0887"
                          ],
                          [
                            0.1111111111111111,
                            "#46039f"
                          ],
                          [
                            0.2222222222222222,
                            "#7201a8"
                          ],
                          [
                            0.3333333333333333,
                            "#9c179e"
                          ],
                          [
                            0.4444444444444444,
                            "#bd3786"
                          ],
                          [
                            0.5555555555555556,
                            "#d8576b"
                          ],
                          [
                            0.6666666666666666,
                            "#ed7953"
                          ],
                          [
                            0.7777777777777778,
                            "#fb9f3a"
                          ],
                          [
                            0.8888888888888888,
                            "#fdca26"
                          ],
                          [
                            1,
                            "#f0f921"
                          ]
                        ],
                        "type": "surface"
                      }
                    ],
                    "table": [
                      {
                        "cells": {
                          "fill": {
                            "color": "#EBF0F8"
                          },
                          "line": {
                            "color": "white"
                          }
                        },
                        "header": {
                          "fill": {
                            "color": "#C8D4E3"
                          },
                          "line": {
                            "color": "white"
                          }
                        },
                        "type": "table"
                      }
                    ]
                  },
                  "layout": {
                    "annotationdefaults": {
                      "arrowcolor": "#2a3f5f",
                      "arrowhead": 0,
                      "arrowwidth": 1
                    },
                    "autotypenumbers": "strict",
                    "coloraxis": {
                      "colorbar": {
                        "outlinewidth": 0,
                        "ticks": ""
                      }
                    },
                    "colorscale": {
                      "diverging": [
                        [
                          0,
                          "#8e0152"
                        ],
                        [
                          0.1,
                          "#c51b7d"
                        ],
                        [
                          0.2,
                          "#de77ae"
                        ],
                        [
                          0.3,
                          "#f1b6da"
                        ],
                        [
                          0.4,
                          "#fde0ef"
                        ],
                        [
                          0.5,
                          "#f7f7f7"
                        ],
                        [
                          0.6,
                          "#e6f5d0"
                        ],
                        [
                          0.7,
                          "#b8e186"
                        ],
                        [
                          0.8,
                          "#7fbc41"
                        ],
                        [
                          0.9,
                          "#4d9221"
                        ],
                        [
                          1,
                          "#276419"
                        ]
                      ],
                      "sequential": [
                        [
                          0,
                          "#0d0887"
                        ],
                        [
                          0.1111111111111111,
                          "#46039f"
                        ],
                        [
                          0.2222222222222222,
                          "#7201a8"
                        ],
                        [
                          0.3333333333333333,
                          "#9c179e"
                        ],
                        [
                          0.4444444444444444,
                          "#bd3786"
                        ],
                        [
                          0.5555555555555556,
                          "#d8576b"
                        ],
                        [
                          0.6666666666666666,
                          "#ed7953"
                        ],
                        [
                          0.7777777777777778,
                          "#fb9f3a"
                        ],
                        [
                          0.8888888888888888,
                          "#fdca26"
                        ],
                        [
                          1,
                          "#f0f921"
                        ]
                      ],
                      "sequentialminus": [
                        [
                          0,
                          "#0d0887"
                        ],
                        [
                          0.1111111111111111,
                          "#46039f"
                        ],
                        [
                          0.2222222222222222,
                          "#7201a8"
                        ],
                        [
                          0.3333333333333333,
                          "#9c179e"
                        ],
                        [
                          0.4444444444444444,
                          "#bd3786"
                        ],
                        [
                          0.5555555555555556,
                          "#d8576b"
                        ],
                        [
                          0.6666666666666666,
                          "#ed7953"
                        ],
                        [
                          0.7777777777777778,
                          "#fb9f3a"
                        ],
                        [
                          0.8888888888888888,
                          "#fdca26"
                        ],
                        [
                          1,
                          "#f0f921"
                        ]
                      ]
                    },
                    "colorway": [
                      "#636efa",
                      "#EF553B",
                      "#00cc96",
                      "#ab63fa",
                      "#FFA15A",
                      "#19d3f3",
                      "#FF6692",
                      "#B6E880",
                      "#FF97FF",
                      "#FECB52"
                    ],
                    "font": {
                      "color": "#2a3f5f"
                    },
                    "geo": {
                      "bgcolor": "white",
                      "lakecolor": "white",
                      "landcolor": "#E5ECF6",
                      "showlakes": true,
                      "showland": true,
                      "subunitcolor": "white"
                    },
                    "hoverlabel": {
                      "align": "left"
                    },
                    "hovermode": "closest",
                    "mapbox": {
                      "style": "light"
                    },
                    "paper_bgcolor": "white",
                    "plot_bgcolor": "#E5ECF6",
                    "polar": {
                      "angularaxis": {
                        "gridcolor": "white",
                        "linecolor": "white",
                        "ticks": ""
                      },
                      "bgcolor": "#E5ECF6",
                      "radialaxis": {
                        "gridcolor": "white",
                        "linecolor": "white",
                        "ticks": ""
                      }
                    },
                    "scene": {
                      "xaxis": {
                        "backgroundcolor": "#E5ECF6",
                        "gridcolor": "white",
                        "gridwidth": 2,
                        "linecolor": "white",
                        "showbackground": true,
                        "ticks": "",
                        "zerolinecolor": "white"
                      },
                      "yaxis": {
                        "backgroundcolor": "#E5ECF6",
                        "gridcolor": "white",
                        "gridwidth": 2,
                        "linecolor": "white",
                        "showbackground": true,
                        "ticks": "",
                        "zerolinecolor": "white"
                      },
                      "zaxis": {
                        "backgroundcolor": "#E5ECF6",
                        "gridcolor": "white",
                        "gridwidth": 2,
                        "linecolor": "white",
                        "showbackground": true,
                        "ticks": "",
                        "zerolinecolor": "white"
                      }
                    },
                    "shapedefaults": {
                      "line": {
                        "color": "#2a3f5f"
                      }
                    },
                    "ternary": {
                      "aaxis": {
                        "gridcolor": "white",
                        "linecolor": "white",
                        "ticks": ""
                      },
                      "baxis": {
                        "gridcolor": "white",
                        "linecolor": "white",
                        "ticks": ""
                      },
                      "bgcolor": "#E5ECF6",
                      "caxis": {
                        "gridcolor": "white",
                        "linecolor": "white",
                        "ticks": ""
                      }
                    },
                    "title": {
                      "x": 0.05
                    },
                    "xaxis": {
                      "automargin": true,
                      "gridcolor": "white",
                      "linecolor": "white",
                      "ticks": "",
                      "title": {
                        "standoff": 15
                      },
                      "zerolinecolor": "white",
                      "zerolinewidth": 2
                    },
                    "yaxis": {
                      "automargin": true,
                      "gridcolor": "white",
                      "linecolor": "white",
                      "ticks": "",
                      "title": {
                        "standoff": 15
                      },
                      "zerolinecolor": "white",
                      "zerolinewidth": 2
                    }
                  }
                },
                "title": {
                  "text": "Relationship between the carat (size of diamond) and price"
                },
                "xaxis": {
                  "anchor": "y",
                  "domain": [
                    0,
                    1
                  ],
                  "title": {
                    "text": "Diamond carat(size)"
                  }
                },
                "yaxis": {
                  "anchor": "x",
                  "domain": [
                    0,
                    1
                  ],
                  "title": {
                    "text": "Price($)"
                  }
                }
              }
            },
            "text/html": [
              "<div>                            <div id=\"0f7e83fb-5c1e-4f3d-aa40-36957ff65c6c\" class=\"plotly-graph-div\" style=\"height:525px; width:100%;\"></div>            <script type=\"text/javascript\">                require([\"plotly\"], function(Plotly) {                    window.PLOTLYENV=window.PLOTLYENV || {};                                    if (document.getElementById(\"0f7e83fb-5c1e-4f3d-aa40-36957ff65c6c\")) {                    Plotly.newPlot(                        \"0f7e83fb-5c1e-4f3d-aa40-36957ff65c6c\",                        [{\"hovertemplate\":\"cut=Ideal<br>carat=%{x}<br>price=%{y}<extra></extra>\",\"legendgroup\":\"Ideal\",\"marker\":{\"color\":\"#636efa\",\"opacity\":0.5,\"symbol\":\"circle\"},\"mode\":\"markers\",\"name\":\"Ideal\",\"showlegend\":true,\"x\":[0.23,0.74,0.73,0.77,0.81,0.83,0.76,0.73,0.81,0.31,0.31,0.31,0.82,0.81,0.8,0.72,0.8,0.76,0.82,0.81,0.81,0.81,0.83,0.81,0.78,0.81,0.83,0.83,0.75,0.82,0.83,0.85,0.9,0.8,0.82,0.88,0.79,0.89,0.85,1.0,1.0,1.02,0.86,0.87,1.04,0.9,0.9,0.91,0.91,0.91,1.09,0.91,0.91,0.85,0.91,0.9,0.9,0.86,1.12,0.89,0.91,0.91,0.94,0.92,0.92,0.92,0.9,0.32,0.32,0.91,0.91,1.06,0.93,0.92,0.92,0.92,0.9,0.32,1.01,0.95,1.1,1.0,1.0,0.97,0.9,1.03,1.01,0.91,0.9,1.11,1.03,1.13,0.92,1.01,0.94,1.07,1.02,1.01,1.01,1.03,1.02,1.02,1.02,1.02,1.01,1.01,1.03,1.02,1.07,1.02,1.01,1.07,1.0,1.02,1.01,1.01,1.01,1.01,1.01,1.07,1.02,1.05,1.0,1.01,1.01,1.01,1.01,1.03,1.0,1.0,0.9,1.01,1.01,1.02,1.02,1.02,1.07,1.04,1.04,1.0,1.0,1.01,0.91,1.02,1.1,1.0,1.01,1.03,0.93,0.92,1.01,1.18,1.04,1.04,1.02,1.01,1.26,1.11,1.11,0.94,1.22,1.02,1.01,1.08,1.12,1.16,1.16,1.11,1.14,1.09,1.09,1.09,1.04,1.08,1.1,1.16,1.16,1.13,1.04,1.09,1.09,1.06,1.04,1.1,1.06,1.11,1.1,1.2,1.07,1.06,1.07,1.11,1.1,1.07,1.01,1.24,1.13,1.14,1.03,1.2,1.19,1.04,1.12,1.19,1.07,0.38,1.07,1.19,1.19,1.11,1.11,1.2,1.16,1.2,1.07,1.12,1.23,1.18,1.22,1.27,1.23,1.29,1.26,0.31,1.25,0.34,1.09,1.55,0.34,0.34,1.2,1.27,1.32,0.39,1.51,1.25,1.23,1.52,1.46,1.65,1.56,0.41,1.48,1.7,1.52,1.51,1.52,1.61,0.38,0.38,1.74,1.51,1.51,1.53,1.63,1.57,1.57,1.51,1.53,0.4,0.4,0.4,0.4,0.35,1.66,1.51,1.6,1.51,0.35,1.61,1.59,1.61,1.59,1.68,1.71,1.68,1.7,2.0,1.71,2.14,1.71,1.83,2.01,2.03,0.4,0.32,0.33,0.33,0.32,0.32,2.0,2.28,2.16,2.01,2.01,2.08,0.41,0.38,0.4,0.31,0.4,0.41,0.41,0.41,0.31,0.31,0.42,0.4,0.44,0.42,0.45,0.43,0.43,0.32,0.32,0.41,0.34,0.34,0.34,0.32,0.38,0.41,0.4,0.46,0.41,0.41,0.41,0.41,0.42,0.42,0.42,0.43,0.43,0.47,0.46,0.34,0.34,0.35,0.35,0.51,0.5,0.5,0.54,0.46,0.51,0.52,0.5,0.5,0.54,0.51,0.51,0.5,0.5,0.5,0.51,0.55,0.53,0.53,0.53,0.52,0.52,0.58,0.5,0.5,0.5,0.57,0.54,0.54,0.54,0.59,0.54,0.53,0.51,0.54,0.51,0.55,0.55,0.59,0.52,0.56,0.52,0.59,0.53,0.54,0.54,0.54,0.58,0.57,0.5,0.58,0.61,0.6,0.51,0.58,0.52,0.53,0.66,0.66,0.71,0.73,0.7,0.7,0.73,0.71,0.7,0.75,0.7,0.3,0.3,0.3,0.3,0.72,0.7,0.7,0.72,0.71,0.78,0.72,0.72,0.77,0.71,0.7,0.7,0.71,0.72,0.72,0.7,0.71,0.72,0.7,0.73,0.73,0.73,0.73,0.7,0.7,0.71,0.74,0.73,0.71,0.7,0.74,0.74,0.71,0.71,0.77,0.72,0.72,0.71,0.73,0.81,0.7,0.77,0.73,0.73,0.74,0.78,0.75,0.74,0.71,0.82,0.81,0.72,0.77,0.76,0.76,0.76,0.77,0.77],\"xaxis\":\"x\",\"y\":[326,2761,2805,2834,2864,2870,2873,2896,2901,558,558,558,2937,2938,2939,2939,2978,2978,3012,3013,3013,3015,3049,3050,3053,3101,3103,3125,3129,3131,3143,3189,3200,3251,3328,3329,3390,3429,3441,3450,3450,3455,3478,3566,3588,3599,3662,3723,3723,3756,3760,3772,3774,3787,3800,3804,3808,3828,3864,3872,3898,3898,3915,3941,3941,3941,3958,576,576,3968,3968,3977,3990,4011,4011,4011,4034,576,4044,4068,4071,4077,4077,4078,4091,4095,4118,4160,4191,4196,4199,4303,4309,4355,4366,4374,4398,4434,4434,4441,4465,4478,4478,4478,4479,4504,4522,4547,4564,4585,4604,4613,4623,4645,4666,4666,4666,4668,4694,4698,4712,4714,4743,4751,4751,4751,4751,4758,4760,4766,4770,4787,4788,4798,4798,4798,4799,4804,4804,4808,4808,4808,4821,4824,4829,4829,4832,4845,4858,4871,4875,4885,4892,4892,4912,4921,4939,4969,4969,4972,4974,4983,4984,4989,5000,5001,5001,5004,5005,5035,5035,5042,5067,5080,5082,5093,5093,5120,5125,5127,5127,5147,5163,5174,5223,5262,5263,5268,5280,5319,5325,5358,5359,5393,5437,5444,5457,5473,5491,5494,5497,5531,5546,5598,5602,603,5704,5717,5822,5938,5962,5964,5991,6006,6060,6168,6288,6328,6343,6383,6403,6473,6477,421,6670,612,6852,6901,612,612,7018,7023,7037,614,7272,7289,7336,8299,8421,8455,8518,625,8818,9139,9405,9513,9576,9961,628,628,10085,10147,10210,10339,10357,10362,10550,10588,10698,629,629,629,629,630,10754,10781,10798,10935,630,11090,11149,11220,11251,11781,11816,11888,11924,12210,12978,13065,13097,13254,13387,14308,644,427,427,427,427,427,16650,16969,17263,17688,17849,18128,654,663,666,435,679,683,683,683,435,435,687,689,691,700,706,716,716,449,449,760,454,454,454,456,812,818,855,870,876,876,876,876,882,898,898,919,919,931,935,477,477,491,491,1098,1104,1104,1111,1116,1128,1146,1154,1154,1163,1170,1177,1181,1181,1185,1205,1221,1223,1229,1229,1229,1232,1234,1240,1240,1240,1244,1246,1246,1246,1248,1250,1262,1265,1266,1268,1273,1273,1286,1290,1296,1299,1305,1315,1340,1340,1340,1346,1357,1359,1359,1368,1385,1385,1392,1412,1438,1560,1584,1991,2059,2061,2100,2155,2190,2239,2278,2283,401,401,401,401,2308,2332,2332,2337,2340,2340,2345,2355,2360,2370,2375,2376,2388,2398,2398,2398,2398,2401,2405,2431,2431,2434,2434,2436,2453,2458,2464,2467,2470,2475,2501,2501,2511,2511,2519,2526,2530,2550,2559,2559,2560,2563,2581,2581,2594,2596,2609,2617,2619,2668,2673,2674,2677,2680,2680,2680,2689,2753],\"yaxis\":\"y\",\"type\":\"scattergl\"},{\"hovertemplate\":\"cut=Premium<br>carat=%{x}<br>price=%{y}<extra></extra>\",\"legendgroup\":\"Premium\",\"marker\":{\"color\":\"#EF553B\",\"opacity\":0.5,\"symbol\":\"circle\"},\"mode\":\"markers\",\"name\":\"Premium\",\"showlegend\":true,\"x\":[0.2,0.82,0.75,0.8,0.83,0.82,0.79,0.81,0.31,0.8,0.96,0.31,0.31,0.96,0.9,0.9,0.9,0.84,0.91,0.91,1.04,1.04,1.0,1.0,1.0,0.9,0.9,1.0,0.91,0.91,0.91,0.9,0.9,0.9,1.01,0.92,0.9,0.91,0.91,1.0,0.94,1.0,1.01,1.01,1.01,0.9,0.94,0.9,0.91,0.9,0.9,1.03,1.05,0.91,1.13,0.95,1.04,0.9,1.01,0.92,0.92,1.05,0.32,0.32,0.93,1.06,0.92,1.0,0.94,0.32,0.32,1.13,1.01,1.01,0.95,1.03,1.0,1.0,1.0,1.0,1.01,0.94,1.09,0.96,1.0,1.01,0.9,1.05,0.95,1.04,1.11,1.11,1.0,1.0,1.1,1.0,1.12,1.04,1.04,1.15,0.93,1.12,1.24,1.24,1.07,1.01,1.15,1.15,1.03,1.01,1.07,1.04,1.01,1.0,1.0,1.01,1.01,1.01,1.04,1.03,1.09,0.96,1.02,0.98,1.02,1.02,1.02,1.02,1.04,1.0,1.03,1.04,1.0,1.11,1.0,1.0,1.0,1.1,1.0,1.06,1.06,1.08,1.11,1.01,1.01,1.24,1.01,1.15,1.1,1.15,1.0,1.0,1.0,1.0,1.03,1.06,1.05,1.05,1.08,1.01,1.01,1.01,1.01,1.01,1.03,1.01,1.1,1.03,0.33,1.01,1.03,1.04,0.33,0.38,1.01,1.21,1.13,1.05,1.07,1.07,1.1,1.1,1.22,1.03,1.22,1.02,1.07,1.07,1.26,1.09,1.09,1.11,1.1,1.31,1.18,1.15,1.13,1.2,1.13,1.05,1.28,1.12,0.36,1.3,1.35,1.2,1.21,1.23,1.59,1.22,1.21,1.21,1.26,1.22,1.22,1.4,1.23,1.21,1.22,1.33,1.51,1.22,1.24,1.2,1.37,0.34,1.33,0.34,0.34,0.34,0.34,0.34,1.33,1.55,1.5,1.39,1.33,1.36,1.39,1.5,1.51,1.36,1.58,1.54,1.5,1.51,1.5,1.5,1.5,1.54,1.52,1.64,1.51,1.5,1.53,1.52,1.5,1.5,1.59,1.5,1.52,1.51,1.5,1.5,1.51,1.62,1.62,1.52,1.76,1.7,1.52,1.5,1.56,1.5,1.5,1.5,1.56,1.52,2.46,1.6,1.66,1.51,1.78,0.35,0.35,1.75,1.75,1.83,2.0,2.01,0.4,1.81,2.02,2.07,2.07,2.12,2.01,2.02,2.06,2.01,2.04,2.08,2.0,2.01,2.1,2.05,2.05,2.57,2.71,2.01,2.01,2.05,2.05,2.04,2.0,2.02,2.02,2.11,2.02,2.12,2.19,2.14,2.03,2.0,2.03,0.36,0.36,0.36,0.42,0.37,0.4,0.35,0.41,0.41,0.41,0.31,0.43,0.43,0.43,0.32,0.32,0.32,0.41,0.42,0.39,0.4,0.38,0.42,0.41,0.41,0.4,0.33,0.39,0.42,0.42,0.4,0.4,0.4,0.4,0.3,0.41,0.41,0.41,0.41,0.41,0.41,0.41,0.43,0.43,0.43,0.43,0.43,0.36,0.34,0.34,0.34,0.34,0.49,0.41,0.53,0.53,0.53,0.53,0.48,0.49,0.44,0.57,0.57,0.5,0.47,0.35,0.35,0.52,0.5,0.5,0.55,0.53,0.5,0.63,0.51,0.5,0.5,0.5,0.55,0.59,0.51,0.51,0.51,0.56,0.51,0.53,0.57,0.52,0.59,0.3,0.5,0.5,0.5,0.5,0.54,0.5,0.51,0.51,0.55,0.62,0.55,0.5,0.62,0.51,0.56,0.57,0.57,0.36,0.36,0.55,0.57,0.6,0.36,0.21,0.62,0.62,0.65,0.61,0.63,0.72,0.65,0.74,0.72,0.7,0.71,0.72,0.7,0.7,0.3,0.7,0.77,0.3,0.3,0.3,0.3,0.75,0.7,0.71,0.73,0.71,0.7,0.7,0.73,0.76,0.8,0.71,0.71,0.7,0.7,0.72,0.71,0.76,0.82,0.73,0.7,0.71,0.73,0.7,0.71,0.72,0.77,0.81,0.75,0.72,0.7,0.7,0.72,0.71,0.76,0.73,0.71,0.7,0.74,0.71,0.76,0.7,0.7,0.7,0.74,0.77,0.74,0.83,0.74,0.81,0.84,0.76,0.82,0.74,0.77,0.74,0.76,0.77,0.77,0.79],\"xaxis\":\"x\",\"y\":[345,2824,2829,2829,2859,2861,2868,2901,558,2939,2961,558,558,3016,3084,3084,3084,3086,3379,3379,3392,3392,3450,3450,3450,3599,3599,3612,3639,3639,3644,3662,3662,3662,3674,3679,3701,3703,3743,3752,3758,3763,3801,3801,3801,3804,3825,3830,3846,3856,3856,3876,3886,3898,3898,3907,3914,3924,3928,3941,3941,3951,576,576,3984,3989,4011,4014,4027,576,576,4040,4044,4054,4070,4070,4077,4077,4077,4077,4089,4098,4102,4113,4116,4118,4133,4139,4142,4164,4177,4177,4200,4200,4201,4202,4215,4240,4240,4250,4250,4277,4278,4278,4284,4308,4328,4328,4328,4355,4362,4370,4371,4390,4390,4412,4434,4434,4436,4441,4444,4462,4478,4478,4478,4478,4478,4478,4484,4496,4522,4566,4579,4581,4620,4620,4620,4622,4648,4652,4654,4656,4664,4666,4666,4666,4688,4688,4691,4701,4704,4704,4704,4704,4730,4737,4742,4742,4742,4751,4751,4751,4751,4751,4758,4790,4829,4845,594,4878,4885,4892,594,596,4921,4933,4936,4939,4943,4943,4967,4967,4974,4974,4974,4990,5033,5033,5058,5127,5127,5152,5174,5176,5181,5193,5220,5268,5316,5400,5620,5620,605,5751,5758,5779,5920,5929,6010,6012,6065,6071,6085,6121,6121,6147,6172,6223,6237,6256,6342,6351,6377,6397,6751,612,6963,612,612,612,612,612,7090,7161,7182,7311,7341,7421,7445,7560,7610,7677,7963,8020,8064,8135,8190,8190,8316,8408,8810,8835,8879,8988,8996,9028,9072,9072,9082,9157,9193,9302,9450,9450,9513,9526,9526,9576,9580,9596,9831,9900,9909,10080,10080,10080,10090,10214,10470,10483,10553,10570,10765,630,630,11655,12238,12492,12987,13387,640,13561,13677,13786,13786,13884,14502,14574,14634,14948,15398,15873,15984,16064,16783,17066,17081,17116,17146,17179,17179,17237,17294,17379,17760,17825,17938,18034,18117,18120,18232,18291,18310,18426,18477,648,648,648,653,666,666,672,683,683,683,435,704,716,716,449,449,449,771,778,778,798,812,814,818,818,821,463,834,838,838,855,855,855,855,468,876,876,876,876,876,876,876,882,903,919,919,919,475,477,477,477,477,949,953,984,984,984,984,1005,1011,1028,1058,1058,1063,1072,491,491,1088,1097,1097,1134,1141,1154,1169,1177,1181,1181,1181,1185,1195,1205,1205,1205,1206,1211,1227,1228,1229,1229,504,1240,1240,1240,1240,1250,1262,1265,1265,1269,1271,1273,1286,1291,1294,1297,1320,1320,505,505,1364,1414,1426,518,394,1579,1579,1640,1715,1775,1808,1827,2002,2019,2037,2096,2125,2135,2135,540,2159,2171,540,540,540,540,2214,2215,2215,2256,2271,2273,2273,2278,2303,2304,2306,2306,2307,2307,2320,2322,2329,2329,2335,2335,2340,2341,2342,2343,2355,2360,2368,2372,2376,2376,2376,2376,2386,2399,2409,2410,2442,2447,2450,2451,2463,2475,2475,2512,2519,2527,2544,2553,2559,2574,2580,2593,2594,2614,2617,2688,2723,2723,2756],\"yaxis\":\"y\",\"type\":\"scattergl\"},{\"hovertemplate\":\"cut=Fair<br>carat=%{x}<br>price=%{y}<extra></extra>\",\"legendgroup\":\"Fair\",\"marker\":{\"color\":\"#00cc96\",\"opacity\":0.5,\"symbol\":\"circle\"},\"mode\":\"markers\",\"name\":\"Fair\",\"showlegend\":true,\"x\":[0.86,1.01,0.96,0.98,1.01,0.9,1.0,0.9,1.0,0.9,0.9,0.91,1.0,1.0,1.0,0.9,1.01,0.9,0.96,1.0,0.96,1.0,1.0,1.01,1.02,1.08,1.03,1.0,1.01,1.01,1.0,1.0,1.01,1.01,1.0,1.0,1.07,1.0,1.0,1.04,1.01,1.11,1.33,1.21,1.43,1.32,1.5,1.5,1.5,1.5,1.64,1.5,2.01,2.04,2.04,2.01,2.0,0.41,0.5,0.5,0.48,0.5,0.6,0.5,0.5,0.56,0.62,0.7,0.7,0.7,0.7,0.71,0.7,0.72,0.7,0.74,0.9,0.78],\"xaxis\":\"x\",\"y\":[2757,2797,2815,2855,2862,2930,2948,2982,3011,3084,3084,3119,3136,3136,3136,3187,3294,3342,3533,3575,3674,3763,3763,3801,3838,3861,3876,3889,3916,3991,4032,4077,4118,4118,4256,4265,4496,4516,4516,4566,4600,4873,4916,4926,6086,6221,6922,7459,7560,8190,8954,10080,11156,12454,12799,14948,15540,818,851,871,907,945,1033,1114,1141,1389,1435,1723,1828,1998,1998,2002,2092,2125,2600,2617,2639,2721],\"yaxis\":\"y\",\"type\":\"scattergl\"},{\"hovertemplate\":\"cut=Very Good<br>carat=%{x}<br>price=%{y}<extra></extra>\",\"legendgroup\":\"Very Good\",\"marker\":{\"color\":\"#ab63fa\",\"opacity\":0.5,\"symbol\":\"circle\"},\"mode\":\"markers\",\"name\":\"Very Good\",\"showlegend\":true,\"x\":[0.83,0.8,0.76,0.81,0.9,0.79,0.91,0.85,0.82,0.77,0.91,0.81,0.8,0.72,0.9,0.9,0.84,0.9,0.9,0.88,0.9,0.9,0.9,0.91,1.09,0.91,0.91,0.9,0.9,0.9,0.95,0.34,0.9,0.95,0.91,0.91,0.9,0.9,1.01,0.92,0.9,0.91,0.9,0.9,1.08,0.93,0.91,0.91,1.0,1.0,0.91,1.12,1.01,1.05,1.01,1.12,0.9,0.91,0.94,0.98,0.9,0.9,0.9,0.91,1.02,0.94,1.13,0.91,0.91,1.0,1.0,1.0,1.05,0.92,1.0,1.11,1.11,0.93,1.01,1.0,1.1,1.11,1.11,1.0,0.96,1.01,1.15,1.01,1.05,1.02,0.9,1.01,1.11,1.0,1.0,1.0,1.0,1.0,1.0,1.0,1.0,0.93,1.03,1.01,1.01,1.01,1.01,1.01,1.01,1.0,1.0,1.02,1.02,1.02,1.02,1.02,1.05,1.02,1.02,1.02,1.08,1.0,1.01,1.0,1.01,1.04,1.02,1.0,1.04,1.0,1.1,1.1,1.02,1.01,1.01,1.01,1.06,1.01,1.0,1.0,1.01,1.1,1.07,1.0,1.0,1.0,0.38,1.08,1.01,1.01,1.03,0.91,1.0,1.0,1.05,1.11,1.0,0.99,1.0,1.05,1.07,1.08,1.05,1.08,1.11,1.14,1.06,1.0,1.14,1.08,1.16,1.09,1.13,1.34,1.1,1.18,1.13,1.17,1.09,1.15,1.14,1.15,1.07,1.01,1.03,1.14,1.2,1.22,1.08,1.26,1.25,1.2,1.5,0.3,0.4,0.4,1.36,1.37,1.5,1.51,1.51,1.54,1.5,1.53,0.4,1.61,1.5,1.5,0.3,0.3,0.3,1.53,1.5,1.5,1.51,1.59,1.51,1.51,1.5,1.51,1.51,1.62,1.5,1.51,1.51,1.5,1.55,1.51,1.51,1.6,1.5,1.51,1.51,1.5,1.52,1.61,1.69,1.61,1.61,1.53,1.6,1.72,1.7,0.38,1.83,0.41,0.41,0.41,1.83,0.4,2.03,2.0,2.01,1.92,2.01,2.03,2.0,2.0,2.0,2.0,2.0,2.03,2.0,2.51,2.01,2.01,2.01,2.05,2.01,2.11,2.19,2.03,2.14,2.08,0.39,0.42,0.4,0.4,0.4,0.43,0.39,0.31,0.41,0.41,0.41,0.41,0.41,0.31,0.43,0.42,0.43,0.45,0.32,0.32,0.43,0.4,0.4,0.41,0.41,0.41,0.41,0.33,0.4,0.43,0.44,0.36,0.34,0.34,0.34,0.5,0.5,0.52,0.51,0.5,0.5,0.5,0.5,0.5,0.5,0.51,0.51,0.5,0.51,0.52,0.52,0.52,0.37,0.55,0.52,0.5,0.5,0.5,0.5,0.53,0.54,0.53,0.52,0.53,0.52,0.51,0.5,0.5,0.52,0.51,0.52,0.53,0.53,0.58,0.5,0.55,0.3,0.51,0.57,0.67,0.6,0.6,0.54,0.56,0.58,0.51,0.54,0.59,0.57,0.59,0.36,0.59,0.52,0.58,0.57,0.6,0.54,0.62,0.51,0.62,0.74,0.66,0.68,0.7,0.7,0.73,0.7,0.71,0.72,0.74,0.3,0.7,0.71,0.7,0.71,0.37,0.72,0.71,0.7,0.7,0.7,0.7,0.7,0.7,0.7,0.74,0.7,0.7,0.7,0.7,0.7,0.7,0.71,0.7,0.7,0.73,0.71,0.72,0.73,0.75,0.71,0.71,0.72,0.75,0.74,0.73,0.73,0.71,0.72,0.73,0.71,0.7,0.7,0.7,0.78,0.7,0.76,0.72,0.74,0.72,0.74,0.8,0.74,0.72,0.72,0.72,0.8,0.75,0.74,0.81,0.77],\"xaxis\":\"x\",\"y\":[2799,2804,2831,2894,2930,2941,2963,2966,2975,3002,3015,3059,3070,3084,3084,3084,3125,3139,3139,3150,3187,3239,3342,3379,3418,3438,3438,3449,3482,3526,3527,571,3584,3590,3632,3638,3662,3662,3674,3679,3697,3703,3715,3715,3726,3746,3751,3763,3763,3763,3772,3794,3801,3816,3857,3864,3872,3876,3886,3895,3902,3902,3924,3936,3947,3963,3967,3968,3986,4004,4004,4004,4010,4011,4077,4102,4102,4113,4118,4125,4140,4170,4177,4181,4186,4244,4250,4270,4281,4286,4288,4299,4307,4308,4311,4311,4312,4312,4321,4321,4321,4325,4326,4352,4355,4355,4355,4355,4363,4390,4392,4398,4398,4398,4398,4398,4398,4404,4404,4414,4415,4426,4434,4435,4445,4472,4478,4480,4486,4532,4539,4539,4540,4540,4561,4566,4570,4575,4576,4579,4581,4607,4609,4620,4620,4630,590,4656,4666,4666,4668,4668,4685,4704,4763,4769,4777,4780,4781,4797,4824,4840,4851,4857,4914,4915,4972,4975,5014,5018,5034,5035,5052,5065,5073,5088,5147,5163,5165,5193,5236,5257,5304,5340,5393,5593,5645,5739,5805,5976,6073,6130,6300,421,611,611,7288,7365,7728,7737,7848,7877,8167,8270,622,8288,8291,8538,421,421,421,8654,8820,8827,8916,8994,9058,9140,9281,9343,9343,9355,9450,9513,9513,9548,9557,9727,9731,9900,9900,9936,10012,10080,10214,10293,10317,10580,10891,11069,11537,11638,12030,633,12379,638,638,638,13134,644,14646,14763,14813,15364,15618,15690,15840,15864,16064,16064,16380,16412,16462,16717,17024,17024,17118,17138,17759,17871,18067,18115,18125,18128,650,653,666,666,666,671,672,435,683,683,683,683,683,435,688,700,716,731,449,449,765,798,798,818,818,818,818,463,855,858,878,471,477,477,477,1009,1046,1059,1067,1077,1077,1077,1097,1097,1098,1098,1098,1104,1104,1112,1120,1120,493,1145,1146,1154,1154,1154,1154,1160,1163,1167,1173,1174,1175,1180,1181,1181,1190,1195,1200,1227,1227,1234,1235,1238,393,1239,1244,1244,1250,1250,1250,1259,1265,1265,1278,1286,1315,1325,505,1362,1372,1377,1384,1385,1415,1426,1427,1624,1632,1769,1821,1894,1964,1975,2066,2123,2125,2179,540,2224,2225,2230,2238,541,2252,2256,2257,2263,2263,2263,2263,2273,2281,2282,2290,2298,2298,2307,2310,2310,2313,2324,2335,2335,2343,2345,2359,2363,2368,2375,2376,2383,2391,2395,2395,2397,2401,2409,2423,2453,2453,2464,2512,2514,2530,2573,2574,2608,2617,2623,2638,2651,2655,2688,2715,2719,2728,2735,2753],\"yaxis\":\"y\",\"type\":\"scattergl\"},{\"hovertemplate\":\"cut=Good<br>carat=%{x}<br>price=%{y}<extra></extra>\",\"legendgroup\":\"Good\",\"marker\":{\"color\":\"#FFA15A\",\"opacity\":0.5,\"symbol\":\"circle\"},\"mode\":\"markers\",\"name\":\"Good\",\"showlegend\":true,\"x\":[0.8,0.9,0.82,0.9,0.9,0.9,0.92,0.9,0.89,0.9,0.9,0.9,1.0,0.91,0.91,1.01,0.9,0.9,0.9,0.9,0.9,1.01,0.91,0.9,1.0,0.9,0.9,1.01,0.92,1.0,1.0,1.0,1.02,1.0,1.0,0.9,1.0,1.0,1.1,1.18,1.0,1.01,1.01,1.01,1.01,1.0,1.05,1.03,1.06,1.0,1.0,1.01,1.04,1.0,1.0,1.06,1.01,1.0,1.02,1.0,1.01,1.02,1.01,1.01,1.07,1.02,1.01,1.0,1.01,0.4,0.35,1.11,1.01,1.0,1.08,1.01,1.01,1.02,1.02,1.08,1.01,1.01,1.2,1.21,1.24,1.5,1.36,0.34,1.51,0.4,1.53,1.42,0.4,0.4,0.4,1.5,0.3,1.5,1.5,1.5,1.5,1.5,1.51,1.51,0.35,1.61,1.51,0.41,0.41,0.41,0.41,0.41,2.0,2.01,2.0,2.0,2.0,2.01,2.01,2.01,2.0,2.02,0.36,0.4,0.43,0.43,0.45,0.44,0.34,0.35,0.4,0.4,0.41,0.47,0.43,0.34,0.5,0.5,0.5,0.5,0.64,0.35,0.5,0.5,0.54,0.52,0.53,0.51,0.53,0.53,0.53,0.54,0.54,0.56,0.5,0.52,0.57,0.52,0.54,0.36,0.59,0.62,0.61,0.7,0.71,0.71,0.7,0.71,0.7,0.7,0.77,0.7,0.7,0.7,0.7,0.7,0.71,0.7,0.7,0.71,0.71,0.7,0.7,0.75,0.7,0.72,0.7,0.78,0.77,0.78,0.73,0.71,0.7,0.7,0.75,0.7,0.75,0.8,0.8,0.76,0.75,0.89],\"xaxis\":\"x\",\"y\":[2829,2982,3050,3084,3139,3139,3153,3218,3284,3401,3401,3422,3450,3520,3538,3546,3584,3595,3595,3595,3595,3611,3632,3660,3696,3724,3736,3737,3744,3752,3763,3819,3838,3880,3889,3895,4004,4026,4065,4071,4077,4118,4149,4168,4171,4184,4204,4250,4257,4258,4265,4285,4290,4307,4312,4321,4355,4394,4398,4400,4413,4414,4436,4440,4453,4478,4479,4496,4506,588,588,4532,4566,4620,4656,4666,4685,4712,4712,4742,4751,4807,5544,5787,5809,6300,6397,612,7314,617,7643,8019,622,622,622,8492,421,8910,8910,9072,9281,9281,9343,9833,630,10793,10884,638,638,638,638,638,13320,15255,15393,15962,16206,16582,16733,17115,17760,18236,648,666,669,669,680,684,445,454,798,798,818,844,858,477,1000,1077,1077,1077,1080,491,1098,1101,1112,1120,1127,1130,1140,1141,1141,1163,1163,1172,1181,1199,1214,1229,1250,505,1327,1333,1408,1758,1783,1783,1793,1816,1860,1929,2005,2026,2028,2032,2092,2116,2120,2159,2192,2215,2226,2229,2239,2278,2307,2308,2310,2363,2371,2379,2388,2390,2405,2435,2453,2453,2497,2542,2640,2680,2702,2728],\"yaxis\":\"y\",\"type\":\"scattergl\"}],                        {\"template\":{\"data\":{\"histogram2dcontour\":[{\"type\":\"histogram2dcontour\",\"colorbar\":{\"outlinewidth\":0,\"ticks\":\"\"},\"colorscale\":[[0.0,\"#0d0887\"],[0.1111111111111111,\"#46039f\"],[0.2222222222222222,\"#7201a8\"],[0.3333333333333333,\"#9c179e\"],[0.4444444444444444,\"#bd3786\"],[0.5555555555555556,\"#d8576b\"],[0.6666666666666666,\"#ed7953\"],[0.7777777777777778,\"#fb9f3a\"],[0.8888888888888888,\"#fdca26\"],[1.0,\"#f0f921\"]]}],\"choropleth\":[{\"type\":\"choropleth\",\"colorbar\":{\"outlinewidth\":0,\"ticks\":\"\"}}],\"histogram2d\":[{\"type\":\"histogram2d\",\"colorbar\":{\"outlinewidth\":0,\"ticks\":\"\"},\"colorscale\":[[0.0,\"#0d0887\"],[0.1111111111111111,\"#46039f\"],[0.2222222222222222,\"#7201a8\"],[0.3333333333333333,\"#9c179e\"],[0.4444444444444444,\"#bd3786\"],[0.5555555555555556,\"#d8576b\"],[0.6666666666666666,\"#ed7953\"],[0.7777777777777778,\"#fb9f3a\"],[0.8888888888888888,\"#fdca26\"],[1.0,\"#f0f921\"]]}],\"heatmap\":[{\"type\":\"heatmap\",\"colorbar\":{\"outlinewidth\":0,\"ticks\":\"\"},\"colorscale\":[[0.0,\"#0d0887\"],[0.1111111111111111,\"#46039f\"],[0.2222222222222222,\"#7201a8\"],[0.3333333333333333,\"#9c179e\"],[0.4444444444444444,\"#bd3786\"],[0.5555555555555556,\"#d8576b\"],[0.6666666666666666,\"#ed7953\"],[0.7777777777777778,\"#fb9f3a\"],[0.8888888888888888,\"#fdca26\"],[1.0,\"#f0f921\"]]}],\"heatmapgl\":[{\"type\":\"heatmapgl\",\"colorbar\":{\"outlinewidth\":0,\"ticks\":\"\"},\"colorscale\":[[0.0,\"#0d0887\"],[0.1111111111111111,\"#46039f\"],[0.2222222222222222,\"#7201a8\"],[0.3333333333333333,\"#9c179e\"],[0.4444444444444444,\"#bd3786\"],[0.5555555555555556,\"#d8576b\"],[0.6666666666666666,\"#ed7953\"],[0.7777777777777778,\"#fb9f3a\"],[0.8888888888888888,\"#fdca26\"],[1.0,\"#f0f921\"]]}],\"contourcarpet\":[{\"type\":\"contourcarpet\",\"colorbar\":{\"outlinewidth\":0,\"ticks\":\"\"}}],\"contour\":[{\"type\":\"contour\",\"colorbar\":{\"outlinewidth\":0,\"ticks\":\"\"},\"colorscale\":[[0.0,\"#0d0887\"],[0.1111111111111111,\"#46039f\"],[0.2222222222222222,\"#7201a8\"],[0.3333333333333333,\"#9c179e\"],[0.4444444444444444,\"#bd3786\"],[0.5555555555555556,\"#d8576b\"],[0.6666666666666666,\"#ed7953\"],[0.7777777777777778,\"#fb9f3a\"],[0.8888888888888888,\"#fdca26\"],[1.0,\"#f0f921\"]]}],\"surface\":[{\"type\":\"surface\",\"colorbar\":{\"outlinewidth\":0,\"ticks\":\"\"},\"colorscale\":[[0.0,\"#0d0887\"],[0.1111111111111111,\"#46039f\"],[0.2222222222222222,\"#7201a8\"],[0.3333333333333333,\"#9c179e\"],[0.4444444444444444,\"#bd3786\"],[0.5555555555555556,\"#d8576b\"],[0.6666666666666666,\"#ed7953\"],[0.7777777777777778,\"#fb9f3a\"],[0.8888888888888888,\"#fdca26\"],[1.0,\"#f0f921\"]]}],\"mesh3d\":[{\"type\":\"mesh3d\",\"colorbar\":{\"outlinewidth\":0,\"ticks\":\"\"}}],\"scatter\":[{\"fillpattern\":{\"fillmode\":\"overlay\",\"size\":10,\"solidity\":0.2},\"type\":\"scatter\"}],\"parcoords\":[{\"type\":\"parcoords\",\"line\":{\"colorbar\":{\"outlinewidth\":0,\"ticks\":\"\"}}}],\"scatterpolargl\":[{\"type\":\"scatterpolargl\",\"marker\":{\"colorbar\":{\"outlinewidth\":0,\"ticks\":\"\"}}}],\"bar\":[{\"error_x\":{\"color\":\"#2a3f5f\"},\"error_y\":{\"color\":\"#2a3f5f\"},\"marker\":{\"line\":{\"color\":\"#E5ECF6\",\"width\":0.5},\"pattern\":{\"fillmode\":\"overlay\",\"size\":10,\"solidity\":0.2}},\"type\":\"bar\"}],\"scattergeo\":[{\"type\":\"scattergeo\",\"marker\":{\"colorbar\":{\"outlinewidth\":0,\"ticks\":\"\"}}}],\"scatterpolar\":[{\"type\":\"scatterpolar\",\"marker\":{\"colorbar\":{\"outlinewidth\":0,\"ticks\":\"\"}}}],\"histogram\":[{\"marker\":{\"pattern\":{\"fillmode\":\"overlay\",\"size\":10,\"solidity\":0.2}},\"type\":\"histogram\"}],\"scattergl\":[{\"type\":\"scattergl\",\"marker\":{\"colorbar\":{\"outlinewidth\":0,\"ticks\":\"\"}}}],\"scatter3d\":[{\"type\":\"scatter3d\",\"line\":{\"colorbar\":{\"outlinewidth\":0,\"ticks\":\"\"}},\"marker\":{\"colorbar\":{\"outlinewidth\":0,\"ticks\":\"\"}}}],\"scattermapbox\":[{\"type\":\"scattermapbox\",\"marker\":{\"colorbar\":{\"outlinewidth\":0,\"ticks\":\"\"}}}],\"scatterternary\":[{\"type\":\"scatterternary\",\"marker\":{\"colorbar\":{\"outlinewidth\":0,\"ticks\":\"\"}}}],\"scattercarpet\":[{\"type\":\"scattercarpet\",\"marker\":{\"colorbar\":{\"outlinewidth\":0,\"ticks\":\"\"}}}],\"carpet\":[{\"aaxis\":{\"endlinecolor\":\"#2a3f5f\",\"gridcolor\":\"white\",\"linecolor\":\"white\",\"minorgridcolor\":\"white\",\"startlinecolor\":\"#2a3f5f\"},\"baxis\":{\"endlinecolor\":\"#2a3f5f\",\"gridcolor\":\"white\",\"linecolor\":\"white\",\"minorgridcolor\":\"white\",\"startlinecolor\":\"#2a3f5f\"},\"type\":\"carpet\"}],\"table\":[{\"cells\":{\"fill\":{\"color\":\"#EBF0F8\"},\"line\":{\"color\":\"white\"}},\"header\":{\"fill\":{\"color\":\"#C8D4E3\"},\"line\":{\"color\":\"white\"}},\"type\":\"table\"}],\"barpolar\":[{\"marker\":{\"line\":{\"color\":\"#E5ECF6\",\"width\":0.5},\"pattern\":{\"fillmode\":\"overlay\",\"size\":10,\"solidity\":0.2}},\"type\":\"barpolar\"}],\"pie\":[{\"automargin\":true,\"type\":\"pie\"}]},\"layout\":{\"autotypenumbers\":\"strict\",\"colorway\":[\"#636efa\",\"#EF553B\",\"#00cc96\",\"#ab63fa\",\"#FFA15A\",\"#19d3f3\",\"#FF6692\",\"#B6E880\",\"#FF97FF\",\"#FECB52\"],\"font\":{\"color\":\"#2a3f5f\"},\"hovermode\":\"closest\",\"hoverlabel\":{\"align\":\"left\"},\"paper_bgcolor\":\"white\",\"plot_bgcolor\":\"#E5ECF6\",\"polar\":{\"bgcolor\":\"#E5ECF6\",\"angularaxis\":{\"gridcolor\":\"white\",\"linecolor\":\"white\",\"ticks\":\"\"},\"radialaxis\":{\"gridcolor\":\"white\",\"linecolor\":\"white\",\"ticks\":\"\"}},\"ternary\":{\"bgcolor\":\"#E5ECF6\",\"aaxis\":{\"gridcolor\":\"white\",\"linecolor\":\"white\",\"ticks\":\"\"},\"baxis\":{\"gridcolor\":\"white\",\"linecolor\":\"white\",\"ticks\":\"\"},\"caxis\":{\"gridcolor\":\"white\",\"linecolor\":\"white\",\"ticks\":\"\"}},\"coloraxis\":{\"colorbar\":{\"outlinewidth\":0,\"ticks\":\"\"}},\"colorscale\":{\"sequential\":[[0.0,\"#0d0887\"],[0.1111111111111111,\"#46039f\"],[0.2222222222222222,\"#7201a8\"],[0.3333333333333333,\"#9c179e\"],[0.4444444444444444,\"#bd3786\"],[0.5555555555555556,\"#d8576b\"],[0.6666666666666666,\"#ed7953\"],[0.7777777777777778,\"#fb9f3a\"],[0.8888888888888888,\"#fdca26\"],[1.0,\"#f0f921\"]],\"sequentialminus\":[[0.0,\"#0d0887\"],[0.1111111111111111,\"#46039f\"],[0.2222222222222222,\"#7201a8\"],[0.3333333333333333,\"#9c179e\"],[0.4444444444444444,\"#bd3786\"],[0.5555555555555556,\"#d8576b\"],[0.6666666666666666,\"#ed7953\"],[0.7777777777777778,\"#fb9f3a\"],[0.8888888888888888,\"#fdca26\"],[1.0,\"#f0f921\"]],\"diverging\":[[0,\"#8e0152\"],[0.1,\"#c51b7d\"],[0.2,\"#de77ae\"],[0.3,\"#f1b6da\"],[0.4,\"#fde0ef\"],[0.5,\"#f7f7f7\"],[0.6,\"#e6f5d0\"],[0.7,\"#b8e186\"],[0.8,\"#7fbc41\"],[0.9,\"#4d9221\"],[1,\"#276419\"]]},\"xaxis\":{\"gridcolor\":\"white\",\"linecolor\":\"white\",\"ticks\":\"\",\"title\":{\"standoff\":15},\"zerolinecolor\":\"white\",\"automargin\":true,\"zerolinewidth\":2},\"yaxis\":{\"gridcolor\":\"white\",\"linecolor\":\"white\",\"ticks\":\"\",\"title\":{\"standoff\":15},\"zerolinecolor\":\"white\",\"automargin\":true,\"zerolinewidth\":2},\"scene\":{\"xaxis\":{\"backgroundcolor\":\"#E5ECF6\",\"gridcolor\":\"white\",\"linecolor\":\"white\",\"showbackground\":true,\"ticks\":\"\",\"zerolinecolor\":\"white\",\"gridwidth\":2},\"yaxis\":{\"backgroundcolor\":\"#E5ECF6\",\"gridcolor\":\"white\",\"linecolor\":\"white\",\"showbackground\":true,\"ticks\":\"\",\"zerolinecolor\":\"white\",\"gridwidth\":2},\"zaxis\":{\"backgroundcolor\":\"#E5ECF6\",\"gridcolor\":\"white\",\"linecolor\":\"white\",\"showbackground\":true,\"ticks\":\"\",\"zerolinecolor\":\"white\",\"gridwidth\":2}},\"shapedefaults\":{\"line\":{\"color\":\"#2a3f5f\"}},\"annotationdefaults\":{\"arrowcolor\":\"#2a3f5f\",\"arrowhead\":0,\"arrowwidth\":1},\"geo\":{\"bgcolor\":\"white\",\"landcolor\":\"#E5ECF6\",\"subunitcolor\":\"white\",\"showland\":true,\"showlakes\":true,\"lakecolor\":\"white\"},\"title\":{\"x\":0.05},\"mapbox\":{\"style\":\"light\"}}},\"xaxis\":{\"anchor\":\"y\",\"domain\":[0.0,1.0],\"title\":{\"text\":\"Diamond carat(size)\"}},\"yaxis\":{\"anchor\":\"x\",\"domain\":[0.0,1.0],\"title\":{\"text\":\"Price($)\"}},\"legend\":{\"title\":{\"text\":\"Diamond cut\"},\"tracegroupgap\":0},\"title\":{\"text\":\"Relationship between the carat (size of diamond) and price\"}},                        {\"responsive\": true}                    ).then(function(){\n",
              "                            \n",
              "var gd = document.getElementById('0f7e83fb-5c1e-4f3d-aa40-36957ff65c6c');\n",
              "var x = new MutationObserver(function (mutations, observer) {{\n",
              "        var display = window.getComputedStyle(gd).display;\n",
              "        if (!display || display === 'none') {{\n",
              "            console.log([gd, 'removed!']);\n",
              "            Plotly.purge(gd);\n",
              "            observer.disconnect();\n",
              "        }}\n",
              "}});\n",
              "\n",
              "// Listen for the removal of the full notebook cells\n",
              "var notebookContainer = gd.closest('#notebook-container');\n",
              "if (notebookContainer) {{\n",
              "    x.observe(notebookContainer, {childList: true});\n",
              "}}\n",
              "\n",
              "// Listen for the clearing of the current output cell\n",
              "var outputEl = gd.closest('.output');\n",
              "if (outputEl) {{\n",
              "    x.observe(outputEl, {childList: true});\n",
              "}}\n",
              "\n",
              "                        })                };                });            </script>        </div>"
            ]
          },
          "metadata": {},
          "output_type": "display_data"
        }
      ],
      "source": [
        "fig=px.scatter(plot_df,\n",
        "           title='Relationship between the carat (size of diamond) and price',\n",
        "           x='carat',\n",
        "           y='price',\n",
        "           opacity=0.5,\n",
        "           color='cut'\n",
        "           )\n",
        "fig.update_layout(xaxis_title='Diamond carat(size)',\n",
        "                  yaxis_title='Price($)',\n",
        "                  legend_title='Diamond cut')"
      ]
    },
    {
      "cell_type": "code",
      "execution_count": null,
      "id": "35da0be7",
      "metadata": {
        "id": "35da0be7"
      },
      "outputs": [],
      "source": []
    },
    {
      "cell_type": "markdown",
      "id": "837b91aa",
      "metadata": {
        "id": "837b91aa"
      },
      "source": [
        "Let's save our work before continuing."
      ]
    },
    {
      "cell_type": "code",
      "execution_count": null,
      "id": "97001850",
      "metadata": {
        "colab": {
          "base_uri": "https://localhost:8080/"
        },
        "id": "97001850",
        "outputId": "350fdcec-5736-4ba2-c689-e22e546b5684"
      },
      "outputs": [
        {
          "data": {
            "application/javascript": [
              "window.require && require([\"base/js/namespace\"],function(Jupyter){Jupyter.notebook.save_checkpoint()})"
            ],
            "text/plain": [
              "<IPython.core.display.Javascript object>"
            ]
          },
          "metadata": {},
          "output_type": "display_data"
        },
        {
          "name": "stdout",
          "output_type": "stream",
          "text": [
            "[jovian] Updating notebook \"ankyhunk-bg4/data-analysis-visualization-practice-assignment\" on https://jovian.ai\u001b[0m\n",
            "[jovian] Committed successfully! https://jovian.ai/ankyhunk-bg4/data-analysis-visualization-practice-assignment\u001b[0m\n"
          ]
        },
        {
          "data": {
            "text/plain": [
              "'https://jovian.ai/ankyhunk-bg4/data-analysis-visualization-practice-assignment'"
            ]
          },
          "execution_count": 55,
          "metadata": {},
          "output_type": "execute_result"
        }
      ],
      "source": [
        "jovian.commit()"
      ]
    },
    {
      "cell_type": "markdown",
      "id": "6c675f1d",
      "metadata": {
        "id": "6c675f1d"
      },
      "source": [
        "> **QUESTION 3 (Histogram and Box Plot):** The Planets dataset contains details about the 1,000+ extrasolar planets discovered up to 2014. Visualize the distribution of the masses of the planets (expressed as a multiple of the mass of Jupiter), using a histogram and a box plot. Make appropriate modifications to the chart title, axis titles, legend, figure size, font size, colors etc. to make the chart readable and visually appealing.\n",
        "> \n",
        "> Hints:\n",
        ">\n",
        "> - You use use Matplotlib, Seaborn or Plotly to create these plots\n",
        "> - If you're using Plotly, you can show both charts together (use the `marginal` argument of `px.histogram`)"
      ]
    },
    {
      "cell_type": "code",
      "execution_count": null,
      "id": "94986003",
      "metadata": {
        "id": "94986003"
      },
      "outputs": [],
      "source": [
        "planets_csv = 'https://raw.githubusercontent.com/mwaskom/seaborn-data/master/planets.csv'"
      ]
    },
    {
      "cell_type": "code",
      "execution_count": null,
      "id": "891c7154",
      "metadata": {
        "id": "891c7154"
      },
      "outputs": [],
      "source": [
        "planets_df = pd.read_csv(planets_csv)"
      ]
    },
    {
      "cell_type": "code",
      "execution_count": null,
      "id": "98a14bd5",
      "metadata": {
        "colab": {
          "base_uri": "https://localhost:8080/",
          "height": 424
        },
        "id": "98a14bd5",
        "outputId": "858b38cf-db9d-40a4-846d-6ca28167d0a8"
      },
      "outputs": [
        {
          "data": {
            "text/html": [
              "<div>\n",
              "<style scoped>\n",
              "    .dataframe tbody tr th:only-of-type {\n",
              "        vertical-align: middle;\n",
              "    }\n",
              "\n",
              "    .dataframe tbody tr th {\n",
              "        vertical-align: top;\n",
              "    }\n",
              "\n",
              "    .dataframe thead th {\n",
              "        text-align: right;\n",
              "    }\n",
              "</style>\n",
              "<table border=\"1\" class=\"dataframe\">\n",
              "  <thead>\n",
              "    <tr style=\"text-align: right;\">\n",
              "      <th></th>\n",
              "      <th>method</th>\n",
              "      <th>number</th>\n",
              "      <th>orbital_period</th>\n",
              "      <th>mass</th>\n",
              "      <th>distance</th>\n",
              "      <th>year</th>\n",
              "    </tr>\n",
              "  </thead>\n",
              "  <tbody>\n",
              "    <tr>\n",
              "      <th>0</th>\n",
              "      <td>Radial Velocity</td>\n",
              "      <td>1</td>\n",
              "      <td>269.300000</td>\n",
              "      <td>7.10</td>\n",
              "      <td>77.40</td>\n",
              "      <td>2006</td>\n",
              "    </tr>\n",
              "    <tr>\n",
              "      <th>1</th>\n",
              "      <td>Radial Velocity</td>\n",
              "      <td>1</td>\n",
              "      <td>874.774000</td>\n",
              "      <td>2.21</td>\n",
              "      <td>56.95</td>\n",
              "      <td>2008</td>\n",
              "    </tr>\n",
              "    <tr>\n",
              "      <th>2</th>\n",
              "      <td>Radial Velocity</td>\n",
              "      <td>1</td>\n",
              "      <td>763.000000</td>\n",
              "      <td>2.60</td>\n",
              "      <td>19.84</td>\n",
              "      <td>2011</td>\n",
              "    </tr>\n",
              "    <tr>\n",
              "      <th>3</th>\n",
              "      <td>Radial Velocity</td>\n",
              "      <td>1</td>\n",
              "      <td>326.030000</td>\n",
              "      <td>19.40</td>\n",
              "      <td>110.62</td>\n",
              "      <td>2007</td>\n",
              "    </tr>\n",
              "    <tr>\n",
              "      <th>4</th>\n",
              "      <td>Radial Velocity</td>\n",
              "      <td>1</td>\n",
              "      <td>516.220000</td>\n",
              "      <td>10.50</td>\n",
              "      <td>119.47</td>\n",
              "      <td>2009</td>\n",
              "    </tr>\n",
              "    <tr>\n",
              "      <th>...</th>\n",
              "      <td>...</td>\n",
              "      <td>...</td>\n",
              "      <td>...</td>\n",
              "      <td>...</td>\n",
              "      <td>...</td>\n",
              "      <td>...</td>\n",
              "    </tr>\n",
              "    <tr>\n",
              "      <th>1030</th>\n",
              "      <td>Transit</td>\n",
              "      <td>1</td>\n",
              "      <td>3.941507</td>\n",
              "      <td>NaN</td>\n",
              "      <td>172.00</td>\n",
              "      <td>2006</td>\n",
              "    </tr>\n",
              "    <tr>\n",
              "      <th>1031</th>\n",
              "      <td>Transit</td>\n",
              "      <td>1</td>\n",
              "      <td>2.615864</td>\n",
              "      <td>NaN</td>\n",
              "      <td>148.00</td>\n",
              "      <td>2007</td>\n",
              "    </tr>\n",
              "    <tr>\n",
              "      <th>1032</th>\n",
              "      <td>Transit</td>\n",
              "      <td>1</td>\n",
              "      <td>3.191524</td>\n",
              "      <td>NaN</td>\n",
              "      <td>174.00</td>\n",
              "      <td>2007</td>\n",
              "    </tr>\n",
              "    <tr>\n",
              "      <th>1033</th>\n",
              "      <td>Transit</td>\n",
              "      <td>1</td>\n",
              "      <td>4.125083</td>\n",
              "      <td>NaN</td>\n",
              "      <td>293.00</td>\n",
              "      <td>2008</td>\n",
              "    </tr>\n",
              "    <tr>\n",
              "      <th>1034</th>\n",
              "      <td>Transit</td>\n",
              "      <td>1</td>\n",
              "      <td>4.187757</td>\n",
              "      <td>NaN</td>\n",
              "      <td>260.00</td>\n",
              "      <td>2008</td>\n",
              "    </tr>\n",
              "  </tbody>\n",
              "</table>\n",
              "<p>1035 rows × 6 columns</p>\n",
              "</div>"
            ],
            "text/plain": [
              "               method  number  orbital_period   mass  distance  year\n",
              "0     Radial Velocity       1      269.300000   7.10     77.40  2006\n",
              "1     Radial Velocity       1      874.774000   2.21     56.95  2008\n",
              "2     Radial Velocity       1      763.000000   2.60     19.84  2011\n",
              "3     Radial Velocity       1      326.030000  19.40    110.62  2007\n",
              "4     Radial Velocity       1      516.220000  10.50    119.47  2009\n",
              "...               ...     ...             ...    ...       ...   ...\n",
              "1030          Transit       1        3.941507    NaN    172.00  2006\n",
              "1031          Transit       1        2.615864    NaN    148.00  2007\n",
              "1032          Transit       1        3.191524    NaN    174.00  2007\n",
              "1033          Transit       1        4.125083    NaN    293.00  2008\n",
              "1034          Transit       1        4.187757    NaN    260.00  2008\n",
              "\n",
              "[1035 rows x 6 columns]"
            ]
          },
          "execution_count": 58,
          "metadata": {},
          "output_type": "execute_result"
        }
      ],
      "source": [
        "planets_df"
      ]
    },
    {
      "cell_type": "code",
      "execution_count": null,
      "id": "10c8ab9e",
      "metadata": {
        "colab": {
          "base_uri": "https://localhost:8080/",
          "height": 542
        },
        "id": "10c8ab9e",
        "outputId": "69ddb9a1-1782-4ac6-ccd0-4fde42039de2"
      },
      "outputs": [
        {
          "data": {
            "application/vnd.plotly.v1+json": {
              "config": {
                "plotlyServerURL": "https://plot.ly"
              },
              "data": [
                {
                  "alignmentgroup": "True",
                  "bingroup": "x",
                  "hovertemplate": "mass=%{x}<br>count=%{y}<extra></extra>",
                  "legendgroup": "",
                  "marker": {
                    "color": "#636efa",
                    "pattern": {
                      "shape": ""
                    }
                  },
                  "name": "",
                  "offsetgroup": "",
                  "orientation": "v",
                  "showlegend": false,
                  "type": "histogram",
                  "x": [
                    7.1,
                    2.21,
                    2.6,
                    19.4,
                    10.5,
                    4.8,
                    4.64,
                    null,
                    10.3,
                    1.99,
                    0.86,
                    9.88,
                    3.88,
                    2.53,
                    0.54,
                    1.64,
                    0.472,
                    0.8,
                    0.165,
                    3.53,
                    null,
                    0.172,
                    0.016,
                    0.057,
                    0.072,
                    null,
                    null,
                    5.3,
                    3.2,
                    null,
                    null,
                    null,
                    6.05,
                    null,
                    null,
                    null,
                    null,
                    null,
                    null,
                    null,
                    null,
                    null,
                    4.2,
                    null,
                    null,
                    1.8,
                    0.0036,
                    null,
                    1.55,
                    null,
                    7.6,
                    8.78,
                    1.85,
                    null,
                    null,
                    2.8,
                    null,
                    null,
                    1.7,
                    null,
                    null,
                    1.04,
                    3.9,
                    20.6,
                    0.6876,
                    1.981,
                    4.132,
                    1.059,
                    null,
                    null,
                    null,
                    null,
                    null,
                    null,
                    null,
                    null,
                    5.1,
                    10.6,
                    null,
                    0.045,
                    0.33,
                    0.027,
                    0.17,
                    1.47,
                    1.11,
                    21.42,
                    12.47,
                    null,
                    0.91,
                    null,
                    null,
                    null,
                    null,
                    null,
                    null,
                    null,
                    null,
                    null,
                    null,
                    null,
                    null,
                    null,
                    null,
                    null,
                    null,
                    null,
                    null,
                    null,
                    null,
                    null,
                    null,
                    null,
                    null,
                    null,
                    3.91,
                    0.035,
                    0.024,
                    0.079,
                    0.82,
                    1.894,
                    1.6,
                    2.3,
                    0.018,
                    null,
                    null,
                    0.049,
                    0.017,
                    0.022,
                    0.006,
                    0.328,
                    0.018,
                    0.012,
                    0.016,
                    0.008,
                    0.008,
                    0.014,
                    0.035,
                    4.95,
                    0.014,
                    0.036,
                    0.64,
                    0.91,
                    2.2756,
                    0.7142,
                    0.021,
                    0.046,
                    null,
                    3.37,
                    null,
                    0.022,
                    null,
                    null,
                    null,
                    null,
                    null,
                    null,
                    null,
                    null,
                    null,
                    null,
                    null,
                    15.2,
                    null,
                    null,
                    null,
                    null,
                    3.4,
                    null,
                    null,
                    null,
                    null,
                    null,
                    null,
                    null,
                    null,
                    null,
                    null,
                    null,
                    null,
                    null,
                    null,
                    3.4,
                    null,
                    null,
                    null,
                    null,
                    null,
                    null,
                    null,
                    null,
                    null,
                    null,
                    null,
                    null,
                    null,
                    null,
                    null,
                    null,
                    1.25,
                    5.3,
                    0.024,
                    0.0186,
                    3.1,
                    6.1,
                    4.9,
                    0.48,
                    1.6,
                    0.229,
                    1.56,
                    0.8,
                    0.0405,
                    2.07,
                    2.3,
                    2.37,
                    2.37,
                    1.94,
                    1.96,
                    null,
                    7.6,
                    0.48,
                    1.65,
                    0.29,
                    1.11,
                    2,
                    0.029,
                    0.63,
                    1.8,
                    14.2,
                    0.7,
                    1.82,
                    0.041,
                    0.038,
                    0.08,
                    0.074,
                    0.067,
                    0.205,
                    0.94,
                    6.21,
                    3.44,
                    0.82,
                    6.54,
                    0.622,
                    0.0788,
                    2.3,
                    1.92,
                    14,
                    0.0325,
                    0.036,
                    0.865,
                    5.13,
                    1.88,
                    0.26,
                    0.0696,
                    4.4,
                    14.3,
                    4.6,
                    null,
                    2.7,
                    1.37,
                    0.0378,
                    0.0422,
                    1.07,
                    0.0085,
                    0.00755,
                    0.0151,
                    0.0379,
                    0.0496,
                    1.9,
                    1.99,
                    0.0322,
                    0.06472,
                    1.5,
                    2.61,
                    13.65,
                    7.71,
                    4.01,
                    0.95,
                    1.28,
                    1.45,
                    0.62,
                    1.16,
                    5.59,
                    1.7,
                    9.17,
                    1.373,
                    1.8,
                    0.5,
                    0.0363,
                    0.0498,
                    0.0519,
                    1.3,
                    0.33,
                    3.04,
                    0.79,
                    9.1,
                    null,
                    0.61,
                    0.683,
                    0.624,
                    10.35,
                    2.3,
                    3.366,
                    0.0117,
                    0.0187,
                    0.0162,
                    0.839,
                    13.38,
                    10.7,
                    0.0961,
                    0.0126,
                    0.0208,
                    0.0299,
                    0.011,
                    0.0164,
                    0.0223,
                    4.01,
                    2.54,
                    18.37,
                    0.039,
                    0.027,
                    0.6,
                    25,
                    2.49,
                    0.58,
                    0.04,
                    0.1872,
                    0.6579,
                    1.79,
                    0.47,
                    0.249,
                    0.07167,
                    0.35061,
                    5,
                    7,
                    1.16,
                    0.115,
                    1.71,
                    4.9,
                    0.0413,
                    0.0565,
                    1.13,
                    5.25,
                    3.1548,
                    7.4634,
                    0.38,
                    2.9,
                    0.64,
                    1.26,
                    0.17,
                    6,
                    2.82,
                    1.9,
                    0.033,
                    0.038,
                    0.058,
                    6.1,
                    2,
                    3.15,
                    3.06,
                    1.87,
                    2.25,
                    2.25,
                    1.15,
                    1.8,
                    8.06,
                    0.396,
                    0.42,
                    2.51,
                    0.197,
                    null,
                    1.34,
                    null,
                    6.86,
                    2.7,
                    null,
                    null,
                    1.3,
                    0.4,
                    0.132,
                    0.01133,
                    1.5,
                    0.92,
                    7,
                    1.78,
                    0.22,
                    1.78,
                    8.44,
                    0.057,
                    3.86,
                    0.37,
                    0.0263,
                    0.0318,
                    null,
                    1.2,
                    0.9,
                    0.68,
                    4,
                    0.0284,
                    0.04,
                    0.026,
                    1.8,
                    6.8,
                    0.502,
                    0.087,
                    0.36,
                    1.4,
                    1.7,
                    1.16,
                    0.3,
                    0.172,
                    0.45,
                    5.9,
                    2.6,
                    0.05,
                    5.9,
                    0.96,
                    0.098,
                    0.367,
                    0.186,
                    8.3,
                    6.92,
                    11,
                    9.61,
                    null,
                    0.21,
                    0.261,
                    2.6,
                    1.29,
                    0.99,
                    0.77,
                    0.054,
                    0.076,
                    0.28,
                    11.09,
                    6.8,
                    2.83,
                    0.27,
                    0.71,
                    1.24,
                    null,
                    0.48,
                    11.68,
                    1.1,
                    0.95,
                    2.1,
                    1.88,
                    0.178,
                    2.13,
                    4.5,
                    1.22,
                    3.71,
                    3,
                    0.058,
                    7.2,
                    0.041,
                    0.38,
                    0.224,
                    1.45,
                    3.24,
                    1.6,
                    1.04,
                    2.2,
                    18.15,
                    5.61,
                    1.49,
                    0.0351,
                    0.1507,
                    1.59,
                    0.82,
                    0.0292,
                    0.0382,
                    0.121,
                    2,
                    0.0166,
                    0.0358,
                    0.03,
                    0.223,
                    9.76,
                    9.7,
                    5.1,
                    1.9,
                    1.62,
                    3.12,
                    2.9,
                    5.76,
                    2.12,
                    6.56,
                    1.21,
                    0.85,
                    0.96,
                    null,
                    1.33,
                    15.5,
                    0.168,
                    3,
                    1.5,
                    2.73,
                    0.0193,
                    0.947,
                    5.02,
                    2.24,
                    2.58,
                    0.85,
                    0.82,
                    9.71,
                    0.75,
                    0.013,
                    10.57,
                    0.12,
                    1.8,
                    1.13,
                    1.9,
                    2.1,
                    0.73,
                    null,
                    1.814,
                    null,
                    null,
                    14.4,
                    0.77,
                    2.29,
                    0.48,
                    2.7,
                    0.36,
                    3.53,
                    1.7,
                    8.02,
                    18.1,
                    0.23,
                    2.88,
                    4.04,
                    0.67,
                    1.83,
                    2.6,
                    2.7,
                    7.8,
                    0.61,
                    null,
                    1.49,
                    0.15,
                    7.03,
                    0.08,
                    0.95,
                    null,
                    1.6,
                    3.3,
                    0.0238,
                    0.64,
                    0.54,
                    0.37,
                    3.69,
                    3.82,
                    0.94,
                    0.75,
                    0.52,
                    1.99,
                    1.26,
                    0.0316,
                    null,
                    5.93,
                    1.502,
                    0.057,
                    1.9,
                    3.1,
                    0.72,
                    0.05318,
                    0.07552,
                    2.5,
                    3.7,
                    3,
                    6.9,
                    2.58,
                    0.79,
                    1.85,
                    0.895,
                    17.4,
                    2.44,
                    null,
                    4.05,
                    0.054,
                    1.68,
                    0.266,
                    1.37,
                    2.2,
                    null,
                    null,
                    0.45,
                    9.9,
                    null,
                    1.23,
                    null,
                    0.45,
                    2.3,
                    4.5,
                    0.0087,
                    0.0097,
                    0.101,
                    0.246,
                    0.017,
                    0.33,
                    1.26,
                    2.1,
                    0.65,
                    1.39,
                    2.6,
                    13,
                    0.21,
                    10.39,
                    null,
                    0.06,
                    11.1,
                    1.06,
                    1.45,
                    3.09,
                    1.9,
                    7.75,
                    0.71,
                    1.08,
                    6.575,
                    6.9,
                    5.3,
                    2.54,
                    0.0265,
                    0.76,
                    1.42,
                    null,
                    0.47,
                    1.25,
                    3.88,
                    1.28,
                    0.57,
                    0.298,
                    0.036,
                    0.41,
                    0.527,
                    null,
                    9.18,
                    9,
                    8.82,
                    null,
                    2.1,
                    1.068,
                    1.94,
                    null,
                    null,
                    null,
                    null,
                    null,
                    null,
                    1.47,
                    null,
                    null,
                    null,
                    null,
                    null,
                    null,
                    null,
                    null,
                    null,
                    null,
                    null,
                    null,
                    null,
                    null,
                    null,
                    null,
                    null,
                    null,
                    null,
                    null,
                    null,
                    null,
                    null,
                    null,
                    null,
                    null,
                    null,
                    null,
                    null,
                    null,
                    null,
                    null,
                    null,
                    null,
                    null,
                    null,
                    null,
                    null,
                    null,
                    null,
                    null,
                    null,
                    null,
                    null,
                    null,
                    null,
                    null,
                    null,
                    null,
                    null,
                    null,
                    null,
                    null,
                    null,
                    null,
                    null,
                    null,
                    null,
                    null,
                    null,
                    null,
                    null,
                    null,
                    null,
                    null,
                    null,
                    null,
                    null,
                    null,
                    null,
                    null,
                    null,
                    null,
                    null,
                    null,
                    null,
                    null,
                    null,
                    null,
                    null,
                    null,
                    null,
                    null,
                    null,
                    null,
                    null,
                    null,
                    null,
                    null,
                    null,
                    null,
                    null,
                    null,
                    null,
                    null,
                    null,
                    null,
                    null,
                    null,
                    null,
                    null,
                    null,
                    null,
                    null,
                    null,
                    null,
                    null,
                    null,
                    null,
                    null,
                    null,
                    null,
                    null,
                    null,
                    null,
                    null,
                    null,
                    null,
                    null,
                    null,
                    null,
                    null,
                    null,
                    null,
                    null,
                    null,
                    null,
                    null,
                    null,
                    null,
                    null,
                    null,
                    null,
                    null,
                    0.947,
                    null,
                    null,
                    null,
                    null,
                    null,
                    null,
                    null,
                    null,
                    null,
                    null,
                    null,
                    null,
                    null,
                    null,
                    null,
                    null,
                    null,
                    null,
                    null,
                    null,
                    null,
                    null,
                    null,
                    null,
                    null,
                    null,
                    null,
                    null,
                    null,
                    null,
                    null,
                    null,
                    null,
                    null,
                    null,
                    null,
                    null,
                    null,
                    null,
                    null,
                    null,
                    null,
                    null,
                    null,
                    null,
                    null,
                    null,
                    null,
                    null,
                    null,
                    null,
                    null,
                    null,
                    null,
                    null,
                    null,
                    null,
                    null,
                    null,
                    null,
                    null,
                    null,
                    null,
                    null,
                    null,
                    null,
                    null,
                    null,
                    null,
                    null,
                    null,
                    null,
                    null,
                    null,
                    null,
                    null,
                    null,
                    null,
                    null,
                    null,
                    null,
                    null,
                    null,
                    null,
                    null,
                    null,
                    null,
                    null,
                    null,
                    null,
                    null,
                    null,
                    null,
                    null,
                    null,
                    null,
                    null,
                    null,
                    null,
                    null,
                    null,
                    null,
                    null,
                    null,
                    null,
                    null,
                    null,
                    null,
                    null,
                    null,
                    null,
                    null,
                    null,
                    null,
                    null,
                    null,
                    null,
                    null,
                    null,
                    null,
                    null,
                    null,
                    null,
                    null,
                    null,
                    null,
                    null,
                    null,
                    19.8,
                    0.34,
                    0.4,
                    1.54,
                    null,
                    null,
                    null,
                    null,
                    null,
                    null,
                    null,
                    null,
                    null,
                    null,
                    null,
                    null,
                    null,
                    null,
                    null,
                    null,
                    null,
                    null,
                    null,
                    null,
                    null,
                    null,
                    null,
                    null,
                    null,
                    null,
                    null,
                    null,
                    null,
                    null,
                    null,
                    null,
                    null,
                    null,
                    null,
                    null,
                    null,
                    null,
                    null,
                    null,
                    null,
                    null,
                    null,
                    null,
                    null,
                    null,
                    null,
                    null,
                    null,
                    null,
                    null,
                    null,
                    null,
                    null,
                    null,
                    null,
                    null,
                    null,
                    null,
                    null,
                    null,
                    null,
                    null,
                    null,
                    null,
                    null,
                    null,
                    null,
                    null,
                    null,
                    null,
                    null,
                    null,
                    null,
                    null,
                    null,
                    null,
                    null,
                    null,
                    null,
                    null,
                    null,
                    null,
                    null,
                    null,
                    null,
                    null,
                    null,
                    null,
                    null,
                    null,
                    null,
                    null,
                    null,
                    null,
                    null,
                    null,
                    null,
                    null,
                    null,
                    null,
                    null,
                    null,
                    null,
                    null,
                    null,
                    null,
                    null,
                    null,
                    null,
                    null,
                    null,
                    null,
                    null,
                    null,
                    null,
                    null,
                    null
                  ],
                  "xaxis": "x",
                  "yaxis": "y"
                },
                {
                  "alignmentgroup": "True",
                  "customdata": [
                    [
                      "Radial Velocity",
                      1,
                      269.3,
                      77.4,
                      2006
                    ],
                    [
                      "Radial Velocity",
                      1,
                      874.774,
                      56.95,
                      2008
                    ],
                    [
                      "Radial Velocity",
                      1,
                      763,
                      19.84,
                      2011
                    ],
                    [
                      "Radial Velocity",
                      1,
                      326.03,
                      110.62,
                      2007
                    ],
                    [
                      "Radial Velocity",
                      1,
                      516.22,
                      119.47,
                      2009
                    ],
                    [
                      "Radial Velocity",
                      1,
                      185.84,
                      76.39,
                      2008
                    ],
                    [
                      "Radial Velocity",
                      1,
                      1773.4,
                      18.15,
                      2002
                    ],
                    [
                      "Radial Velocity",
                      1,
                      798.5,
                      21.41,
                      1996
                    ],
                    [
                      "Radial Velocity",
                      1,
                      993.3,
                      73.1,
                      2008
                    ],
                    [
                      "Radial Velocity",
                      2,
                      452.8,
                      74.79,
                      2010
                    ],
                    [
                      "Radial Velocity",
                      2,
                      883,
                      74.79,
                      2010
                    ],
                    [
                      "Radial Velocity",
                      1,
                      335.1,
                      39.43,
                      2009
                    ],
                    [
                      "Radial Velocity",
                      1,
                      479.1,
                      97.28,
                      2008
                    ],
                    [
                      "Radial Velocity",
                      3,
                      1078,
                      14.08,
                      1996
                    ],
                    [
                      "Radial Velocity",
                      3,
                      2391,
                      14.08,
                      2001
                    ],
                    [
                      "Radial Velocity",
                      3,
                      14002,
                      14.08,
                      2009
                    ],
                    [
                      "Radial Velocity",
                      1,
                      4.230785,
                      15.36,
                      1995
                    ],
                    [
                      "Radial Velocity",
                      5,
                      14.651,
                      12.53,
                      1996
                    ],
                    [
                      "Radial Velocity",
                      5,
                      44.38,
                      12.53,
                      2004
                    ],
                    [
                      "Radial Velocity",
                      5,
                      4909,
                      12.53,
                      2002
                    ],
                    [
                      "Radial Velocity",
                      5,
                      0.73654,
                      12.53,
                      2011
                    ],
                    [
                      "Radial Velocity",
                      5,
                      261.2,
                      12.53,
                      2007
                    ],
                    [
                      "Radial Velocity",
                      3,
                      4.215,
                      8.52,
                      2009
                    ],
                    [
                      "Radial Velocity",
                      3,
                      38.021,
                      8.52,
                      2009
                    ],
                    [
                      "Radial Velocity",
                      3,
                      123.01,
                      8.52,
                      2009
                    ],
                    [
                      "Radial Velocity",
                      1,
                      116.6884,
                      18.11,
                      1996
                    ],
                    [
                      "Radial Velocity",
                      1,
                      691.9,
                      81.5,
                      2012
                    ],
                    [
                      "Radial Velocity",
                      1,
                      952.7,
                      97.18,
                      2008
                    ],
                    [
                      "Radial Velocity",
                      1,
                      181.4,
                      45.52,
                      2013
                    ],
                    [
                      "Imaging",
                      1,
                      null,
                      45.52,
                      2005
                    ],
                    [
                      "Imaging",
                      1,
                      null,
                      165,
                      2007
                    ],
                    [
                      "Imaging",
                      1,
                      null,
                      140,
                      2004
                    ],
                    [
                      "Eclipse Timing Variations",
                      1,
                      10220,
                      null,
                      2009
                    ],
                    [
                      "Imaging",
                      1,
                      null,
                      null,
                      2008
                    ],
                    [
                      "Imaging",
                      1,
                      null,
                      145,
                      2013
                    ],
                    [
                      "Imaging",
                      1,
                      null,
                      139,
                      2004
                    ],
                    [
                      "Imaging",
                      1,
                      null,
                      18.39,
                      2006
                    ],
                    [
                      "Eclipse Timing Variations",
                      2,
                      5767,
                      130.72,
                      2008
                    ],
                    [
                      "Eclipse Timing Variations",
                      2,
                      3321,
                      130.72,
                      2008
                    ],
                    [
                      "Eclipse Timing Variations",
                      2,
                      5573.55,
                      500,
                      2010
                    ],
                    [
                      "Eclipse Timing Variations",
                      2,
                      2883.5,
                      500,
                      2010
                    ],
                    [
                      "Eclipse Timing Variations",
                      1,
                      2900,
                      null,
                      2011
                    ],
                    [
                      "Eclipse Timing Variations",
                      1,
                      4343.5,
                      null,
                      2012
                    ],
                    [
                      "Eclipse Timing Variations",
                      2,
                      5840,
                      null,
                      2011
                    ],
                    [
                      "Eclipse Timing Variations",
                      2,
                      1916.25,
                      null,
                      2011
                    ],
                    [
                      "Radial Velocity",
                      1,
                      380.8,
                      20.21,
                      2010
                    ],
                    [
                      "Radial Velocity",
                      1,
                      3.2357,
                      1.35,
                      2012
                    ],
                    [
                      "Imaging",
                      1,
                      6000,
                      19.28,
                      2008
                    ],
                    [
                      "Radial Velocity",
                      1,
                      2502,
                      3.22,
                      2000
                    ],
                    [
                      "Radial Velocity",
                      1,
                      417.9,
                      70.42,
                      2012
                    ],
                    [
                      "Radial Velocity",
                      1,
                      594.9,
                      47.53,
                      2006
                    ],
                    [
                      "Radial Velocity",
                      1,
                      428.5,
                      38.52,
                      2009
                    ],
                    [
                      "Radial Velocity",
                      1,
                      903.3,
                      13.79,
                      2003
                    ],
                    [
                      "Radial Velocity",
                      1,
                      1251,
                      31.12,
                      2007
                    ],
                    [
                      "Imaging",
                      1,
                      null,
                      52.03,
                      2012
                    ],
                    [
                      "Radial Velocity",
                      1,
                      136.75,
                      62.66,
                      2007
                    ],
                    [
                      "Radial Velocity",
                      2,
                      530.32,
                      46.84,
                      2012
                    ],
                    [
                      "Radial Velocity",
                      2,
                      3186,
                      46.84,
                      2012
                    ],
                    [
                      "Radial Velocity",
                      1,
                      277.02,
                      80.64,
                      2013
                    ],
                    [
                      "Radial Velocity",
                      1,
                      187.83,
                      84.03,
                      2012
                    ],
                    [
                      "Radial Velocity",
                      1,
                      1630,
                      56.31,
                      2012
                    ],
                    [
                      "Radial Velocity",
                      1,
                      39.845,
                      17.43,
                      1997
                    ],
                    [
                      "Radial Velocity",
                      1,
                      3.3135,
                      15.6,
                      1996
                    ],
                    [
                      "Radial Velocity",
                      1,
                      305.5,
                      92.51,
                      2013
                    ],
                    [
                      "Radial Velocity",
                      4,
                      4.617033,
                      13.47,
                      1996
                    ],
                    [
                      "Radial Velocity",
                      4,
                      241.258,
                      13.47,
                      1999
                    ],
                    [
                      "Radial Velocity",
                      4,
                      1276.46,
                      13.47,
                      1999
                    ],
                    [
                      "Radial Velocity",
                      4,
                      3848.86,
                      13.47,
                      2010
                    ],
                    [
                      "Imaging",
                      1,
                      318280,
                      7.69,
                      2008
                    ],
                    [
                      "Imaging",
                      1,
                      null,
                      145,
                      2008
                    ],
                    [
                      "Imaging",
                      1,
                      null,
                      36,
                      2013
                    ],
                    [
                      "Imaging",
                      1,
                      null,
                      140,
                      2010
                    ],
                    [
                      "Imaging",
                      1,
                      4639.15,
                      12.21,
                      2009
                    ],
                    [
                      "Imaging",
                      1,
                      null,
                      52.4,
                      2004
                    ],
                    [
                      "Imaging",
                      1,
                      7336.5,
                      25,
                      2009
                    ],
                    [
                      "Imaging",
                      1,
                      8679.7,
                      26.67,
                      2009
                    ],
                    [
                      "Radial Velocity",
                      1,
                      655.6,
                      37.54,
                      2008
                    ],
                    [
                      "Radial Velocity",
                      1,
                      714.3,
                      null,
                      2007
                    ],
                    [
                      "Radial Velocity",
                      1,
                      3.48777,
                      80,
                      2000
                    ],
                    [
                      "Radial Velocity",
                      2,
                      5.6,
                      42.09,
                      2009
                    ],
                    [
                      "Radial Velocity",
                      2,
                      237.6,
                      42.09,
                      2009
                    ],
                    [
                      "Radial Velocity",
                      2,
                      3.8728,
                      20.1,
                      2013
                    ],
                    [
                      "Radial Velocity",
                      2,
                      125.94,
                      20.1,
                      2013
                    ],
                    [
                      "Radial Velocity",
                      1,
                      268.94,
                      50.03,
                      2009
                    ],
                    [
                      "Radial Velocity",
                      1,
                      137.48,
                      175.44,
                      2013
                    ],
                    [
                      "Radial Velocity",
                      2,
                      379.63,
                      null,
                      2009
                    ],
                    [
                      "Radial Velocity",
                      2,
                      621.99,
                      null,
                      2009
                    ],
                    [
                      "Radial Velocity",
                      1,
                      578.2,
                      null,
                      2012
                    ],
                    [
                      "Radial Velocity",
                      1,
                      392.6,
                      null,
                      2011
                    ],
                    [
                      "Imaging",
                      1,
                      10037.5,
                      23.1,
                      2011
                    ],
                    [
                      "Imaging",
                      1,
                      null,
                      null,
                      2006
                    ],
                    [
                      "Transit",
                      1,
                      1.5089557,
                      null,
                      2008
                    ],
                    [
                      "Transit",
                      1,
                      1.7429935,
                      200,
                      2008
                    ],
                    [
                      "Transit",
                      1,
                      4.2568,
                      680,
                      2008
                    ],
                    [
                      "Transit",
                      1,
                      9.20205,
                      null,
                      2008
                    ],
                    [
                      "Transit",
                      1,
                      4.0378962,
                      null,
                      2009
                    ],
                    [
                      "Transit",
                      1,
                      8.886593,
                      null,
                      2009
                    ],
                    [
                      "Transit",
                      2,
                      0.853585,
                      150,
                      2009
                    ],
                    [
                      "Radial Velocity",
                      2,
                      3.698,
                      150,
                      2009
                    ],
                    [
                      "Transit",
                      1,
                      6.21229,
                      380,
                      2010
                    ],
                    [
                      "Transit",
                      1,
                      95.2738,
                      460,
                      2009
                    ],
                    [
                      "Transit",
                      1,
                      13.2406,
                      345,
                      2010
                    ],
                    [
                      "Transit",
                      1,
                      2.99433,
                      560,
                      2010
                    ],
                    [
                      "Transit",
                      1,
                      2.828042,
                      1150,
                      2010
                    ],
                    [
                      "Transit",
                      1,
                      4.03519,
                      1060,
                      2010
                    ],
                    [
                      "Transit",
                      1,
                      1.51214,
                      1340,
                      2010
                    ],
                    [
                      "Transit",
                      1,
                      5.35227,
                      840,
                      2011
                    ],
                    [
                      "Transit",
                      1,
                      3.7681,
                      920,
                      2011
                    ],
                    [
                      "Transit",
                      1,
                      1.9000693,
                      870,
                      2011
                    ],
                    [
                      "Transit",
                      1,
                      3.89713,
                      770,
                      2011
                    ],
                    [
                      "Transit",
                      1,
                      9.24285,
                      1230,
                      2011
                    ],
                    [
                      "Transit",
                      1,
                      3.6313,
                      600,
                      2011
                    ],
                    [
                      "Transit",
                      1,
                      3.57532,
                      null,
                      2014
                    ],
                    [
                      "Astrometry",
                      1,
                      246.36,
                      20.77,
                      2013
                    ],
                    [
                      "Radial Velocity",
                      1,
                      15.76491,
                      10.91,
                      1999
                    ],
                    [
                      "Radial Velocity",
                      3,
                      8.631,
                      14.97,
                      2013
                    ],
                    [
                      "Radial Velocity",
                      3,
                      25.6,
                      14.97,
                      2013
                    ],
                    [
                      "Radial Velocity",
                      3,
                      603,
                      14.97,
                      2013
                    ],
                    [
                      "Radial Velocity",
                      1,
                      2288,
                      12.12,
                      2009
                    ],
                    [
                      "Radial Velocity",
                      2,
                      692,
                      15.1,
                      2007
                    ],
                    [
                      "Radial Velocity",
                      2,
                      7100,
                      15.1,
                      2011
                    ],
                    [
                      "Radial Velocity",
                      1,
                      4100,
                      20.03,
                      2013
                    ],
                    [
                      "Radial Velocity",
                      1,
                      7.3709,
                      9.04,
                      2011
                    ],
                    [
                      "Radial Velocity",
                      1,
                      2.64385,
                      10.23,
                      2004
                    ],
                    [
                      "Imaging",
                      1,
                      null,
                      17.95,
                      2013
                    ],
                    [
                      "Radial Velocity",
                      4,
                      5.36874,
                      6.27,
                      2005
                    ],
                    [
                      "Radial Velocity",
                      4,
                      12.9292,
                      6.27,
                      2005
                    ],
                    [
                      "Radial Velocity",
                      4,
                      66.8,
                      6.27,
                      2005
                    ],
                    [
                      "Radial Velocity",
                      4,
                      3.14942,
                      6.27,
                      2005
                    ],
                    [
                      "Radial Velocity",
                      1,
                      598.3,
                      10.32,
                      2009
                    ],
                    [
                      "Radial Velocity",
                      6,
                      7.2004,
                      6.8,
                      2011
                    ],
                    [
                      "Radial Velocity",
                      6,
                      28.14,
                      6.8,
                      2011
                    ],
                    [
                      "Radial Velocity",
                      6,
                      91.61,
                      6.8,
                      2013
                    ],
                    [
                      "Radial Velocity",
                      6,
                      62.24,
                      6.8,
                      2013
                    ],
                    [
                      "Radial Velocity",
                      6,
                      39.026,
                      6.8,
                      2013
                    ],
                    [
                      "Radial Velocity",
                      6,
                      256.2,
                      6.8,
                      2013
                    ],
                    [
                      "Radial Velocity",
                      1,
                      4.6938,
                      4.54,
                      2007
                    ],
                    [
                      "Radial Velocity",
                      3,
                      1050.3,
                      16.13,
                      2010
                    ],
                    [
                      "Radial Velocity",
                      3,
                      3.6,
                      16.13,
                      2012
                    ],
                    [
                      "Radial Velocity",
                      3,
                      35.37,
                      16.13,
                      2012
                    ],
                    [
                      "Radial Velocity",
                      1,
                      3416,
                      4.94,
                      2008
                    ],
                    [
                      "Radial Velocity",
                      1,
                      1845,
                      8.77,
                      2006
                    ],
                    [
                      "Radial Velocity",
                      4,
                      61.1166,
                      4.7,
                      1998
                    ],
                    [
                      "Radial Velocity",
                      4,
                      30.0881,
                      4.7,
                      2000
                    ],
                    [
                      "Radial Velocity",
                      4,
                      1.93778,
                      4.7,
                      2005
                    ],
                    [
                      "Radial Velocity",
                      4,
                      124.26,
                      4.7,
                      2010
                    ],
                    [
                      "Transit",
                      1,
                      1.58040482,
                      null,
                      2009
                    ],
                    [
                      "Radial Velocity",
                      1,
                      133.71,
                      17.62,
                      2000
                    ],
                    [
                      "Radial Velocity",
                      1,
                      3.33714,
                      25.2,
                      2012
                    ],
                    [
                      "Radial Velocity",
                      1,
                      2.64561,
                      19.8,
                      2010
                    ],
                    [
                      "Imaging",
                      1,
                      null,
                      145,
                      2010
                    ],
                    [
                      "Transit",
                      1,
                      4.4652934,
                      139,
                      2006
                    ],
                    [
                      "Transit",
                      1,
                      5.6334729,
                      135.32,
                      2007
                    ],
                    [
                      "Transit",
                      1,
                      2.899736,
                      138,
                      2007
                    ],
                    [
                      "Transit",
                      1,
                      3.056536,
                      314,
                      2007
                    ],
                    [
                      "Transit",
                      1,
                      2.788491,
                      342,
                      2007
                    ],
                    [
                      "Transit",
                      1,
                      3.852985,
                      261,
                      2007
                    ],
                    [
                      "Transit",
                      1,
                      3.0763776,
                      230,
                      2008
                    ],
                    [
                      "Transit",
                      1,
                      3.92289,
                      480,
                      2008
                    ],
                    [
                      "Transit",
                      1,
                      3.2130598,
                      142.5,
                      2009
                    ],
                    [
                      "Transit",
                      2,
                      2.91626,
                      214,
                      2009
                    ],
                    [
                      "Radial Velocity",
                      2,
                      428.5,
                      214,
                      2009
                    ],
                    [
                      "Transit",
                      1,
                      4.627669,
                      205,
                      2010
                    ],
                    [
                      "Transit",
                      1,
                      10.863502,
                      190,
                      2010
                    ],
                    [
                      "Transit",
                      1,
                      2.77596,
                      235,
                      2010
                    ],
                    [
                      "Transit",
                      2,
                      10.338523,
                      90,
                      2010
                    ],
                    [
                      "Radial Velocity",
                      2,
                      5584,
                      90,
                      2010
                    ],
                    [
                      "Transit",
                      1,
                      5.508023,
                      166,
                      2010
                    ],
                    [
                      "Transit",
                      1,
                      4.008778,
                      215,
                      2010
                    ],
                    [
                      "Transit",
                      1,
                      2.875317,
                      70,
                      2010
                    ],
                    [
                      "Transit",
                      1,
                      4.124481,
                      254,
                      2010
                    ],
                    [
                      "Transit",
                      1,
                      3.21222,
                      82,
                      2010
                    ],
                    [
                      "Transit",
                      1,
                      1.212884,
                      393,
                      2010
                    ],
                    [
                      "Transit",
                      1,
                      3.35524,
                      396,
                      2010
                    ],
                    [
                      "Transit",
                      1,
                      3.652836,
                      297,
                      2010
                    ],
                    [
                      "Transit",
                      1,
                      4.234516,
                      134,
                      2010
                    ],
                    [
                      "Transit",
                      1,
                      3.039577,
                      204,
                      2011
                    ],
                    [
                      "Transit",
                      1,
                      3.257215,
                      395,
                      2011
                    ],
                    [
                      "Transit",
                      1,
                      5.723186,
                      322,
                      2011
                    ],
                    [
                      "Transit",
                      1,
                      2.810595,
                      193,
                      2011
                    ],
                    [
                      "Transit",
                      2,
                      5.005425,
                      354,
                      2011
                    ],
                    [
                      "Radial Velocity",
                      2,
                      1022,
                      354,
                      2011
                    ],
                    [
                      "Transit",
                      1,
                      2.150008,
                      283,
                      2011
                    ],
                    [
                      "Transit",
                      1,
                      3.474474,
                      387,
                      2011
                    ],
                    [
                      "Transit",
                      1,
                      5.452654,
                      257,
                      2011
                    ],
                    [
                      "Transit",
                      1,
                      3.646706,
                      535,
                      2011
                    ],
                    [
                      "Transit",
                      1,
                      1.327347,
                      317,
                      2011
                    ],
                    [
                      "Transit",
                      1,
                      2.797436,
                      411,
                      2011
                    ],
                    [
                      "Transit",
                      1,
                      4.640382,
                      249,
                      2012
                    ],
                    [
                      "Transit",
                      1,
                      3.54387,
                      642,
                      2012
                    ],
                    [
                      "Transit",
                      1,
                      4.457243,
                      501,
                      2012
                    ],
                    [
                      "Transit",
                      1,
                      2.694047,
                      344,
                      2012
                    ],
                    [
                      "Transit",
                      1,
                      4.641878,
                      447,
                      2012
                    ],
                    [
                      "Transit",
                      1,
                      3.332687,
                      542,
                      2012
                    ],
                    [
                      "Transit",
                      1,
                      2.691548,
                      322,
                      2014
                    ],
                    [
                      "Transit",
                      1,
                      3.446459,
                      303,
                      2012
                    ],
                    [
                      "Transit",
                      1,
                      1.354133,
                      360,
                      2013
                    ],
                    [
                      "Transit",
                      1,
                      3.547851,
                      453,
                      2013
                    ],
                    [
                      "Radial Velocity",
                      2,
                      349.7,
                      25.64,
                      2001
                    ],
                    [
                      "Radial Velocity",
                      2,
                      6005,
                      25.64,
                      2012
                    ],
                    [
                      "Radial Velocity",
                      2,
                      5.7727,
                      23.44,
                      2009
                    ],
                    [
                      "Radial Velocity",
                      2,
                      13.505,
                      23.44,
                      2011
                    ],
                    [
                      "Radial Velocity",
                      1,
                      431.8,
                      167.5,
                      2011
                    ],
                    [
                      "Radial Velocity",
                      1,
                      533,
                      7.01,
                      2010
                    ],
                    [
                      "Radial Velocity",
                      1,
                      1183,
                      89.85,
                      2002
                    ],
                    [
                      "Radial Velocity",
                      1,
                      3.4442,
                      53.71,
                      2005
                    ],
                    [
                      "Radial Velocity",
                      1,
                      311.6,
                      115.21,
                      2013
                    ],
                    [
                      "Radial Velocity",
                      1,
                      62.218,
                      11.11,
                      2003
                    ],
                    [
                      "Radial Velocity",
                      1,
                      526.62,
                      44.05,
                      2007
                    ],
                    [
                      "Radial Velocity",
                      1,
                      829,
                      32.7,
                      2001
                    ],
                    [
                      "Radial Velocity",
                      1,
                      15.609,
                      21.85,
                      2005
                    ],
                    [
                      "Radial Velocity",
                      1,
                      431.88,
                      77.82,
                      2001
                    ],
                    [
                      "Radial Velocity",
                      1,
                      356,
                      131.41,
                      2009
                    ],
                    [
                      "Radial Velocity",
                      2,
                      360.2,
                      56.5,
                      2012
                    ],
                    [
                      "Radial Velocity",
                      2,
                      2732,
                      56.5,
                      2012
                    ],
                    [
                      "Radial Velocity",
                      1,
                      675,
                      100,
                      2007
                    ],
                    [
                      "Radial Velocity",
                      1,
                      777,
                      53.28,
                      2009
                    ],
                    [
                      "Radial Velocity",
                      1,
                      792.6,
                      58.17,
                      2012
                    ],
                    [
                      "Radial Velocity",
                      1,
                      177.11,
                      150.6,
                      2011
                    ],
                    [
                      "Radial Velocity",
                      1,
                      22.09,
                      40.32,
                      2003
                    ],
                    [
                      "Radial Velocity",
                      1,
                      2496,
                      55.01,
                      2009
                    ],
                    [
                      "Radial Velocity",
                      1,
                      615,
                      35.88,
                      2011
                    ],
                    [
                      "Radial Velocity",
                      2,
                      1275,
                      38.52,
                      2011
                    ],
                    [
                      "Radial Velocity",
                      2,
                      4046,
                      38.52,
                      2011
                    ],
                    [
                      "Radial Velocity",
                      1,
                      5.3978,
                      16.82,
                      2008
                    ],
                    [
                      "Radial Velocity",
                      1,
                      1313,
                      56.34,
                      2010
                    ],
                    [
                      "Radial Velocity",
                      1,
                      227,
                      44.15,
                      2002
                    ],
                    [
                      "Radial Velocity",
                      1,
                      1634,
                      38.26,
                      2009
                    ],
                    [
                      "Radial Velocity",
                      2,
                      30.052,
                      52.85,
                      2009
                    ],
                    [
                      "Radial Velocity",
                      2,
                      192.9,
                      52.85,
                      2009
                    ],
                    [
                      "Radial Velocity",
                      6,
                      5.75962,
                      39.39,
                      2010
                    ],
                    [
                      "Radial Velocity",
                      6,
                      16.3567,
                      39.39,
                      2010
                    ],
                    [
                      "Radial Velocity",
                      6,
                      49.747,
                      39.39,
                      2010
                    ],
                    [
                      "Radial Velocity",
                      6,
                      122.72,
                      39.39,
                      2010
                    ],
                    [
                      "Radial Velocity",
                      6,
                      602,
                      39.39,
                      2010
                    ],
                    [
                      "Radial Velocity",
                      6,
                      2248,
                      39.39,
                      2010
                    ],
                    [
                      "Radial Velocity",
                      1,
                      989.2,
                      17.35,
                      2006
                    ],
                    [
                      "Radial Velocity",
                      1,
                      1075.2,
                      32.56,
                      1999
                    ],
                    [
                      "Radial Velocity",
                      2,
                      1270.2,
                      53.82,
                      2007
                    ],
                    [
                      "Radial Velocity",
                      2,
                      170.455,
                      53.82,
                      2008
                    ],
                    [
                      "Radial Velocity",
                      1,
                      711,
                      66.49,
                      2005
                    ],
                    [
                      "Radial Velocity",
                      2,
                      1945,
                      33.98,
                      2005
                    ],
                    [
                      "Radial Velocity",
                      2,
                      37.91,
                      33.98,
                      2008
                    ],
                    [
                      "Radial Velocity",
                      2,
                      262.709,
                      37.16,
                      2000
                    ],
                    [
                      "Radial Velocity",
                      2,
                      1708,
                      37.16,
                      2002
                    ],
                    [
                      "Radial Velocity",
                      1,
                      471.6,
                      300.3,
                      2005
                    ],
                    [
                      "Radial Velocity",
                      2,
                      14.182,
                      28.6,
                      2011
                    ],
                    [
                      "Radial Velocity",
                      2,
                      53.832,
                      28.6,
                      2011
                    ],
                    [
                      "Radial Velocity",
                      2,
                      19.382,
                      66.89,
                      2013
                    ],
                    [
                      "Radial Velocity",
                      2,
                      931,
                      66.89,
                      2013
                    ],
                    [
                      "Radial Velocity",
                      1,
                      4218,
                      45.52,
                      2009
                    ],
                    [
                      "Radial Velocity",
                      1,
                      75.523,
                      35.91,
                      2000
                    ],
                    [
                      "Radial Velocity",
                      1,
                      17.24,
                      25.54,
                      2008
                    ],
                    [
                      "Radial Velocity",
                      1,
                      990,
                      59.84,
                      2009
                    ],
                    [
                      "Radial Velocity",
                      1,
                      465.1,
                      50.18,
                      2009
                    ],
                    [
                      "Radial Velocity",
                      1,
                      359.9,
                      null,
                      2007
                    ],
                    [
                      "Radial Velocity",
                      1,
                      21.21663,
                      78.25,
                      2007
                    ],
                    [
                      "Radial Velocity",
                      1,
                      772,
                      127.88,
                      2011
                    ],
                    [
                      "Radial Velocity",
                      1,
                      466.2,
                      22.38,
                      2003
                    ],
                    [
                      "Radial Velocity",
                      2,
                      11.849,
                      43.08,
                      2011
                    ],
                    [
                      "Radial Velocity",
                      2,
                      33.823,
                      43.08,
                      2011
                    ],
                    [
                      "Radial Velocity",
                      1,
                      500,
                      27.13,
                      2002
                    ],
                    [
                      "Radial Velocity",
                      3,
                      18.315,
                      6.06,
                      2011
                    ],
                    [
                      "Radial Velocity",
                      3,
                      40.114,
                      6.06,
                      2011
                    ],
                    [
                      "Radial Velocity",
                      3,
                      90.309,
                      6.06,
                      2011
                    ],
                    [
                      "Radial Velocity",
                      2,
                      29.15,
                      35.89,
                      2011
                    ],
                    [
                      "Radial Velocity",
                      2,
                      85.131,
                      35.89,
                      2011
                    ],
                    [
                      "Radial Velocity",
                      1,
                      591.9,
                      36.02,
                      2006
                    ],
                    [
                      "Radial Velocity",
                      1,
                      380.85,
                      44.5,
                      2008
                    ],
                    [
                      "Radial Velocity",
                      2,
                      22.656,
                      32.31,
                      2011
                    ],
                    [
                      "Radial Velocity",
                      2,
                      53.881,
                      32.31,
                      2011
                    ],
                    [
                      "Radial Velocity",
                      1,
                      1214,
                      89.13,
                      2006
                    ],
                    [
                      "Radial Velocity",
                      1,
                      738.459,
                      34.6,
                      2001
                    ],
                    [
                      "Radial Velocity",
                      1,
                      528.07,
                      31.79,
                      2011
                    ],
                    [
                      "Radial Velocity",
                      1,
                      1561,
                      51.97,
                      2003
                    ],
                    [
                      "Radial Velocity",
                      1,
                      3668,
                      46.51,
                      2006
                    ],
                    [
                      "Radial Velocity",
                      1,
                      1845,
                      56.05,
                      2010
                    ],
                    [
                      "Radial Velocity",
                      1,
                      423.841,
                      18.24,
                      2000
                    ],
                    [
                      "Radial Velocity",
                      1,
                      2208,
                      44.54,
                      2012
                    ],
                    [
                      "Radial Velocity",
                      1,
                      17.991,
                      42.37,
                      2005
                    ],
                    [
                      "Radial Velocity",
                      1,
                      1117,
                      56.18,
                      2010
                    ],
                    [
                      "Radial Velocity",
                      1,
                      385.9,
                      39.56,
                      2001
                    ],
                    [
                      "Radial Velocity",
                      1,
                      387.1,
                      168.92,
                      2011
                    ],
                    [
                      "Radial Velocity",
                      1,
                      2819.654,
                      54.71,
                      2002
                    ],
                    [
                      "Radial Velocity",
                      1,
                      1159.2,
                      26.5,
                      2009
                    ],
                    [
                      "Radial Velocity",
                      1,
                      912,
                      121.07,
                      2011
                    ],
                    [
                      "Radial Velocity",
                      1,
                      466,
                      53.82,
                      2010
                    ],
                    [
                      "Radial Velocity",
                      3,
                      16.546,
                      38.01,
                      2011
                    ],
                    [
                      "Radial Velocity",
                      3,
                      51.284,
                      38.01,
                      2011
                    ],
                    [
                      "Radial Velocity",
                      3,
                      274.49,
                      38.01,
                      2011
                    ],
                    [
                      "Radial Velocity",
                      1,
                      326.6,
                      136.8,
                      2011
                    ],
                    [
                      "Radial Velocity",
                      1,
                      18.179,
                      86.88,
                      2006
                    ],
                    [
                      "Radial Velocity",
                      1,
                      157.54,
                      117.37,
                      2009
                    ],
                    [
                      "Radial Velocity",
                      1,
                      1049,
                      45.01,
                      2009
                    ],
                    [
                      "Radial Velocity",
                      1,
                      388,
                      20.98,
                      2005
                    ],
                    [
                      "Radial Velocity",
                      1,
                      363.2,
                      37.78,
                      2010
                    ],
                    [
                      "Radial Velocity",
                      3,
                      154.46,
                      33.24,
                      2002
                    ],
                    [
                      "Radial Velocity",
                      3,
                      2295,
                      33.24,
                      2002
                    ],
                    [
                      "Radial Velocity",
                      3,
                      843.6,
                      33.24,
                      2005
                    ],
                    [
                      "Radial Velocity",
                      1,
                      2063.818,
                      18.21,
                      2001
                    ],
                    [
                      "Radial Velocity",
                      2,
                      55,
                      42.88,
                      2004
                    ],
                    [
                      "Radial Velocity",
                      2,
                      2720,
                      42.88,
                      2012
                    ],
                    [
                      "Radial Velocity",
                      3,
                      5.6363,
                      25.59,
                      2011
                    ],
                    [
                      "Radial Velocity",
                      3,
                      14.025,
                      25.59,
                      2011
                    ],
                    [
                      "Radial Velocity",
                      3,
                      33.941,
                      25.59,
                      2011
                    ],
                    [
                      "Radial Velocity",
                      2,
                      14.3098,
                      42.43,
                      2000
                    ],
                    [
                      "Radial Velocity",
                      2,
                      2140.2,
                      42.43,
                      2000
                    ],
                    [
                      "Radial Velocity",
                      1,
                      696.3,
                      99.4,
                      2009
                    ],
                    [
                      "Radial Velocity",
                      1,
                      407.15,
                      15.56,
                      2011
                    ],
                    [
                      "Radial Velocity",
                      6,
                      4.3123,
                      12.83,
                      2008
                    ],
                    [
                      "Radial Velocity",
                      6,
                      9.6184,
                      12.83,
                      2008
                    ],
                    [
                      "Radial Velocity",
                      6,
                      20.432,
                      12.83,
                      2008
                    ],
                    [
                      "Radial Velocity",
                      6,
                      34.62,
                      12.83,
                      2012
                    ],
                    [
                      "Radial Velocity",
                      6,
                      51.76,
                      12.83,
                      2012
                    ],
                    [
                      "Radial Velocity",
                      6,
                      197.8,
                      12.83,
                      2012
                    ],
                    [
                      "Radial Velocity",
                      1,
                      264.15,
                      33.33,
                      2002
                    ],
                    [
                      "Radial Velocity",
                      1,
                      963,
                      43.03,
                      2004
                    ],
                    [
                      "Radial Velocity",
                      1,
                      1.3283,
                      43.03,
                      2003
                    ],
                    [
                      "Radial Velocity",
                      2,
                      18.357,
                      52.03,
                      2013
                    ],
                    [
                      "Radial Velocity",
                      2,
                      25.648,
                      52.03,
                      2013
                    ],
                    [
                      "Radial Velocity",
                      1,
                      327.8,
                      54.94,
                      2010
                    ],
                    [
                      "Radial Velocity",
                      1,
                      2371,
                      37.05,
                      2008
                    ],
                    [
                      "Radial Velocity",
                      1,
                      36.96,
                      93.2,
                      2007
                    ],
                    [
                      "Radial Velocity",
                      1,
                      472,
                      50.43,
                      2010
                    ],
                    [
                      "Radial Velocity",
                      1,
                      5.8872,
                      22.04,
                      2011
                    ],
                    [
                      "Radial Velocity",
                      2,
                      226.93,
                      32.58,
                      2008
                    ],
                    [
                      "Radial Velocity",
                      2,
                      342.85,
                      32.58,
                      2008
                    ],
                    [
                      "Radial Velocity",
                      1,
                      890.76,
                      48.95,
                      2004
                    ],
                    [
                      "Radial Velocity",
                      1,
                      43.6,
                      36.14,
                      2008
                    ],
                    [
                      "Radial Velocity",
                      1,
                      3.024,
                      33.41,
                      2000
                    ],
                    [
                      "Radial Velocity",
                      2,
                      4.0845,
                      37.84,
                      2008
                    ],
                    [
                      "Radial Velocity",
                      2,
                      1353.6,
                      37.84,
                      2008
                    ],
                    [
                      "Radial Velocity",
                      2,
                      430,
                      121.36,
                      2002
                    ],
                    [
                      "Radial Velocity",
                      2,
                      2500,
                      121.36,
                      2008
                    ],
                    [
                      "Radial Velocity",
                      1,
                      700,
                      87.41,
                      2008
                    ],
                    [
                      "Radial Velocity",
                      1,
                      4.9437,
                      40.73,
                      2002
                    ],
                    [
                      "Radial Velocity",
                      1,
                      2582.7,
                      47.26,
                      2005
                    ],
                    [
                      "Radial Velocity",
                      1,
                      1279,
                      31.03,
                      2002
                    ],
                    [
                      "Radial Velocity",
                      2,
                      14.07,
                      34.07,
                      2011
                    ],
                    [
                      "Radial Velocity",
                      2,
                      95.415,
                      34.07,
                      2011
                    ],
                    [
                      "Radial Velocity",
                      1,
                      118.96,
                      28.07,
                      2000
                    ],
                    [
                      "Radial Velocity",
                      1,
                      303,
                      92.51,
                      2003
                    ],
                    [
                      "Radial Velocity",
                      2,
                      201.83,
                      25.7,
                      2008
                    ],
                    [
                      "Radial Velocity",
                      2,
                      607.06,
                      25.7,
                      2008
                    ],
                    [
                      "Radial Velocity",
                      1,
                      2.817822,
                      35.8,
                      2005
                    ],
                    [
                      "Radial Velocity",
                      1,
                      589.64,
                      10.34,
                      2006
                    ],
                    [
                      "Radial Velocity",
                      1,
                      358,
                      32.62,
                      2009
                    ],
                    [
                      "Radial Velocity",
                      2,
                      572.4,
                      35.59,
                      2003
                    ],
                    [
                      "Radial Velocity",
                      2,
                      152.6,
                      35.59,
                      2011
                    ],
                    [
                      "Radial Velocity",
                      1,
                      480.5,
                      80.06,
                      2012
                    ],
                    [
                      "Radial Velocity",
                      1,
                      1973,
                      55.04,
                      2005
                    ],
                    [
                      "Radial Velocity",
                      1,
                      6.276,
                      58.82,
                      2001
                    ],
                    [
                      "Radial Velocity",
                      3,
                      8.667,
                      12.58,
                      2006
                    ],
                    [
                      "Radial Velocity",
                      3,
                      31.56,
                      12.58,
                      2006
                    ],
                    [
                      "Radial Velocity",
                      3,
                      197,
                      12.58,
                      2006
                    ],
                    [
                      "Radial Velocity",
                      1,
                      851.8,
                      null,
                      2007
                    ],
                    [
                      "Radial Velocity",
                      1,
                      2231,
                      28.76,
                      2003
                    ],
                    [
                      "Radial Velocity",
                      1,
                      3383,
                      51.36,
                      2002
                    ],
                    [
                      "Radial Velocity",
                      1,
                      1260,
                      53.05,
                      2008
                    ],
                    [
                      "Radial Velocity",
                      1,
                      2.54858,
                      36.52,
                      2003
                    ],
                    [
                      "Radial Velocity",
                      2,
                      188.9,
                      94.61,
                      2002
                    ],
                    [
                      "Radial Velocity",
                      2,
                      379.1,
                      94.61,
                      2005
                    ],
                    [
                      "Radial Velocity",
                      1,
                      1800,
                      96.99,
                      2008
                    ],
                    [
                      "Radial Velocity",
                      3,
                      51.645,
                      64.56,
                      2003
                    ],
                    [
                      "Radial Velocity",
                      3,
                      2473,
                      64.56,
                      2003
                    ],
                    [
                      "Radial Velocity",
                      3,
                      346.6,
                      64.56,
                      2007
                    ],
                    [
                      "Radial Velocity",
                      1,
                      3.51,
                      28.94,
                      1999
                    ],
                    [
                      "Radial Velocity",
                      1,
                      418.2,
                      80.58,
                      2007
                    ],
                    [
                      "Radial Velocity",
                      1,
                      3.971,
                      59.7,
                      2002
                    ],
                    [
                      "Radial Velocity",
                      1,
                      5.7361,
                      41.27,
                      2012
                    ],
                    [
                      "Radial Velocity",
                      1,
                      1966.1,
                      48.64,
                      2011
                    ],
                    [
                      "Radial Velocity",
                      1,
                      111.4357,
                      29.04,
                      2001
                    ],
                    [
                      "Radial Velocity",
                      1,
                      1001.7,
                      32.56,
                      2005
                    ],
                    [
                      "Radial Velocity",
                      1,
                      184.02,
                      88.26,
                      2007
                    ],
                    [
                      "Radial Velocity",
                      2,
                      441.47,
                      27.46,
                      2003
                    ],
                    [
                      "Radial Velocity",
                      2,
                      220.078,
                      27.46,
                      2003
                    ],
                    [
                      "Radial Velocity",
                      1,
                      705,
                      112.23,
                      2011
                    ],
                    [
                      "Radial Velocity",
                      1,
                      2.985625,
                      43.53,
                      2002
                    ],
                    [
                      "Radial Velocity",
                      1,
                      788,
                      33.96,
                      2009
                    ],
                    [
                      "Radial Velocity",
                      1,
                      58.43,
                      11.15,
                      2011
                    ],
                    [
                      "Radial Velocity",
                      1,
                      2.1375,
                      91.16,
                      2006
                    ],
                    [
                      "Radial Velocity",
                      1,
                      1695,
                      42.48,
                      2009
                    ],
                    [
                      "Radial Velocity",
                      1,
                      1475,
                      72.57,
                      2009
                    ],
                    [
                      "Radial Velocity",
                      1,
                      2754,
                      18.06,
                      2009
                    ],
                    [
                      "Radial Velocity",
                      1,
                      3.416,
                      74.46,
                      2004
                    ],
                    [
                      "Radial Velocity",
                      1,
                      2157,
                      30.88,
                      2009
                    ],
                    [
                      "Radial Velocity",
                      1,
                      256.78,
                      38.99,
                      1999
                    ],
                    [
                      "Radial Velocity",
                      1,
                      49.77,
                      22.09,
                      2009
                    ],
                    [
                      "Radial Velocity",
                      1,
                      325.81,
                      32.32,
                      2000
                    ],
                    [
                      "Radial Velocity",
                      1,
                      143.58,
                      28.9,
                      2005
                    ],
                    [
                      "Radial Velocity",
                      2,
                      13.186,
                      42.52,
                      2011
                    ],
                    [
                      "Radial Velocity",
                      2,
                      46.025,
                      42.52,
                      2011
                    ],
                    [
                      "Imaging",
                      1,
                      null,
                      91.57,
                      2013
                    ],
                    [
                      "Radial Velocity",
                      1,
                      507,
                      149.03,
                      2009
                    ],
                    [
                      "Radial Velocity",
                      1,
                      361.1,
                      132.8,
                      2011
                    ],
                    [
                      "Radial Velocity",
                      1,
                      498.9,
                      84.03,
                      2009
                    ],
                    [
                      "Radial Velocity",
                      1,
                      647.3,
                      221.24,
                      2011
                    ],
                    [
                      "Radial Velocity",
                      2,
                      8.1256,
                      26.21,
                      2011
                    ],
                    [
                      "Radial Velocity",
                      2,
                      103.49,
                      26.21,
                      2011
                    ],
                    [
                      "Radial Velocity",
                      1,
                      9.494,
                      21.3,
                      2010
                    ],
                    [
                      "Radial Velocity",
                      1,
                      436.9,
                      150.38,
                      2011
                    ],
                    [
                      "Radial Velocity",
                      1,
                      4951,
                      42.77,
                      2012
                    ],
                    [
                      "Radial Velocity",
                      1,
                      439.3,
                      60.46,
                      2005
                    ],
                    [
                      "Radial Velocity",
                      2,
                      17.054,
                      17.99,
                      2004
                    ],
                    [
                      "Radial Velocity",
                      2,
                      4970,
                      17.99,
                      2010
                    ],
                    [
                      "Radial Velocity",
                      1,
                      868,
                      130.89,
                      2011
                    ],
                    [
                      "Radial Velocity",
                      1,
                      157.57,
                      140.85,
                      2011
                    ],
                    [
                      "Radial Velocity",
                      1,
                      383.7,
                      52.8,
                      2007
                    ],
                    [
                      "Radial Velocity",
                      1,
                      70.46,
                      30.5,
                      2005
                    ],
                    [
                      "Radial Velocity",
                      1,
                      20.8133,
                      42,
                      2005
                    ],
                    [
                      "Radial Velocity",
                      1,
                      4.113775,
                      28.98,
                      2006
                    ],
                    [
                      "Radial Velocity",
                      2,
                      127.58,
                      164.2,
                      2008
                    ],
                    [
                      "Radial Velocity",
                      2,
                      520,
                      164.2,
                      2008
                    ],
                    [
                      "Radial Velocity",
                      1,
                      122.1,
                      9.24,
                      2010
                    ],
                    [
                      "Radial Velocity",
                      1,
                      778.1,
                      138.5,
                      2011
                    ],
                    [
                      "Radial Velocity",
                      1,
                      6.495,
                      121.07,
                      2010
                    ],
                    [
                      "Radial Velocity",
                      1,
                      47.84,
                      49.33,
                      2009
                    ],
                    [
                      "Radial Velocity",
                      1,
                      5.8881,
                      53.08,
                      2013
                    ],
                    [
                      "Radial Velocity",
                      1,
                      55.806,
                      20.82,
                      2009
                    ],
                    [
                      "Radial Velocity",
                      1,
                      199.505,
                      102.04,
                      2003
                    ],
                    [
                      "Radial Velocity",
                      1,
                      1531,
                      37.44,
                      2002
                    ],
                    [
                      "Radial Velocity",
                      1,
                      2890,
                      87.87,
                      2011
                    ],
                    [
                      "Radial Velocity",
                      1,
                      3630,
                      36.36,
                      2012
                    ],
                    [
                      "Imaging",
                      1,
                      null,
                      91.83,
                      2013
                    ],
                    [
                      "Radial Velocity",
                      1,
                      48.056,
                      51.26,
                      2005
                    ],
                    [
                      "Radial Velocity",
                      1,
                      10.8985,
                      38.56,
                      2002
                    ],
                    [
                      "Radial Velocity",
                      1,
                      443.4,
                      138.5,
                      2011
                    ],
                    [
                      "Radial Velocity",
                      2,
                      395.8,
                      68.54,
                      2002
                    ],
                    [
                      "Radial Velocity",
                      2,
                      1624,
                      68.54,
                      2005
                    ],
                    [
                      "Radial Velocity",
                      1,
                      68.27,
                      65.62,
                      2010
                    ],
                    [
                      "Radial Velocity",
                      2,
                      7.8543,
                      56.92,
                      2013
                    ],
                    [
                      "Radial Velocity",
                      2,
                      30.93,
                      56.92,
                      2013
                    ],
                    [
                      "Radial Velocity",
                      1,
                      5.24,
                      59.03,
                      2005
                    ],
                    [
                      "Radial Velocity",
                      1,
                      835.477,
                      97.66,
                      2009
                    ],
                    [
                      "Radial Velocity",
                      1,
                      1143,
                      28.88,
                      2003
                    ],
                    [
                      "Radial Velocity",
                      1,
                      324,
                      37.42,
                      2013
                    ],
                    [
                      "Radial Velocity",
                      2,
                      263.3,
                      15.71,
                      2010
                    ],
                    [
                      "Radial Velocity",
                      2,
                      1657,
                      15.71,
                      2010
                    ],
                    [
                      "Radial Velocity",
                      2,
                      937.7,
                      28.04,
                      2003
                    ],
                    [
                      "Radial Velocity",
                      2,
                      1046,
                      28.04,
                      2011
                    ],
                    [
                      "Radial Velocity",
                      1,
                      3827,
                      20.48,
                      2014
                    ],
                    [
                      "Radial Velocity",
                      1,
                      83.888,
                      40.57,
                      1989
                    ],
                    [
                      "Radial Velocity",
                      1,
                      493.7,
                      20.43,
                      2001
                    ],
                    [
                      "Radial Velocity",
                      1,
                      1114,
                      35,
                      2002
                    ],
                    [
                      "Radial Velocity",
                      1,
                      670,
                      110.62,
                      2011
                    ],
                    [
                      "Radial Velocity",
                      1,
                      2597,
                      33.01,
                      2004
                    ],
                    [
                      "Radial Velocity",
                      1,
                      25.827,
                      38.02,
                      2004
                    ],
                    [
                      "Radial Velocity",
                      1,
                      6.1335,
                      88.57,
                      2005
                    ],
                    [
                      "Radial Velocity",
                      1,
                      2082,
                      97.66,
                      2013
                    ],
                    [
                      "Radial Velocity",
                      1,
                      63.33,
                      44.37,
                      2003
                    ],
                    [
                      "Radial Velocity",
                      1,
                      344.95,
                      133.16,
                      2003
                    ],
                    [
                      "Radial Velocity",
                      3,
                      559.4,
                      52.83,
                      2007
                    ],
                    [
                      "Radial Velocity",
                      3,
                      4.1547,
                      52.83,
                      2009
                    ],
                    [
                      "Radial Velocity",
                      3,
                      3008,
                      52.83,
                      2009
                    ],
                    [
                      "Radial Velocity",
                      1,
                      9.6737,
                      27.45,
                      2009
                    ],
                    [
                      "Radial Velocity",
                      1,
                      1244,
                      68.35,
                      2009
                    ],
                    [
                      "Radial Velocity",
                      1,
                      948.12,
                      38.05,
                      2011
                    ],
                    [
                      "Radial Velocity",
                      2,
                      454.2,
                      16.57,
                      2002
                    ],
                    [
                      "Radial Velocity",
                      2,
                      923.8,
                      16.57,
                      2005
                    ],
                    [
                      "Radial Velocity",
                      1,
                      1840,
                      67.61,
                      2009
                    ],
                    [
                      "Radial Velocity",
                      1,
                      10.7085,
                      29.76,
                      1999
                    ],
                    [
                      "Radial Velocity",
                      1,
                      883,
                      121.36,
                      2011
                    ],
                    [
                      "Radial Velocity",
                      1,
                      1951,
                      57.21,
                      2008
                    ],
                    [
                      "Radial Velocity",
                      1,
                      974,
                      70.97,
                      2007
                    ],
                    [
                      "Radial Velocity",
                      1,
                      1544,
                      98.52,
                      2011
                    ],
                    [
                      "Radial Velocity",
                      2,
                      3.27,
                      24.15,
                      2011
                    ],
                    [
                      "Radial Velocity",
                      2,
                      1160.9,
                      24.15,
                      2011
                    ],
                    [
                      "Radial Velocity",
                      2,
                      258.19,
                      25.65,
                      1999
                    ],
                    [
                      "Radial Velocity",
                      2,
                      5000,
                      25.65,
                      2009
                    ],
                    [
                      "Radial Velocity",
                      3,
                      12.083,
                      26.91,
                      2011
                    ],
                    [
                      "Radial Velocity",
                      3,
                      59.519,
                      26.91,
                      2011
                    ],
                    [
                      "Radial Velocity",
                      3,
                      459.26,
                      26.91,
                      2011
                    ],
                    [
                      "Radial Velocity",
                      1,
                      464.3,
                      106.38,
                      2009
                    ],
                    [
                      "Radial Velocity",
                      3,
                      11.577,
                      14.56,
                      2011
                    ],
                    [
                      "Radial Velocity",
                      3,
                      27.582,
                      14.56,
                      2011
                    ],
                    [
                      "Radial Velocity",
                      3,
                      106.72,
                      14.56,
                      2011
                    ],
                    [
                      "Radial Velocity",
                      1,
                      330,
                      38.45,
                      2011
                    ],
                    [
                      "Radial Velocity",
                      1,
                      1125.7,
                      121.36,
                      2008
                    ],
                    [
                      "Radial Velocity",
                      1,
                      653.22,
                      33.46,
                      2002
                    ],
                    [
                      "Radial Velocity",
                      1,
                      1928,
                      35.87,
                      2005
                    ],
                    [
                      "Radial Velocity",
                      1,
                      1299,
                      106.38,
                      2011
                    ],
                    [
                      "Radial Velocity",
                      1,
                      386.3,
                      34.57,
                      2003
                    ],
                    [
                      "Radial Velocity",
                      1,
                      1057,
                      59.35,
                      2008
                    ],
                    [
                      "Radial Velocity",
                      1,
                      176.3,
                      126.1,
                      2010
                    ],
                    [
                      "Radial Velocity",
                      1,
                      103.95,
                      55.19,
                      2008
                    ],
                    [
                      "Radial Velocity",
                      2,
                      44.236,
                      42.68,
                      2009
                    ],
                    [
                      "Radial Velocity",
                      2,
                      1008,
                      42.68,
                      2009
                    ],
                    [
                      "Radial Velocity",
                      1,
                      528.4,
                      12.87,
                      2003
                    ],
                    [
                      "Radial Velocity",
                      1,
                      1027,
                      53.05,
                      2009
                    ],
                    [
                      "Radial Velocity",
                      1,
                      331.5,
                      59.28,
                      2009
                    ],
                    [
                      "Radial Velocity",
                      1,
                      2.8758911,
                      78.86,
                      2005
                    ],
                    [
                      "Radial Velocity",
                      1,
                      4.072,
                      63.49,
                      2005
                    ],
                    [
                      "Radial Velocity",
                      1,
                      2.391,
                      76.51,
                      2009
                    ],
                    [
                      "Radial Velocity",
                      1,
                      1096.2,
                      29.55,
                      2011
                    ],
                    [
                      "Radial Velocity",
                      1,
                      2097,
                      85.18,
                      2009
                    ],
                    [
                      "Radial Velocity",
                      1,
                      689,
                      182.82,
                      2011
                    ],
                    [
                      "Radial Velocity",
                      1,
                      499.4,
                      51.87,
                      2008
                    ],
                    [
                      "Radial Velocity",
                      1,
                      18.596,
                      18.08,
                      2011
                    ],
                    [
                      "Radial Velocity",
                      1,
                      3342,
                      18.06,
                      2006
                    ],
                    [
                      "Radial Velocity",
                      1,
                      163.9,
                      65.79,
                      2008
                    ],
                    [
                      "Radial Velocity",
                      2,
                      408.6,
                      68.54,
                      2004
                    ],
                    [
                      "Radial Velocity",
                      2,
                      3452,
                      68.54,
                      2014
                    ],
                    [
                      "Radial Velocity",
                      2,
                      194.3,
                      43.4,
                      2007
                    ],
                    [
                      "Radial Velocity",
                      2,
                      391.9,
                      43.4,
                      2007
                    ],
                    [
                      "Radial Velocity",
                      1,
                      131.05,
                      35.37,
                      2011
                    ],
                    [
                      "Radial Velocity",
                      1,
                      842,
                      55.1,
                      2009
                    ],
                    [
                      "Radial Velocity",
                      1,
                      4.6455,
                      24.05,
                      2010
                    ],
                    [
                      "Radial Velocity",
                      1,
                      359.5546,
                      49,
                      2007
                    ],
                    [
                      "Radial Velocity",
                      1,
                      104.84,
                      33.48,
                      2011
                    ],
                    [
                      "Radial Velocity",
                      1,
                      521,
                      114.15,
                      2011
                    ],
                    [
                      "Radial Velocity",
                      2,
                      12.62,
                      68.59,
                      2013
                    ],
                    [
                      "Radial Velocity",
                      2,
                      248.4,
                      68.59,
                      2013
                    ],
                    [
                      "Radial Velocity",
                      2,
                      1178.4,
                      52.72,
                      2006
                    ],
                    [
                      "Radial Velocity",
                      2,
                      352.3,
                      52.72,
                      2012
                    ],
                    [
                      "Radial Velocity",
                      4,
                      643.25,
                      15.28,
                      2000
                    ],
                    [
                      "Radial Velocity",
                      4,
                      4205.8,
                      15.28,
                      2004
                    ],
                    [
                      "Radial Velocity",
                      4,
                      9.6386,
                      15.28,
                      2004
                    ],
                    [
                      "Radial Velocity",
                      4,
                      310.55,
                      15.28,
                      2006
                    ],
                    [
                      "Radial Velocity",
                      1,
                      8.428198,
                      31.26,
                      2002
                    ],
                    [
                      "Radial Velocity",
                      2,
                      75.29,
                      69.44,
                      2010
                    ],
                    [
                      "Radial Velocity",
                      2,
                      1314,
                      69.44,
                      2010
                    ],
                    [
                      "Radial Velocity",
                      1,
                      282.4,
                      51.81,
                      2010
                    ],
                    [
                      "Radial Velocity",
                      1,
                      606.4,
                      37.98,
                      2009
                    ],
                    [
                      "Radial Velocity",
                      1,
                      1155,
                      21.92,
                      2005
                    ],
                    [
                      "Radial Velocity",
                      1,
                      5144,
                      42.99,
                      2012
                    ],
                    [
                      "Radial Velocity",
                      1,
                      420.77,
                      50,
                      2007
                    ],
                    [
                      "Radial Velocity",
                      2,
                      58.11289,
                      37.88,
                      1998
                    ],
                    [
                      "Radial Velocity",
                      2,
                      1749.5,
                      37.88,
                      2000
                    ],
                    [
                      "Radial Velocity",
                      1,
                      6.403,
                      43.12,
                      2002
                    ],
                    [
                      "Radial Velocity",
                      2,
                      225.62,
                      36.32,
                      2000
                    ],
                    [
                      "Radial Velocity",
                      2,
                      2102,
                      36.32,
                      2003
                    ],
                    [
                      "Radial Velocity",
                      1,
                      1145,
                      64.98,
                      2007
                    ],
                    [
                      "Radial Velocity",
                      1,
                      538,
                      null,
                      2007
                    ],
                    [
                      "Radial Velocity",
                      1,
                      1523,
                      44.05,
                      2009
                    ],
                    [
                      "Radial Velocity",
                      1,
                      323.6,
                      134.95,
                      2008
                    ],
                    [
                      "Radial Velocity",
                      1,
                      1290,
                      67.02,
                      2009
                    ],
                    [
                      "Radial Velocity",
                      1,
                      297.3,
                      127.55,
                      2007
                    ],
                    [
                      "Astrometry",
                      1,
                      1016,
                      14.98,
                      2010
                    ],
                    [
                      "Radial Velocity",
                      2,
                      406.6,
                      59.03,
                      1999
                    ],
                    [
                      "Radial Velocity",
                      2,
                      110.9,
                      59.03,
                      2010
                    ],
                    [
                      "Radial Velocity",
                      1,
                      71.484,
                      46.73,
                      2001
                    ],
                    [
                      "Radial Velocity",
                      1,
                      14.476,
                      63.69,
                      2008
                    ],
                    [
                      "Radial Velocity",
                      1,
                      3.0925,
                      27.05,
                      2000
                    ],
                    [
                      "Radial Velocity",
                      1,
                      396.03,
                      131.75,
                      2010
                    ],
                    [
                      "Radial Velocity",
                      1,
                      479,
                      114.55,
                      2009
                    ],
                    [
                      "Radial Velocity",
                      1,
                      663,
                      115.47,
                      2009
                    ],
                    [
                      "Radial Velocity",
                      3,
                      9.3743,
                      26.15,
                      2008
                    ],
                    [
                      "Radial Velocity",
                      3,
                      962,
                      26.15,
                      2008
                    ],
                    [
                      "Radial Velocity",
                      3,
                      2172,
                      26.15,
                      2008
                    ],
                    [
                      "Radial Velocity",
                      1,
                      956,
                      55.93,
                      2009
                    ],
                    [
                      "Radial Velocity",
                      2,
                      634.23,
                      52.83,
                      2004
                    ],
                    [
                      "Radial Velocity",
                      2,
                      2950,
                      52.83,
                      2008
                    ],
                    [
                      "Radial Velocity",
                      1,
                      6.838,
                      47.37,
                      2006
                    ],
                    [
                      "Radial Velocity",
                      1,
                      986,
                      44.98,
                      2006
                    ],
                    [
                      "Radial Velocity",
                      2,
                      3.097,
                      47.92,
                      1998
                    ],
                    [
                      "Radial Velocity",
                      2,
                      3810,
                      47.92,
                      1999
                    ],
                    [
                      "Radial Velocity",
                      1,
                      456.46,
                      52.63,
                      2004
                    ],
                    [
                      "Radial Velocity",
                      1,
                      14.275,
                      17.72,
                      2011
                    ],
                    [
                      "Radial Velocity",
                      1,
                      2.21857578,
                      19.25,
                      2005
                    ],
                    [
                      "Radial Velocity",
                      1,
                      1136.1,
                      62.11,
                      2002
                    ],
                    [
                      "Radial Velocity",
                      2,
                      2891,
                      15.89,
                      2003
                    ],
                    [
                      "Radial Velocity",
                      2,
                      17.1,
                      15.89,
                      2005
                    ],
                    [
                      "Radial Velocity",
                      1,
                      1038.1,
                      54.23,
                      2007
                    ],
                    [
                      "Radial Velocity",
                      1,
                      4885,
                      189.39,
                      2009
                    ],
                    [
                      "Radial Velocity",
                      1,
                      24.348,
                      19.89,
                      1999
                    ],
                    [
                      "Radial Velocity",
                      2,
                      74.72,
                      8.82,
                      2011
                    ],
                    [
                      "Radial Velocity",
                      2,
                      525.8,
                      8.82,
                      2011
                    ],
                    [
                      "Radial Velocity",
                      1,
                      351.5,
                      67.39,
                      2007
                    ],
                    [
                      "Radial Velocity",
                      1,
                      18.20163,
                      37.35,
                      1999
                    ],
                    [
                      "Radial Velocity",
                      1,
                      1289,
                      46.93,
                      2002
                    ],
                    [
                      "Radial Velocity",
                      1,
                      3638,
                      43.57,
                      2012
                    ],
                    [
                      "Radial Velocity",
                      1,
                      1333,
                      32.99,
                      2007
                    ],
                    [
                      "Radial Velocity",
                      1,
                      1035.7,
                      32.83,
                      2011
                    ],
                    [
                      "Radial Velocity",
                      2,
                      613.8,
                      68.35,
                      2010
                    ],
                    [
                      "Radial Velocity",
                      2,
                      825,
                      68.35,
                      2010
                    ],
                    [
                      "Radial Velocity",
                      2,
                      255.87,
                      46.34,
                      2002
                    ],
                    [
                      "Radial Velocity",
                      2,
                      1383.4,
                      46.34,
                      2004
                    ],
                    [
                      "Imaging",
                      1,
                      null,
                      40.85,
                      2006
                    ],
                    [
                      "Radial Velocity",
                      3,
                      1931,
                      47.3,
                      2009
                    ],
                    [
                      "Radial Velocity",
                      3,
                      34.873,
                      47.3,
                      2011
                    ],
                    [
                      "Radial Velocity",
                      3,
                      2831.6,
                      47.3,
                      2012
                    ],
                    [
                      "Radial Velocity",
                      1,
                      1733,
                      26.95,
                      2011
                    ],
                    [
                      "Radial Velocity",
                      1,
                      279.8,
                      90.33,
                      2008
                    ],
                    [
                      "Radial Velocity",
                      1,
                      610,
                      170.07,
                      2009
                    ],
                    [
                      "Radial Velocity",
                      2,
                      161.97,
                      55.31,
                      2012
                    ],
                    [
                      "Radial Velocity",
                      2,
                      1155.7,
                      55.31,
                      2012
                    ],
                    [
                      "Radial Velocity",
                      1,
                      123,
                      43.99,
                      2004
                    ],
                    [
                      "Radial Velocity",
                      1,
                      875.5,
                      352.11,
                      2012
                    ],
                    [
                      "Radial Velocity",
                      1,
                      3.52474859,
                      47.08,
                      1999
                    ],
                    [
                      "Radial Velocity",
                      1,
                      442.1,
                      21.29,
                      1998
                    ],
                    [
                      "Radial Velocity",
                      1,
                      354.8,
                      55.93,
                      2007
                    ],
                    [
                      "Radial Velocity",
                      1,
                      2.245715,
                      52.72,
                      2005
                    ],
                    [
                      "Radial Velocity",
                      1,
                      373.3,
                      121.8,
                      2009
                    ],
                    [
                      "Radial Velocity",
                      1,
                      951,
                      40.75,
                      2001
                    ],
                    [
                      "Radial Velocity",
                      2,
                      7.2825,
                      21.52,
                      2011
                    ],
                    [
                      "Radial Velocity",
                      2,
                      10.866,
                      21.52,
                      2011
                    ],
                    [
                      "Radial Velocity",
                      2,
                      191.99,
                      38.64,
                      2011
                    ],
                    [
                      "Radial Velocity",
                      2,
                      2277,
                      38.64,
                      2011
                    ],
                    [
                      "Radial Velocity",
                      2,
                      3.93,
                      43.53,
                      2009
                    ],
                    [
                      "Radial Velocity",
                      2,
                      567,
                      43.53,
                      2009
                    ],
                    [
                      "Radial Velocity",
                      1,
                      1311,
                      33.29,
                      2002
                    ],
                    [
                      "Radial Velocity",
                      1,
                      1294,
                      26.52,
                      2002
                    ],
                    [
                      "Radial Velocity",
                      1,
                      118.45,
                      37.89,
                      2003
                    ],
                    [
                      "Radial Velocity",
                      2,
                      7.126816,
                      19.72,
                      1998
                    ],
                    [
                      "Radial Velocity",
                      2,
                      4270,
                      19.72,
                      2005
                    ],
                    [
                      "Radial Velocity",
                      1,
                      1319,
                      54.92,
                      2010
                    ],
                    [
                      "Radial Velocity",
                      1,
                      225.7,
                      29.94,
                      2010
                    ],
                    [
                      "Radial Velocity",
                      1,
                      5501,
                      29.2,
                      2012
                    ],
                    [
                      "Radial Velocity",
                      1,
                      2093.3,
                      null,
                      2012
                    ],
                    [
                      "Radial Velocity",
                      1,
                      3.8335,
                      81.1,
                      2007
                    ],
                    [
                      "Radial Velocity",
                      1,
                      672.1,
                      289.02,
                      2012
                    ],
                    [
                      "Radial Velocity",
                      1,
                      2209,
                      45.23,
                      2012
                    ],
                    [
                      "Radial Velocity",
                      1,
                      3724.7,
                      48.43,
                      2011
                    ],
                    [
                      "Radial Velocity",
                      1,
                      456.1,
                      52.88,
                      2007
                    ],
                    [
                      "Radial Velocity",
                      1,
                      3999,
                      50.45,
                      2011
                    ],
                    [
                      "Radial Velocity",
                      1,
                      572.38,
                      41.95,
                      1999
                    ],
                    [
                      "Radial Velocity",
                      1,
                      26.73,
                      94.07,
                      2006
                    ],
                    [
                      "Radial Velocity",
                      1,
                      141.6,
                      108.46,
                      2007
                    ],
                    [
                      "Radial Velocity",
                      1,
                      192,
                      null,
                      2013
                    ],
                    [
                      "Radial Velocity",
                      1,
                      501.75,
                      null,
                      2009
                    ],
                    [
                      "Radial Velocity",
                      1,
                      745.7,
                      307.69,
                      2011
                    ],
                    [
                      "Radial Velocity",
                      1,
                      2443,
                      54.92,
                      2009
                    ],
                    [
                      "Radial Velocity",
                      1,
                      8.7836,
                      9.42,
                      2008
                    ],
                    [
                      "Radial Velocity",
                      1,
                      3.369,
                      50.2,
                      2004
                    ],
                    [
                      "Radial Velocity",
                      2,
                      345.72,
                      44.8,
                      2009
                    ],
                    [
                      "Radial Velocity",
                      2,
                      9017.8,
                      44.8,
                      2011
                    ],
                    [
                      "Radial Velocity",
                      1,
                      57,
                      23.8,
                      2010
                    ],
                    [
                      "Radial Velocity",
                      1,
                      16.2,
                      223.21,
                      2010
                    ],
                    [
                      "Radial Velocity",
                      3,
                      6.673855,
                      52.88,
                      2005
                    ],
                    [
                      "Radial Velocity",
                      3,
                      147.73,
                      52.88,
                      2006
                    ],
                    [
                      "Radial Velocity",
                      3,
                      952,
                      52.88,
                      2009
                    ],
                    [
                      "Radial Velocity",
                      1,
                      41.397,
                      11.03,
                      2010
                    ],
                    [
                      "Radial Velocity",
                      3,
                      8.1352,
                      25.87,
                      2011
                    ],
                    [
                      "Radial Velocity",
                      3,
                      32.03,
                      25.87,
                      2011
                    ],
                    [
                      "Radial Velocity",
                      3,
                      431.7,
                      25.87,
                      2011
                    ],
                    [
                      "Imaging",
                      1,
                      null,
                      11.43,
                      2010
                    ],
                    [
                      "Radial Velocity",
                      1,
                      124.6,
                      149.25,
                      2013
                    ],
                    [
                      "Radial Velocity",
                      1,
                      17337.5,
                      23.98,
                      2009
                    ],
                    [
                      "Radial Velocity",
                      1,
                      511.098,
                      31.33,
                      2002
                    ],
                    [
                      "Imaging",
                      1,
                      null,
                      131.93,
                      2010
                    ],
                    [
                      "Radial Velocity",
                      1,
                      111.7,
                      14.9,
                      2009
                    ],
                    [
                      "Radial Velocity",
                      1,
                      5.0505,
                      44.46,
                      2013
                    ],
                    [
                      "Radial Velocity",
                      1,
                      311.288,
                      17.24,
                      1999
                    ],
                    [
                      "Imaging",
                      4,
                      170000,
                      39.94,
                      2008
                    ],
                    [
                      "Imaging",
                      4,
                      69000,
                      39.94,
                      2008
                    ],
                    [
                      "Imaging",
                      4,
                      37000,
                      39.94,
                      2008
                    ],
                    [
                      "Imaging",
                      4,
                      18000,
                      39.94,
                      2010
                    ],
                    [
                      "Transit",
                      1,
                      1.217514,
                      262,
                      2012
                    ],
                    [
                      "Transit",
                      1,
                      4.1137912,
                      124.22,
                      2012
                    ],
                    [
                      "Transit",
                      1,
                      2.7033904,
                      178,
                      2013
                    ],
                    [
                      "Transit",
                      1,
                      7.8457,
                      222,
                      2014
                    ],
                    [
                      "Transit",
                      1,
                      2.47063,
                      213,
                      2006
                    ],
                    [
                      "Transit",
                      1,
                      2.204737,
                      320,
                      2008
                    ],
                    [
                      "Transit",
                      1,
                      4.8878162,
                      38,
                      2008
                    ],
                    [
                      "Transit",
                      1,
                      3.21346,
                      550,
                      2009
                    ],
                    [
                      "Transit",
                      1,
                      3.54846,
                      null,
                      2009
                    ],
                    [
                      "Transit",
                      1,
                      3.234723,
                      null,
                      2009
                    ],
                    [
                      "Transit",
                      1,
                      4.885525,
                      null,
                      2009
                    ],
                    [
                      "Transit",
                      1,
                      3.52254,
                      1330,
                      2010
                    ],
                    [
                      "Transit",
                      3,
                      19.24,
                      650,
                      2010
                    ],
                    [
                      "Transit",
                      3,
                      38.91,
                      650,
                      2010
                    ],
                    [
                      "Transit",
                      3,
                      1.592851,
                      650,
                      2010
                    ],
                    [
                      "Transit",
                      2,
                      0.837495,
                      173,
                      2011
                    ],
                    [
                      "Transit",
                      2,
                      45.29485,
                      173,
                      2011
                    ],
                    [
                      "Transit",
                      6,
                      10.3039,
                      613,
                      2010
                    ],
                    [
                      "Transit",
                      6,
                      13.0241,
                      613,
                      2010
                    ],
                    [
                      "Transit",
                      6,
                      22.6845,
                      613,
                      2010
                    ],
                    [
                      "Transit",
                      6,
                      31.9996,
                      613,
                      2010
                    ],
                    [
                      "Transit",
                      6,
                      46.6888,
                      613,
                      2010
                    ],
                    [
                      "Transit",
                      6,
                      118.3807,
                      613,
                      2010
                    ],
                    [
                      "Transit",
                      1,
                      4.4379637,
                      600,
                      2011
                    ],
                    [
                      "Transit",
                      1,
                      1.7635892,
                      null,
                      2011
                    ],
                    [
                      "Transit",
                      1,
                      6.790123,
                      980,
                      2011
                    ],
                    [
                      "Transit",
                      1,
                      4.942782,
                      null,
                      2011
                    ],
                    [
                      "Transit",
                      1,
                      228.776,
                      61,
                      2011
                    ],
                    [
                      "Transit",
                      1,
                      1.4857108,
                      800,
                      2011
                    ],
                    [
                      "Transit",
                      3,
                      3.504725,
                      null,
                      2011
                    ],
                    [
                      "Transit",
                      3,
                      7.64159,
                      null,
                      2011
                    ],
                    [
                      "Transit",
                      3,
                      14.85888,
                      null,
                      2011
                    ],
                    [
                      "Transit",
                      2,
                      9.2869944,
                      2119,
                      2011
                    ],
                    [
                      "Transit Timing Variations",
                      2,
                      160,
                      2119,
                      2011
                    ],
                    [
                      "Transit",
                      5,
                      3.6961219,
                      290,
                      2011
                    ],
                    [
                      "Transit",
                      5,
                      10.854092,
                      290,
                      2011
                    ],
                    [
                      "Transit",
                      5,
                      77.61184,
                      290,
                      2011
                    ],
                    [
                      "Transit",
                      5,
                      6.098493,
                      290,
                      2011
                    ],
                    [
                      "Transit",
                      5,
                      19.57706,
                      290,
                      2011
                    ],
                    [
                      "Transit",
                      1,
                      2.785755,
                      108,
                      2011
                    ],
                    [
                      "Transit",
                      1,
                      289.8623,
                      190,
                      2011
                    ],
                    [
                      "Transit",
                      2,
                      7.1073,
                      800,
                      2011
                    ],
                    [
                      "Transit",
                      2,
                      10.7421,
                      800,
                      2011
                    ],
                    [
                      "Transit",
                      2,
                      8.1453,
                      1200,
                      2011
                    ],
                    [
                      "Transit",
                      2,
                      12.3335,
                      1200,
                      2011
                    ],
                    [
                      "Transit",
                      3,
                      6.2385,
                      null,
                      2011
                    ],
                    [
                      "Transit",
                      3,
                      12.7204,
                      null,
                      2011
                    ],
                    [
                      "Radial Velocity",
                      3,
                      123,
                      null,
                      2014
                    ],
                    [
                      "Transit",
                      2,
                      12.2829,
                      null,
                      2011
                    ],
                    [
                      "Transit",
                      2,
                      17.2513,
                      null,
                      2011
                    ],
                    [
                      "Transit",
                      2,
                      15.3348,
                      null,
                      2011
                    ],
                    [
                      "Transit",
                      2,
                      31.3309,
                      null,
                      2011
                    ],
                    [
                      "Transit",
                      2,
                      5.9123,
                      null,
                      2011
                    ],
                    [
                      "Transit",
                      2,
                      8.9858,
                      null,
                      2011
                    ],
                    [
                      "Transit",
                      2,
                      10.3376,
                      1400,
                      2011
                    ],
                    [
                      "Transit",
                      2,
                      13.2907,
                      1400,
                      2011
                    ],
                    [
                      "Transit",
                      3,
                      29.33434,
                      1400,
                      2012
                    ],
                    [
                      "Transit",
                      3,
                      60.323105,
                      1400,
                      2012
                    ],
                    [
                      "Transit",
                      3,
                      143.34394,
                      1400,
                      2012
                    ],
                    [
                      "Transit",
                      2,
                      20.8613,
                      2100,
                      2011
                    ],
                    [
                      "Transit",
                      2,
                      42.6318,
                      2100,
                      2011
                    ],
                    [
                      "Transit",
                      5,
                      5.90124,
                      303,
                      2011
                    ],
                    [
                      "Transit",
                      5,
                      8.7522,
                      303,
                      2011
                    ],
                    [
                      "Transit",
                      5,
                      22.7802,
                      303,
                      2012
                    ],
                    [
                      "Transit",
                      5,
                      2.896,
                      303,
                      2012
                    ],
                    [
                      "Transit",
                      5,
                      0.74296,
                      303,
                      2012
                    ],
                    [
                      "Transit",
                      5,
                      5.66793,
                      null,
                      2011
                    ],
                    [
                      "Transit",
                      5,
                      13.17562,
                      null,
                      2011
                    ],
                    [
                      "Transit",
                      5,
                      21.77596,
                      null,
                      2011
                    ],
                    [
                      "Transit",
                      5,
                      31.7844,
                      null,
                      2011
                    ],
                    [
                      "Transit",
                      5,
                      41.02902,
                      null,
                      2011
                    ],
                    [
                      "Transit",
                      1,
                      288.822,
                      1499,
                      2011
                    ],
                    [
                      "Transit",
                      1,
                      131.458,
                      1645,
                      2011
                    ],
                    [
                      "Transit",
                      2,
                      13.83989,
                      470,
                      2012
                    ],
                    [
                      "Transit",
                      2,
                      16.23855,
                      470,
                      2012
                    ],
                    [
                      "Transit",
                      3,
                      13.367308,
                      66,
                      2013
                    ],
                    [
                      "Transit",
                      3,
                      21.301886,
                      66,
                      2013
                    ],
                    [
                      "Transit",
                      3,
                      39.792187,
                      66,
                      2013
                    ],
                    [
                      "Transit",
                      1,
                      105.599,
                      600,
                      2012
                    ],
                    [
                      "Transit",
                      1,
                      21.0874,
                      1200,
                      2011
                    ],
                    [
                      "Transit",
                      1,
                      6.87349,
                      2700,
                      2010
                    ],
                    [
                      "Transit",
                      1,
                      1.855558,
                      770,
                      2011
                    ],
                    [
                      "Transit",
                      3,
                      1.2137672,
                      38.7,
                      2011
                    ],
                    [
                      "Transit",
                      3,
                      0.45328509,
                      38.7,
                      2011
                    ],
                    [
                      "Transit",
                      3,
                      1.865169,
                      38.7,
                      2011
                    ],
                    [
                      "Transit",
                      1,
                      3.024095,
                      1950,
                      2011
                    ],
                    [
                      "Transit",
                      1,
                      3.24674,
                      2250,
                      2011
                    ],
                    [
                      "Transit",
                      1,
                      2.455239,
                      333,
                      2011
                    ],
                    [
                      "Transit",
                      2,
                      33.60134,
                      855,
                      2012
                    ],
                    [
                      "Transit Timing Variations",
                      2,
                      57.011,
                      855,
                      2012
                    ],
                    [
                      "Transit",
                      2,
                      49.532,
                      1500,
                      2012
                    ],
                    [
                      "Transit",
                      2,
                      303.137,
                      1500,
                      2012
                    ],
                    [
                      "Transit",
                      4,
                      4.7779803,
                      null,
                      2012
                    ],
                    [
                      "Transit",
                      4,
                      9.6739283,
                      null,
                      2012
                    ],
                    [
                      "Transit",
                      4,
                      42.8961,
                      null,
                      2014
                    ],
                    [
                      "Radial Velocity",
                      4,
                      982,
                      null,
                      2014
                    ],
                    [
                      "Transit",
                      2,
                      7.2037945,
                      null,
                      2012
                    ],
                    [
                      "Transit",
                      2,
                      10.9129343,
                      null,
                      2012
                    ],
                    [
                      "Transit",
                      2,
                      7.81254,
                      null,
                      2012
                    ],
                    [
                      "Transit",
                      2,
                      9.37647,
                      null,
                      2012
                    ],
                    [
                      "Transit",
                      3,
                      45.154,
                      null,
                      2012
                    ],
                    [
                      "Transit",
                      3,
                      85.312,
                      null,
                      2012
                    ],
                    [
                      "Transit Timing Variations",
                      3,
                      null,
                      null,
                      2014
                    ],
                    [
                      "Transit",
                      2,
                      7.8773565,
                      null,
                      2012
                    ],
                    [
                      "Transit",
                      2,
                      16.3850021,
                      null,
                      2012
                    ],
                    [
                      "Transit",
                      2,
                      18.6489525,
                      null,
                      2012
                    ],
                    [
                      "Transit",
                      2,
                      38.5583038,
                      null,
                      2012
                    ],
                    [
                      "Transit",
                      2,
                      8.0109434,
                      null,
                      2012
                    ],
                    [
                      "Transit",
                      2,
                      12.0717249,
                      null,
                      2012
                    ],
                    [
                      "Transit",
                      2,
                      27.9481449,
                      null,
                      2012
                    ],
                    [
                      "Transit",
                      2,
                      42.1516418,
                      null,
                      2012
                    ],
                    [
                      "Transit",
                      2,
                      10.5016,
                      null,
                      2012
                    ],
                    [
                      "Transit",
                      2,
                      21.40239,
                      null,
                      2012
                    ],
                    [
                      "Transit",
                      2,
                      5.7293196,
                      null,
                      2012
                    ],
                    [
                      "Transit",
                      2,
                      11.6092567,
                      null,
                      2012
                    ],
                    [
                      "Transit",
                      2,
                      10.2184954,
                      null,
                      2012
                    ],
                    [
                      "Transit",
                      2,
                      15.5741568,
                      null,
                      2012
                    ],
                    [
                      "Transit",
                      2,
                      11.8681707,
                      null,
                      2012
                    ],
                    [
                      "Transit",
                      2,
                      17.9801235,
                      null,
                      2012
                    ],
                    [
                      "Transit",
                      3,
                      7.1316185,
                      null,
                      2012
                    ],
                    [
                      "Transit",
                      3,
                      8.9193459,
                      null,
                      2012
                    ],
                    [
                      "Transit",
                      3,
                      11.9016171,
                      null,
                      2012
                    ],
                    [
                      "Transit",
                      1,
                      59.87756,
                      null,
                      2013
                    ],
                    [
                      "Transit",
                      5,
                      5.714932,
                      368,
                      2013
                    ],
                    [
                      "Transit",
                      5,
                      12.4417,
                      368,
                      2013
                    ],
                    [
                      "Transit",
                      5,
                      18.16406,
                      368,
                      2013
                    ],
                    [
                      "Transit",
                      5,
                      122.3874,
                      368,
                      2013
                    ],
                    [
                      "Transit",
                      5,
                      267.291,
                      368,
                      2013
                    ],
                    [
                      "Transit",
                      1,
                      9.4341505,
                      200,
                      2013
                    ],
                    [
                      "Transit",
                      1,
                      138.317,
                      1000,
                      2012
                    ],
                    [
                      "Transit",
                      3,
                      2.15491,
                      null,
                      2012
                    ],
                    [
                      "Transit",
                      3,
                      5.859944,
                      null,
                      2012
                    ],
                    [
                      "Transit",
                      3,
                      8.13123,
                      null,
                      2012
                    ],
                    [
                      "Transit",
                      1,
                      17.815815,
                      1107,
                      2013
                    ],
                    [
                      "Transit",
                      1,
                      15.7259,
                      1107,
                      2013
                    ],
                    [
                      "Transit",
                      3,
                      5.398763,
                      135,
                      2012
                    ],
                    [
                      "Transit",
                      3,
                      9.605085,
                      135,
                      2012
                    ],
                    [
                      "Radial Velocity",
                      3,
                      580,
                      135,
                      2012
                    ],
                    [
                      "Transit",
                      2,
                      13.722341,
                      null,
                      2013
                    ],
                    [
                      "Transit",
                      2,
                      242.4613,
                      null,
                      2013
                    ],
                    [
                      "Orbital Brightness Modulation",
                      2,
                      0.240104,
                      1180,
                      2011
                    ],
                    [
                      "Orbital Brightness Modulation",
                      2,
                      0.342887,
                      1180,
                      2011
                    ],
                    [
                      "Transit",
                      1,
                      3.90512,
                      800,
                      2010
                    ],
                    [
                      "Transit",
                      1,
                      7.340718,
                      1330,
                      2013
                    ],
                    [
                      "Transit",
                      1,
                      8.884924,
                      1140,
                      2013
                    ],
                    [
                      "Orbital Brightness Modulation",
                      1,
                      1.54492875,
                      null,
                      2013
                    ],
                    [
                      "Transit",
                      1,
                      3.57878087,
                      570,
                      2013
                    ],
                    [
                      "Transit",
                      1,
                      0.355,
                      null,
                      2013
                    ],
                    [
                      "Transit",
                      2,
                      13.485,
                      null,
                      2012
                    ],
                    [
                      "Transit",
                      2,
                      27.402,
                      null,
                      2012
                    ],
                    [
                      "Transit",
                      2,
                      7.053,
                      null,
                      2012
                    ],
                    [
                      "Transit",
                      2,
                      9.522,
                      null,
                      2012
                    ],
                    [
                      "Transit",
                      2,
                      5.955,
                      null,
                      2012
                    ],
                    [
                      "Transit",
                      2,
                      12.04,
                      null,
                      2012
                    ],
                    [
                      "Transit",
                      2,
                      26.444,
                      null,
                      2012
                    ],
                    [
                      "Transit",
                      2,
                      51.538,
                      null,
                      2012
                    ],
                    [
                      "Transit",
                      2,
                      9.77,
                      null,
                      2012
                    ],
                    [
                      "Transit",
                      2,
                      20.09,
                      null,
                      2012
                    ],
                    [
                      "Transit",
                      2,
                      8.726,
                      null,
                      2012
                    ],
                    [
                      "Transit",
                      2,
                      12.883,
                      null,
                      2012
                    ],
                    [
                      "Transit",
                      2,
                      8.306,
                      null,
                      2012
                    ],
                    [
                      "Transit",
                      2,
                      12.513,
                      null,
                      2012
                    ],
                    [
                      "Transit",
                      1,
                      282.5255,
                      null,
                      2013
                    ],
                    [
                      "Transit",
                      2,
                      114.73635,
                      null,
                      2013
                    ],
                    [
                      "Transit",
                      2,
                      191.2318,
                      null,
                      2013
                    ],
                    [
                      "Transit",
                      2,
                      10.95416,
                      339,
                      2013
                    ],
                    [
                      "Transit Timing Variations",
                      2,
                      22.3395,
                      339,
                      2013
                    ],
                    [
                      "Transit",
                      4,
                      3.743208,
                      null,
                      2013
                    ],
                    [
                      "Transit",
                      4,
                      10.423648,
                      null,
                      2013
                    ],
                    [
                      "Transit",
                      4,
                      22.342989,
                      null,
                      2013
                    ],
                    [
                      "Transit",
                      4,
                      54.32031,
                      null,
                      2013
                    ],
                    [
                      "Transit",
                      7,
                      7.008151,
                      780,
                      2013
                    ],
                    [
                      "Transit",
                      7,
                      8.719375,
                      780,
                      2013
                    ],
                    [
                      "Transit",
                      7,
                      59.73667,
                      780,
                      2013
                    ],
                    [
                      "Transit",
                      7,
                      91.93913,
                      780,
                      2013
                    ],
                    [
                      "Transit",
                      7,
                      124.9144,
                      780,
                      2013
                    ],
                    [
                      "Transit",
                      7,
                      210.60697,
                      780,
                      2013
                    ],
                    [
                      "Transit",
                      7,
                      331.60059,
                      780,
                      2013
                    ],
                    [
                      "Transit",
                      1,
                      6.24658,
                      1030,
                      2013
                    ],
                    [
                      "Transit",
                      2,
                      13.749,
                      null,
                      2013
                    ],
                    [
                      "Transit",
                      2,
                      26.723,
                      null,
                      2013
                    ],
                    [
                      "Transit",
                      2,
                      4.72674,
                      null,
                      2014
                    ],
                    [
                      "Radial Velocity",
                      2,
                      1460,
                      null,
                      2014
                    ],
                    [
                      "Transit",
                      2,
                      2.50806,
                      null,
                      2014
                    ],
                    [
                      "Radial Velocity",
                      2,
                      820.3,
                      null,
                      2014
                    ],
                    [
                      "Transit",
                      1,
                      11.5231,
                      null,
                      2014
                    ],
                    [
                      "Transit",
                      1,
                      16.2385,
                      null,
                      2014
                    ],
                    [
                      "Transit",
                      2,
                      2.58664,
                      null,
                      2014
                    ],
                    [
                      "Radial Velocity",
                      2,
                      789,
                      null,
                      2014
                    ],
                    [
                      "Transit",
                      1,
                      1.54168,
                      null,
                      2014
                    ],
                    [
                      "Transit",
                      1,
                      4.60358,
                      null,
                      2014
                    ],
                    [
                      "Transit",
                      3,
                      6.88705,
                      null,
                      2014
                    ],
                    [
                      "Transit",
                      3,
                      12.8159,
                      null,
                      2014
                    ],
                    [
                      "Transit",
                      3,
                      35.3331,
                      null,
                      2014
                    ],
                    [
                      "Transit",
                      5,
                      5.28696,
                      null,
                      2014
                    ],
                    [
                      "Transit",
                      5,
                      7.07142,
                      null,
                      2014
                    ],
                    [
                      "Transit",
                      5,
                      10.3117,
                      null,
                      2014
                    ],
                    [
                      "Transit",
                      5,
                      16.1457,
                      null,
                      2013
                    ],
                    [
                      "Transit",
                      5,
                      27.4536,
                      null,
                      2014
                    ],
                    [
                      "Transit",
                      2,
                      15.9654,
                      null,
                      2014
                    ],
                    [
                      "Transit",
                      2,
                      179.612,
                      null,
                      2014
                    ],
                    [
                      "Transit",
                      2,
                      5.4122,
                      null,
                      2013
                    ],
                    [
                      "Transit",
                      4,
                      6.16486,
                      null,
                      2014
                    ],
                    [
                      "Transit",
                      4,
                      13.5708,
                      null,
                      2014
                    ],
                    [
                      "Transit",
                      4,
                      23.9802,
                      null,
                      2014
                    ],
                    [
                      "Transit",
                      4,
                      43.8445,
                      null,
                      2014
                    ],
                    [
                      "Transit",
                      2,
                      6.48163,
                      null,
                      2014
                    ],
                    [
                      "Transit",
                      2,
                      21.2227,
                      null,
                      2014
                    ],
                    [
                      "Transit",
                      2,
                      4.754,
                      null,
                      2014
                    ],
                    [
                      "Transit",
                      2,
                      8.92507,
                      null,
                      2014
                    ],
                    [
                      "Transit",
                      2,
                      8.041,
                      null,
                      2013
                    ],
                    [
                      "Transit",
                      2,
                      11.776,
                      null,
                      2013
                    ],
                    [
                      "Transit",
                      2,
                      15.09,
                      null,
                      2013
                    ],
                    [
                      "Transit",
                      2,
                      22.804,
                      null,
                      2013
                    ],
                    [
                      "Transit",
                      3,
                      27.50868,
                      null,
                      2013
                    ],
                    [
                      "Transit",
                      2,
                      16.092,
                      null,
                      2014
                    ],
                    [
                      "Transit",
                      2,
                      25.5169,
                      null,
                      2014
                    ],
                    [
                      "Transit",
                      2,
                      13.78164,
                      null,
                      2014
                    ],
                    [
                      "Transit",
                      2,
                      23.08933,
                      null,
                      2014
                    ],
                    [
                      "Transit",
                      2,
                      22.951,
                      null,
                      2013
                    ],
                    [
                      "Transit",
                      2,
                      42.882,
                      null,
                      2013
                    ],
                    [
                      "Transit",
                      2,
                      36.855,
                      null,
                      2013
                    ],
                    [
                      "Transit",
                      2,
                      49.412,
                      null,
                      2013
                    ],
                    [
                      "Transit",
                      2,
                      23.654,
                      null,
                      2013
                    ],
                    [
                      "Transit",
                      2,
                      50.447,
                      null,
                      2013
                    ],
                    [
                      "Transit",
                      2,
                      31.884,
                      null,
                      2013
                    ],
                    [
                      "Transit",
                      2,
                      48.648,
                      null,
                      2013
                    ],
                    [
                      "Transit",
                      2,
                      17.324,
                      null,
                      2013
                    ],
                    [
                      "Transit",
                      2,
                      33.006,
                      null,
                      2013
                    ],
                    [
                      "Transit",
                      2,
                      35.736,
                      null,
                      2013
                    ],
                    [
                      "Transit",
                      2,
                      54.414,
                      null,
                      2013
                    ],
                    [
                      "Transit",
                      2,
                      24.806,
                      null,
                      2013
                    ],
                    [
                      "Transit",
                      2,
                      44.347,
                      null,
                      2013
                    ],
                    [
                      "Transit",
                      2,
                      5.487,
                      null,
                      2013
                    ],
                    [
                      "Transit",
                      2,
                      8.291,
                      null,
                      2013
                    ],
                    [
                      "Transit",
                      2,
                      10.416,
                      null,
                      2013
                    ],
                    [
                      "Transit",
                      2,
                      13.084,
                      null,
                      2013
                    ],
                    [
                      "Transit",
                      2,
                      34.921,
                      null,
                      2013
                    ],
                    [
                      "Transit",
                      2,
                      71.312,
                      null,
                      2013
                    ],
                    [
                      "Transit",
                      2,
                      17.849,
                      null,
                      2013
                    ],
                    [
                      "Transit",
                      2,
                      26.136,
                      null,
                      2013
                    ],
                    [
                      "Transit",
                      2,
                      42.994,
                      null,
                      2013
                    ],
                    [
                      "Transit",
                      2,
                      88.505,
                      null,
                      2013
                    ],
                    [
                      "Transit",
                      2,
                      2.42629,
                      null,
                      2014
                    ],
                    [
                      "Transit",
                      2,
                      4.62332,
                      null,
                      2014
                    ],
                    [
                      "Transit",
                      2,
                      0.66931,
                      null,
                      2014
                    ],
                    [
                      "Radial Velocity",
                      2,
                      3000,
                      null,
                      2014
                    ],
                    [
                      "Transit",
                      1,
                      2.46502,
                      null,
                      2014
                    ],
                    [
                      "Transit",
                      1,
                      68.9584,
                      null,
                      2014
                    ],
                    [
                      "Transit",
                      1,
                      17.833648,
                      132,
                      2013
                    ],
                    [
                      "Transit",
                      1,
                      3.00516,
                      null,
                      2013
                    ],
                    [
                      "Transit",
                      1,
                      1.72086123,
                      1056,
                      2014
                    ],
                    [
                      "Transit",
                      1,
                      66.262,
                      null,
                      2014
                    ],
                    [
                      "Imaging",
                      1,
                      40000,
                      null,
                      2011
                    ],
                    [
                      "Transit",
                      1,
                      3.91405,
                      2000,
                      2007
                    ],
                    [
                      "Microlensing",
                      1,
                      null,
                      null,
                      2008
                    ],
                    [
                      "Microlensing",
                      1,
                      null,
                      null,
                      2008
                    ],
                    [
                      "Microlensing",
                      1,
                      null,
                      null,
                      2009
                    ],
                    [
                      "Microlensing",
                      1,
                      null,
                      3600,
                      2013
                    ],
                    [
                      "Microlensing",
                      1,
                      2780,
                      null,
                      2011
                    ],
                    [
                      "Microlensing",
                      1,
                      null,
                      null,
                      2010
                    ],
                    [
                      "Microlensing",
                      1,
                      1970,
                      null,
                      2010
                    ],
                    [
                      "Microlensing",
                      1,
                      null,
                      2300,
                      2012
                    ],
                    [
                      "Microlensing",
                      1,
                      null,
                      2800,
                      2012
                    ],
                    [
                      "Microlensing",
                      1,
                      null,
                      7720,
                      2012
                    ],
                    [
                      "Microlensing",
                      1,
                      null,
                      7560,
                      2013
                    ],
                    [
                      "Radial Velocity",
                      1,
                      677.8,
                      null,
                      2007
                    ],
                    [
                      "Radial Velocity",
                      1,
                      6.958,
                      null,
                      2014
                    ],
                    [
                      "Radial Velocity",
                      1,
                      5.118,
                      null,
                      2014
                    ],
                    [
                      "Radial Velocity",
                      1,
                      121.71,
                      null,
                      2014
                    ],
                    [
                      "Microlensing",
                      1,
                      null,
                      null,
                      2004
                    ],
                    [
                      "Microlensing",
                      1,
                      3600,
                      null,
                      2005
                    ],
                    [
                      "Microlensing",
                      1,
                      3300,
                      null,
                      2006
                    ],
                    [
                      "Microlensing",
                      1,
                      3500,
                      null,
                      2005
                    ],
                    [
                      "Microlensing",
                      2,
                      1825,
                      null,
                      2008
                    ],
                    [
                      "Microlensing",
                      2,
                      5100,
                      null,
                      2008
                    ],
                    [
                      "Microlensing",
                      1,
                      null,
                      null,
                      2009
                    ],
                    [
                      "Microlensing",
                      1,
                      null,
                      2570,
                      2012
                    ],
                    [
                      "Microlensing",
                      2,
                      null,
                      4080,
                      2012
                    ],
                    [
                      "Microlensing",
                      2,
                      null,
                      4080,
                      2012
                    ],
                    [
                      "Microlensing",
                      1,
                      null,
                      1760,
                      2013
                    ],
                    [
                      "Microlensing",
                      1,
                      null,
                      4970,
                      2013
                    ],
                    [
                      "Transit",
                      1,
                      2.4855335,
                      null,
                      2008
                    ],
                    [
                      "Transit",
                      1,
                      3.101278,
                      null,
                      2004
                    ],
                    [
                      "Transit",
                      1,
                      1.2119189,
                      null,
                      2002
                    ],
                    [
                      "Transit",
                      1,
                      4.0161,
                      null,
                      2004
                    ],
                    [
                      "Transit",
                      1,
                      1.4324752,
                      600,
                      2004
                    ],
                    [
                      "Transit",
                      1,
                      1.689868,
                      2500,
                      2004
                    ],
                    [
                      "Transit",
                      1,
                      3.9791,
                      null,
                      2007
                    ],
                    [
                      "Transit",
                      1,
                      3.67724,
                      null,
                      2007
                    ],
                    [
                      "Imaging",
                      1,
                      730000,
                      null,
                      2006
                    ],
                    [
                      "Transit",
                      1,
                      3.1606296,
                      1200,
                      2013
                    ],
                    [
                      "Radial Velocity",
                      1,
                      4.4264,
                      null,
                      2012
                    ],
                    [
                      "Radial Velocity",
                      1,
                      2.1451,
                      null,
                      2012
                    ],
                    [
                      "Pulsar Timing",
                      3,
                      25.262,
                      null,
                      1992
                    ],
                    [
                      "Pulsar Timing",
                      3,
                      66.5419,
                      null,
                      1992
                    ],
                    [
                      "Pulsar Timing",
                      3,
                      98.2114,
                      null,
                      1994
                    ],
                    [
                      "Pulsar Timing",
                      1,
                      36525,
                      null,
                      2003
                    ],
                    [
                      "Pulsar Timing",
                      1,
                      0.09070629,
                      1200,
                      2011
                    ],
                    [
                      "Transit",
                      1,
                      1.420033,
                      null,
                      2010
                    ],
                    [
                      "Transit",
                      1,
                      1.3371182,
                      null,
                      2011
                    ],
                    [
                      "Imaging",
                      1,
                      null,
                      135,
                      2013
                    ],
                    [
                      "Imaging",
                      1,
                      null,
                      120,
                      2013
                    ],
                    [
                      "Imaging",
                      1,
                      null,
                      null,
                      2010
                    ],
                    [
                      "Transit",
                      1,
                      4.2,
                      8500,
                      2006
                    ],
                    [
                      "Transit",
                      1,
                      1.796,
                      8500,
                      2006
                    ],
                    [
                      "Transit",
                      1,
                      3.030065,
                      152.3,
                      2004
                    ],
                    [
                      "Transit",
                      1,
                      1.30618581,
                      228,
                      2007
                    ],
                    [
                      "Transit",
                      1,
                      3.553945,
                      492,
                      2007
                    ],
                    [
                      "Transit",
                      1,
                      1.4822446,
                      360,
                      2011
                    ],
                    [
                      "Imaging",
                      1,
                      null,
                      null,
                      2008
                    ],
                    [
                      "Pulsation Timing Variations",
                      1,
                      1170,
                      null,
                      2007
                    ],
                    [
                      "Transit",
                      1,
                      2.5199449,
                      408,
                      2007
                    ],
                    [
                      "Transit",
                      1,
                      2.152226,
                      147,
                      2007
                    ],
                    [
                      "Transit",
                      1,
                      1.846835,
                      220,
                      2007
                    ],
                    [
                      "Transit",
                      1,
                      1.33823187,
                      300,
                      2007
                    ],
                    [
                      "Transit",
                      1,
                      1.62843142,
                      300,
                      2008
                    ],
                    [
                      "Transit",
                      1,
                      3.361006,
                      null,
                      2009
                    ],
                    [
                      "Transit",
                      1,
                      4.954658,
                      140,
                      2008
                    ],
                    [
                      "Transit",
                      1,
                      8.158715,
                      87,
                      2010
                    ],
                    [
                      "Transit",
                      1,
                      3.0927616,
                      90,
                      2008
                    ],
                    [
                      "Transit",
                      1,
                      3.7224747,
                      121.7,
                      2008
                    ],
                    [
                      "Transit",
                      1,
                      1.091423,
                      null,
                      2008
                    ],
                    [
                      "Transit",
                      1,
                      4.353011,
                      155,
                      2009
                    ],
                    [
                      "Transit",
                      1,
                      2.243752,
                      160,
                      2008
                    ],
                    [
                      "Transit",
                      1,
                      3.7520656,
                      null,
                      2009
                    ],
                    [
                      "Transit",
                      1,
                      3.1186009,
                      null,
                      2009
                    ],
                    [
                      "Transit",
                      1,
                      3.7354417,
                      400,
                      2009
                    ],
                    [
                      "Transit",
                      1,
                      0.94145299,
                      105.49,
                      2009
                    ],
                    [
                      "Transit",
                      1,
                      0.78884,
                      250,
                      2009
                    ],
                    [
                      "Transit",
                      1,
                      4.322482,
                      242,
                      2010
                    ],
                    [
                      "Transit",
                      1,
                      3.5327313,
                      300,
                      2010
                    ],
                    [
                      "Transit",
                      1,
                      2.9444256,
                      null,
                      2010
                    ],
                    [
                      "Transit",
                      1,
                      2.34121242,
                      null,
                      2010
                    ],
                    [
                      "Transit",
                      1,
                      3.764825,
                      null,
                      2010
                    ],
                    [
                      "Transit",
                      1,
                      2.7566004,
                      250,
                      2010
                    ],
                    [
                      "Transit",
                      1,
                      3.408821,
                      null,
                      2010
                    ],
                    [
                      "Transit",
                      1,
                      3.922727,
                      70,
                      2010
                    ],
                    [
                      "Transit",
                      1,
                      3.4059096,
                      360,
                      2010
                    ],
                    [
                      "Transit",
                      1,
                      2.718659,
                      null,
                      2010
                    ],
                    [
                      "Transit",
                      1,
                      1.2198669,
                      116.14,
                      2010
                    ],
                    [
                      "Transit",
                      1,
                      4.3176782,
                      120,
                      2010
                    ],
                    [
                      "Transit",
                      1,
                      3.161575,
                      null,
                      2011
                    ],
                    [
                      "Transit",
                      1,
                      1.5373653,
                      450,
                      2011
                    ],
                    [
                      "Transit",
                      1,
                      3.577469,
                      343,
                      2010
                    ],
                    [
                      "Transit",
                      1,
                      6.871815,
                      110,
                      2010
                    ],
                    [
                      "Transit",
                      1,
                      4.055259,
                      230,
                      2011
                    ],
                    [
                      "Transit",
                      1,
                      3.052401,
                      180,
                      2010
                    ],
                    [
                      "Transit",
                      1,
                      4.9816872,
                      160,
                      2012
                    ],
                    [
                      "Transit",
                      1,
                      0.813475,
                      80,
                      2011
                    ],
                    [
                      "Transit",
                      1,
                      2.4238039,
                      null,
                      2011
                    ],
                    [
                      "Transit",
                      1,
                      3.1260876,
                      null,
                      2011
                    ],
                    [
                      "Transit",
                      1,
                      1.43037,
                      null,
                      2011
                    ],
                    [
                      "Transit",
                      1,
                      4.1591399,
                      200,
                      2012
                    ],
                    [
                      "Transit",
                      1,
                      2.143634,
                      null,
                      2011
                    ],
                    [
                      "Transit",
                      1,
                      2.7817387,
                      170,
                      2012
                    ],
                    [
                      "Transit",
                      1,
                      1.9550959,
                      230,
                      2011
                    ],
                    [
                      "Transit",
                      1,
                      1.7497798,
                      140,
                      2012
                    ],
                    [
                      "Transit",
                      1,
                      3.6936411,
                      200,
                      2012
                    ],
                    [
                      "Transit",
                      1,
                      4.465633,
                      330,
                      2012
                    ],
                    [
                      "Transit",
                      1,
                      4.617101,
                      255,
                      2012
                    ],
                    [
                      "Transit",
                      1,
                      2.838971,
                      455,
                      2012
                    ],
                    [
                      "Transit",
                      1,
                      5.01718,
                      300,
                      2012
                    ],
                    [
                      "Transit",
                      1,
                      7.919585,
                      125,
                      2012
                    ],
                    [
                      "Transit",
                      1,
                      4.3050011,
                      400,
                      2012
                    ],
                    [
                      "Transit",
                      1,
                      3.8559,
                      480,
                      2012
                    ],
                    [
                      "Transit",
                      1,
                      4.411953,
                      160,
                      2012
                    ],
                    [
                      "Transit",
                      1,
                      4.37809,
                      330,
                      2012
                    ],
                    [
                      "Transit",
                      1,
                      1.5732918,
                      350,
                      2012
                    ],
                    [
                      "Transit",
                      1,
                      2.3114243,
                      310,
                      2013
                    ],
                    [
                      "Transit",
                      1,
                      4.086052,
                      380,
                      2012
                    ],
                    [
                      "Transit",
                      1,
                      4.61442,
                      225,
                      2012
                    ],
                    [
                      "Transit",
                      1,
                      2.9036747,
                      345,
                      2012
                    ],
                    [
                      "Transit",
                      1,
                      2.2167421,
                      340,
                      2012
                    ],
                    [
                      "Transit",
                      1,
                      2.484193,
                      260,
                      2013
                    ],
                    [
                      "Transit",
                      1,
                      1.3600309,
                      93,
                      2012
                    ],
                    [
                      "Transit",
                      1,
                      2.17517632,
                      550,
                      2012
                    ],
                    [
                      "Transit",
                      1,
                      3.6623866,
                      240,
                      2012
                    ],
                    [
                      "Transit",
                      1,
                      3.0678504,
                      60,
                      2012
                    ],
                    [
                      "Transit",
                      1,
                      0.925542,
                      470,
                      2014
                    ],
                    [
                      "Imaging",
                      1,
                      null,
                      19.2,
                      2011
                    ],
                    [
                      "Transit",
                      1,
                      3.352057,
                      3200,
                      2012
                    ],
                    [
                      "Imaging",
                      1,
                      null,
                      10.1,
                      2012
                    ],
                    [
                      "Transit",
                      1,
                      3.94150685,
                      172,
                      2006
                    ],
                    [
                      "Transit",
                      1,
                      2.615864,
                      148,
                      2007
                    ],
                    [
                      "Transit",
                      1,
                      3.1915239,
                      174,
                      2007
                    ],
                    [
                      "Transit",
                      1,
                      4.1250828,
                      293,
                      2008
                    ],
                    [
                      "Transit",
                      1,
                      4.187757,
                      260,
                      2008
                    ]
                  ],
                  "hovertemplate": "mass=%{x}<br>method=%{customdata[0]}<br>number=%{customdata[1]}<br>orbital_period=%{customdata[2]}<br>distance=%{customdata[3]}<br>year=%{customdata[4]}<extra></extra>",
                  "legendgroup": "",
                  "marker": {
                    "color": "#636efa"
                  },
                  "name": "",
                  "notched": true,
                  "offsetgroup": "",
                  "showlegend": false,
                  "type": "box",
                  "x": [
                    7.1,
                    2.21,
                    2.6,
                    19.4,
                    10.5,
                    4.8,
                    4.64,
                    null,
                    10.3,
                    1.99,
                    0.86,
                    9.88,
                    3.88,
                    2.53,
                    0.54,
                    1.64,
                    0.472,
                    0.8,
                    0.165,
                    3.53,
                    null,
                    0.172,
                    0.016,
                    0.057,
                    0.072,
                    null,
                    null,
                    5.3,
                    3.2,
                    null,
                    null,
                    null,
                    6.05,
                    null,
                    null,
                    null,
                    null,
                    null,
                    null,
                    null,
                    null,
                    null,
                    4.2,
                    null,
                    null,
                    1.8,
                    0.0036,
                    null,
                    1.55,
                    null,
                    7.6,
                    8.78,
                    1.85,
                    null,
                    null,
                    2.8,
                    null,
                    null,
                    1.7,
                    null,
                    null,
                    1.04,
                    3.9,
                    20.6,
                    0.6876,
                    1.981,
                    4.132,
                    1.059,
                    null,
                    null,
                    null,
                    null,
                    null,
                    null,
                    null,
                    null,
                    5.1,
                    10.6,
                    null,
                    0.045,
                    0.33,
                    0.027,
                    0.17,
                    1.47,
                    1.11,
                    21.42,
                    12.47,
                    null,
                    0.91,
                    null,
                    null,
                    null,
                    null,
                    null,
                    null,
                    null,
                    null,
                    null,
                    null,
                    null,
                    null,
                    null,
                    null,
                    null,
                    null,
                    null,
                    null,
                    null,
                    null,
                    null,
                    null,
                    null,
                    null,
                    null,
                    3.91,
                    0.035,
                    0.024,
                    0.079,
                    0.82,
                    1.894,
                    1.6,
                    2.3,
                    0.018,
                    null,
                    null,
                    0.049,
                    0.017,
                    0.022,
                    0.006,
                    0.328,
                    0.018,
                    0.012,
                    0.016,
                    0.008,
                    0.008,
                    0.014,
                    0.035,
                    4.95,
                    0.014,
                    0.036,
                    0.64,
                    0.91,
                    2.2756,
                    0.7142,
                    0.021,
                    0.046,
                    null,
                    3.37,
                    null,
                    0.022,
                    null,
                    null,
                    null,
                    null,
                    null,
                    null,
                    null,
                    null,
                    null,
                    null,
                    null,
                    15.2,
                    null,
                    null,
                    null,
                    null,
                    3.4,
                    null,
                    null,
                    null,
                    null,
                    null,
                    null,
                    null,
                    null,
                    null,
                    null,
                    null,
                    null,
                    null,
                    null,
                    3.4,
                    null,
                    null,
                    null,
                    null,
                    null,
                    null,
                    null,
                    null,
                    null,
                    null,
                    null,
                    null,
                    null,
                    null,
                    null,
                    null,
                    1.25,
                    5.3,
                    0.024,
                    0.0186,
                    3.1,
                    6.1,
                    4.9,
                    0.48,
                    1.6,
                    0.229,
                    1.56,
                    0.8,
                    0.0405,
                    2.07,
                    2.3,
                    2.37,
                    2.37,
                    1.94,
                    1.96,
                    null,
                    7.6,
                    0.48,
                    1.65,
                    0.29,
                    1.11,
                    2,
                    0.029,
                    0.63,
                    1.8,
                    14.2,
                    0.7,
                    1.82,
                    0.041,
                    0.038,
                    0.08,
                    0.074,
                    0.067,
                    0.205,
                    0.94,
                    6.21,
                    3.44,
                    0.82,
                    6.54,
                    0.622,
                    0.0788,
                    2.3,
                    1.92,
                    14,
                    0.0325,
                    0.036,
                    0.865,
                    5.13,
                    1.88,
                    0.26,
                    0.0696,
                    4.4,
                    14.3,
                    4.6,
                    null,
                    2.7,
                    1.37,
                    0.0378,
                    0.0422,
                    1.07,
                    0.0085,
                    0.00755,
                    0.0151,
                    0.0379,
                    0.0496,
                    1.9,
                    1.99,
                    0.0322,
                    0.06472,
                    1.5,
                    2.61,
                    13.65,
                    7.71,
                    4.01,
                    0.95,
                    1.28,
                    1.45,
                    0.62,
                    1.16,
                    5.59,
                    1.7,
                    9.17,
                    1.373,
                    1.8,
                    0.5,
                    0.0363,
                    0.0498,
                    0.0519,
                    1.3,
                    0.33,
                    3.04,
                    0.79,
                    9.1,
                    null,
                    0.61,
                    0.683,
                    0.624,
                    10.35,
                    2.3,
                    3.366,
                    0.0117,
                    0.0187,
                    0.0162,
                    0.839,
                    13.38,
                    10.7,
                    0.0961,
                    0.0126,
                    0.0208,
                    0.0299,
                    0.011,
                    0.0164,
                    0.0223,
                    4.01,
                    2.54,
                    18.37,
                    0.039,
                    0.027,
                    0.6,
                    25,
                    2.49,
                    0.58,
                    0.04,
                    0.1872,
                    0.6579,
                    1.79,
                    0.47,
                    0.249,
                    0.07167,
                    0.35061,
                    5,
                    7,
                    1.16,
                    0.115,
                    1.71,
                    4.9,
                    0.0413,
                    0.0565,
                    1.13,
                    5.25,
                    3.1548,
                    7.4634,
                    0.38,
                    2.9,
                    0.64,
                    1.26,
                    0.17,
                    6,
                    2.82,
                    1.9,
                    0.033,
                    0.038,
                    0.058,
                    6.1,
                    2,
                    3.15,
                    3.06,
                    1.87,
                    2.25,
                    2.25,
                    1.15,
                    1.8,
                    8.06,
                    0.396,
                    0.42,
                    2.51,
                    0.197,
                    null,
                    1.34,
                    null,
                    6.86,
                    2.7,
                    null,
                    null,
                    1.3,
                    0.4,
                    0.132,
                    0.01133,
                    1.5,
                    0.92,
                    7,
                    1.78,
                    0.22,
                    1.78,
                    8.44,
                    0.057,
                    3.86,
                    0.37,
                    0.0263,
                    0.0318,
                    null,
                    1.2,
                    0.9,
                    0.68,
                    4,
                    0.0284,
                    0.04,
                    0.026,
                    1.8,
                    6.8,
                    0.502,
                    0.087,
                    0.36,
                    1.4,
                    1.7,
                    1.16,
                    0.3,
                    0.172,
                    0.45,
                    5.9,
                    2.6,
                    0.05,
                    5.9,
                    0.96,
                    0.098,
                    0.367,
                    0.186,
                    8.3,
                    6.92,
                    11,
                    9.61,
                    null,
                    0.21,
                    0.261,
                    2.6,
                    1.29,
                    0.99,
                    0.77,
                    0.054,
                    0.076,
                    0.28,
                    11.09,
                    6.8,
                    2.83,
                    0.27,
                    0.71,
                    1.24,
                    null,
                    0.48,
                    11.68,
                    1.1,
                    0.95,
                    2.1,
                    1.88,
                    0.178,
                    2.13,
                    4.5,
                    1.22,
                    3.71,
                    3,
                    0.058,
                    7.2,
                    0.041,
                    0.38,
                    0.224,
                    1.45,
                    3.24,
                    1.6,
                    1.04,
                    2.2,
                    18.15,
                    5.61,
                    1.49,
                    0.0351,
                    0.1507,
                    1.59,
                    0.82,
                    0.0292,
                    0.0382,
                    0.121,
                    2,
                    0.0166,
                    0.0358,
                    0.03,
                    0.223,
                    9.76,
                    9.7,
                    5.1,
                    1.9,
                    1.62,
                    3.12,
                    2.9,
                    5.76,
                    2.12,
                    6.56,
                    1.21,
                    0.85,
                    0.96,
                    null,
                    1.33,
                    15.5,
                    0.168,
                    3,
                    1.5,
                    2.73,
                    0.0193,
                    0.947,
                    5.02,
                    2.24,
                    2.58,
                    0.85,
                    0.82,
                    9.71,
                    0.75,
                    0.013,
                    10.57,
                    0.12,
                    1.8,
                    1.13,
                    1.9,
                    2.1,
                    0.73,
                    null,
                    1.814,
                    null,
                    null,
                    14.4,
                    0.77,
                    2.29,
                    0.48,
                    2.7,
                    0.36,
                    3.53,
                    1.7,
                    8.02,
                    18.1,
                    0.23,
                    2.88,
                    4.04,
                    0.67,
                    1.83,
                    2.6,
                    2.7,
                    7.8,
                    0.61,
                    null,
                    1.49,
                    0.15,
                    7.03,
                    0.08,
                    0.95,
                    null,
                    1.6,
                    3.3,
                    0.0238,
                    0.64,
                    0.54,
                    0.37,
                    3.69,
                    3.82,
                    0.94,
                    0.75,
                    0.52,
                    1.99,
                    1.26,
                    0.0316,
                    null,
                    5.93,
                    1.502,
                    0.057,
                    1.9,
                    3.1,
                    0.72,
                    0.05318,
                    0.07552,
                    2.5,
                    3.7,
                    3,
                    6.9,
                    2.58,
                    0.79,
                    1.85,
                    0.895,
                    17.4,
                    2.44,
                    null,
                    4.05,
                    0.054,
                    1.68,
                    0.266,
                    1.37,
                    2.2,
                    null,
                    null,
                    0.45,
                    9.9,
                    null,
                    1.23,
                    null,
                    0.45,
                    2.3,
                    4.5,
                    0.0087,
                    0.0097,
                    0.101,
                    0.246,
                    0.017,
                    0.33,
                    1.26,
                    2.1,
                    0.65,
                    1.39,
                    2.6,
                    13,
                    0.21,
                    10.39,
                    null,
                    0.06,
                    11.1,
                    1.06,
                    1.45,
                    3.09,
                    1.9,
                    7.75,
                    0.71,
                    1.08,
                    6.575,
                    6.9,
                    5.3,
                    2.54,
                    0.0265,
                    0.76,
                    1.42,
                    null,
                    0.47,
                    1.25,
                    3.88,
                    1.28,
                    0.57,
                    0.298,
                    0.036,
                    0.41,
                    0.527,
                    null,
                    9.18,
                    9,
                    8.82,
                    null,
                    2.1,
                    1.068,
                    1.94,
                    null,
                    null,
                    null,
                    null,
                    null,
                    null,
                    1.47,
                    null,
                    null,
                    null,
                    null,
                    null,
                    null,
                    null,
                    null,
                    null,
                    null,
                    null,
                    null,
                    null,
                    null,
                    null,
                    null,
                    null,
                    null,
                    null,
                    null,
                    null,
                    null,
                    null,
                    null,
                    null,
                    null,
                    null,
                    null,
                    null,
                    null,
                    null,
                    null,
                    null,
                    null,
                    null,
                    null,
                    null,
                    null,
                    null,
                    null,
                    null,
                    null,
                    null,
                    null,
                    null,
                    null,
                    null,
                    null,
                    null,
                    null,
                    null,
                    null,
                    null,
                    null,
                    null,
                    null,
                    null,
                    null,
                    null,
                    null,
                    null,
                    null,
                    null,
                    null,
                    null,
                    null,
                    null,
                    null,
                    null,
                    null,
                    null,
                    null,
                    null,
                    null,
                    null,
                    null,
                    null,
                    null,
                    null,
                    null,
                    null,
                    null,
                    null,
                    null,
                    null,
                    null,
                    null,
                    null,
                    null,
                    null,
                    null,
                    null,
                    null,
                    null,
                    null,
                    null,
                    null,
                    null,
                    null,
                    null,
                    null,
                    null,
                    null,
                    null,
                    null,
                    null,
                    null,
                    null,
                    null,
                    null,
                    null,
                    null,
                    null,
                    null,
                    null,
                    null,
                    null,
                    null,
                    null,
                    null,
                    null,
                    null,
                    null,
                    null,
                    null,
                    null,
                    null,
                    null,
                    null,
                    null,
                    null,
                    null,
                    null,
                    null,
                    0.947,
                    null,
                    null,
                    null,
                    null,
                    null,
                    null,
                    null,
                    null,
                    null,
                    null,
                    null,
                    null,
                    null,
                    null,
                    null,
                    null,
                    null,
                    null,
                    null,
                    null,
                    null,
                    null,
                    null,
                    null,
                    null,
                    null,
                    null,
                    null,
                    null,
                    null,
                    null,
                    null,
                    null,
                    null,
                    null,
                    null,
                    null,
                    null,
                    null,
                    null,
                    null,
                    null,
                    null,
                    null,
                    null,
                    null,
                    null,
                    null,
                    null,
                    null,
                    null,
                    null,
                    null,
                    null,
                    null,
                    null,
                    null,
                    null,
                    null,
                    null,
                    null,
                    null,
                    null,
                    null,
                    null,
                    null,
                    null,
                    null,
                    null,
                    null,
                    null,
                    null,
                    null,
                    null,
                    null,
                    null,
                    null,
                    null,
                    null,
                    null,
                    null,
                    null,
                    null,
                    null,
                    null,
                    null,
                    null,
                    null,
                    null,
                    null,
                    null,
                    null,
                    null,
                    null,
                    null,
                    null,
                    null,
                    null,
                    null,
                    null,
                    null,
                    null,
                    null,
                    null,
                    null,
                    null,
                    null,
                    null,
                    null,
                    null,
                    null,
                    null,
                    null,
                    null,
                    null,
                    null,
                    null,
                    null,
                    null,
                    null,
                    null,
                    null,
                    null,
                    null,
                    null,
                    null,
                    null,
                    null,
                    19.8,
                    0.34,
                    0.4,
                    1.54,
                    null,
                    null,
                    null,
                    null,
                    null,
                    null,
                    null,
                    null,
                    null,
                    null,
                    null,
                    null,
                    null,
                    null,
                    null,
                    null,
                    null,
                    null,
                    null,
                    null,
                    null,
                    null,
                    null,
                    null,
                    null,
                    null,
                    null,
                    null,
                    null,
                    null,
                    null,
                    null,
                    null,
                    null,
                    null,
                    null,
                    null,
                    null,
                    null,
                    null,
                    null,
                    null,
                    null,
                    null,
                    null,
                    null,
                    null,
                    null,
                    null,
                    null,
                    null,
                    null,
                    null,
                    null,
                    null,
                    null,
                    null,
                    null,
                    null,
                    null,
                    null,
                    null,
                    null,
                    null,
                    null,
                    null,
                    null,
                    null,
                    null,
                    null,
                    null,
                    null,
                    null,
                    null,
                    null,
                    null,
                    null,
                    null,
                    null,
                    null,
                    null,
                    null,
                    null,
                    null,
                    null,
                    null,
                    null,
                    null,
                    null,
                    null,
                    null,
                    null,
                    null,
                    null,
                    null,
                    null,
                    null,
                    null,
                    null,
                    null,
                    null,
                    null,
                    null,
                    null,
                    null,
                    null,
                    null,
                    null,
                    null,
                    null,
                    null,
                    null,
                    null,
                    null,
                    null,
                    null,
                    null,
                    null
                  ],
                  "xaxis": "x2",
                  "yaxis": "y2"
                }
              ],
              "layout": {
                "barmode": "relative",
                "legend": {
                  "tracegroupgap": 0
                },
                "template": {
                  "data": {
                    "bar": [
                      {
                        "error_x": {
                          "color": "#2a3f5f"
                        },
                        "error_y": {
                          "color": "#2a3f5f"
                        },
                        "marker": {
                          "line": {
                            "color": "#E5ECF6",
                            "width": 0.5
                          },
                          "pattern": {
                            "fillmode": "overlay",
                            "size": 10,
                            "solidity": 0.2
                          }
                        },
                        "type": "bar"
                      }
                    ],
                    "barpolar": [
                      {
                        "marker": {
                          "line": {
                            "color": "#E5ECF6",
                            "width": 0.5
                          },
                          "pattern": {
                            "fillmode": "overlay",
                            "size": 10,
                            "solidity": 0.2
                          }
                        },
                        "type": "barpolar"
                      }
                    ],
                    "carpet": [
                      {
                        "aaxis": {
                          "endlinecolor": "#2a3f5f",
                          "gridcolor": "white",
                          "linecolor": "white",
                          "minorgridcolor": "white",
                          "startlinecolor": "#2a3f5f"
                        },
                        "baxis": {
                          "endlinecolor": "#2a3f5f",
                          "gridcolor": "white",
                          "linecolor": "white",
                          "minorgridcolor": "white",
                          "startlinecolor": "#2a3f5f"
                        },
                        "type": "carpet"
                      }
                    ],
                    "choropleth": [
                      {
                        "colorbar": {
                          "outlinewidth": 0,
                          "ticks": ""
                        },
                        "type": "choropleth"
                      }
                    ],
                    "contour": [
                      {
                        "colorbar": {
                          "outlinewidth": 0,
                          "ticks": ""
                        },
                        "colorscale": [
                          [
                            0,
                            "#0d0887"
                          ],
                          [
                            0.1111111111111111,
                            "#46039f"
                          ],
                          [
                            0.2222222222222222,
                            "#7201a8"
                          ],
                          [
                            0.3333333333333333,
                            "#9c179e"
                          ],
                          [
                            0.4444444444444444,
                            "#bd3786"
                          ],
                          [
                            0.5555555555555556,
                            "#d8576b"
                          ],
                          [
                            0.6666666666666666,
                            "#ed7953"
                          ],
                          [
                            0.7777777777777778,
                            "#fb9f3a"
                          ],
                          [
                            0.8888888888888888,
                            "#fdca26"
                          ],
                          [
                            1,
                            "#f0f921"
                          ]
                        ],
                        "type": "contour"
                      }
                    ],
                    "contourcarpet": [
                      {
                        "colorbar": {
                          "outlinewidth": 0,
                          "ticks": ""
                        },
                        "type": "contourcarpet"
                      }
                    ],
                    "heatmap": [
                      {
                        "colorbar": {
                          "outlinewidth": 0,
                          "ticks": ""
                        },
                        "colorscale": [
                          [
                            0,
                            "#0d0887"
                          ],
                          [
                            0.1111111111111111,
                            "#46039f"
                          ],
                          [
                            0.2222222222222222,
                            "#7201a8"
                          ],
                          [
                            0.3333333333333333,
                            "#9c179e"
                          ],
                          [
                            0.4444444444444444,
                            "#bd3786"
                          ],
                          [
                            0.5555555555555556,
                            "#d8576b"
                          ],
                          [
                            0.6666666666666666,
                            "#ed7953"
                          ],
                          [
                            0.7777777777777778,
                            "#fb9f3a"
                          ],
                          [
                            0.8888888888888888,
                            "#fdca26"
                          ],
                          [
                            1,
                            "#f0f921"
                          ]
                        ],
                        "type": "heatmap"
                      }
                    ],
                    "heatmapgl": [
                      {
                        "colorbar": {
                          "outlinewidth": 0,
                          "ticks": ""
                        },
                        "colorscale": [
                          [
                            0,
                            "#0d0887"
                          ],
                          [
                            0.1111111111111111,
                            "#46039f"
                          ],
                          [
                            0.2222222222222222,
                            "#7201a8"
                          ],
                          [
                            0.3333333333333333,
                            "#9c179e"
                          ],
                          [
                            0.4444444444444444,
                            "#bd3786"
                          ],
                          [
                            0.5555555555555556,
                            "#d8576b"
                          ],
                          [
                            0.6666666666666666,
                            "#ed7953"
                          ],
                          [
                            0.7777777777777778,
                            "#fb9f3a"
                          ],
                          [
                            0.8888888888888888,
                            "#fdca26"
                          ],
                          [
                            1,
                            "#f0f921"
                          ]
                        ],
                        "type": "heatmapgl"
                      }
                    ],
                    "histogram": [
                      {
                        "marker": {
                          "pattern": {
                            "fillmode": "overlay",
                            "size": 10,
                            "solidity": 0.2
                          }
                        },
                        "type": "histogram"
                      }
                    ],
                    "histogram2d": [
                      {
                        "colorbar": {
                          "outlinewidth": 0,
                          "ticks": ""
                        },
                        "colorscale": [
                          [
                            0,
                            "#0d0887"
                          ],
                          [
                            0.1111111111111111,
                            "#46039f"
                          ],
                          [
                            0.2222222222222222,
                            "#7201a8"
                          ],
                          [
                            0.3333333333333333,
                            "#9c179e"
                          ],
                          [
                            0.4444444444444444,
                            "#bd3786"
                          ],
                          [
                            0.5555555555555556,
                            "#d8576b"
                          ],
                          [
                            0.6666666666666666,
                            "#ed7953"
                          ],
                          [
                            0.7777777777777778,
                            "#fb9f3a"
                          ],
                          [
                            0.8888888888888888,
                            "#fdca26"
                          ],
                          [
                            1,
                            "#f0f921"
                          ]
                        ],
                        "type": "histogram2d"
                      }
                    ],
                    "histogram2dcontour": [
                      {
                        "colorbar": {
                          "outlinewidth": 0,
                          "ticks": ""
                        },
                        "colorscale": [
                          [
                            0,
                            "#0d0887"
                          ],
                          [
                            0.1111111111111111,
                            "#46039f"
                          ],
                          [
                            0.2222222222222222,
                            "#7201a8"
                          ],
                          [
                            0.3333333333333333,
                            "#9c179e"
                          ],
                          [
                            0.4444444444444444,
                            "#bd3786"
                          ],
                          [
                            0.5555555555555556,
                            "#d8576b"
                          ],
                          [
                            0.6666666666666666,
                            "#ed7953"
                          ],
                          [
                            0.7777777777777778,
                            "#fb9f3a"
                          ],
                          [
                            0.8888888888888888,
                            "#fdca26"
                          ],
                          [
                            1,
                            "#f0f921"
                          ]
                        ],
                        "type": "histogram2dcontour"
                      }
                    ],
                    "mesh3d": [
                      {
                        "colorbar": {
                          "outlinewidth": 0,
                          "ticks": ""
                        },
                        "type": "mesh3d"
                      }
                    ],
                    "parcoords": [
                      {
                        "line": {
                          "colorbar": {
                            "outlinewidth": 0,
                            "ticks": ""
                          }
                        },
                        "type": "parcoords"
                      }
                    ],
                    "pie": [
                      {
                        "automargin": true,
                        "type": "pie"
                      }
                    ],
                    "scatter": [
                      {
                        "fillpattern": {
                          "fillmode": "overlay",
                          "size": 10,
                          "solidity": 0.2
                        },
                        "type": "scatter"
                      }
                    ],
                    "scatter3d": [
                      {
                        "line": {
                          "colorbar": {
                            "outlinewidth": 0,
                            "ticks": ""
                          }
                        },
                        "marker": {
                          "colorbar": {
                            "outlinewidth": 0,
                            "ticks": ""
                          }
                        },
                        "type": "scatter3d"
                      }
                    ],
                    "scattercarpet": [
                      {
                        "marker": {
                          "colorbar": {
                            "outlinewidth": 0,
                            "ticks": ""
                          }
                        },
                        "type": "scattercarpet"
                      }
                    ],
                    "scattergeo": [
                      {
                        "marker": {
                          "colorbar": {
                            "outlinewidth": 0,
                            "ticks": ""
                          }
                        },
                        "type": "scattergeo"
                      }
                    ],
                    "scattergl": [
                      {
                        "marker": {
                          "colorbar": {
                            "outlinewidth": 0,
                            "ticks": ""
                          }
                        },
                        "type": "scattergl"
                      }
                    ],
                    "scattermapbox": [
                      {
                        "marker": {
                          "colorbar": {
                            "outlinewidth": 0,
                            "ticks": ""
                          }
                        },
                        "type": "scattermapbox"
                      }
                    ],
                    "scatterpolar": [
                      {
                        "marker": {
                          "colorbar": {
                            "outlinewidth": 0,
                            "ticks": ""
                          }
                        },
                        "type": "scatterpolar"
                      }
                    ],
                    "scatterpolargl": [
                      {
                        "marker": {
                          "colorbar": {
                            "outlinewidth": 0,
                            "ticks": ""
                          }
                        },
                        "type": "scatterpolargl"
                      }
                    ],
                    "scatterternary": [
                      {
                        "marker": {
                          "colorbar": {
                            "outlinewidth": 0,
                            "ticks": ""
                          }
                        },
                        "type": "scatterternary"
                      }
                    ],
                    "surface": [
                      {
                        "colorbar": {
                          "outlinewidth": 0,
                          "ticks": ""
                        },
                        "colorscale": [
                          [
                            0,
                            "#0d0887"
                          ],
                          [
                            0.1111111111111111,
                            "#46039f"
                          ],
                          [
                            0.2222222222222222,
                            "#7201a8"
                          ],
                          [
                            0.3333333333333333,
                            "#9c179e"
                          ],
                          [
                            0.4444444444444444,
                            "#bd3786"
                          ],
                          [
                            0.5555555555555556,
                            "#d8576b"
                          ],
                          [
                            0.6666666666666666,
                            "#ed7953"
                          ],
                          [
                            0.7777777777777778,
                            "#fb9f3a"
                          ],
                          [
                            0.8888888888888888,
                            "#fdca26"
                          ],
                          [
                            1,
                            "#f0f921"
                          ]
                        ],
                        "type": "surface"
                      }
                    ],
                    "table": [
                      {
                        "cells": {
                          "fill": {
                            "color": "#EBF0F8"
                          },
                          "line": {
                            "color": "white"
                          }
                        },
                        "header": {
                          "fill": {
                            "color": "#C8D4E3"
                          },
                          "line": {
                            "color": "white"
                          }
                        },
                        "type": "table"
                      }
                    ]
                  },
                  "layout": {
                    "annotationdefaults": {
                      "arrowcolor": "#2a3f5f",
                      "arrowhead": 0,
                      "arrowwidth": 1
                    },
                    "autotypenumbers": "strict",
                    "coloraxis": {
                      "colorbar": {
                        "outlinewidth": 0,
                        "ticks": ""
                      }
                    },
                    "colorscale": {
                      "diverging": [
                        [
                          0,
                          "#8e0152"
                        ],
                        [
                          0.1,
                          "#c51b7d"
                        ],
                        [
                          0.2,
                          "#de77ae"
                        ],
                        [
                          0.3,
                          "#f1b6da"
                        ],
                        [
                          0.4,
                          "#fde0ef"
                        ],
                        [
                          0.5,
                          "#f7f7f7"
                        ],
                        [
                          0.6,
                          "#e6f5d0"
                        ],
                        [
                          0.7,
                          "#b8e186"
                        ],
                        [
                          0.8,
                          "#7fbc41"
                        ],
                        [
                          0.9,
                          "#4d9221"
                        ],
                        [
                          1,
                          "#276419"
                        ]
                      ],
                      "sequential": [
                        [
                          0,
                          "#0d0887"
                        ],
                        [
                          0.1111111111111111,
                          "#46039f"
                        ],
                        [
                          0.2222222222222222,
                          "#7201a8"
                        ],
                        [
                          0.3333333333333333,
                          "#9c179e"
                        ],
                        [
                          0.4444444444444444,
                          "#bd3786"
                        ],
                        [
                          0.5555555555555556,
                          "#d8576b"
                        ],
                        [
                          0.6666666666666666,
                          "#ed7953"
                        ],
                        [
                          0.7777777777777778,
                          "#fb9f3a"
                        ],
                        [
                          0.8888888888888888,
                          "#fdca26"
                        ],
                        [
                          1,
                          "#f0f921"
                        ]
                      ],
                      "sequentialminus": [
                        [
                          0,
                          "#0d0887"
                        ],
                        [
                          0.1111111111111111,
                          "#46039f"
                        ],
                        [
                          0.2222222222222222,
                          "#7201a8"
                        ],
                        [
                          0.3333333333333333,
                          "#9c179e"
                        ],
                        [
                          0.4444444444444444,
                          "#bd3786"
                        ],
                        [
                          0.5555555555555556,
                          "#d8576b"
                        ],
                        [
                          0.6666666666666666,
                          "#ed7953"
                        ],
                        [
                          0.7777777777777778,
                          "#fb9f3a"
                        ],
                        [
                          0.8888888888888888,
                          "#fdca26"
                        ],
                        [
                          1,
                          "#f0f921"
                        ]
                      ]
                    },
                    "colorway": [
                      "#636efa",
                      "#EF553B",
                      "#00cc96",
                      "#ab63fa",
                      "#FFA15A",
                      "#19d3f3",
                      "#FF6692",
                      "#B6E880",
                      "#FF97FF",
                      "#FECB52"
                    ],
                    "font": {
                      "color": "#2a3f5f"
                    },
                    "geo": {
                      "bgcolor": "white",
                      "lakecolor": "white",
                      "landcolor": "#E5ECF6",
                      "showlakes": true,
                      "showland": true,
                      "subunitcolor": "white"
                    },
                    "hoverlabel": {
                      "align": "left"
                    },
                    "hovermode": "closest",
                    "mapbox": {
                      "style": "light"
                    },
                    "paper_bgcolor": "white",
                    "plot_bgcolor": "#E5ECF6",
                    "polar": {
                      "angularaxis": {
                        "gridcolor": "white",
                        "linecolor": "white",
                        "ticks": ""
                      },
                      "bgcolor": "#E5ECF6",
                      "radialaxis": {
                        "gridcolor": "white",
                        "linecolor": "white",
                        "ticks": ""
                      }
                    },
                    "scene": {
                      "xaxis": {
                        "backgroundcolor": "#E5ECF6",
                        "gridcolor": "white",
                        "gridwidth": 2,
                        "linecolor": "white",
                        "showbackground": true,
                        "ticks": "",
                        "zerolinecolor": "white"
                      },
                      "yaxis": {
                        "backgroundcolor": "#E5ECF6",
                        "gridcolor": "white",
                        "gridwidth": 2,
                        "linecolor": "white",
                        "showbackground": true,
                        "ticks": "",
                        "zerolinecolor": "white"
                      },
                      "zaxis": {
                        "backgroundcolor": "#E5ECF6",
                        "gridcolor": "white",
                        "gridwidth": 2,
                        "linecolor": "white",
                        "showbackground": true,
                        "ticks": "",
                        "zerolinecolor": "white"
                      }
                    },
                    "shapedefaults": {
                      "line": {
                        "color": "#2a3f5f"
                      }
                    },
                    "ternary": {
                      "aaxis": {
                        "gridcolor": "white",
                        "linecolor": "white",
                        "ticks": ""
                      },
                      "baxis": {
                        "gridcolor": "white",
                        "linecolor": "white",
                        "ticks": ""
                      },
                      "bgcolor": "#E5ECF6",
                      "caxis": {
                        "gridcolor": "white",
                        "linecolor": "white",
                        "ticks": ""
                      }
                    },
                    "title": {
                      "x": 0.05
                    },
                    "xaxis": {
                      "automargin": true,
                      "gridcolor": "white",
                      "linecolor": "white",
                      "ticks": "",
                      "title": {
                        "standoff": 15
                      },
                      "zerolinecolor": "white",
                      "zerolinewidth": 2
                    },
                    "yaxis": {
                      "automargin": true,
                      "gridcolor": "white",
                      "linecolor": "white",
                      "ticks": "",
                      "title": {
                        "standoff": 15
                      },
                      "zerolinecolor": "white",
                      "zerolinewidth": 2
                    }
                  }
                },
                "title": {
                  "text": "Distribution of the masses of the extrasolar planets"
                },
                "xaxis": {
                  "anchor": "y",
                  "domain": [
                    0,
                    1
                  ],
                  "title": {
                    "text": "Mass (multiples of Jupiter)"
                  }
                },
                "xaxis2": {
                  "anchor": "y2",
                  "domain": [
                    0,
                    1
                  ],
                  "matches": "x",
                  "showgrid": true,
                  "showticklabels": false
                },
                "yaxis": {
                  "anchor": "x",
                  "domain": [
                    0,
                    0.8316
                  ],
                  "title": {
                    "text": "No of planets"
                  }
                },
                "yaxis2": {
                  "anchor": "x2",
                  "domain": [
                    0.8416,
                    1
                  ],
                  "matches": "y2",
                  "showgrid": false,
                  "showline": false,
                  "showticklabels": false,
                  "ticks": ""
                }
              }
            },
            "text/html": [
              "<div>                            <div id=\"7169b5b1-bd81-47e4-84a6-dd7f8343d9d9\" class=\"plotly-graph-div\" style=\"height:525px; width:100%;\"></div>            <script type=\"text/javascript\">                require([\"plotly\"], function(Plotly) {                    window.PLOTLYENV=window.PLOTLYENV || {};                                    if (document.getElementById(\"7169b5b1-bd81-47e4-84a6-dd7f8343d9d9\")) {                    Plotly.newPlot(                        \"7169b5b1-bd81-47e4-84a6-dd7f8343d9d9\",                        [{\"alignmentgroup\":\"True\",\"bingroup\":\"x\",\"hovertemplate\":\"mass=%{x}<br>count=%{y}<extra></extra>\",\"legendgroup\":\"\",\"marker\":{\"color\":\"#636efa\",\"pattern\":{\"shape\":\"\"}},\"name\":\"\",\"offsetgroup\":\"\",\"orientation\":\"v\",\"showlegend\":false,\"x\":[7.1,2.21,2.6,19.4,10.5,4.8,4.64,null,10.3,1.99,0.86,9.88,3.88,2.53,0.54,1.64,0.472,0.8,0.165,3.53,null,0.172,0.016,0.057,0.072,null,null,5.3,3.2,null,null,null,6.05,null,null,null,null,null,null,null,null,null,4.2,null,null,1.8,0.0036,null,1.55,null,7.6,8.78,1.85,null,null,2.8,null,null,1.7,null,null,1.04,3.9,20.6,0.6876,1.981,4.132,1.059,null,null,null,null,null,null,null,null,5.1,10.6,null,0.045,0.33,0.027,0.17,1.47,1.11,21.42,12.47,null,0.91,null,null,null,null,null,null,null,null,null,null,null,null,null,null,null,null,null,null,null,null,null,null,null,null,null,3.91,0.035,0.024,0.079,0.82,1.894,1.6,2.3,0.018,null,null,0.049,0.017,0.022,0.006,0.328,0.018,0.012,0.016,0.008,0.008,0.014,0.035,4.95,0.014,0.036,0.64,0.91,2.2756,0.7142,0.021,0.046,null,3.37,null,0.022,null,null,null,null,null,null,null,null,null,null,null,15.2,null,null,null,null,3.4,null,null,null,null,null,null,null,null,null,null,null,null,null,null,3.4,null,null,null,null,null,null,null,null,null,null,null,null,null,null,null,null,1.25,5.3,0.024,0.0186,3.1,6.1,4.9,0.48,1.6,0.229,1.56,0.8,0.0405,2.07,2.3,2.37,2.37,1.94,1.96,null,7.6,0.48,1.65,0.29,1.11,2.0,0.029,0.63,1.8,14.2,0.7,1.82,0.041,0.038,0.08,0.074,0.067,0.205,0.94,6.21,3.44,0.82,6.54,0.622,0.0788,2.3,1.92,14.0,0.0325,0.036,0.865,5.13,1.88,0.26,0.0696,4.4,14.3,4.6,null,2.7,1.37,0.0378,0.0422,1.07,0.0085,0.00755,0.0151,0.0379,0.0496,1.9,1.99,0.0322,0.06472,1.5,2.61,13.65,7.71,4.01,0.95,1.28,1.45,0.62,1.16,5.59,1.7,9.17,1.373,1.8,0.5,0.0363,0.0498,0.0519,1.3,0.33,3.04,0.79,9.1,null,0.61,0.683,0.624,10.35,2.3,3.366,0.0117,0.0187,0.0162,0.839,13.38,10.7,0.0961,0.0126,0.0208,0.0299,0.011,0.0164,0.0223,4.01,2.54,18.37,0.039,0.027,0.6,25.0,2.49,0.58,0.04,0.1872,0.6579,1.79,0.47,0.249,0.07167,0.35061,5.0,7.0,1.16,0.115,1.71,4.9,0.0413,0.0565,1.13,5.25,3.1548,7.4634,0.38,2.9,0.64,1.26,0.17,6.0,2.82,1.9,0.033,0.038,0.058,6.1,2.0,3.15,3.06,1.87,2.25,2.25,1.15,1.8,8.06,0.396,0.42,2.51,0.197,null,1.34,null,6.86,2.7,null,null,1.3,0.4,0.132,0.01133,1.5,0.92,7.0,1.78,0.22,1.78,8.44,0.057,3.86,0.37,0.0263,0.0318,null,1.2,0.9,0.68,4.0,0.0284,0.04,0.026,1.8,6.8,0.502,0.087,0.36,1.4,1.7,1.16,0.3,0.172,0.45,5.9,2.6,0.05,5.9,0.96,0.098,0.367,0.186,8.3,6.92,11.0,9.61,null,0.21,0.261,2.6,1.29,0.99,0.77,0.054,0.076,0.28,11.09,6.8,2.83,0.27,0.71,1.24,null,0.48,11.68,1.1,0.95,2.1,1.88,0.178,2.13,4.5,1.22,3.71,3.0,0.058,7.2,0.041,0.38,0.224,1.45,3.24,1.6,1.04,2.2,18.15,5.61,1.49,0.0351,0.1507,1.59,0.82,0.0292,0.0382,0.121,2.0,0.0166,0.0358,0.03,0.223,9.76,9.7,5.1,1.9,1.62,3.12,2.9,5.76,2.12,6.56,1.21,0.85,0.96,null,1.33,15.5,0.168,3.0,1.5,2.73,0.0193,0.947,5.02,2.24,2.58,0.85,0.82,9.71,0.75,0.013,10.57,0.12,1.8,1.13,1.9,2.1,0.73,null,1.814,null,null,14.4,0.77,2.29,0.48,2.7,0.36,3.53,1.7,8.02,18.1,0.23,2.88,4.04,0.67,1.83,2.6,2.7,7.8,0.61,null,1.49,0.15,7.03,0.08,0.95,null,1.6,3.3,0.0238,0.64,0.54,0.37,3.69,3.82,0.94,0.75,0.52,1.99,1.26,0.0316,null,5.93,1.502,0.057,1.9,3.1,0.72,0.05318,0.07552,2.5,3.7,3.0,6.9,2.58,0.79,1.85,0.895,17.4,2.44,null,4.05,0.054,1.68,0.266,1.37,2.2,null,null,0.45,9.9,null,1.23,null,0.45,2.3,4.5,0.0087,0.0097,0.101,0.246,0.017,0.33,1.26,2.1,0.65,1.39,2.6,13.0,0.21,10.39,null,0.06,11.1,1.06,1.45,3.09,1.9,7.75,0.71,1.08,6.575,6.9,5.3,2.54,0.0265,0.76,1.42,null,0.47,1.25,3.88,1.28,0.57,0.298,0.036,0.41,0.527,null,9.18,9.0,8.82,null,2.1,1.068,1.94,null,null,null,null,null,null,1.47,null,null,null,null,null,null,null,null,null,null,null,null,null,null,null,null,null,null,null,null,null,null,null,null,null,null,null,null,null,null,null,null,null,null,null,null,null,null,null,null,null,null,null,null,null,null,null,null,null,null,null,null,null,null,null,null,null,null,null,null,null,null,null,null,null,null,null,null,null,null,null,null,null,null,null,null,null,null,null,null,null,null,null,null,null,null,null,null,null,null,null,null,null,null,null,null,null,null,null,null,null,null,null,null,null,null,null,null,null,null,null,null,null,null,null,null,null,null,null,null,null,null,null,null,null,null,null,null,null,null,null,null,null,null,0.947,null,null,null,null,null,null,null,null,null,null,null,null,null,null,null,null,null,null,null,null,null,null,null,null,null,null,null,null,null,null,null,null,null,null,null,null,null,null,null,null,null,null,null,null,null,null,null,null,null,null,null,null,null,null,null,null,null,null,null,null,null,null,null,null,null,null,null,null,null,null,null,null,null,null,null,null,null,null,null,null,null,null,null,null,null,null,null,null,null,null,null,null,null,null,null,null,null,null,null,null,null,null,null,null,null,null,null,null,null,null,null,null,null,null,null,null,null,null,null,null,null,null,null,null,null,null,null,null,19.8,0.34,0.4,1.54,null,null,null,null,null,null,null,null,null,null,null,null,null,null,null,null,null,null,null,null,null,null,null,null,null,null,null,null,null,null,null,null,null,null,null,null,null,null,null,null,null,null,null,null,null,null,null,null,null,null,null,null,null,null,null,null,null,null,null,null,null,null,null,null,null,null,null,null,null,null,null,null,null,null,null,null,null,null,null,null,null,null,null,null,null,null,null,null,null,null,null,null,null,null,null,null,null,null,null,null,null,null,null,null,null,null,null,null,null,null,null,null,null,null,null,null,null,null],\"xaxis\":\"x\",\"yaxis\":\"y\",\"type\":\"histogram\"},{\"alignmentgroup\":\"True\",\"customdata\":[[\"Radial Velocity\",1,269.3,77.4,2006],[\"Radial Velocity\",1,874.774,56.95,2008],[\"Radial Velocity\",1,763.0,19.84,2011],[\"Radial Velocity\",1,326.03,110.62,2007],[\"Radial Velocity\",1,516.22,119.47,2009],[\"Radial Velocity\",1,185.84,76.39,2008],[\"Radial Velocity\",1,1773.4,18.15,2002],[\"Radial Velocity\",1,798.5,21.41,1996],[\"Radial Velocity\",1,993.3,73.1,2008],[\"Radial Velocity\",2,452.8,74.79,2010],[\"Radial Velocity\",2,883.0,74.79,2010],[\"Radial Velocity\",1,335.1,39.43,2009],[\"Radial Velocity\",1,479.1,97.28,2008],[\"Radial Velocity\",3,1078.0,14.08,1996],[\"Radial Velocity\",3,2391.0,14.08,2001],[\"Radial Velocity\",3,14002.0,14.08,2009],[\"Radial Velocity\",1,4.230785,15.36,1995],[\"Radial Velocity\",5,14.651,12.53,1996],[\"Radial Velocity\",5,44.38,12.53,2004],[\"Radial Velocity\",5,4909.0,12.53,2002],[\"Radial Velocity\",5,0.73654,12.53,2011],[\"Radial Velocity\",5,261.2,12.53,2007],[\"Radial Velocity\",3,4.215,8.52,2009],[\"Radial Velocity\",3,38.021,8.52,2009],[\"Radial Velocity\",3,123.01,8.52,2009],[\"Radial Velocity\",1,116.6884,18.11,1996],[\"Radial Velocity\",1,691.9,81.5,2012],[\"Radial Velocity\",1,952.7,97.18,2008],[\"Radial Velocity\",1,181.4,45.52,2013],[\"Imaging\",1,null,45.52,2005],[\"Imaging\",1,null,165.0,2007],[\"Imaging\",1,null,140.0,2004],[\"Eclipse Timing Variations\",1,10220.0,null,2009],[\"Imaging\",1,null,null,2008],[\"Imaging\",1,null,145.0,2013],[\"Imaging\",1,null,139.0,2004],[\"Imaging\",1,null,18.39,2006],[\"Eclipse Timing Variations\",2,5767.0,130.72,2008],[\"Eclipse Timing Variations\",2,3321.0,130.72,2008],[\"Eclipse Timing Variations\",2,5573.55,500.0,2010],[\"Eclipse Timing Variations\",2,2883.5,500.0,2010],[\"Eclipse Timing Variations\",1,2900.0,null,2011],[\"Eclipse Timing Variations\",1,4343.5,null,2012],[\"Eclipse Timing Variations\",2,5840.0,null,2011],[\"Eclipse Timing Variations\",2,1916.25,null,2011],[\"Radial Velocity\",1,380.8,20.21,2010],[\"Radial Velocity\",1,3.2357,1.35,2012],[\"Imaging\",1,6000.0,19.28,2008],[\"Radial Velocity\",1,2502.0,3.22,2000],[\"Radial Velocity\",1,417.9,70.42,2012],[\"Radial Velocity\",1,594.9,47.53,2006],[\"Radial Velocity\",1,428.5,38.52,2009],[\"Radial Velocity\",1,903.3,13.79,2003],[\"Radial Velocity\",1,1251.0,31.12,2007],[\"Imaging\",1,null,52.03,2012],[\"Radial Velocity\",1,136.75,62.66,2007],[\"Radial Velocity\",2,530.32,46.84,2012],[\"Radial Velocity\",2,3186.0,46.84,2012],[\"Radial Velocity\",1,277.02,80.64,2013],[\"Radial Velocity\",1,187.83,84.03,2012],[\"Radial Velocity\",1,1630.0,56.31,2012],[\"Radial Velocity\",1,39.845,17.43,1997],[\"Radial Velocity\",1,3.3135,15.6,1996],[\"Radial Velocity\",1,305.5,92.51,2013],[\"Radial Velocity\",4,4.617033,13.47,1996],[\"Radial Velocity\",4,241.258,13.47,1999],[\"Radial Velocity\",4,1276.46,13.47,1999],[\"Radial Velocity\",4,3848.86,13.47,2010],[\"Imaging\",1,318280.0,7.69,2008],[\"Imaging\",1,null,145.0,2008],[\"Imaging\",1,null,36.0,2013],[\"Imaging\",1,null,140.0,2010],[\"Imaging\",1,4639.15,12.21,2009],[\"Imaging\",1,null,52.4,2004],[\"Imaging\",1,7336.5,25.0,2009],[\"Imaging\",1,8679.7,26.67,2009],[\"Radial Velocity\",1,655.6,37.54,2008],[\"Radial Velocity\",1,714.3,null,2007],[\"Radial Velocity\",1,3.48777,80.0,2000],[\"Radial Velocity\",2,5.6,42.09,2009],[\"Radial Velocity\",2,237.6,42.09,2009],[\"Radial Velocity\",2,3.8728,20.1,2013],[\"Radial Velocity\",2,125.94,20.1,2013],[\"Radial Velocity\",1,268.94,50.03,2009],[\"Radial Velocity\",1,137.48,175.44,2013],[\"Radial Velocity\",2,379.63,null,2009],[\"Radial Velocity\",2,621.99,null,2009],[\"Radial Velocity\",1,578.2,null,2012],[\"Radial Velocity\",1,392.6,null,2011],[\"Imaging\",1,10037.5,23.1,2011],[\"Imaging\",1,null,null,2006],[\"Transit\",1,1.5089557,null,2008],[\"Transit\",1,1.7429935,200.0,2008],[\"Transit\",1,4.2568,680.0,2008],[\"Transit\",1,9.20205,null,2008],[\"Transit\",1,4.0378962,null,2009],[\"Transit\",1,8.886593,null,2009],[\"Transit\",2,0.853585,150.0,2009],[\"Radial Velocity\",2,3.698,150.0,2009],[\"Transit\",1,6.21229,380.0,2010],[\"Transit\",1,95.2738,460.0,2009],[\"Transit\",1,13.2406,345.0,2010],[\"Transit\",1,2.99433,560.0,2010],[\"Transit\",1,2.828042,1150.0,2010],[\"Transit\",1,4.03519,1060.0,2010],[\"Transit\",1,1.51214,1340.0,2010],[\"Transit\",1,5.35227,840.0,2011],[\"Transit\",1,3.7681,920.0,2011],[\"Transit\",1,1.9000693,870.0,2011],[\"Transit\",1,3.89713,770.0,2011],[\"Transit\",1,9.24285,1230.0,2011],[\"Transit\",1,3.6313,600.0,2011],[\"Transit\",1,3.57532,null,2014],[\"Astrometry\",1,246.36,20.77,2013],[\"Radial Velocity\",1,15.76491,10.91,1999],[\"Radial Velocity\",3,8.631,14.97,2013],[\"Radial Velocity\",3,25.6,14.97,2013],[\"Radial Velocity\",3,603.0,14.97,2013],[\"Radial Velocity\",1,2288.0,12.12,2009],[\"Radial Velocity\",2,692.0,15.1,2007],[\"Radial Velocity\",2,7100.0,15.1,2011],[\"Radial Velocity\",1,4100.0,20.03,2013],[\"Radial Velocity\",1,7.3709,9.04,2011],[\"Radial Velocity\",1,2.64385,10.23,2004],[\"Imaging\",1,null,17.95,2013],[\"Radial Velocity\",4,5.36874,6.27,2005],[\"Radial Velocity\",4,12.9292,6.27,2005],[\"Radial Velocity\",4,66.8,6.27,2005],[\"Radial Velocity\",4,3.14942,6.27,2005],[\"Radial Velocity\",1,598.3,10.32,2009],[\"Radial Velocity\",6,7.2004,6.8,2011],[\"Radial Velocity\",6,28.14,6.8,2011],[\"Radial Velocity\",6,91.61,6.8,2013],[\"Radial Velocity\",6,62.24,6.8,2013],[\"Radial Velocity\",6,39.026,6.8,2013],[\"Radial Velocity\",6,256.2,6.8,2013],[\"Radial Velocity\",1,4.6938,4.54,2007],[\"Radial Velocity\",3,1050.3,16.13,2010],[\"Radial Velocity\",3,3.6,16.13,2012],[\"Radial Velocity\",3,35.37,16.13,2012],[\"Radial Velocity\",1,3416.0,4.94,2008],[\"Radial Velocity\",1,1845.0,8.77,2006],[\"Radial Velocity\",4,61.1166,4.7,1998],[\"Radial Velocity\",4,30.0881,4.7,2000],[\"Radial Velocity\",4,1.93778,4.7,2005],[\"Radial Velocity\",4,124.26,4.7,2010],[\"Transit\",1,1.58040482,null,2009],[\"Radial Velocity\",1,133.71,17.62,2000],[\"Radial Velocity\",1,3.33714,25.2,2012],[\"Radial Velocity\",1,2.64561,19.8,2010],[\"Imaging\",1,null,145.0,2010],[\"Transit\",1,4.4652934,139.0,2006],[\"Transit\",1,5.6334729,135.32,2007],[\"Transit\",1,2.899736,138.0,2007],[\"Transit\",1,3.056536,314.0,2007],[\"Transit\",1,2.788491,342.0,2007],[\"Transit\",1,3.852985,261.0,2007],[\"Transit\",1,3.0763776,230.0,2008],[\"Transit\",1,3.92289,480.0,2008],[\"Transit\",1,3.2130598,142.5,2009],[\"Transit\",2,2.91626,214.0,2009],[\"Radial Velocity\",2,428.5,214.0,2009],[\"Transit\",1,4.627669,205.0,2010],[\"Transit\",1,10.863502,190.0,2010],[\"Transit\",1,2.77596,235.0,2010],[\"Transit\",2,10.338523,90.0,2010],[\"Radial Velocity\",2,5584.0,90.0,2010],[\"Transit\",1,5.508023,166.0,2010],[\"Transit\",1,4.008778,215.0,2010],[\"Transit\",1,2.875317,70.0,2010],[\"Transit\",1,4.124481,254.0,2010],[\"Transit\",1,3.21222,82.0,2010],[\"Transit\",1,1.212884,393.0,2010],[\"Transit\",1,3.35524,396.0,2010],[\"Transit\",1,3.652836,297.0,2010],[\"Transit\",1,4.234516,134.0,2010],[\"Transit\",1,3.039577,204.0,2011],[\"Transit\",1,3.257215,395.0,2011],[\"Transit\",1,5.723186,322.0,2011],[\"Transit\",1,2.810595,193.0,2011],[\"Transit\",2,5.005425,354.0,2011],[\"Radial Velocity\",2,1022.0,354.0,2011],[\"Transit\",1,2.150008,283.0,2011],[\"Transit\",1,3.474474,387.0,2011],[\"Transit\",1,5.452654,257.0,2011],[\"Transit\",1,3.646706,535.0,2011],[\"Transit\",1,1.327347,317.0,2011],[\"Transit\",1,2.797436,411.0,2011],[\"Transit\",1,4.640382,249.0,2012],[\"Transit\",1,3.54387,642.0,2012],[\"Transit\",1,4.457243,501.0,2012],[\"Transit\",1,2.694047,344.0,2012],[\"Transit\",1,4.641878,447.0,2012],[\"Transit\",1,3.332687,542.0,2012],[\"Transit\",1,2.691548,322.0,2014],[\"Transit\",1,3.446459,303.0,2012],[\"Transit\",1,1.354133,360.0,2013],[\"Transit\",1,3.547851,453.0,2013],[\"Radial Velocity\",2,349.7,25.64,2001],[\"Radial Velocity\",2,6005.0,25.64,2012],[\"Radial Velocity\",2,5.7727,23.44,2009],[\"Radial Velocity\",2,13.505,23.44,2011],[\"Radial Velocity\",1,431.8,167.5,2011],[\"Radial Velocity\",1,533.0,7.01,2010],[\"Radial Velocity\",1,1183.0,89.85,2002],[\"Radial Velocity\",1,3.4442,53.71,2005],[\"Radial Velocity\",1,311.6,115.21,2013],[\"Radial Velocity\",1,62.218,11.11,2003],[\"Radial Velocity\",1,526.62,44.05,2007],[\"Radial Velocity\",1,829.0,32.7,2001],[\"Radial Velocity\",1,15.609,21.85,2005],[\"Radial Velocity\",1,431.88,77.82,2001],[\"Radial Velocity\",1,356.0,131.41,2009],[\"Radial Velocity\",2,360.2,56.5,2012],[\"Radial Velocity\",2,2732.0,56.5,2012],[\"Radial Velocity\",1,675.0,100.0,2007],[\"Radial Velocity\",1,777.0,53.28,2009],[\"Radial Velocity\",1,792.6,58.17,2012],[\"Radial Velocity\",1,177.11,150.6,2011],[\"Radial Velocity\",1,22.09,40.32,2003],[\"Radial Velocity\",1,2496.0,55.01,2009],[\"Radial Velocity\",1,615.0,35.88,2011],[\"Radial Velocity\",2,1275.0,38.52,2011],[\"Radial Velocity\",2,4046.0,38.52,2011],[\"Radial Velocity\",1,5.3978,16.82,2008],[\"Radial Velocity\",1,1313.0,56.34,2010],[\"Radial Velocity\",1,227.0,44.15,2002],[\"Radial Velocity\",1,1634.0,38.26,2009],[\"Radial Velocity\",2,30.052,52.85,2009],[\"Radial Velocity\",2,192.9,52.85,2009],[\"Radial Velocity\",6,5.75962,39.39,2010],[\"Radial Velocity\",6,16.3567,39.39,2010],[\"Radial Velocity\",6,49.747,39.39,2010],[\"Radial Velocity\",6,122.72,39.39,2010],[\"Radial Velocity\",6,602.0,39.39,2010],[\"Radial Velocity\",6,2248.0,39.39,2010],[\"Radial Velocity\",1,989.2,17.35,2006],[\"Radial Velocity\",1,1075.2,32.56,1999],[\"Radial Velocity\",2,1270.2,53.82,2007],[\"Radial Velocity\",2,170.455,53.82,2008],[\"Radial Velocity\",1,711.0,66.49,2005],[\"Radial Velocity\",2,1945.0,33.98,2005],[\"Radial Velocity\",2,37.91,33.98,2008],[\"Radial Velocity\",2,262.709,37.16,2000],[\"Radial Velocity\",2,1708.0,37.16,2002],[\"Radial Velocity\",1,471.6,300.3,2005],[\"Radial Velocity\",2,14.182,28.6,2011],[\"Radial Velocity\",2,53.832,28.6,2011],[\"Radial Velocity\",2,19.382,66.89,2013],[\"Radial Velocity\",2,931.0,66.89,2013],[\"Radial Velocity\",1,4218.0,45.52,2009],[\"Radial Velocity\",1,75.523,35.91,2000],[\"Radial Velocity\",1,17.24,25.54,2008],[\"Radial Velocity\",1,990.0,59.84,2009],[\"Radial Velocity\",1,465.1,50.18,2009],[\"Radial Velocity\",1,359.9,null,2007],[\"Radial Velocity\",1,21.21663,78.25,2007],[\"Radial Velocity\",1,772.0,127.88,2011],[\"Radial Velocity\",1,466.2,22.38,2003],[\"Radial Velocity\",2,11.849,43.08,2011],[\"Radial Velocity\",2,33.823,43.08,2011],[\"Radial Velocity\",1,500.0,27.13,2002],[\"Radial Velocity\",3,18.315,6.06,2011],[\"Radial Velocity\",3,40.114,6.06,2011],[\"Radial Velocity\",3,90.309,6.06,2011],[\"Radial Velocity\",2,29.15,35.89,2011],[\"Radial Velocity\",2,85.131,35.89,2011],[\"Radial Velocity\",1,591.9,36.02,2006],[\"Radial Velocity\",1,380.85,44.5,2008],[\"Radial Velocity\",2,22.656,32.31,2011],[\"Radial Velocity\",2,53.881,32.31,2011],[\"Radial Velocity\",1,1214.0,89.13,2006],[\"Radial Velocity\",1,738.459,34.6,2001],[\"Radial Velocity\",1,528.07,31.79,2011],[\"Radial Velocity\",1,1561.0,51.97,2003],[\"Radial Velocity\",1,3668.0,46.51,2006],[\"Radial Velocity\",1,1845.0,56.05,2010],[\"Radial Velocity\",1,423.841,18.24,2000],[\"Radial Velocity\",1,2208.0,44.54,2012],[\"Radial Velocity\",1,17.991,42.37,2005],[\"Radial Velocity\",1,1117.0,56.18,2010],[\"Radial Velocity\",1,385.9,39.56,2001],[\"Radial Velocity\",1,387.1,168.92,2011],[\"Radial Velocity\",1,2819.654,54.71,2002],[\"Radial Velocity\",1,1159.2,26.5,2009],[\"Radial Velocity\",1,912.0,121.07,2011],[\"Radial Velocity\",1,466.0,53.82,2010],[\"Radial Velocity\",3,16.546,38.01,2011],[\"Radial Velocity\",3,51.284,38.01,2011],[\"Radial Velocity\",3,274.49,38.01,2011],[\"Radial Velocity\",1,326.6,136.8,2011],[\"Radial Velocity\",1,18.179,86.88,2006],[\"Radial Velocity\",1,157.54,117.37,2009],[\"Radial Velocity\",1,1049.0,45.01,2009],[\"Radial Velocity\",1,388.0,20.98,2005],[\"Radial Velocity\",1,363.2,37.78,2010],[\"Radial Velocity\",3,154.46,33.24,2002],[\"Radial Velocity\",3,2295.0,33.24,2002],[\"Radial Velocity\",3,843.6,33.24,2005],[\"Radial Velocity\",1,2063.818,18.21,2001],[\"Radial Velocity\",2,55.0,42.88,2004],[\"Radial Velocity\",2,2720.0,42.88,2012],[\"Radial Velocity\",3,5.6363,25.59,2011],[\"Radial Velocity\",3,14.025,25.59,2011],[\"Radial Velocity\",3,33.941,25.59,2011],[\"Radial Velocity\",2,14.3098,42.43,2000],[\"Radial Velocity\",2,2140.2,42.43,2000],[\"Radial Velocity\",1,696.3,99.4,2009],[\"Radial Velocity\",1,407.15,15.56,2011],[\"Radial Velocity\",6,4.3123,12.83,2008],[\"Radial Velocity\",6,9.6184,12.83,2008],[\"Radial Velocity\",6,20.432,12.83,2008],[\"Radial Velocity\",6,34.62,12.83,2012],[\"Radial Velocity\",6,51.76,12.83,2012],[\"Radial Velocity\",6,197.8,12.83,2012],[\"Radial Velocity\",1,264.15,33.33,2002],[\"Radial Velocity\",1,963.0,43.03,2004],[\"Radial Velocity\",1,1.3283,43.03,2003],[\"Radial Velocity\",2,18.357,52.03,2013],[\"Radial Velocity\",2,25.648,52.03,2013],[\"Radial Velocity\",1,327.8,54.94,2010],[\"Radial Velocity\",1,2371.0,37.05,2008],[\"Radial Velocity\",1,36.96,93.2,2007],[\"Radial Velocity\",1,472.0,50.43,2010],[\"Radial Velocity\",1,5.8872,22.04,2011],[\"Radial Velocity\",2,226.93,32.58,2008],[\"Radial Velocity\",2,342.85,32.58,2008],[\"Radial Velocity\",1,890.76,48.95,2004],[\"Radial Velocity\",1,43.6,36.14,2008],[\"Radial Velocity\",1,3.024,33.41,2000],[\"Radial Velocity\",2,4.0845,37.84,2008],[\"Radial Velocity\",2,1353.6,37.84,2008],[\"Radial Velocity\",2,430.0,121.36,2002],[\"Radial Velocity\",2,2500.0,121.36,2008],[\"Radial Velocity\",1,700.0,87.41,2008],[\"Radial Velocity\",1,4.9437,40.73,2002],[\"Radial Velocity\",1,2582.7,47.26,2005],[\"Radial Velocity\",1,1279.0,31.03,2002],[\"Radial Velocity\",2,14.07,34.07,2011],[\"Radial Velocity\",2,95.415,34.07,2011],[\"Radial Velocity\",1,118.96,28.07,2000],[\"Radial Velocity\",1,303.0,92.51,2003],[\"Radial Velocity\",2,201.83,25.7,2008],[\"Radial Velocity\",2,607.06,25.7,2008],[\"Radial Velocity\",1,2.817822,35.8,2005],[\"Radial Velocity\",1,589.64,10.34,2006],[\"Radial Velocity\",1,358.0,32.62,2009],[\"Radial Velocity\",2,572.4,35.59,2003],[\"Radial Velocity\",2,152.6,35.59,2011],[\"Radial Velocity\",1,480.5,80.06,2012],[\"Radial Velocity\",1,1973.0,55.04,2005],[\"Radial Velocity\",1,6.276,58.82,2001],[\"Radial Velocity\",3,8.667,12.58,2006],[\"Radial Velocity\",3,31.56,12.58,2006],[\"Radial Velocity\",3,197.0,12.58,2006],[\"Radial Velocity\",1,851.8,null,2007],[\"Radial Velocity\",1,2231.0,28.76,2003],[\"Radial Velocity\",1,3383.0,51.36,2002],[\"Radial Velocity\",1,1260.0,53.05,2008],[\"Radial Velocity\",1,2.54858,36.52,2003],[\"Radial Velocity\",2,188.9,94.61,2002],[\"Radial Velocity\",2,379.1,94.61,2005],[\"Radial Velocity\",1,1800.0,96.99,2008],[\"Radial Velocity\",3,51.645,64.56,2003],[\"Radial Velocity\",3,2473.0,64.56,2003],[\"Radial Velocity\",3,346.6,64.56,2007],[\"Radial Velocity\",1,3.51,28.94,1999],[\"Radial Velocity\",1,418.2,80.58,2007],[\"Radial Velocity\",1,3.971,59.7,2002],[\"Radial Velocity\",1,5.7361,41.27,2012],[\"Radial Velocity\",1,1966.1,48.64,2011],[\"Radial Velocity\",1,111.4357,29.04,2001],[\"Radial Velocity\",1,1001.7,32.56,2005],[\"Radial Velocity\",1,184.02,88.26,2007],[\"Radial Velocity\",2,441.47,27.46,2003],[\"Radial Velocity\",2,220.078,27.46,2003],[\"Radial Velocity\",1,705.0,112.23,2011],[\"Radial Velocity\",1,2.985625,43.53,2002],[\"Radial Velocity\",1,788.0,33.96,2009],[\"Radial Velocity\",1,58.43,11.15,2011],[\"Radial Velocity\",1,2.1375,91.16,2006],[\"Radial Velocity\",1,1695.0,42.48,2009],[\"Radial Velocity\",1,1475.0,72.57,2009],[\"Radial Velocity\",1,2754.0,18.06,2009],[\"Radial Velocity\",1,3.416,74.46,2004],[\"Radial Velocity\",1,2157.0,30.88,2009],[\"Radial Velocity\",1,256.78,38.99,1999],[\"Radial Velocity\",1,49.77,22.09,2009],[\"Radial Velocity\",1,325.81,32.32,2000],[\"Radial Velocity\",1,143.58,28.9,2005],[\"Radial Velocity\",2,13.186,42.52,2011],[\"Radial Velocity\",2,46.025,42.52,2011],[\"Imaging\",1,null,91.57,2013],[\"Radial Velocity\",1,507.0,149.03,2009],[\"Radial Velocity\",1,361.1,132.8,2011],[\"Radial Velocity\",1,498.9,84.03,2009],[\"Radial Velocity\",1,647.3,221.24,2011],[\"Radial Velocity\",2,8.1256,26.21,2011],[\"Radial Velocity\",2,103.49,26.21,2011],[\"Radial Velocity\",1,9.494,21.3,2010],[\"Radial Velocity\",1,436.9,150.38,2011],[\"Radial Velocity\",1,4951.0,42.77,2012],[\"Radial Velocity\",1,439.3,60.46,2005],[\"Radial Velocity\",2,17.054,17.99,2004],[\"Radial Velocity\",2,4970.0,17.99,2010],[\"Radial Velocity\",1,868.0,130.89,2011],[\"Radial Velocity\",1,157.57,140.85,2011],[\"Radial Velocity\",1,383.7,52.8,2007],[\"Radial Velocity\",1,70.46,30.5,2005],[\"Radial Velocity\",1,20.8133,42.0,2005],[\"Radial Velocity\",1,4.113775,28.98,2006],[\"Radial Velocity\",2,127.58,164.2,2008],[\"Radial Velocity\",2,520.0,164.2,2008],[\"Radial Velocity\",1,122.1,9.24,2010],[\"Radial Velocity\",1,778.1,138.5,2011],[\"Radial Velocity\",1,6.495,121.07,2010],[\"Radial Velocity\",1,47.84,49.33,2009],[\"Radial Velocity\",1,5.8881,53.08,2013],[\"Radial Velocity\",1,55.806,20.82,2009],[\"Radial Velocity\",1,199.505,102.04,2003],[\"Radial Velocity\",1,1531.0,37.44,2002],[\"Radial Velocity\",1,2890.0,87.87,2011],[\"Radial Velocity\",1,3630.0,36.36,2012],[\"Imaging\",1,null,91.83,2013],[\"Radial Velocity\",1,48.056,51.26,2005],[\"Radial Velocity\",1,10.8985,38.56,2002],[\"Radial Velocity\",1,443.4,138.5,2011],[\"Radial Velocity\",2,395.8,68.54,2002],[\"Radial Velocity\",2,1624.0,68.54,2005],[\"Radial Velocity\",1,68.27,65.62,2010],[\"Radial Velocity\",2,7.8543,56.92,2013],[\"Radial Velocity\",2,30.93,56.92,2013],[\"Radial Velocity\",1,5.24,59.03,2005],[\"Radial Velocity\",1,835.477,97.66,2009],[\"Radial Velocity\",1,1143.0,28.88,2003],[\"Radial Velocity\",1,324.0,37.42,2013],[\"Radial Velocity\",2,263.3,15.71,2010],[\"Radial Velocity\",2,1657.0,15.71,2010],[\"Radial Velocity\",2,937.7,28.04,2003],[\"Radial Velocity\",2,1046.0,28.04,2011],[\"Radial Velocity\",1,3827.0,20.48,2014],[\"Radial Velocity\",1,83.888,40.57,1989],[\"Radial Velocity\",1,493.7,20.43,2001],[\"Radial Velocity\",1,1114.0,35.0,2002],[\"Radial Velocity\",1,670.0,110.62,2011],[\"Radial Velocity\",1,2597.0,33.01,2004],[\"Radial Velocity\",1,25.827,38.02,2004],[\"Radial Velocity\",1,6.1335,88.57,2005],[\"Radial Velocity\",1,2082.0,97.66,2013],[\"Radial Velocity\",1,63.33,44.37,2003],[\"Radial Velocity\",1,344.95,133.16,2003],[\"Radial Velocity\",3,559.4,52.83,2007],[\"Radial Velocity\",3,4.1547,52.83,2009],[\"Radial Velocity\",3,3008.0,52.83,2009],[\"Radial Velocity\",1,9.6737,27.45,2009],[\"Radial Velocity\",1,1244.0,68.35,2009],[\"Radial Velocity\",1,948.12,38.05,2011],[\"Radial Velocity\",2,454.2,16.57,2002],[\"Radial Velocity\",2,923.8,16.57,2005],[\"Radial Velocity\",1,1840.0,67.61,2009],[\"Radial Velocity\",1,10.7085,29.76,1999],[\"Radial Velocity\",1,883.0,121.36,2011],[\"Radial Velocity\",1,1951.0,57.21,2008],[\"Radial Velocity\",1,974.0,70.97,2007],[\"Radial Velocity\",1,1544.0,98.52,2011],[\"Radial Velocity\",2,3.27,24.15,2011],[\"Radial Velocity\",2,1160.9,24.15,2011],[\"Radial Velocity\",2,258.19,25.65,1999],[\"Radial Velocity\",2,5000.0,25.65,2009],[\"Radial Velocity\",3,12.083,26.91,2011],[\"Radial Velocity\",3,59.519,26.91,2011],[\"Radial Velocity\",3,459.26,26.91,2011],[\"Radial Velocity\",1,464.3,106.38,2009],[\"Radial Velocity\",3,11.577,14.56,2011],[\"Radial Velocity\",3,27.582,14.56,2011],[\"Radial Velocity\",3,106.72,14.56,2011],[\"Radial Velocity\",1,330.0,38.45,2011],[\"Radial Velocity\",1,1125.7,121.36,2008],[\"Radial Velocity\",1,653.22,33.46,2002],[\"Radial Velocity\",1,1928.0,35.87,2005],[\"Radial Velocity\",1,1299.0,106.38,2011],[\"Radial Velocity\",1,386.3,34.57,2003],[\"Radial Velocity\",1,1057.0,59.35,2008],[\"Radial Velocity\",1,176.3,126.1,2010],[\"Radial Velocity\",1,103.95,55.19,2008],[\"Radial Velocity\",2,44.236,42.68,2009],[\"Radial Velocity\",2,1008.0,42.68,2009],[\"Radial Velocity\",1,528.4,12.87,2003],[\"Radial Velocity\",1,1027.0,53.05,2009],[\"Radial Velocity\",1,331.5,59.28,2009],[\"Radial Velocity\",1,2.8758911,78.86,2005],[\"Radial Velocity\",1,4.072,63.49,2005],[\"Radial Velocity\",1,2.391,76.51,2009],[\"Radial Velocity\",1,1096.2,29.55,2011],[\"Radial Velocity\",1,2097.0,85.18,2009],[\"Radial Velocity\",1,689.0,182.82,2011],[\"Radial Velocity\",1,499.4,51.87,2008],[\"Radial Velocity\",1,18.596,18.08,2011],[\"Radial Velocity\",1,3342.0,18.06,2006],[\"Radial Velocity\",1,163.9,65.79,2008],[\"Radial Velocity\",2,408.6,68.54,2004],[\"Radial Velocity\",2,3452.0,68.54,2014],[\"Radial Velocity\",2,194.3,43.4,2007],[\"Radial Velocity\",2,391.9,43.4,2007],[\"Radial Velocity\",1,131.05,35.37,2011],[\"Radial Velocity\",1,842.0,55.1,2009],[\"Radial Velocity\",1,4.6455,24.05,2010],[\"Radial Velocity\",1,359.5546,49.0,2007],[\"Radial Velocity\",1,104.84,33.48,2011],[\"Radial Velocity\",1,521.0,114.15,2011],[\"Radial Velocity\",2,12.62,68.59,2013],[\"Radial Velocity\",2,248.4,68.59,2013],[\"Radial Velocity\",2,1178.4,52.72,2006],[\"Radial Velocity\",2,352.3,52.72,2012],[\"Radial Velocity\",4,643.25,15.28,2000],[\"Radial Velocity\",4,4205.8,15.28,2004],[\"Radial Velocity\",4,9.6386,15.28,2004],[\"Radial Velocity\",4,310.55,15.28,2006],[\"Radial Velocity\",1,8.428198,31.26,2002],[\"Radial Velocity\",2,75.29,69.44,2010],[\"Radial Velocity\",2,1314.0,69.44,2010],[\"Radial Velocity\",1,282.4,51.81,2010],[\"Radial Velocity\",1,606.4,37.98,2009],[\"Radial Velocity\",1,1155.0,21.92,2005],[\"Radial Velocity\",1,5144.0,42.99,2012],[\"Radial Velocity\",1,420.77,50.0,2007],[\"Radial Velocity\",2,58.11289,37.88,1998],[\"Radial Velocity\",2,1749.5,37.88,2000],[\"Radial Velocity\",1,6.403,43.12,2002],[\"Radial Velocity\",2,225.62,36.32,2000],[\"Radial Velocity\",2,2102.0,36.32,2003],[\"Radial Velocity\",1,1145.0,64.98,2007],[\"Radial Velocity\",1,538.0,null,2007],[\"Radial Velocity\",1,1523.0,44.05,2009],[\"Radial Velocity\",1,323.6,134.95,2008],[\"Radial Velocity\",1,1290.0,67.02,2009],[\"Radial Velocity\",1,297.3,127.55,2007],[\"Astrometry\",1,1016.0,14.98,2010],[\"Radial Velocity\",2,406.6,59.03,1999],[\"Radial Velocity\",2,110.9,59.03,2010],[\"Radial Velocity\",1,71.484,46.73,2001],[\"Radial Velocity\",1,14.476,63.69,2008],[\"Radial Velocity\",1,3.0925,27.05,2000],[\"Radial Velocity\",1,396.03,131.75,2010],[\"Radial Velocity\",1,479.0,114.55,2009],[\"Radial Velocity\",1,663.0,115.47,2009],[\"Radial Velocity\",3,9.3743,26.15,2008],[\"Radial Velocity\",3,962.0,26.15,2008],[\"Radial Velocity\",3,2172.0,26.15,2008],[\"Radial Velocity\",1,956.0,55.93,2009],[\"Radial Velocity\",2,634.23,52.83,2004],[\"Radial Velocity\",2,2950.0,52.83,2008],[\"Radial Velocity\",1,6.838,47.37,2006],[\"Radial Velocity\",1,986.0,44.98,2006],[\"Radial Velocity\",2,3.097,47.92,1998],[\"Radial Velocity\",2,3810.0,47.92,1999],[\"Radial Velocity\",1,456.46,52.63,2004],[\"Radial Velocity\",1,14.275,17.72,2011],[\"Radial Velocity\",1,2.21857578,19.25,2005],[\"Radial Velocity\",1,1136.1,62.11,2002],[\"Radial Velocity\",2,2891.0,15.89,2003],[\"Radial Velocity\",2,17.1,15.89,2005],[\"Radial Velocity\",1,1038.1,54.23,2007],[\"Radial Velocity\",1,4885.0,189.39,2009],[\"Radial Velocity\",1,24.348,19.89,1999],[\"Radial Velocity\",2,74.72,8.82,2011],[\"Radial Velocity\",2,525.8,8.82,2011],[\"Radial Velocity\",1,351.5,67.39,2007],[\"Radial Velocity\",1,18.20163,37.35,1999],[\"Radial Velocity\",1,1289.0,46.93,2002],[\"Radial Velocity\",1,3638.0,43.57,2012],[\"Radial Velocity\",1,1333.0,32.99,2007],[\"Radial Velocity\",1,1035.7,32.83,2011],[\"Radial Velocity\",2,613.8,68.35,2010],[\"Radial Velocity\",2,825.0,68.35,2010],[\"Radial Velocity\",2,255.87,46.34,2002],[\"Radial Velocity\",2,1383.4,46.34,2004],[\"Imaging\",1,null,40.85,2006],[\"Radial Velocity\",3,1931.0,47.3,2009],[\"Radial Velocity\",3,34.873,47.3,2011],[\"Radial Velocity\",3,2831.6,47.3,2012],[\"Radial Velocity\",1,1733.0,26.95,2011],[\"Radial Velocity\",1,279.8,90.33,2008],[\"Radial Velocity\",1,610.0,170.07,2009],[\"Radial Velocity\",2,161.97,55.31,2012],[\"Radial Velocity\",2,1155.7,55.31,2012],[\"Radial Velocity\",1,123.0,43.99,2004],[\"Radial Velocity\",1,875.5,352.11,2012],[\"Radial Velocity\",1,3.52474859,47.08,1999],[\"Radial Velocity\",1,442.1,21.29,1998],[\"Radial Velocity\",1,354.8,55.93,2007],[\"Radial Velocity\",1,2.245715,52.72,2005],[\"Radial Velocity\",1,373.3,121.8,2009],[\"Radial Velocity\",1,951.0,40.75,2001],[\"Radial Velocity\",2,7.2825,21.52,2011],[\"Radial Velocity\",2,10.866,21.52,2011],[\"Radial Velocity\",2,191.99,38.64,2011],[\"Radial Velocity\",2,2277.0,38.64,2011],[\"Radial Velocity\",2,3.93,43.53,2009],[\"Radial Velocity\",2,567.0,43.53,2009],[\"Radial Velocity\",1,1311.0,33.29,2002],[\"Radial Velocity\",1,1294.0,26.52,2002],[\"Radial Velocity\",1,118.45,37.89,2003],[\"Radial Velocity\",2,7.126816,19.72,1998],[\"Radial Velocity\",2,4270.0,19.72,2005],[\"Radial Velocity\",1,1319.0,54.92,2010],[\"Radial Velocity\",1,225.7,29.94,2010],[\"Radial Velocity\",1,5501.0,29.2,2012],[\"Radial Velocity\",1,2093.3,null,2012],[\"Radial Velocity\",1,3.8335,81.1,2007],[\"Radial Velocity\",1,672.1,289.02,2012],[\"Radial Velocity\",1,2209.0,45.23,2012],[\"Radial Velocity\",1,3724.7,48.43,2011],[\"Radial Velocity\",1,456.1,52.88,2007],[\"Radial Velocity\",1,3999.0,50.45,2011],[\"Radial Velocity\",1,572.38,41.95,1999],[\"Radial Velocity\",1,26.73,94.07,2006],[\"Radial Velocity\",1,141.6,108.46,2007],[\"Radial Velocity\",1,192.0,null,2013],[\"Radial Velocity\",1,501.75,null,2009],[\"Radial Velocity\",1,745.7,307.69,2011],[\"Radial Velocity\",1,2443.0,54.92,2009],[\"Radial Velocity\",1,8.7836,9.42,2008],[\"Radial Velocity\",1,3.369,50.2,2004],[\"Radial Velocity\",2,345.72,44.8,2009],[\"Radial Velocity\",2,9017.8,44.8,2011],[\"Radial Velocity\",1,57.0,23.8,2010],[\"Radial Velocity\",1,16.2,223.21,2010],[\"Radial Velocity\",3,6.673855,52.88,2005],[\"Radial Velocity\",3,147.73,52.88,2006],[\"Radial Velocity\",3,952.0,52.88,2009],[\"Radial Velocity\",1,41.397,11.03,2010],[\"Radial Velocity\",3,8.1352,25.87,2011],[\"Radial Velocity\",3,32.03,25.87,2011],[\"Radial Velocity\",3,431.7,25.87,2011],[\"Imaging\",1,null,11.43,2010],[\"Radial Velocity\",1,124.6,149.25,2013],[\"Radial Velocity\",1,17337.5,23.98,2009],[\"Radial Velocity\",1,511.098,31.33,2002],[\"Imaging\",1,null,131.93,2010],[\"Radial Velocity\",1,111.7,14.9,2009],[\"Radial Velocity\",1,5.0505,44.46,2013],[\"Radial Velocity\",1,311.288,17.24,1999],[\"Imaging\",4,170000.0,39.94,2008],[\"Imaging\",4,69000.0,39.94,2008],[\"Imaging\",4,37000.0,39.94,2008],[\"Imaging\",4,18000.0,39.94,2010],[\"Transit\",1,1.217514,262.0,2012],[\"Transit\",1,4.1137912,124.22,2012],[\"Transit\",1,2.7033904,178.0,2013],[\"Transit\",1,7.8457,222.0,2014],[\"Transit\",1,2.47063,213.0,2006],[\"Transit\",1,2.204737,320.0,2008],[\"Transit\",1,4.8878162,38.0,2008],[\"Transit\",1,3.21346,550.0,2009],[\"Transit\",1,3.54846,null,2009],[\"Transit\",1,3.234723,null,2009],[\"Transit\",1,4.885525,null,2009],[\"Transit\",1,3.52254,1330.0,2010],[\"Transit\",3,19.24,650.0,2010],[\"Transit\",3,38.91,650.0,2010],[\"Transit\",3,1.592851,650.0,2010],[\"Transit\",2,0.837495,173.0,2011],[\"Transit\",2,45.29485,173.0,2011],[\"Transit\",6,10.3039,613.0,2010],[\"Transit\",6,13.0241,613.0,2010],[\"Transit\",6,22.6845,613.0,2010],[\"Transit\",6,31.9996,613.0,2010],[\"Transit\",6,46.6888,613.0,2010],[\"Transit\",6,118.3807,613.0,2010],[\"Transit\",1,4.4379637,600.0,2011],[\"Transit\",1,1.7635892,null,2011],[\"Transit\",1,6.790123,980.0,2011],[\"Transit\",1,4.942782,null,2011],[\"Transit\",1,228.776,61.0,2011],[\"Transit\",1,1.4857108,800.0,2011],[\"Transit\",3,3.504725,null,2011],[\"Transit\",3,7.64159,null,2011],[\"Transit\",3,14.85888,null,2011],[\"Transit\",2,9.2869944,2119.0,2011],[\"Transit Timing Variations\",2,160.0,2119.0,2011],[\"Transit\",5,3.6961219,290.0,2011],[\"Transit\",5,10.854092,290.0,2011],[\"Transit\",5,77.61184,290.0,2011],[\"Transit\",5,6.098493,290.0,2011],[\"Transit\",5,19.57706,290.0,2011],[\"Transit\",1,2.785755,108.0,2011],[\"Transit\",1,289.8623,190.0,2011],[\"Transit\",2,7.1073,800.0,2011],[\"Transit\",2,10.7421,800.0,2011],[\"Transit\",2,8.1453,1200.0,2011],[\"Transit\",2,12.3335,1200.0,2011],[\"Transit\",3,6.2385,null,2011],[\"Transit\",3,12.7204,null,2011],[\"Radial Velocity\",3,123.0,null,2014],[\"Transit\",2,12.2829,null,2011],[\"Transit\",2,17.2513,null,2011],[\"Transit\",2,15.3348,null,2011],[\"Transit\",2,31.3309,null,2011],[\"Transit\",2,5.9123,null,2011],[\"Transit\",2,8.9858,null,2011],[\"Transit\",2,10.3376,1400.0,2011],[\"Transit\",2,13.2907,1400.0,2011],[\"Transit\",3,29.33434,1400.0,2012],[\"Transit\",3,60.323105,1400.0,2012],[\"Transit\",3,143.34394,1400.0,2012],[\"Transit\",2,20.8613,2100.0,2011],[\"Transit\",2,42.6318,2100.0,2011],[\"Transit\",5,5.90124,303.0,2011],[\"Transit\",5,8.7522,303.0,2011],[\"Transit\",5,22.7802,303.0,2012],[\"Transit\",5,2.896,303.0,2012],[\"Transit\",5,0.74296,303.0,2012],[\"Transit\",5,5.66793,null,2011],[\"Transit\",5,13.17562,null,2011],[\"Transit\",5,21.77596,null,2011],[\"Transit\",5,31.7844,null,2011],[\"Transit\",5,41.02902,null,2011],[\"Transit\",1,288.822,1499.0,2011],[\"Transit\",1,131.458,1645.0,2011],[\"Transit\",2,13.83989,470.0,2012],[\"Transit\",2,16.23855,470.0,2012],[\"Transit\",3,13.367308,66.0,2013],[\"Transit\",3,21.301886,66.0,2013],[\"Transit\",3,39.792187,66.0,2013],[\"Transit\",1,105.599,600.0,2012],[\"Transit\",1,21.0874,1200.0,2011],[\"Transit\",1,6.87349,2700.0,2010],[\"Transit\",1,1.855558,770.0,2011],[\"Transit\",3,1.2137672,38.7,2011],[\"Transit\",3,0.45328509,38.7,2011],[\"Transit\",3,1.865169,38.7,2011],[\"Transit\",1,3.024095,1950.0,2011],[\"Transit\",1,3.24674,2250.0,2011],[\"Transit\",1,2.455239,333.0,2011],[\"Transit\",2,33.60134,855.0,2012],[\"Transit Timing Variations\",2,57.011,855.0,2012],[\"Transit\",2,49.532,1500.0,2012],[\"Transit\",2,303.137,1500.0,2012],[\"Transit\",4,4.7779803,null,2012],[\"Transit\",4,9.6739283,null,2012],[\"Transit\",4,42.8961,null,2014],[\"Radial Velocity\",4,982.0,null,2014],[\"Transit\",2,7.2037945,null,2012],[\"Transit\",2,10.9129343,null,2012],[\"Transit\",2,7.81254,null,2012],[\"Transit\",2,9.37647,null,2012],[\"Transit\",3,45.154,null,2012],[\"Transit\",3,85.312,null,2012],[\"Transit Timing Variations\",3,null,null,2014],[\"Transit\",2,7.8773565,null,2012],[\"Transit\",2,16.3850021,null,2012],[\"Transit\",2,18.6489525,null,2012],[\"Transit\",2,38.5583038,null,2012],[\"Transit\",2,8.0109434,null,2012],[\"Transit\",2,12.0717249,null,2012],[\"Transit\",2,27.9481449,null,2012],[\"Transit\",2,42.1516418,null,2012],[\"Transit\",2,10.5016,null,2012],[\"Transit\",2,21.40239,null,2012],[\"Transit\",2,5.7293196,null,2012],[\"Transit\",2,11.6092567,null,2012],[\"Transit\",2,10.2184954,null,2012],[\"Transit\",2,15.5741568,null,2012],[\"Transit\",2,11.8681707,null,2012],[\"Transit\",2,17.9801235,null,2012],[\"Transit\",3,7.1316185,null,2012],[\"Transit\",3,8.9193459,null,2012],[\"Transit\",3,11.9016171,null,2012],[\"Transit\",1,59.87756,null,2013],[\"Transit\",5,5.714932,368.0,2013],[\"Transit\",5,12.4417,368.0,2013],[\"Transit\",5,18.16406,368.0,2013],[\"Transit\",5,122.3874,368.0,2013],[\"Transit\",5,267.291,368.0,2013],[\"Transit\",1,9.4341505,200.0,2013],[\"Transit\",1,138.317,1000.0,2012],[\"Transit\",3,2.15491,null,2012],[\"Transit\",3,5.859944,null,2012],[\"Transit\",3,8.13123,null,2012],[\"Transit\",1,17.815815,1107.0,2013],[\"Transit\",1,15.7259,1107.0,2013],[\"Transit\",3,5.398763,135.0,2012],[\"Transit\",3,9.605085,135.0,2012],[\"Radial Velocity\",3,580.0,135.0,2012],[\"Transit\",2,13.722341,null,2013],[\"Transit\",2,242.4613,null,2013],[\"Orbital Brightness Modulation\",2,0.240104,1180.0,2011],[\"Orbital Brightness Modulation\",2,0.342887,1180.0,2011],[\"Transit\",1,3.90512,800.0,2010],[\"Transit\",1,7.340718,1330.0,2013],[\"Transit\",1,8.884924,1140.0,2013],[\"Orbital Brightness Modulation\",1,1.54492875,null,2013],[\"Transit\",1,3.57878087,570.0,2013],[\"Transit\",1,0.355,null,2013],[\"Transit\",2,13.485,null,2012],[\"Transit\",2,27.402,null,2012],[\"Transit\",2,7.053,null,2012],[\"Transit\",2,9.522,null,2012],[\"Transit\",2,5.955,null,2012],[\"Transit\",2,12.04,null,2012],[\"Transit\",2,26.444,null,2012],[\"Transit\",2,51.538,null,2012],[\"Transit\",2,9.77,null,2012],[\"Transit\",2,20.09,null,2012],[\"Transit\",2,8.726,null,2012],[\"Transit\",2,12.883,null,2012],[\"Transit\",2,8.306,null,2012],[\"Transit\",2,12.513,null,2012],[\"Transit\",1,282.5255,null,2013],[\"Transit\",2,114.73635,null,2013],[\"Transit\",2,191.2318,null,2013],[\"Transit\",2,10.95416,339.0,2013],[\"Transit Timing Variations\",2,22.3395,339.0,2013],[\"Transit\",4,3.743208,null,2013],[\"Transit\",4,10.423648,null,2013],[\"Transit\",4,22.342989,null,2013],[\"Transit\",4,54.32031,null,2013],[\"Transit\",7,7.008151,780.0,2013],[\"Transit\",7,8.719375,780.0,2013],[\"Transit\",7,59.73667,780.0,2013],[\"Transit\",7,91.93913,780.0,2013],[\"Transit\",7,124.9144,780.0,2013],[\"Transit\",7,210.60697,780.0,2013],[\"Transit\",7,331.60059,780.0,2013],[\"Transit\",1,6.24658,1030.0,2013],[\"Transit\",2,13.749,null,2013],[\"Transit\",2,26.723,null,2013],[\"Transit\",2,4.72674,null,2014],[\"Radial Velocity\",2,1460.0,null,2014],[\"Transit\",2,2.50806,null,2014],[\"Radial Velocity\",2,820.3,null,2014],[\"Transit\",1,11.5231,null,2014],[\"Transit\",1,16.2385,null,2014],[\"Transit\",2,2.58664,null,2014],[\"Radial Velocity\",2,789.0,null,2014],[\"Transit\",1,1.54168,null,2014],[\"Transit\",1,4.60358,null,2014],[\"Transit\",3,6.88705,null,2014],[\"Transit\",3,12.8159,null,2014],[\"Transit\",3,35.3331,null,2014],[\"Transit\",5,5.28696,null,2014],[\"Transit\",5,7.07142,null,2014],[\"Transit\",5,10.3117,null,2014],[\"Transit\",5,16.1457,null,2013],[\"Transit\",5,27.4536,null,2014],[\"Transit\",2,15.9654,null,2014],[\"Transit\",2,179.612,null,2014],[\"Transit\",2,5.4122,null,2013],[\"Transit\",4,6.16486,null,2014],[\"Transit\",4,13.5708,null,2014],[\"Transit\",4,23.9802,null,2014],[\"Transit\",4,43.8445,null,2014],[\"Transit\",2,6.48163,null,2014],[\"Transit\",2,21.2227,null,2014],[\"Transit\",2,4.754,null,2014],[\"Transit\",2,8.92507,null,2014],[\"Transit\",2,8.041,null,2013],[\"Transit\",2,11.776,null,2013],[\"Transit\",2,15.09,null,2013],[\"Transit\",2,22.804,null,2013],[\"Transit\",3,27.50868,null,2013],[\"Transit\",2,16.092,null,2014],[\"Transit\",2,25.5169,null,2014],[\"Transit\",2,13.78164,null,2014],[\"Transit\",2,23.08933,null,2014],[\"Transit\",2,22.951,null,2013],[\"Transit\",2,42.882,null,2013],[\"Transit\",2,36.855,null,2013],[\"Transit\",2,49.412,null,2013],[\"Transit\",2,23.654,null,2013],[\"Transit\",2,50.447,null,2013],[\"Transit\",2,31.884,null,2013],[\"Transit\",2,48.648,null,2013],[\"Transit\",2,17.324,null,2013],[\"Transit\",2,33.006,null,2013],[\"Transit\",2,35.736,null,2013],[\"Transit\",2,54.414,null,2013],[\"Transit\",2,24.806,null,2013],[\"Transit\",2,44.347,null,2013],[\"Transit\",2,5.487,null,2013],[\"Transit\",2,8.291,null,2013],[\"Transit\",2,10.416,null,2013],[\"Transit\",2,13.084,null,2013],[\"Transit\",2,34.921,null,2013],[\"Transit\",2,71.312,null,2013],[\"Transit\",2,17.849,null,2013],[\"Transit\",2,26.136,null,2013],[\"Transit\",2,42.994,null,2013],[\"Transit\",2,88.505,null,2013],[\"Transit\",2,2.42629,null,2014],[\"Transit\",2,4.62332,null,2014],[\"Transit\",2,0.66931,null,2014],[\"Radial Velocity\",2,3000.0,null,2014],[\"Transit\",1,2.46502,null,2014],[\"Transit\",1,68.9584,null,2014],[\"Transit\",1,17.833648,132.0,2013],[\"Transit\",1,3.00516,null,2013],[\"Transit\",1,1.72086123,1056.0,2014],[\"Transit\",1,66.262,null,2014],[\"Imaging\",1,40000.0,null,2011],[\"Transit\",1,3.91405,2000.0,2007],[\"Microlensing\",1,null,null,2008],[\"Microlensing\",1,null,null,2008],[\"Microlensing\",1,null,null,2009],[\"Microlensing\",1,null,3600.0,2013],[\"Microlensing\",1,2780.0,null,2011],[\"Microlensing\",1,null,null,2010],[\"Microlensing\",1,1970.0,null,2010],[\"Microlensing\",1,null,2300.0,2012],[\"Microlensing\",1,null,2800.0,2012],[\"Microlensing\",1,null,7720.0,2012],[\"Microlensing\",1,null,7560.0,2013],[\"Radial Velocity\",1,677.8,null,2007],[\"Radial Velocity\",1,6.958,null,2014],[\"Radial Velocity\",1,5.118,null,2014],[\"Radial Velocity\",1,121.71,null,2014],[\"Microlensing\",1,null,null,2004],[\"Microlensing\",1,3600.0,null,2005],[\"Microlensing\",1,3300.0,null,2006],[\"Microlensing\",1,3500.0,null,2005],[\"Microlensing\",2,1825.0,null,2008],[\"Microlensing\",2,5100.0,null,2008],[\"Microlensing\",1,null,null,2009],[\"Microlensing\",1,null,2570.0,2012],[\"Microlensing\",2,null,4080.0,2012],[\"Microlensing\",2,null,4080.0,2012],[\"Microlensing\",1,null,1760.0,2013],[\"Microlensing\",1,null,4970.0,2013],[\"Transit\",1,2.4855335,null,2008],[\"Transit\",1,3.101278,null,2004],[\"Transit\",1,1.2119189,null,2002],[\"Transit\",1,4.0161,null,2004],[\"Transit\",1,1.4324752,600.0,2004],[\"Transit\",1,1.689868,2500.0,2004],[\"Transit\",1,3.9791,null,2007],[\"Transit\",1,3.67724,null,2007],[\"Imaging\",1,730000.0,null,2006],[\"Transit\",1,3.1606296,1200.0,2013],[\"Radial Velocity\",1,4.4264,null,2012],[\"Radial Velocity\",1,2.1451,null,2012],[\"Pulsar Timing\",3,25.262,null,1992],[\"Pulsar Timing\",3,66.5419,null,1992],[\"Pulsar Timing\",3,98.2114,null,1994],[\"Pulsar Timing\",1,36525.0,null,2003],[\"Pulsar Timing\",1,0.09070629,1200.0,2011],[\"Transit\",1,1.420033,null,2010],[\"Transit\",1,1.3371182,null,2011],[\"Imaging\",1,null,135.0,2013],[\"Imaging\",1,null,120.0,2013],[\"Imaging\",1,null,null,2010],[\"Transit\",1,4.2,8500.0,2006],[\"Transit\",1,1.796,8500.0,2006],[\"Transit\",1,3.030065,152.3,2004],[\"Transit\",1,1.30618581,228.0,2007],[\"Transit\",1,3.553945,492.0,2007],[\"Transit\",1,1.4822446,360.0,2011],[\"Imaging\",1,null,null,2008],[\"Pulsation Timing Variations\",1,1170.0,null,2007],[\"Transit\",1,2.5199449,408.0,2007],[\"Transit\",1,2.152226,147.0,2007],[\"Transit\",1,1.846835,220.0,2007],[\"Transit\",1,1.33823187,300.0,2007],[\"Transit\",1,1.62843142,300.0,2008],[\"Transit\",1,3.361006,null,2009],[\"Transit\",1,4.954658,140.0,2008],[\"Transit\",1,8.158715,87.0,2010],[\"Transit\",1,3.0927616,90.0,2008],[\"Transit\",1,3.7224747,121.7,2008],[\"Transit\",1,1.091423,null,2008],[\"Transit\",1,4.353011,155.0,2009],[\"Transit\",1,2.243752,160.0,2008],[\"Transit\",1,3.7520656,null,2009],[\"Transit\",1,3.1186009,null,2009],[\"Transit\",1,3.7354417,400.0,2009],[\"Transit\",1,0.94145299,105.49,2009],[\"Transit\",1,0.78884,250.0,2009],[\"Transit\",1,4.322482,242.0,2010],[\"Transit\",1,3.5327313,300.0,2010],[\"Transit\",1,2.9444256,null,2010],[\"Transit\",1,2.34121242,null,2010],[\"Transit\",1,3.764825,null,2010],[\"Transit\",1,2.7566004,250.0,2010],[\"Transit\",1,3.408821,null,2010],[\"Transit\",1,3.922727,70.0,2010],[\"Transit\",1,3.4059096,360.0,2010],[\"Transit\",1,2.718659,null,2010],[\"Transit\",1,1.2198669,116.14,2010],[\"Transit\",1,4.3176782,120.0,2010],[\"Transit\",1,3.161575,null,2011],[\"Transit\",1,1.5373653,450.0,2011],[\"Transit\",1,3.577469,343.0,2010],[\"Transit\",1,6.871815,110.0,2010],[\"Transit\",1,4.055259,230.0,2011],[\"Transit\",1,3.052401,180.0,2010],[\"Transit\",1,4.9816872,160.0,2012],[\"Transit\",1,0.813475,80.0,2011],[\"Transit\",1,2.4238039,null,2011],[\"Transit\",1,3.1260876,null,2011],[\"Transit\",1,1.43037,null,2011],[\"Transit\",1,4.1591399,200.0,2012],[\"Transit\",1,2.143634,null,2011],[\"Transit\",1,2.7817387,170.0,2012],[\"Transit\",1,1.9550959,230.0,2011],[\"Transit\",1,1.7497798,140.0,2012],[\"Transit\",1,3.6936411,200.0,2012],[\"Transit\",1,4.465633,330.0,2012],[\"Transit\",1,4.617101,255.0,2012],[\"Transit\",1,2.838971,455.0,2012],[\"Transit\",1,5.01718,300.0,2012],[\"Transit\",1,7.919585,125.0,2012],[\"Transit\",1,4.3050011,400.0,2012],[\"Transit\",1,3.8559,480.0,2012],[\"Transit\",1,4.411953,160.0,2012],[\"Transit\",1,4.37809,330.0,2012],[\"Transit\",1,1.5732918,350.0,2012],[\"Transit\",1,2.3114243,310.0,2013],[\"Transit\",1,4.086052,380.0,2012],[\"Transit\",1,4.61442,225.0,2012],[\"Transit\",1,2.9036747,345.0,2012],[\"Transit\",1,2.2167421,340.0,2012],[\"Transit\",1,2.484193,260.0,2013],[\"Transit\",1,1.3600309,93.0,2012],[\"Transit\",1,2.17517632,550.0,2012],[\"Transit\",1,3.6623866,240.0,2012],[\"Transit\",1,3.0678504,60.0,2012],[\"Transit\",1,0.925542,470.0,2014],[\"Imaging\",1,null,19.2,2011],[\"Transit\",1,3.352057,3200.0,2012],[\"Imaging\",1,null,10.1,2012],[\"Transit\",1,3.94150685,172.0,2006],[\"Transit\",1,2.615864,148.0,2007],[\"Transit\",1,3.1915239,174.0,2007],[\"Transit\",1,4.1250828,293.0,2008],[\"Transit\",1,4.187757,260.0,2008]],\"hovertemplate\":\"mass=%{x}<br>method=%{customdata[0]}<br>number=%{customdata[1]}<br>orbital_period=%{customdata[2]}<br>distance=%{customdata[3]}<br>year=%{customdata[4]}<extra></extra>\",\"legendgroup\":\"\",\"marker\":{\"color\":\"#636efa\"},\"name\":\"\",\"notched\":true,\"offsetgroup\":\"\",\"showlegend\":false,\"x\":[7.1,2.21,2.6,19.4,10.5,4.8,4.64,null,10.3,1.99,0.86,9.88,3.88,2.53,0.54,1.64,0.472,0.8,0.165,3.53,null,0.172,0.016,0.057,0.072,null,null,5.3,3.2,null,null,null,6.05,null,null,null,null,null,null,null,null,null,4.2,null,null,1.8,0.0036,null,1.55,null,7.6,8.78,1.85,null,null,2.8,null,null,1.7,null,null,1.04,3.9,20.6,0.6876,1.981,4.132,1.059,null,null,null,null,null,null,null,null,5.1,10.6,null,0.045,0.33,0.027,0.17,1.47,1.11,21.42,12.47,null,0.91,null,null,null,null,null,null,null,null,null,null,null,null,null,null,null,null,null,null,null,null,null,null,null,null,null,3.91,0.035,0.024,0.079,0.82,1.894,1.6,2.3,0.018,null,null,0.049,0.017,0.022,0.006,0.328,0.018,0.012,0.016,0.008,0.008,0.014,0.035,4.95,0.014,0.036,0.64,0.91,2.2756,0.7142,0.021,0.046,null,3.37,null,0.022,null,null,null,null,null,null,null,null,null,null,null,15.2,null,null,null,null,3.4,null,null,null,null,null,null,null,null,null,null,null,null,null,null,3.4,null,null,null,null,null,null,null,null,null,null,null,null,null,null,null,null,1.25,5.3,0.024,0.0186,3.1,6.1,4.9,0.48,1.6,0.229,1.56,0.8,0.0405,2.07,2.3,2.37,2.37,1.94,1.96,null,7.6,0.48,1.65,0.29,1.11,2.0,0.029,0.63,1.8,14.2,0.7,1.82,0.041,0.038,0.08,0.074,0.067,0.205,0.94,6.21,3.44,0.82,6.54,0.622,0.0788,2.3,1.92,14.0,0.0325,0.036,0.865,5.13,1.88,0.26,0.0696,4.4,14.3,4.6,null,2.7,1.37,0.0378,0.0422,1.07,0.0085,0.00755,0.0151,0.0379,0.0496,1.9,1.99,0.0322,0.06472,1.5,2.61,13.65,7.71,4.01,0.95,1.28,1.45,0.62,1.16,5.59,1.7,9.17,1.373,1.8,0.5,0.0363,0.0498,0.0519,1.3,0.33,3.04,0.79,9.1,null,0.61,0.683,0.624,10.35,2.3,3.366,0.0117,0.0187,0.0162,0.839,13.38,10.7,0.0961,0.0126,0.0208,0.0299,0.011,0.0164,0.0223,4.01,2.54,18.37,0.039,0.027,0.6,25.0,2.49,0.58,0.04,0.1872,0.6579,1.79,0.47,0.249,0.07167,0.35061,5.0,7.0,1.16,0.115,1.71,4.9,0.0413,0.0565,1.13,5.25,3.1548,7.4634,0.38,2.9,0.64,1.26,0.17,6.0,2.82,1.9,0.033,0.038,0.058,6.1,2.0,3.15,3.06,1.87,2.25,2.25,1.15,1.8,8.06,0.396,0.42,2.51,0.197,null,1.34,null,6.86,2.7,null,null,1.3,0.4,0.132,0.01133,1.5,0.92,7.0,1.78,0.22,1.78,8.44,0.057,3.86,0.37,0.0263,0.0318,null,1.2,0.9,0.68,4.0,0.0284,0.04,0.026,1.8,6.8,0.502,0.087,0.36,1.4,1.7,1.16,0.3,0.172,0.45,5.9,2.6,0.05,5.9,0.96,0.098,0.367,0.186,8.3,6.92,11.0,9.61,null,0.21,0.261,2.6,1.29,0.99,0.77,0.054,0.076,0.28,11.09,6.8,2.83,0.27,0.71,1.24,null,0.48,11.68,1.1,0.95,2.1,1.88,0.178,2.13,4.5,1.22,3.71,3.0,0.058,7.2,0.041,0.38,0.224,1.45,3.24,1.6,1.04,2.2,18.15,5.61,1.49,0.0351,0.1507,1.59,0.82,0.0292,0.0382,0.121,2.0,0.0166,0.0358,0.03,0.223,9.76,9.7,5.1,1.9,1.62,3.12,2.9,5.76,2.12,6.56,1.21,0.85,0.96,null,1.33,15.5,0.168,3.0,1.5,2.73,0.0193,0.947,5.02,2.24,2.58,0.85,0.82,9.71,0.75,0.013,10.57,0.12,1.8,1.13,1.9,2.1,0.73,null,1.814,null,null,14.4,0.77,2.29,0.48,2.7,0.36,3.53,1.7,8.02,18.1,0.23,2.88,4.04,0.67,1.83,2.6,2.7,7.8,0.61,null,1.49,0.15,7.03,0.08,0.95,null,1.6,3.3,0.0238,0.64,0.54,0.37,3.69,3.82,0.94,0.75,0.52,1.99,1.26,0.0316,null,5.93,1.502,0.057,1.9,3.1,0.72,0.05318,0.07552,2.5,3.7,3.0,6.9,2.58,0.79,1.85,0.895,17.4,2.44,null,4.05,0.054,1.68,0.266,1.37,2.2,null,null,0.45,9.9,null,1.23,null,0.45,2.3,4.5,0.0087,0.0097,0.101,0.246,0.017,0.33,1.26,2.1,0.65,1.39,2.6,13.0,0.21,10.39,null,0.06,11.1,1.06,1.45,3.09,1.9,7.75,0.71,1.08,6.575,6.9,5.3,2.54,0.0265,0.76,1.42,null,0.47,1.25,3.88,1.28,0.57,0.298,0.036,0.41,0.527,null,9.18,9.0,8.82,null,2.1,1.068,1.94,null,null,null,null,null,null,1.47,null,null,null,null,null,null,null,null,null,null,null,null,null,null,null,null,null,null,null,null,null,null,null,null,null,null,null,null,null,null,null,null,null,null,null,null,null,null,null,null,null,null,null,null,null,null,null,null,null,null,null,null,null,null,null,null,null,null,null,null,null,null,null,null,null,null,null,null,null,null,null,null,null,null,null,null,null,null,null,null,null,null,null,null,null,null,null,null,null,null,null,null,null,null,null,null,null,null,null,null,null,null,null,null,null,null,null,null,null,null,null,null,null,null,null,null,null,null,null,null,null,null,null,null,null,null,null,null,null,null,null,null,null,null,0.947,null,null,null,null,null,null,null,null,null,null,null,null,null,null,null,null,null,null,null,null,null,null,null,null,null,null,null,null,null,null,null,null,null,null,null,null,null,null,null,null,null,null,null,null,null,null,null,null,null,null,null,null,null,null,null,null,null,null,null,null,null,null,null,null,null,null,null,null,null,null,null,null,null,null,null,null,null,null,null,null,null,null,null,null,null,null,null,null,null,null,null,null,null,null,null,null,null,null,null,null,null,null,null,null,null,null,null,null,null,null,null,null,null,null,null,null,null,null,null,null,null,null,null,null,null,null,null,null,19.8,0.34,0.4,1.54,null,null,null,null,null,null,null,null,null,null,null,null,null,null,null,null,null,null,null,null,null,null,null,null,null,null,null,null,null,null,null,null,null,null,null,null,null,null,null,null,null,null,null,null,null,null,null,null,null,null,null,null,null,null,null,null,null,null,null,null,null,null,null,null,null,null,null,null,null,null,null,null,null,null,null,null,null,null,null,null,null,null,null,null,null,null,null,null,null,null,null,null,null,null,null,null,null,null,null,null,null,null,null,null,null,null,null,null,null,null,null,null,null,null,null,null,null,null],\"xaxis\":\"x2\",\"yaxis\":\"y2\",\"type\":\"box\"}],                        {\"template\":{\"data\":{\"histogram2dcontour\":[{\"type\":\"histogram2dcontour\",\"colorbar\":{\"outlinewidth\":0,\"ticks\":\"\"},\"colorscale\":[[0.0,\"#0d0887\"],[0.1111111111111111,\"#46039f\"],[0.2222222222222222,\"#7201a8\"],[0.3333333333333333,\"#9c179e\"],[0.4444444444444444,\"#bd3786\"],[0.5555555555555556,\"#d8576b\"],[0.6666666666666666,\"#ed7953\"],[0.7777777777777778,\"#fb9f3a\"],[0.8888888888888888,\"#fdca26\"],[1.0,\"#f0f921\"]]}],\"choropleth\":[{\"type\":\"choropleth\",\"colorbar\":{\"outlinewidth\":0,\"ticks\":\"\"}}],\"histogram2d\":[{\"type\":\"histogram2d\",\"colorbar\":{\"outlinewidth\":0,\"ticks\":\"\"},\"colorscale\":[[0.0,\"#0d0887\"],[0.1111111111111111,\"#46039f\"],[0.2222222222222222,\"#7201a8\"],[0.3333333333333333,\"#9c179e\"],[0.4444444444444444,\"#bd3786\"],[0.5555555555555556,\"#d8576b\"],[0.6666666666666666,\"#ed7953\"],[0.7777777777777778,\"#fb9f3a\"],[0.8888888888888888,\"#fdca26\"],[1.0,\"#f0f921\"]]}],\"heatmap\":[{\"type\":\"heatmap\",\"colorbar\":{\"outlinewidth\":0,\"ticks\":\"\"},\"colorscale\":[[0.0,\"#0d0887\"],[0.1111111111111111,\"#46039f\"],[0.2222222222222222,\"#7201a8\"],[0.3333333333333333,\"#9c179e\"],[0.4444444444444444,\"#bd3786\"],[0.5555555555555556,\"#d8576b\"],[0.6666666666666666,\"#ed7953\"],[0.7777777777777778,\"#fb9f3a\"],[0.8888888888888888,\"#fdca26\"],[1.0,\"#f0f921\"]]}],\"heatmapgl\":[{\"type\":\"heatmapgl\",\"colorbar\":{\"outlinewidth\":0,\"ticks\":\"\"},\"colorscale\":[[0.0,\"#0d0887\"],[0.1111111111111111,\"#46039f\"],[0.2222222222222222,\"#7201a8\"],[0.3333333333333333,\"#9c179e\"],[0.4444444444444444,\"#bd3786\"],[0.5555555555555556,\"#d8576b\"],[0.6666666666666666,\"#ed7953\"],[0.7777777777777778,\"#fb9f3a\"],[0.8888888888888888,\"#fdca26\"],[1.0,\"#f0f921\"]]}],\"contourcarpet\":[{\"type\":\"contourcarpet\",\"colorbar\":{\"outlinewidth\":0,\"ticks\":\"\"}}],\"contour\":[{\"type\":\"contour\",\"colorbar\":{\"outlinewidth\":0,\"ticks\":\"\"},\"colorscale\":[[0.0,\"#0d0887\"],[0.1111111111111111,\"#46039f\"],[0.2222222222222222,\"#7201a8\"],[0.3333333333333333,\"#9c179e\"],[0.4444444444444444,\"#bd3786\"],[0.5555555555555556,\"#d8576b\"],[0.6666666666666666,\"#ed7953\"],[0.7777777777777778,\"#fb9f3a\"],[0.8888888888888888,\"#fdca26\"],[1.0,\"#f0f921\"]]}],\"surface\":[{\"type\":\"surface\",\"colorbar\":{\"outlinewidth\":0,\"ticks\":\"\"},\"colorscale\":[[0.0,\"#0d0887\"],[0.1111111111111111,\"#46039f\"],[0.2222222222222222,\"#7201a8\"],[0.3333333333333333,\"#9c179e\"],[0.4444444444444444,\"#bd3786\"],[0.5555555555555556,\"#d8576b\"],[0.6666666666666666,\"#ed7953\"],[0.7777777777777778,\"#fb9f3a\"],[0.8888888888888888,\"#fdca26\"],[1.0,\"#f0f921\"]]}],\"mesh3d\":[{\"type\":\"mesh3d\",\"colorbar\":{\"outlinewidth\":0,\"ticks\":\"\"}}],\"scatter\":[{\"fillpattern\":{\"fillmode\":\"overlay\",\"size\":10,\"solidity\":0.2},\"type\":\"scatter\"}],\"parcoords\":[{\"type\":\"parcoords\",\"line\":{\"colorbar\":{\"outlinewidth\":0,\"ticks\":\"\"}}}],\"scatterpolargl\":[{\"type\":\"scatterpolargl\",\"marker\":{\"colorbar\":{\"outlinewidth\":0,\"ticks\":\"\"}}}],\"bar\":[{\"error_x\":{\"color\":\"#2a3f5f\"},\"error_y\":{\"color\":\"#2a3f5f\"},\"marker\":{\"line\":{\"color\":\"#E5ECF6\",\"width\":0.5},\"pattern\":{\"fillmode\":\"overlay\",\"size\":10,\"solidity\":0.2}},\"type\":\"bar\"}],\"scattergeo\":[{\"type\":\"scattergeo\",\"marker\":{\"colorbar\":{\"outlinewidth\":0,\"ticks\":\"\"}}}],\"scatterpolar\":[{\"type\":\"scatterpolar\",\"marker\":{\"colorbar\":{\"outlinewidth\":0,\"ticks\":\"\"}}}],\"histogram\":[{\"marker\":{\"pattern\":{\"fillmode\":\"overlay\",\"size\":10,\"solidity\":0.2}},\"type\":\"histogram\"}],\"scattergl\":[{\"type\":\"scattergl\",\"marker\":{\"colorbar\":{\"outlinewidth\":0,\"ticks\":\"\"}}}],\"scatter3d\":[{\"type\":\"scatter3d\",\"line\":{\"colorbar\":{\"outlinewidth\":0,\"ticks\":\"\"}},\"marker\":{\"colorbar\":{\"outlinewidth\":0,\"ticks\":\"\"}}}],\"scattermapbox\":[{\"type\":\"scattermapbox\",\"marker\":{\"colorbar\":{\"outlinewidth\":0,\"ticks\":\"\"}}}],\"scatterternary\":[{\"type\":\"scatterternary\",\"marker\":{\"colorbar\":{\"outlinewidth\":0,\"ticks\":\"\"}}}],\"scattercarpet\":[{\"type\":\"scattercarpet\",\"marker\":{\"colorbar\":{\"outlinewidth\":0,\"ticks\":\"\"}}}],\"carpet\":[{\"aaxis\":{\"endlinecolor\":\"#2a3f5f\",\"gridcolor\":\"white\",\"linecolor\":\"white\",\"minorgridcolor\":\"white\",\"startlinecolor\":\"#2a3f5f\"},\"baxis\":{\"endlinecolor\":\"#2a3f5f\",\"gridcolor\":\"white\",\"linecolor\":\"white\",\"minorgridcolor\":\"white\",\"startlinecolor\":\"#2a3f5f\"},\"type\":\"carpet\"}],\"table\":[{\"cells\":{\"fill\":{\"color\":\"#EBF0F8\"},\"line\":{\"color\":\"white\"}},\"header\":{\"fill\":{\"color\":\"#C8D4E3\"},\"line\":{\"color\":\"white\"}},\"type\":\"table\"}],\"barpolar\":[{\"marker\":{\"line\":{\"color\":\"#E5ECF6\",\"width\":0.5},\"pattern\":{\"fillmode\":\"overlay\",\"size\":10,\"solidity\":0.2}},\"type\":\"barpolar\"}],\"pie\":[{\"automargin\":true,\"type\":\"pie\"}]},\"layout\":{\"autotypenumbers\":\"strict\",\"colorway\":[\"#636efa\",\"#EF553B\",\"#00cc96\",\"#ab63fa\",\"#FFA15A\",\"#19d3f3\",\"#FF6692\",\"#B6E880\",\"#FF97FF\",\"#FECB52\"],\"font\":{\"color\":\"#2a3f5f\"},\"hovermode\":\"closest\",\"hoverlabel\":{\"align\":\"left\"},\"paper_bgcolor\":\"white\",\"plot_bgcolor\":\"#E5ECF6\",\"polar\":{\"bgcolor\":\"#E5ECF6\",\"angularaxis\":{\"gridcolor\":\"white\",\"linecolor\":\"white\",\"ticks\":\"\"},\"radialaxis\":{\"gridcolor\":\"white\",\"linecolor\":\"white\",\"ticks\":\"\"}},\"ternary\":{\"bgcolor\":\"#E5ECF6\",\"aaxis\":{\"gridcolor\":\"white\",\"linecolor\":\"white\",\"ticks\":\"\"},\"baxis\":{\"gridcolor\":\"white\",\"linecolor\":\"white\",\"ticks\":\"\"},\"caxis\":{\"gridcolor\":\"white\",\"linecolor\":\"white\",\"ticks\":\"\"}},\"coloraxis\":{\"colorbar\":{\"outlinewidth\":0,\"ticks\":\"\"}},\"colorscale\":{\"sequential\":[[0.0,\"#0d0887\"],[0.1111111111111111,\"#46039f\"],[0.2222222222222222,\"#7201a8\"],[0.3333333333333333,\"#9c179e\"],[0.4444444444444444,\"#bd3786\"],[0.5555555555555556,\"#d8576b\"],[0.6666666666666666,\"#ed7953\"],[0.7777777777777778,\"#fb9f3a\"],[0.8888888888888888,\"#fdca26\"],[1.0,\"#f0f921\"]],\"sequentialminus\":[[0.0,\"#0d0887\"],[0.1111111111111111,\"#46039f\"],[0.2222222222222222,\"#7201a8\"],[0.3333333333333333,\"#9c179e\"],[0.4444444444444444,\"#bd3786\"],[0.5555555555555556,\"#d8576b\"],[0.6666666666666666,\"#ed7953\"],[0.7777777777777778,\"#fb9f3a\"],[0.8888888888888888,\"#fdca26\"],[1.0,\"#f0f921\"]],\"diverging\":[[0,\"#8e0152\"],[0.1,\"#c51b7d\"],[0.2,\"#de77ae\"],[0.3,\"#f1b6da\"],[0.4,\"#fde0ef\"],[0.5,\"#f7f7f7\"],[0.6,\"#e6f5d0\"],[0.7,\"#b8e186\"],[0.8,\"#7fbc41\"],[0.9,\"#4d9221\"],[1,\"#276419\"]]},\"xaxis\":{\"gridcolor\":\"white\",\"linecolor\":\"white\",\"ticks\":\"\",\"title\":{\"standoff\":15},\"zerolinecolor\":\"white\",\"automargin\":true,\"zerolinewidth\":2},\"yaxis\":{\"gridcolor\":\"white\",\"linecolor\":\"white\",\"ticks\":\"\",\"title\":{\"standoff\":15},\"zerolinecolor\":\"white\",\"automargin\":true,\"zerolinewidth\":2},\"scene\":{\"xaxis\":{\"backgroundcolor\":\"#E5ECF6\",\"gridcolor\":\"white\",\"linecolor\":\"white\",\"showbackground\":true,\"ticks\":\"\",\"zerolinecolor\":\"white\",\"gridwidth\":2},\"yaxis\":{\"backgroundcolor\":\"#E5ECF6\",\"gridcolor\":\"white\",\"linecolor\":\"white\",\"showbackground\":true,\"ticks\":\"\",\"zerolinecolor\":\"white\",\"gridwidth\":2},\"zaxis\":{\"backgroundcolor\":\"#E5ECF6\",\"gridcolor\":\"white\",\"linecolor\":\"white\",\"showbackground\":true,\"ticks\":\"\",\"zerolinecolor\":\"white\",\"gridwidth\":2}},\"shapedefaults\":{\"line\":{\"color\":\"#2a3f5f\"}},\"annotationdefaults\":{\"arrowcolor\":\"#2a3f5f\",\"arrowhead\":0,\"arrowwidth\":1},\"geo\":{\"bgcolor\":\"white\",\"landcolor\":\"#E5ECF6\",\"subunitcolor\":\"white\",\"showland\":true,\"showlakes\":true,\"lakecolor\":\"white\"},\"title\":{\"x\":0.05},\"mapbox\":{\"style\":\"light\"}}},\"xaxis\":{\"anchor\":\"y\",\"domain\":[0.0,1.0],\"title\":{\"text\":\"Mass (multiples of Jupiter)\"}},\"yaxis\":{\"anchor\":\"x\",\"domain\":[0.0,0.8316],\"title\":{\"text\":\"No of planets\"}},\"xaxis2\":{\"anchor\":\"y2\",\"domain\":[0.0,1.0],\"matches\":\"x\",\"showticklabels\":false,\"showgrid\":true},\"yaxis2\":{\"anchor\":\"x2\",\"domain\":[0.8416,1.0],\"matches\":\"y2\",\"showticklabels\":false,\"showline\":false,\"ticks\":\"\",\"showgrid\":false},\"legend\":{\"tracegroupgap\":0},\"title\":{\"text\":\"Distribution of the masses of the extrasolar planets\"},\"barmode\":\"relative\"},                        {\"responsive\": true}                    ).then(function(){\n",
              "                            \n",
              "var gd = document.getElementById('7169b5b1-bd81-47e4-84a6-dd7f8343d9d9');\n",
              "var x = new MutationObserver(function (mutations, observer) {{\n",
              "        var display = window.getComputedStyle(gd).display;\n",
              "        if (!display || display === 'none') {{\n",
              "            console.log([gd, 'removed!']);\n",
              "            Plotly.purge(gd);\n",
              "            observer.disconnect();\n",
              "        }}\n",
              "}});\n",
              "\n",
              "// Listen for the removal of the full notebook cells\n",
              "var notebookContainer = gd.closest('#notebook-container');\n",
              "if (notebookContainer) {{\n",
              "    x.observe(notebookContainer, {childList: true});\n",
              "}}\n",
              "\n",
              "// Listen for the clearing of the current output cell\n",
              "var outputEl = gd.closest('.output');\n",
              "if (outputEl) {{\n",
              "    x.observe(outputEl, {childList: true});\n",
              "}}\n",
              "\n",
              "                        })                };                });            </script>        </div>"
            ]
          },
          "metadata": {},
          "output_type": "display_data"
        }
      ],
      "source": [
        "fig=px.histogram(planets_df,\n",
        "                 title='Distribution of the masses of the extrasolar planets',\n",
        "                 x=\"mass\",\n",
        "                 marginal=\"box\",\n",
        "                 hover_data=planets_df.columns)\n",
        "fig.update_layout(xaxis_title='Mass (multiples of Jupiter)',\n",
        "                  yaxis_title='No of planets')\n",
        "fig.show()"
      ]
    },
    {
      "cell_type": "code",
      "execution_count": null,
      "id": "0e619bbe",
      "metadata": {
        "id": "0e619bbe"
      },
      "outputs": [],
      "source": []
    },
    {
      "cell_type": "code",
      "execution_count": null,
      "id": "347856cd",
      "metadata": {
        "id": "347856cd"
      },
      "outputs": [],
      "source": []
    },
    {
      "cell_type": "markdown",
      "id": "988ff3cf",
      "metadata": {
        "id": "988ff3cf"
      },
      "source": [
        "> **(Optional) Question** Answer the following questions:\n",
        "> \n",
        "> - Is the distribution of planet mass an exponential or gaussian?\n",
        "> - What is the median exoplanet mass? How does it compare to the maximum?\n",
        "> - How does the mass of a planet compare with its orbital period? Visualize their relationship using a scatter plot."
      ]
    },
    {
      "cell_type": "code",
      "execution_count": null,
      "id": "44396ffe",
      "metadata": {
        "id": "44396ffe"
      },
      "outputs": [],
      "source": [
        "1) Exponential"
      ]
    },
    {
      "cell_type": "code",
      "execution_count": null,
      "id": "n39HcaCsQl9H",
      "metadata": {
        "colab": {
          "base_uri": "https://localhost:8080/"
        },
        "id": "n39HcaCsQl9H",
        "outputId": "4e2cbaf9-66f4-44f6-8a69-a13cf9dc52cd"
      },
      "outputs": [
        {
          "name": "stdout",
          "output_type": "stream",
          "text": [
            "1.26\n",
            "25.0\n"
          ]
        }
      ],
      "source": [
        "print(planets_df.mass.median())\n",
        "print(planets_df.mass.max())"
      ]
    },
    {
      "cell_type": "code",
      "execution_count": null,
      "id": "b8ad8e7b",
      "metadata": {
        "colab": {
          "base_uri": "https://localhost:8080/",
          "height": 542
        },
        "id": "b8ad8e7b",
        "outputId": "bd6e222c-e9ae-44d9-ab6b-ef4b143115a4"
      },
      "outputs": [
        {
          "data": {
            "application/vnd.plotly.v1+json": {
              "config": {
                "plotlyServerURL": "https://plot.ly"
              },
              "data": [
                {
                  "hovertemplate": "mass=%{x}<br>orbital_period=%{y}<br>distance=%{marker.color}<extra></extra>",
                  "legendgroup": "",
                  "marker": {
                    "color": [
                      77.4,
                      56.95,
                      19.84,
                      110.62,
                      119.47,
                      76.39,
                      18.15,
                      21.41,
                      73.1,
                      74.79,
                      74.79,
                      39.43,
                      97.28,
                      14.08,
                      14.08,
                      14.08,
                      15.36,
                      12.53,
                      12.53,
                      12.53,
                      12.53,
                      12.53,
                      8.52,
                      8.52,
                      8.52,
                      18.11,
                      81.5,
                      97.18,
                      45.52,
                      45.52,
                      165,
                      140,
                      null,
                      null,
                      145,
                      139,
                      18.39,
                      130.72,
                      130.72,
                      500,
                      500,
                      null,
                      null,
                      null,
                      null,
                      20.21,
                      1.35,
                      19.28,
                      3.22,
                      70.42,
                      47.53,
                      38.52,
                      13.79,
                      31.12,
                      52.03,
                      62.66,
                      46.84,
                      46.84,
                      80.64,
                      84.03,
                      56.31,
                      17.43,
                      15.6,
                      92.51,
                      13.47,
                      13.47,
                      13.47,
                      13.47,
                      7.69,
                      145,
                      36,
                      140,
                      12.21,
                      52.4,
                      25,
                      26.67,
                      37.54,
                      null,
                      80,
                      42.09,
                      42.09,
                      20.1,
                      20.1,
                      50.03,
                      175.44,
                      null,
                      null,
                      null,
                      null,
                      23.1,
                      null,
                      null,
                      200,
                      680,
                      null,
                      null,
                      null,
                      150,
                      150,
                      380,
                      460,
                      345,
                      560,
                      1150,
                      1060,
                      1340,
                      840,
                      920,
                      870,
                      770,
                      1230,
                      600,
                      null,
                      20.77,
                      10.91,
                      14.97,
                      14.97,
                      14.97,
                      12.12,
                      15.1,
                      15.1,
                      20.03,
                      9.04,
                      10.23,
                      17.95,
                      6.27,
                      6.27,
                      6.27,
                      6.27,
                      10.32,
                      6.8,
                      6.8,
                      6.8,
                      6.8,
                      6.8,
                      6.8,
                      4.54,
                      16.13,
                      16.13,
                      16.13,
                      4.94,
                      8.77,
                      4.7,
                      4.7,
                      4.7,
                      4.7,
                      null,
                      17.62,
                      25.2,
                      19.8,
                      145,
                      139,
                      135.32,
                      138,
                      314,
                      342,
                      261,
                      230,
                      480,
                      142.5,
                      214,
                      214,
                      205,
                      190,
                      235,
                      90,
                      90,
                      166,
                      215,
                      70,
                      254,
                      82,
                      393,
                      396,
                      297,
                      134,
                      204,
                      395,
                      322,
                      193,
                      354,
                      354,
                      283,
                      387,
                      257,
                      535,
                      317,
                      411,
                      249,
                      642,
                      501,
                      344,
                      447,
                      542,
                      322,
                      303,
                      360,
                      453,
                      25.64,
                      25.64,
                      23.44,
                      23.44,
                      167.5,
                      7.01,
                      89.85,
                      53.71,
                      115.21,
                      11.11,
                      44.05,
                      32.7,
                      21.85,
                      77.82,
                      131.41,
                      56.5,
                      56.5,
                      100,
                      53.28,
                      58.17,
                      150.6,
                      40.32,
                      55.01,
                      35.88,
                      38.52,
                      38.52,
                      16.82,
                      56.34,
                      44.15,
                      38.26,
                      52.85,
                      52.85,
                      39.39,
                      39.39,
                      39.39,
                      39.39,
                      39.39,
                      39.39,
                      17.35,
                      32.56,
                      53.82,
                      53.82,
                      66.49,
                      33.98,
                      33.98,
                      37.16,
                      37.16,
                      300.3,
                      28.6,
                      28.6,
                      66.89,
                      66.89,
                      45.52,
                      35.91,
                      25.54,
                      59.84,
                      50.18,
                      null,
                      78.25,
                      127.88,
                      22.38,
                      43.08,
                      43.08,
                      27.13,
                      6.06,
                      6.06,
                      6.06,
                      35.89,
                      35.89,
                      36.02,
                      44.5,
                      32.31,
                      32.31,
                      89.13,
                      34.6,
                      31.79,
                      51.97,
                      46.51,
                      56.05,
                      18.24,
                      44.54,
                      42.37,
                      56.18,
                      39.56,
                      168.92,
                      54.71,
                      26.5,
                      121.07,
                      53.82,
                      38.01,
                      38.01,
                      38.01,
                      136.8,
                      86.88,
                      117.37,
                      45.01,
                      20.98,
                      37.78,
                      33.24,
                      33.24,
                      33.24,
                      18.21,
                      42.88,
                      42.88,
                      25.59,
                      25.59,
                      25.59,
                      42.43,
                      42.43,
                      99.4,
                      15.56,
                      12.83,
                      12.83,
                      12.83,
                      12.83,
                      12.83,
                      12.83,
                      33.33,
                      43.03,
                      43.03,
                      52.03,
                      52.03,
                      54.94,
                      37.05,
                      93.2,
                      50.43,
                      22.04,
                      32.58,
                      32.58,
                      48.95,
                      36.14,
                      33.41,
                      37.84,
                      37.84,
                      121.36,
                      121.36,
                      87.41,
                      40.73,
                      47.26,
                      31.03,
                      34.07,
                      34.07,
                      28.07,
                      92.51,
                      25.7,
                      25.7,
                      35.8,
                      10.34,
                      32.62,
                      35.59,
                      35.59,
                      80.06,
                      55.04,
                      58.82,
                      12.58,
                      12.58,
                      12.58,
                      null,
                      28.76,
                      51.36,
                      53.05,
                      36.52,
                      94.61,
                      94.61,
                      96.99,
                      64.56,
                      64.56,
                      64.56,
                      28.94,
                      80.58,
                      59.7,
                      41.27,
                      48.64,
                      29.04,
                      32.56,
                      88.26,
                      27.46,
                      27.46,
                      112.23,
                      43.53,
                      33.96,
                      11.15,
                      91.16,
                      42.48,
                      72.57,
                      18.06,
                      74.46,
                      30.88,
                      38.99,
                      22.09,
                      32.32,
                      28.9,
                      42.52,
                      42.52,
                      91.57,
                      149.03,
                      132.8,
                      84.03,
                      221.24,
                      26.21,
                      26.21,
                      21.3,
                      150.38,
                      42.77,
                      60.46,
                      17.99,
                      17.99,
                      130.89,
                      140.85,
                      52.8,
                      30.5,
                      42,
                      28.98,
                      164.2,
                      164.2,
                      9.24,
                      138.5,
                      121.07,
                      49.33,
                      53.08,
                      20.82,
                      102.04,
                      37.44,
                      87.87,
                      36.36,
                      91.83,
                      51.26,
                      38.56,
                      138.5,
                      68.54,
                      68.54,
                      65.62,
                      56.92,
                      56.92,
                      59.03,
                      97.66,
                      28.88,
                      37.42,
                      15.71,
                      15.71,
                      28.04,
                      28.04,
                      20.48,
                      40.57,
                      20.43,
                      35,
                      110.62,
                      33.01,
                      38.02,
                      88.57,
                      97.66,
                      44.37,
                      133.16,
                      52.83,
                      52.83,
                      52.83,
                      27.45,
                      68.35,
                      38.05,
                      16.57,
                      16.57,
                      67.61,
                      29.76,
                      121.36,
                      57.21,
                      70.97,
                      98.52,
                      24.15,
                      24.15,
                      25.65,
                      25.65,
                      26.91,
                      26.91,
                      26.91,
                      106.38,
                      14.56,
                      14.56,
                      14.56,
                      38.45,
                      121.36,
                      33.46,
                      35.87,
                      106.38,
                      34.57,
                      59.35,
                      126.1,
                      55.19,
                      42.68,
                      42.68,
                      12.87,
                      53.05,
                      59.28,
                      78.86,
                      63.49,
                      76.51,
                      29.55,
                      85.18,
                      182.82,
                      51.87,
                      18.08,
                      18.06,
                      65.79,
                      68.54,
                      68.54,
                      43.4,
                      43.4,
                      35.37,
                      55.1,
                      24.05,
                      49,
                      33.48,
                      114.15,
                      68.59,
                      68.59,
                      52.72,
                      52.72,
                      15.28,
                      15.28,
                      15.28,
                      15.28,
                      31.26,
                      69.44,
                      69.44,
                      51.81,
                      37.98,
                      21.92,
                      42.99,
                      50,
                      37.88,
                      37.88,
                      43.12,
                      36.32,
                      36.32,
                      64.98,
                      null,
                      44.05,
                      134.95,
                      67.02,
                      127.55,
                      14.98,
                      59.03,
                      59.03,
                      46.73,
                      63.69,
                      27.05,
                      131.75,
                      114.55,
                      115.47,
                      26.15,
                      26.15,
                      26.15,
                      55.93,
                      52.83,
                      52.83,
                      47.37,
                      44.98,
                      47.92,
                      47.92,
                      52.63,
                      17.72,
                      19.25,
                      62.11,
                      15.89,
                      15.89,
                      54.23,
                      189.39,
                      19.89,
                      8.82,
                      8.82,
                      67.39,
                      37.35,
                      46.93,
                      43.57,
                      32.99,
                      32.83,
                      68.35,
                      68.35,
                      46.34,
                      46.34,
                      40.85,
                      47.3,
                      47.3,
                      47.3,
                      26.95,
                      90.33,
                      170.07,
                      55.31,
                      55.31,
                      43.99,
                      352.11,
                      47.08,
                      21.29,
                      55.93,
                      52.72,
                      121.8,
                      40.75,
                      21.52,
                      21.52,
                      38.64,
                      38.64,
                      43.53,
                      43.53,
                      33.29,
                      26.52,
                      37.89,
                      19.72,
                      19.72,
                      54.92,
                      29.94,
                      29.2,
                      null,
                      81.1,
                      289.02,
                      45.23,
                      48.43,
                      52.88,
                      50.45,
                      41.95,
                      94.07,
                      108.46,
                      null,
                      null,
                      307.69,
                      54.92,
                      9.42,
                      50.2,
                      44.8,
                      44.8,
                      23.8,
                      223.21,
                      52.88,
                      52.88,
                      52.88,
                      11.03,
                      25.87,
                      25.87,
                      25.87,
                      11.43,
                      149.25,
                      23.98,
                      31.33,
                      131.93,
                      14.9,
                      44.46,
                      17.24,
                      39.94,
                      39.94,
                      39.94,
                      39.94,
                      262,
                      124.22,
                      178,
                      222,
                      213,
                      320,
                      38,
                      550,
                      null,
                      null,
                      null,
                      1330,
                      650,
                      650,
                      650,
                      173,
                      173,
                      613,
                      613,
                      613,
                      613,
                      613,
                      613,
                      600,
                      null,
                      980,
                      null,
                      61,
                      800,
                      null,
                      null,
                      null,
                      2119,
                      2119,
                      290,
                      290,
                      290,
                      290,
                      290,
                      108,
                      190,
                      800,
                      800,
                      1200,
                      1200,
                      null,
                      null,
                      null,
                      null,
                      null,
                      null,
                      null,
                      null,
                      null,
                      1400,
                      1400,
                      1400,
                      1400,
                      1400,
                      2100,
                      2100,
                      303,
                      303,
                      303,
                      303,
                      303,
                      null,
                      null,
                      null,
                      null,
                      null,
                      1499,
                      1645,
                      470,
                      470,
                      66,
                      66,
                      66,
                      600,
                      1200,
                      2700,
                      770,
                      38.7,
                      38.7,
                      38.7,
                      1950,
                      2250,
                      333,
                      855,
                      855,
                      1500,
                      1500,
                      null,
                      null,
                      null,
                      null,
                      null,
                      null,
                      null,
                      null,
                      null,
                      null,
                      null,
                      null,
                      null,
                      null,
                      null,
                      null,
                      null,
                      null,
                      null,
                      null,
                      null,
                      null,
                      null,
                      null,
                      null,
                      null,
                      null,
                      null,
                      null,
                      null,
                      null,
                      368,
                      368,
                      368,
                      368,
                      368,
                      200,
                      1000,
                      null,
                      null,
                      null,
                      1107,
                      1107,
                      135,
                      135,
                      135,
                      null,
                      null,
                      1180,
                      1180,
                      800,
                      1330,
                      1140,
                      null,
                      570,
                      null,
                      null,
                      null,
                      null,
                      null,
                      null,
                      null,
                      null,
                      null,
                      null,
                      null,
                      null,
                      null,
                      null,
                      null,
                      null,
                      null,
                      null,
                      339,
                      339,
                      null,
                      null,
                      null,
                      null,
                      780,
                      780,
                      780,
                      780,
                      780,
                      780,
                      780,
                      1030,
                      null,
                      null,
                      null,
                      null,
                      null,
                      null,
                      null,
                      null,
                      null,
                      null,
                      null,
                      null,
                      null,
                      null,
                      null,
                      null,
                      null,
                      null,
                      null,
                      null,
                      null,
                      null,
                      null,
                      null,
                      null,
                      null,
                      null,
                      null,
                      null,
                      null,
                      null,
                      null,
                      null,
                      null,
                      null,
                      null,
                      null,
                      null,
                      null,
                      null,
                      null,
                      null,
                      null,
                      null,
                      null,
                      null,
                      null,
                      null,
                      null,
                      null,
                      null,
                      null,
                      null,
                      null,
                      null,
                      null,
                      null,
                      null,
                      null,
                      null,
                      null,
                      null,
                      null,
                      null,
                      null,
                      null,
                      null,
                      null,
                      null,
                      null,
                      132,
                      null,
                      1056,
                      null,
                      null,
                      2000,
                      null,
                      null,
                      null,
                      3600,
                      null,
                      null,
                      null,
                      2300,
                      2800,
                      7720,
                      7560,
                      null,
                      null,
                      null,
                      null,
                      null,
                      null,
                      null,
                      null,
                      null,
                      null,
                      null,
                      2570,
                      4080,
                      4080,
                      1760,
                      4970,
                      null,
                      null,
                      null,
                      null,
                      600,
                      2500,
                      null,
                      null,
                      null,
                      1200,
                      null,
                      null,
                      null,
                      null,
                      null,
                      null,
                      1200,
                      null,
                      null,
                      135,
                      120,
                      null,
                      8500,
                      8500,
                      152.3,
                      228,
                      492,
                      360,
                      null,
                      null,
                      408,
                      147,
                      220,
                      300,
                      300,
                      null,
                      140,
                      87,
                      90,
                      121.7,
                      null,
                      155,
                      160,
                      null,
                      null,
                      400,
                      105.49,
                      250,
                      242,
                      300,
                      null,
                      null,
                      null,
                      250,
                      null,
                      70,
                      360,
                      null,
                      116.14,
                      120,
                      null,
                      450,
                      343,
                      110,
                      230,
                      180,
                      160,
                      80,
                      null,
                      null,
                      null,
                      200,
                      null,
                      170,
                      230,
                      140,
                      200,
                      330,
                      255,
                      455,
                      300,
                      125,
                      400,
                      480,
                      160,
                      330,
                      350,
                      310,
                      380,
                      225,
                      345,
                      340,
                      260,
                      93,
                      550,
                      240,
                      60,
                      470,
                      19.2,
                      3200,
                      10.1,
                      172,
                      148,
                      174,
                      293,
                      260
                    ],
                    "coloraxis": "coloraxis",
                    "symbol": "circle"
                  },
                  "mode": "markers",
                  "name": "",
                  "showlegend": false,
                  "type": "scattergl",
                  "x": [
                    7.1,
                    2.21,
                    2.6,
                    19.4,
                    10.5,
                    4.8,
                    4.64,
                    null,
                    10.3,
                    1.99,
                    0.86,
                    9.88,
                    3.88,
                    2.53,
                    0.54,
                    1.64,
                    0.472,
                    0.8,
                    0.165,
                    3.53,
                    null,
                    0.172,
                    0.016,
                    0.057,
                    0.072,
                    null,
                    null,
                    5.3,
                    3.2,
                    null,
                    null,
                    null,
                    6.05,
                    null,
                    null,
                    null,
                    null,
                    null,
                    null,
                    null,
                    null,
                    null,
                    4.2,
                    null,
                    null,
                    1.8,
                    0.0036,
                    null,
                    1.55,
                    null,
                    7.6,
                    8.78,
                    1.85,
                    null,
                    null,
                    2.8,
                    null,
                    null,
                    1.7,
                    null,
                    null,
                    1.04,
                    3.9,
                    20.6,
                    0.6876,
                    1.981,
                    4.132,
                    1.059,
                    null,
                    null,
                    null,
                    null,
                    null,
                    null,
                    null,
                    null,
                    5.1,
                    10.6,
                    null,
                    0.045,
                    0.33,
                    0.027,
                    0.17,
                    1.47,
                    1.11,
                    21.42,
                    12.47,
                    null,
                    0.91,
                    null,
                    null,
                    null,
                    null,
                    null,
                    null,
                    null,
                    null,
                    null,
                    null,
                    null,
                    null,
                    null,
                    null,
                    null,
                    null,
                    null,
                    null,
                    null,
                    null,
                    null,
                    null,
                    null,
                    null,
                    null,
                    3.91,
                    0.035,
                    0.024,
                    0.079,
                    0.82,
                    1.894,
                    1.6,
                    2.3,
                    0.018,
                    null,
                    null,
                    0.049,
                    0.017,
                    0.022,
                    0.006,
                    0.328,
                    0.018,
                    0.012,
                    0.016,
                    0.008,
                    0.008,
                    0.014,
                    0.035,
                    4.95,
                    0.014,
                    0.036,
                    0.64,
                    0.91,
                    2.2756,
                    0.7142,
                    0.021,
                    0.046,
                    null,
                    3.37,
                    null,
                    0.022,
                    null,
                    null,
                    null,
                    null,
                    null,
                    null,
                    null,
                    null,
                    null,
                    null,
                    null,
                    15.2,
                    null,
                    null,
                    null,
                    null,
                    3.4,
                    null,
                    null,
                    null,
                    null,
                    null,
                    null,
                    null,
                    null,
                    null,
                    null,
                    null,
                    null,
                    null,
                    null,
                    3.4,
                    null,
                    null,
                    null,
                    null,
                    null,
                    null,
                    null,
                    null,
                    null,
                    null,
                    null,
                    null,
                    null,
                    null,
                    null,
                    null,
                    1.25,
                    5.3,
                    0.024,
                    0.0186,
                    3.1,
                    6.1,
                    4.9,
                    0.48,
                    1.6,
                    0.229,
                    1.56,
                    0.8,
                    0.0405,
                    2.07,
                    2.3,
                    2.37,
                    2.37,
                    1.94,
                    1.96,
                    null,
                    7.6,
                    0.48,
                    1.65,
                    0.29,
                    1.11,
                    2,
                    0.029,
                    0.63,
                    1.8,
                    14.2,
                    0.7,
                    1.82,
                    0.041,
                    0.038,
                    0.08,
                    0.074,
                    0.067,
                    0.205,
                    0.94,
                    6.21,
                    3.44,
                    0.82,
                    6.54,
                    0.622,
                    0.0788,
                    2.3,
                    1.92,
                    14,
                    0.0325,
                    0.036,
                    0.865,
                    5.13,
                    1.88,
                    0.26,
                    0.0696,
                    4.4,
                    14.3,
                    4.6,
                    null,
                    2.7,
                    1.37,
                    0.0378,
                    0.0422,
                    1.07,
                    0.0085,
                    0.00755,
                    0.0151,
                    0.0379,
                    0.0496,
                    1.9,
                    1.99,
                    0.0322,
                    0.06472,
                    1.5,
                    2.61,
                    13.65,
                    7.71,
                    4.01,
                    0.95,
                    1.28,
                    1.45,
                    0.62,
                    1.16,
                    5.59,
                    1.7,
                    9.17,
                    1.373,
                    1.8,
                    0.5,
                    0.0363,
                    0.0498,
                    0.0519,
                    1.3,
                    0.33,
                    3.04,
                    0.79,
                    9.1,
                    null,
                    0.61,
                    0.683,
                    0.624,
                    10.35,
                    2.3,
                    3.366,
                    0.0117,
                    0.0187,
                    0.0162,
                    0.839,
                    13.38,
                    10.7,
                    0.0961,
                    0.0126,
                    0.0208,
                    0.0299,
                    0.011,
                    0.0164,
                    0.0223,
                    4.01,
                    2.54,
                    18.37,
                    0.039,
                    0.027,
                    0.6,
                    25,
                    2.49,
                    0.58,
                    0.04,
                    0.1872,
                    0.6579,
                    1.79,
                    0.47,
                    0.249,
                    0.07167,
                    0.35061,
                    5,
                    7,
                    1.16,
                    0.115,
                    1.71,
                    4.9,
                    0.0413,
                    0.0565,
                    1.13,
                    5.25,
                    3.1548,
                    7.4634,
                    0.38,
                    2.9,
                    0.64,
                    1.26,
                    0.17,
                    6,
                    2.82,
                    1.9,
                    0.033,
                    0.038,
                    0.058,
                    6.1,
                    2,
                    3.15,
                    3.06,
                    1.87,
                    2.25,
                    2.25,
                    1.15,
                    1.8,
                    8.06,
                    0.396,
                    0.42,
                    2.51,
                    0.197,
                    null,
                    1.34,
                    null,
                    6.86,
                    2.7,
                    null,
                    null,
                    1.3,
                    0.4,
                    0.132,
                    0.01133,
                    1.5,
                    0.92,
                    7,
                    1.78,
                    0.22,
                    1.78,
                    8.44,
                    0.057,
                    3.86,
                    0.37,
                    0.0263,
                    0.0318,
                    null,
                    1.2,
                    0.9,
                    0.68,
                    4,
                    0.0284,
                    0.04,
                    0.026,
                    1.8,
                    6.8,
                    0.502,
                    0.087,
                    0.36,
                    1.4,
                    1.7,
                    1.16,
                    0.3,
                    0.172,
                    0.45,
                    5.9,
                    2.6,
                    0.05,
                    5.9,
                    0.96,
                    0.098,
                    0.367,
                    0.186,
                    8.3,
                    6.92,
                    11,
                    9.61,
                    null,
                    0.21,
                    0.261,
                    2.6,
                    1.29,
                    0.99,
                    0.77,
                    0.054,
                    0.076,
                    0.28,
                    11.09,
                    6.8,
                    2.83,
                    0.27,
                    0.71,
                    1.24,
                    null,
                    0.48,
                    11.68,
                    1.1,
                    0.95,
                    2.1,
                    1.88,
                    0.178,
                    2.13,
                    4.5,
                    1.22,
                    3.71,
                    3,
                    0.058,
                    7.2,
                    0.041,
                    0.38,
                    0.224,
                    1.45,
                    3.24,
                    1.6,
                    1.04,
                    2.2,
                    18.15,
                    5.61,
                    1.49,
                    0.0351,
                    0.1507,
                    1.59,
                    0.82,
                    0.0292,
                    0.0382,
                    0.121,
                    2,
                    0.0166,
                    0.0358,
                    0.03,
                    0.223,
                    9.76,
                    9.7,
                    5.1,
                    1.9,
                    1.62,
                    3.12,
                    2.9,
                    5.76,
                    2.12,
                    6.56,
                    1.21,
                    0.85,
                    0.96,
                    null,
                    1.33,
                    15.5,
                    0.168,
                    3,
                    1.5,
                    2.73,
                    0.0193,
                    0.947,
                    5.02,
                    2.24,
                    2.58,
                    0.85,
                    0.82,
                    9.71,
                    0.75,
                    0.013,
                    10.57,
                    0.12,
                    1.8,
                    1.13,
                    1.9,
                    2.1,
                    0.73,
                    null,
                    1.814,
                    null,
                    null,
                    14.4,
                    0.77,
                    2.29,
                    0.48,
                    2.7,
                    0.36,
                    3.53,
                    1.7,
                    8.02,
                    18.1,
                    0.23,
                    2.88,
                    4.04,
                    0.67,
                    1.83,
                    2.6,
                    2.7,
                    7.8,
                    0.61,
                    null,
                    1.49,
                    0.15,
                    7.03,
                    0.08,
                    0.95,
                    null,
                    1.6,
                    3.3,
                    0.0238,
                    0.64,
                    0.54,
                    0.37,
                    3.69,
                    3.82,
                    0.94,
                    0.75,
                    0.52,
                    1.99,
                    1.26,
                    0.0316,
                    null,
                    5.93,
                    1.502,
                    0.057,
                    1.9,
                    3.1,
                    0.72,
                    0.05318,
                    0.07552,
                    2.5,
                    3.7,
                    3,
                    6.9,
                    2.58,
                    0.79,
                    1.85,
                    0.895,
                    17.4,
                    2.44,
                    null,
                    4.05,
                    0.054,
                    1.68,
                    0.266,
                    1.37,
                    2.2,
                    null,
                    null,
                    0.45,
                    9.9,
                    null,
                    1.23,
                    null,
                    0.45,
                    2.3,
                    4.5,
                    0.0087,
                    0.0097,
                    0.101,
                    0.246,
                    0.017,
                    0.33,
                    1.26,
                    2.1,
                    0.65,
                    1.39,
                    2.6,
                    13,
                    0.21,
                    10.39,
                    null,
                    0.06,
                    11.1,
                    1.06,
                    1.45,
                    3.09,
                    1.9,
                    7.75,
                    0.71,
                    1.08,
                    6.575,
                    6.9,
                    5.3,
                    2.54,
                    0.0265,
                    0.76,
                    1.42,
                    null,
                    0.47,
                    1.25,
                    3.88,
                    1.28,
                    0.57,
                    0.298,
                    0.036,
                    0.41,
                    0.527,
                    null,
                    9.18,
                    9,
                    8.82,
                    null,
                    2.1,
                    1.068,
                    1.94,
                    null,
                    null,
                    null,
                    null,
                    null,
                    null,
                    1.47,
                    null,
                    null,
                    null,
                    null,
                    null,
                    null,
                    null,
                    null,
                    null,
                    null,
                    null,
                    null,
                    null,
                    null,
                    null,
                    null,
                    null,
                    null,
                    null,
                    null,
                    null,
                    null,
                    null,
                    null,
                    null,
                    null,
                    null,
                    null,
                    null,
                    null,
                    null,
                    null,
                    null,
                    null,
                    null,
                    null,
                    null,
                    null,
                    null,
                    null,
                    null,
                    null,
                    null,
                    null,
                    null,
                    null,
                    null,
                    null,
                    null,
                    null,
                    null,
                    null,
                    null,
                    null,
                    null,
                    null,
                    null,
                    null,
                    null,
                    null,
                    null,
                    null,
                    null,
                    null,
                    null,
                    null,
                    null,
                    null,
                    null,
                    null,
                    null,
                    null,
                    null,
                    null,
                    null,
                    null,
                    null,
                    null,
                    null,
                    null,
                    null,
                    null,
                    null,
                    null,
                    null,
                    null,
                    null,
                    null,
                    null,
                    null,
                    null,
                    null,
                    null,
                    null,
                    null,
                    null,
                    null,
                    null,
                    null,
                    null,
                    null,
                    null,
                    null,
                    null,
                    null,
                    null,
                    null,
                    null,
                    null,
                    null,
                    null,
                    null,
                    null,
                    null,
                    null,
                    null,
                    null,
                    null,
                    null,
                    null,
                    null,
                    null,
                    null,
                    null,
                    null,
                    null,
                    null,
                    null,
                    null,
                    null,
                    null,
                    null,
                    null,
                    null,
                    0.947,
                    null,
                    null,
                    null,
                    null,
                    null,
                    null,
                    null,
                    null,
                    null,
                    null,
                    null,
                    null,
                    null,
                    null,
                    null,
                    null,
                    null,
                    null,
                    null,
                    null,
                    null,
                    null,
                    null,
                    null,
                    null,
                    null,
                    null,
                    null,
                    null,
                    null,
                    null,
                    null,
                    null,
                    null,
                    null,
                    null,
                    null,
                    null,
                    null,
                    null,
                    null,
                    null,
                    null,
                    null,
                    null,
                    null,
                    null,
                    null,
                    null,
                    null,
                    null,
                    null,
                    null,
                    null,
                    null,
                    null,
                    null,
                    null,
                    null,
                    null,
                    null,
                    null,
                    null,
                    null,
                    null,
                    null,
                    null,
                    null,
                    null,
                    null,
                    null,
                    null,
                    null,
                    null,
                    null,
                    null,
                    null,
                    null,
                    null,
                    null,
                    null,
                    null,
                    null,
                    null,
                    null,
                    null,
                    null,
                    null,
                    null,
                    null,
                    null,
                    null,
                    null,
                    null,
                    null,
                    null,
                    null,
                    null,
                    null,
                    null,
                    null,
                    null,
                    null,
                    null,
                    null,
                    null,
                    null,
                    null,
                    null,
                    null,
                    null,
                    null,
                    null,
                    null,
                    null,
                    null,
                    null,
                    null,
                    null,
                    null,
                    null,
                    null,
                    null,
                    null,
                    null,
                    null,
                    null,
                    null,
                    19.8,
                    0.34,
                    0.4,
                    1.54,
                    null,
                    null,
                    null,
                    null,
                    null,
                    null,
                    null,
                    null,
                    null,
                    null,
                    null,
                    null,
                    null,
                    null,
                    null,
                    null,
                    null,
                    null,
                    null,
                    null,
                    null,
                    null,
                    null,
                    null,
                    null,
                    null,
                    null,
                    null,
                    null,
                    null,
                    null,
                    null,
                    null,
                    null,
                    null,
                    null,
                    null,
                    null,
                    null,
                    null,
                    null,
                    null,
                    null,
                    null,
                    null,
                    null,
                    null,
                    null,
                    null,
                    null,
                    null,
                    null,
                    null,
                    null,
                    null,
                    null,
                    null,
                    null,
                    null,
                    null,
                    null,
                    null,
                    null,
                    null,
                    null,
                    null,
                    null,
                    null,
                    null,
                    null,
                    null,
                    null,
                    null,
                    null,
                    null,
                    null,
                    null,
                    null,
                    null,
                    null,
                    null,
                    null,
                    null,
                    null,
                    null,
                    null,
                    null,
                    null,
                    null,
                    null,
                    null,
                    null,
                    null,
                    null,
                    null,
                    null,
                    null,
                    null,
                    null,
                    null,
                    null,
                    null,
                    null,
                    null,
                    null,
                    null,
                    null,
                    null,
                    null,
                    null,
                    null,
                    null,
                    null,
                    null,
                    null,
                    null,
                    null,
                    null
                  ],
                  "xaxis": "x",
                  "y": [
                    269.3,
                    874.774,
                    763,
                    326.03,
                    516.22,
                    185.84,
                    1773.4,
                    798.5,
                    993.3,
                    452.8,
                    883,
                    335.1,
                    479.1,
                    1078,
                    2391,
                    14002,
                    4.230785,
                    14.651,
                    44.38,
                    4909,
                    0.73654,
                    261.2,
                    4.215,
                    38.021,
                    123.01,
                    116.6884,
                    691.9,
                    952.7,
                    181.4,
                    null,
                    null,
                    null,
                    10220,
                    null,
                    null,
                    null,
                    null,
                    5767,
                    3321,
                    5573.55,
                    2883.5,
                    2900,
                    4343.5,
                    5840,
                    1916.25,
                    380.8,
                    3.2357,
                    6000,
                    2502,
                    417.9,
                    594.9,
                    428.5,
                    903.3,
                    1251,
                    null,
                    136.75,
                    530.32,
                    3186,
                    277.02,
                    187.83,
                    1630,
                    39.845,
                    3.3135,
                    305.5,
                    4.617033,
                    241.258,
                    1276.46,
                    3848.86,
                    318280,
                    null,
                    null,
                    null,
                    4639.15,
                    null,
                    7336.5,
                    8679.7,
                    655.6,
                    714.3,
                    3.48777,
                    5.6,
                    237.6,
                    3.8728,
                    125.94,
                    268.94,
                    137.48,
                    379.63,
                    621.99,
                    578.2,
                    392.6,
                    10037.5,
                    null,
                    1.5089557,
                    1.7429935,
                    4.2568,
                    9.20205,
                    4.0378962,
                    8.886593,
                    0.853585,
                    3.698,
                    6.21229,
                    95.2738,
                    13.2406,
                    2.99433,
                    2.828042,
                    4.03519,
                    1.51214,
                    5.35227,
                    3.7681,
                    1.9000693,
                    3.89713,
                    9.24285,
                    3.6313,
                    3.57532,
                    246.36,
                    15.76491,
                    8.631,
                    25.6,
                    603,
                    2288,
                    692,
                    7100,
                    4100,
                    7.3709,
                    2.64385,
                    null,
                    5.36874,
                    12.9292,
                    66.8,
                    3.14942,
                    598.3,
                    7.2004,
                    28.14,
                    91.61,
                    62.24,
                    39.026,
                    256.2,
                    4.6938,
                    1050.3,
                    3.6,
                    35.37,
                    3416,
                    1845,
                    61.1166,
                    30.0881,
                    1.93778,
                    124.26,
                    1.58040482,
                    133.71,
                    3.33714,
                    2.64561,
                    null,
                    4.4652934,
                    5.6334729,
                    2.899736,
                    3.056536,
                    2.788491,
                    3.852985,
                    3.0763776,
                    3.92289,
                    3.2130598,
                    2.91626,
                    428.5,
                    4.627669,
                    10.863502,
                    2.77596,
                    10.338523,
                    5584,
                    5.508023,
                    4.008778,
                    2.875317,
                    4.124481,
                    3.21222,
                    1.212884,
                    3.35524,
                    3.652836,
                    4.234516,
                    3.039577,
                    3.257215,
                    5.723186,
                    2.810595,
                    5.005425,
                    1022,
                    2.150008,
                    3.474474,
                    5.452654,
                    3.646706,
                    1.327347,
                    2.797436,
                    4.640382,
                    3.54387,
                    4.457243,
                    2.694047,
                    4.641878,
                    3.332687,
                    2.691548,
                    3.446459,
                    1.354133,
                    3.547851,
                    349.7,
                    6005,
                    5.7727,
                    13.505,
                    431.8,
                    533,
                    1183,
                    3.4442,
                    311.6,
                    62.218,
                    526.62,
                    829,
                    15.609,
                    431.88,
                    356,
                    360.2,
                    2732,
                    675,
                    777,
                    792.6,
                    177.11,
                    22.09,
                    2496,
                    615,
                    1275,
                    4046,
                    5.3978,
                    1313,
                    227,
                    1634,
                    30.052,
                    192.9,
                    5.75962,
                    16.3567,
                    49.747,
                    122.72,
                    602,
                    2248,
                    989.2,
                    1075.2,
                    1270.2,
                    170.455,
                    711,
                    1945,
                    37.91,
                    262.709,
                    1708,
                    471.6,
                    14.182,
                    53.832,
                    19.382,
                    931,
                    4218,
                    75.523,
                    17.24,
                    990,
                    465.1,
                    359.9,
                    21.21663,
                    772,
                    466.2,
                    11.849,
                    33.823,
                    500,
                    18.315,
                    40.114,
                    90.309,
                    29.15,
                    85.131,
                    591.9,
                    380.85,
                    22.656,
                    53.881,
                    1214,
                    738.459,
                    528.07,
                    1561,
                    3668,
                    1845,
                    423.841,
                    2208,
                    17.991,
                    1117,
                    385.9,
                    387.1,
                    2819.654,
                    1159.2,
                    912,
                    466,
                    16.546,
                    51.284,
                    274.49,
                    326.6,
                    18.179,
                    157.54,
                    1049,
                    388,
                    363.2,
                    154.46,
                    2295,
                    843.6,
                    2063.818,
                    55,
                    2720,
                    5.6363,
                    14.025,
                    33.941,
                    14.3098,
                    2140.2,
                    696.3,
                    407.15,
                    4.3123,
                    9.6184,
                    20.432,
                    34.62,
                    51.76,
                    197.8,
                    264.15,
                    963,
                    1.3283,
                    18.357,
                    25.648,
                    327.8,
                    2371,
                    36.96,
                    472,
                    5.8872,
                    226.93,
                    342.85,
                    890.76,
                    43.6,
                    3.024,
                    4.0845,
                    1353.6,
                    430,
                    2500,
                    700,
                    4.9437,
                    2582.7,
                    1279,
                    14.07,
                    95.415,
                    118.96,
                    303,
                    201.83,
                    607.06,
                    2.817822,
                    589.64,
                    358,
                    572.4,
                    152.6,
                    480.5,
                    1973,
                    6.276,
                    8.667,
                    31.56,
                    197,
                    851.8,
                    2231,
                    3383,
                    1260,
                    2.54858,
                    188.9,
                    379.1,
                    1800,
                    51.645,
                    2473,
                    346.6,
                    3.51,
                    418.2,
                    3.971,
                    5.7361,
                    1966.1,
                    111.4357,
                    1001.7,
                    184.02,
                    441.47,
                    220.078,
                    705,
                    2.985625,
                    788,
                    58.43,
                    2.1375,
                    1695,
                    1475,
                    2754,
                    3.416,
                    2157,
                    256.78,
                    49.77,
                    325.81,
                    143.58,
                    13.186,
                    46.025,
                    null,
                    507,
                    361.1,
                    498.9,
                    647.3,
                    8.1256,
                    103.49,
                    9.494,
                    436.9,
                    4951,
                    439.3,
                    17.054,
                    4970,
                    868,
                    157.57,
                    383.7,
                    70.46,
                    20.8133,
                    4.113775,
                    127.58,
                    520,
                    122.1,
                    778.1,
                    6.495,
                    47.84,
                    5.8881,
                    55.806,
                    199.505,
                    1531,
                    2890,
                    3630,
                    null,
                    48.056,
                    10.8985,
                    443.4,
                    395.8,
                    1624,
                    68.27,
                    7.8543,
                    30.93,
                    5.24,
                    835.477,
                    1143,
                    324,
                    263.3,
                    1657,
                    937.7,
                    1046,
                    3827,
                    83.888,
                    493.7,
                    1114,
                    670,
                    2597,
                    25.827,
                    6.1335,
                    2082,
                    63.33,
                    344.95,
                    559.4,
                    4.1547,
                    3008,
                    9.6737,
                    1244,
                    948.12,
                    454.2,
                    923.8,
                    1840,
                    10.7085,
                    883,
                    1951,
                    974,
                    1544,
                    3.27,
                    1160.9,
                    258.19,
                    5000,
                    12.083,
                    59.519,
                    459.26,
                    464.3,
                    11.577,
                    27.582,
                    106.72,
                    330,
                    1125.7,
                    653.22,
                    1928,
                    1299,
                    386.3,
                    1057,
                    176.3,
                    103.95,
                    44.236,
                    1008,
                    528.4,
                    1027,
                    331.5,
                    2.8758911,
                    4.072,
                    2.391,
                    1096.2,
                    2097,
                    689,
                    499.4,
                    18.596,
                    3342,
                    163.9,
                    408.6,
                    3452,
                    194.3,
                    391.9,
                    131.05,
                    842,
                    4.6455,
                    359.5546,
                    104.84,
                    521,
                    12.62,
                    248.4,
                    1178.4,
                    352.3,
                    643.25,
                    4205.8,
                    9.6386,
                    310.55,
                    8.428198,
                    75.29,
                    1314,
                    282.4,
                    606.4,
                    1155,
                    5144,
                    420.77,
                    58.11289,
                    1749.5,
                    6.403,
                    225.62,
                    2102,
                    1145,
                    538,
                    1523,
                    323.6,
                    1290,
                    297.3,
                    1016,
                    406.6,
                    110.9,
                    71.484,
                    14.476,
                    3.0925,
                    396.03,
                    479,
                    663,
                    9.3743,
                    962,
                    2172,
                    956,
                    634.23,
                    2950,
                    6.838,
                    986,
                    3.097,
                    3810,
                    456.46,
                    14.275,
                    2.21857578,
                    1136.1,
                    2891,
                    17.1,
                    1038.1,
                    4885,
                    24.348,
                    74.72,
                    525.8,
                    351.5,
                    18.20163,
                    1289,
                    3638,
                    1333,
                    1035.7,
                    613.8,
                    825,
                    255.87,
                    1383.4,
                    null,
                    1931,
                    34.873,
                    2831.6,
                    1733,
                    279.8,
                    610,
                    161.97,
                    1155.7,
                    123,
                    875.5,
                    3.52474859,
                    442.1,
                    354.8,
                    2.245715,
                    373.3,
                    951,
                    7.2825,
                    10.866,
                    191.99,
                    2277,
                    3.93,
                    567,
                    1311,
                    1294,
                    118.45,
                    7.126816,
                    4270,
                    1319,
                    225.7,
                    5501,
                    2093.3,
                    3.8335,
                    672.1,
                    2209,
                    3724.7,
                    456.1,
                    3999,
                    572.38,
                    26.73,
                    141.6,
                    192,
                    501.75,
                    745.7,
                    2443,
                    8.7836,
                    3.369,
                    345.72,
                    9017.8,
                    57,
                    16.2,
                    6.673855,
                    147.73,
                    952,
                    41.397,
                    8.1352,
                    32.03,
                    431.7,
                    null,
                    124.6,
                    17337.5,
                    511.098,
                    null,
                    111.7,
                    5.0505,
                    311.288,
                    170000,
                    69000,
                    37000,
                    18000,
                    1.217514,
                    4.1137912,
                    2.7033904,
                    7.8457,
                    2.47063,
                    2.204737,
                    4.8878162,
                    3.21346,
                    3.54846,
                    3.234723,
                    4.885525,
                    3.52254,
                    19.24,
                    38.91,
                    1.592851,
                    0.837495,
                    45.29485,
                    10.3039,
                    13.0241,
                    22.6845,
                    31.9996,
                    46.6888,
                    118.3807,
                    4.4379637,
                    1.7635892,
                    6.790123,
                    4.942782,
                    228.776,
                    1.4857108,
                    3.504725,
                    7.64159,
                    14.85888,
                    9.2869944,
                    160,
                    3.6961219,
                    10.854092,
                    77.61184,
                    6.098493,
                    19.57706,
                    2.785755,
                    289.8623,
                    7.1073,
                    10.7421,
                    8.1453,
                    12.3335,
                    6.2385,
                    12.7204,
                    123,
                    12.2829,
                    17.2513,
                    15.3348,
                    31.3309,
                    5.9123,
                    8.9858,
                    10.3376,
                    13.2907,
                    29.33434,
                    60.323105,
                    143.34394,
                    20.8613,
                    42.6318,
                    5.90124,
                    8.7522,
                    22.7802,
                    2.896,
                    0.74296,
                    5.66793,
                    13.17562,
                    21.77596,
                    31.7844,
                    41.02902,
                    288.822,
                    131.458,
                    13.83989,
                    16.23855,
                    13.367308,
                    21.301886,
                    39.792187,
                    105.599,
                    21.0874,
                    6.87349,
                    1.855558,
                    1.2137672,
                    0.45328509,
                    1.865169,
                    3.024095,
                    3.24674,
                    2.455239,
                    33.60134,
                    57.011,
                    49.532,
                    303.137,
                    4.7779803,
                    9.6739283,
                    42.8961,
                    982,
                    7.2037945,
                    10.9129343,
                    7.81254,
                    9.37647,
                    45.154,
                    85.312,
                    null,
                    7.8773565,
                    16.3850021,
                    18.6489525,
                    38.5583038,
                    8.0109434,
                    12.0717249,
                    27.9481449,
                    42.1516418,
                    10.5016,
                    21.40239,
                    5.7293196,
                    11.6092567,
                    10.2184954,
                    15.5741568,
                    11.8681707,
                    17.9801235,
                    7.1316185,
                    8.9193459,
                    11.9016171,
                    59.87756,
                    5.714932,
                    12.4417,
                    18.16406,
                    122.3874,
                    267.291,
                    9.4341505,
                    138.317,
                    2.15491,
                    5.859944,
                    8.13123,
                    17.815815,
                    15.7259,
                    5.398763,
                    9.605085,
                    580,
                    13.722341,
                    242.4613,
                    0.240104,
                    0.342887,
                    3.90512,
                    7.340718,
                    8.884924,
                    1.54492875,
                    3.57878087,
                    0.355,
                    13.485,
                    27.402,
                    7.053,
                    9.522,
                    5.955,
                    12.04,
                    26.444,
                    51.538,
                    9.77,
                    20.09,
                    8.726,
                    12.883,
                    8.306,
                    12.513,
                    282.5255,
                    114.73635,
                    191.2318,
                    10.95416,
                    22.3395,
                    3.743208,
                    10.423648,
                    22.342989,
                    54.32031,
                    7.008151,
                    8.719375,
                    59.73667,
                    91.93913,
                    124.9144,
                    210.60697,
                    331.60059,
                    6.24658,
                    13.749,
                    26.723,
                    4.72674,
                    1460,
                    2.50806,
                    820.3,
                    11.5231,
                    16.2385,
                    2.58664,
                    789,
                    1.54168,
                    4.60358,
                    6.88705,
                    12.8159,
                    35.3331,
                    5.28696,
                    7.07142,
                    10.3117,
                    16.1457,
                    27.4536,
                    15.9654,
                    179.612,
                    5.4122,
                    6.16486,
                    13.5708,
                    23.9802,
                    43.8445,
                    6.48163,
                    21.2227,
                    4.754,
                    8.92507,
                    8.041,
                    11.776,
                    15.09,
                    22.804,
                    27.50868,
                    16.092,
                    25.5169,
                    13.78164,
                    23.08933,
                    22.951,
                    42.882,
                    36.855,
                    49.412,
                    23.654,
                    50.447,
                    31.884,
                    48.648,
                    17.324,
                    33.006,
                    35.736,
                    54.414,
                    24.806,
                    44.347,
                    5.487,
                    8.291,
                    10.416,
                    13.084,
                    34.921,
                    71.312,
                    17.849,
                    26.136,
                    42.994,
                    88.505,
                    2.42629,
                    4.62332,
                    0.66931,
                    3000,
                    2.46502,
                    68.9584,
                    17.833648,
                    3.00516,
                    1.72086123,
                    66.262,
                    40000,
                    3.91405,
                    null,
                    null,
                    null,
                    null,
                    2780,
                    null,
                    1970,
                    null,
                    null,
                    null,
                    null,
                    677.8,
                    6.958,
                    5.118,
                    121.71,
                    null,
                    3600,
                    3300,
                    3500,
                    1825,
                    5100,
                    null,
                    null,
                    null,
                    null,
                    null,
                    null,
                    2.4855335,
                    3.101278,
                    1.2119189,
                    4.0161,
                    1.4324752,
                    1.689868,
                    3.9791,
                    3.67724,
                    730000,
                    3.1606296,
                    4.4264,
                    2.1451,
                    25.262,
                    66.5419,
                    98.2114,
                    36525,
                    0.09070629,
                    1.420033,
                    1.3371182,
                    null,
                    null,
                    null,
                    4.2,
                    1.796,
                    3.030065,
                    1.30618581,
                    3.553945,
                    1.4822446,
                    null,
                    1170,
                    2.5199449,
                    2.152226,
                    1.846835,
                    1.33823187,
                    1.62843142,
                    3.361006,
                    4.954658,
                    8.158715,
                    3.0927616,
                    3.7224747,
                    1.091423,
                    4.353011,
                    2.243752,
                    3.7520656,
                    3.1186009,
                    3.7354417,
                    0.94145299,
                    0.78884,
                    4.322482,
                    3.5327313,
                    2.9444256,
                    2.34121242,
                    3.764825,
                    2.7566004,
                    3.408821,
                    3.922727,
                    3.4059096,
                    2.718659,
                    1.2198669,
                    4.3176782,
                    3.161575,
                    1.5373653,
                    3.577469,
                    6.871815,
                    4.055259,
                    3.052401,
                    4.9816872,
                    0.813475,
                    2.4238039,
                    3.1260876,
                    1.43037,
                    4.1591399,
                    2.143634,
                    2.7817387,
                    1.9550959,
                    1.7497798,
                    3.6936411,
                    4.465633,
                    4.617101,
                    2.838971,
                    5.01718,
                    7.919585,
                    4.3050011,
                    3.8559,
                    4.411953,
                    4.37809,
                    1.5732918,
                    2.3114243,
                    4.086052,
                    4.61442,
                    2.9036747,
                    2.2167421,
                    2.484193,
                    1.3600309,
                    2.17517632,
                    3.6623866,
                    3.0678504,
                    0.925542,
                    null,
                    3.352057,
                    null,
                    3.94150685,
                    2.615864,
                    3.1915239,
                    4.1250828,
                    4.187757
                  ],
                  "yaxis": "y"
                }
              ],
              "layout": {
                "coloraxis": {
                  "colorbar": {
                    "title": {
                      "text": "distance"
                    }
                  },
                  "colorscale": [
                    [
                      0,
                      "#0d0887"
                    ],
                    [
                      0.1111111111111111,
                      "#46039f"
                    ],
                    [
                      0.2222222222222222,
                      "#7201a8"
                    ],
                    [
                      0.3333333333333333,
                      "#9c179e"
                    ],
                    [
                      0.4444444444444444,
                      "#bd3786"
                    ],
                    [
                      0.5555555555555556,
                      "#d8576b"
                    ],
                    [
                      0.6666666666666666,
                      "#ed7953"
                    ],
                    [
                      0.7777777777777778,
                      "#fb9f3a"
                    ],
                    [
                      0.8888888888888888,
                      "#fdca26"
                    ],
                    [
                      1,
                      "#f0f921"
                    ]
                  ]
                },
                "legend": {
                  "tracegroupgap": 0
                },
                "template": {
                  "data": {
                    "bar": [
                      {
                        "error_x": {
                          "color": "#2a3f5f"
                        },
                        "error_y": {
                          "color": "#2a3f5f"
                        },
                        "marker": {
                          "line": {
                            "color": "#E5ECF6",
                            "width": 0.5
                          },
                          "pattern": {
                            "fillmode": "overlay",
                            "size": 10,
                            "solidity": 0.2
                          }
                        },
                        "type": "bar"
                      }
                    ],
                    "barpolar": [
                      {
                        "marker": {
                          "line": {
                            "color": "#E5ECF6",
                            "width": 0.5
                          },
                          "pattern": {
                            "fillmode": "overlay",
                            "size": 10,
                            "solidity": 0.2
                          }
                        },
                        "type": "barpolar"
                      }
                    ],
                    "carpet": [
                      {
                        "aaxis": {
                          "endlinecolor": "#2a3f5f",
                          "gridcolor": "white",
                          "linecolor": "white",
                          "minorgridcolor": "white",
                          "startlinecolor": "#2a3f5f"
                        },
                        "baxis": {
                          "endlinecolor": "#2a3f5f",
                          "gridcolor": "white",
                          "linecolor": "white",
                          "minorgridcolor": "white",
                          "startlinecolor": "#2a3f5f"
                        },
                        "type": "carpet"
                      }
                    ],
                    "choropleth": [
                      {
                        "colorbar": {
                          "outlinewidth": 0,
                          "ticks": ""
                        },
                        "type": "choropleth"
                      }
                    ],
                    "contour": [
                      {
                        "colorbar": {
                          "outlinewidth": 0,
                          "ticks": ""
                        },
                        "colorscale": [
                          [
                            0,
                            "#0d0887"
                          ],
                          [
                            0.1111111111111111,
                            "#46039f"
                          ],
                          [
                            0.2222222222222222,
                            "#7201a8"
                          ],
                          [
                            0.3333333333333333,
                            "#9c179e"
                          ],
                          [
                            0.4444444444444444,
                            "#bd3786"
                          ],
                          [
                            0.5555555555555556,
                            "#d8576b"
                          ],
                          [
                            0.6666666666666666,
                            "#ed7953"
                          ],
                          [
                            0.7777777777777778,
                            "#fb9f3a"
                          ],
                          [
                            0.8888888888888888,
                            "#fdca26"
                          ],
                          [
                            1,
                            "#f0f921"
                          ]
                        ],
                        "type": "contour"
                      }
                    ],
                    "contourcarpet": [
                      {
                        "colorbar": {
                          "outlinewidth": 0,
                          "ticks": ""
                        },
                        "type": "contourcarpet"
                      }
                    ],
                    "heatmap": [
                      {
                        "colorbar": {
                          "outlinewidth": 0,
                          "ticks": ""
                        },
                        "colorscale": [
                          [
                            0,
                            "#0d0887"
                          ],
                          [
                            0.1111111111111111,
                            "#46039f"
                          ],
                          [
                            0.2222222222222222,
                            "#7201a8"
                          ],
                          [
                            0.3333333333333333,
                            "#9c179e"
                          ],
                          [
                            0.4444444444444444,
                            "#bd3786"
                          ],
                          [
                            0.5555555555555556,
                            "#d8576b"
                          ],
                          [
                            0.6666666666666666,
                            "#ed7953"
                          ],
                          [
                            0.7777777777777778,
                            "#fb9f3a"
                          ],
                          [
                            0.8888888888888888,
                            "#fdca26"
                          ],
                          [
                            1,
                            "#f0f921"
                          ]
                        ],
                        "type": "heatmap"
                      }
                    ],
                    "heatmapgl": [
                      {
                        "colorbar": {
                          "outlinewidth": 0,
                          "ticks": ""
                        },
                        "colorscale": [
                          [
                            0,
                            "#0d0887"
                          ],
                          [
                            0.1111111111111111,
                            "#46039f"
                          ],
                          [
                            0.2222222222222222,
                            "#7201a8"
                          ],
                          [
                            0.3333333333333333,
                            "#9c179e"
                          ],
                          [
                            0.4444444444444444,
                            "#bd3786"
                          ],
                          [
                            0.5555555555555556,
                            "#d8576b"
                          ],
                          [
                            0.6666666666666666,
                            "#ed7953"
                          ],
                          [
                            0.7777777777777778,
                            "#fb9f3a"
                          ],
                          [
                            0.8888888888888888,
                            "#fdca26"
                          ],
                          [
                            1,
                            "#f0f921"
                          ]
                        ],
                        "type": "heatmapgl"
                      }
                    ],
                    "histogram": [
                      {
                        "marker": {
                          "pattern": {
                            "fillmode": "overlay",
                            "size": 10,
                            "solidity": 0.2
                          }
                        },
                        "type": "histogram"
                      }
                    ],
                    "histogram2d": [
                      {
                        "colorbar": {
                          "outlinewidth": 0,
                          "ticks": ""
                        },
                        "colorscale": [
                          [
                            0,
                            "#0d0887"
                          ],
                          [
                            0.1111111111111111,
                            "#46039f"
                          ],
                          [
                            0.2222222222222222,
                            "#7201a8"
                          ],
                          [
                            0.3333333333333333,
                            "#9c179e"
                          ],
                          [
                            0.4444444444444444,
                            "#bd3786"
                          ],
                          [
                            0.5555555555555556,
                            "#d8576b"
                          ],
                          [
                            0.6666666666666666,
                            "#ed7953"
                          ],
                          [
                            0.7777777777777778,
                            "#fb9f3a"
                          ],
                          [
                            0.8888888888888888,
                            "#fdca26"
                          ],
                          [
                            1,
                            "#f0f921"
                          ]
                        ],
                        "type": "histogram2d"
                      }
                    ],
                    "histogram2dcontour": [
                      {
                        "colorbar": {
                          "outlinewidth": 0,
                          "ticks": ""
                        },
                        "colorscale": [
                          [
                            0,
                            "#0d0887"
                          ],
                          [
                            0.1111111111111111,
                            "#46039f"
                          ],
                          [
                            0.2222222222222222,
                            "#7201a8"
                          ],
                          [
                            0.3333333333333333,
                            "#9c179e"
                          ],
                          [
                            0.4444444444444444,
                            "#bd3786"
                          ],
                          [
                            0.5555555555555556,
                            "#d8576b"
                          ],
                          [
                            0.6666666666666666,
                            "#ed7953"
                          ],
                          [
                            0.7777777777777778,
                            "#fb9f3a"
                          ],
                          [
                            0.8888888888888888,
                            "#fdca26"
                          ],
                          [
                            1,
                            "#f0f921"
                          ]
                        ],
                        "type": "histogram2dcontour"
                      }
                    ],
                    "mesh3d": [
                      {
                        "colorbar": {
                          "outlinewidth": 0,
                          "ticks": ""
                        },
                        "type": "mesh3d"
                      }
                    ],
                    "parcoords": [
                      {
                        "line": {
                          "colorbar": {
                            "outlinewidth": 0,
                            "ticks": ""
                          }
                        },
                        "type": "parcoords"
                      }
                    ],
                    "pie": [
                      {
                        "automargin": true,
                        "type": "pie"
                      }
                    ],
                    "scatter": [
                      {
                        "fillpattern": {
                          "fillmode": "overlay",
                          "size": 10,
                          "solidity": 0.2
                        },
                        "type": "scatter"
                      }
                    ],
                    "scatter3d": [
                      {
                        "line": {
                          "colorbar": {
                            "outlinewidth": 0,
                            "ticks": ""
                          }
                        },
                        "marker": {
                          "colorbar": {
                            "outlinewidth": 0,
                            "ticks": ""
                          }
                        },
                        "type": "scatter3d"
                      }
                    ],
                    "scattercarpet": [
                      {
                        "marker": {
                          "colorbar": {
                            "outlinewidth": 0,
                            "ticks": ""
                          }
                        },
                        "type": "scattercarpet"
                      }
                    ],
                    "scattergeo": [
                      {
                        "marker": {
                          "colorbar": {
                            "outlinewidth": 0,
                            "ticks": ""
                          }
                        },
                        "type": "scattergeo"
                      }
                    ],
                    "scattergl": [
                      {
                        "marker": {
                          "colorbar": {
                            "outlinewidth": 0,
                            "ticks": ""
                          }
                        },
                        "type": "scattergl"
                      }
                    ],
                    "scattermapbox": [
                      {
                        "marker": {
                          "colorbar": {
                            "outlinewidth": 0,
                            "ticks": ""
                          }
                        },
                        "type": "scattermapbox"
                      }
                    ],
                    "scatterpolar": [
                      {
                        "marker": {
                          "colorbar": {
                            "outlinewidth": 0,
                            "ticks": ""
                          }
                        },
                        "type": "scatterpolar"
                      }
                    ],
                    "scatterpolargl": [
                      {
                        "marker": {
                          "colorbar": {
                            "outlinewidth": 0,
                            "ticks": ""
                          }
                        },
                        "type": "scatterpolargl"
                      }
                    ],
                    "scatterternary": [
                      {
                        "marker": {
                          "colorbar": {
                            "outlinewidth": 0,
                            "ticks": ""
                          }
                        },
                        "type": "scatterternary"
                      }
                    ],
                    "surface": [
                      {
                        "colorbar": {
                          "outlinewidth": 0,
                          "ticks": ""
                        },
                        "colorscale": [
                          [
                            0,
                            "#0d0887"
                          ],
                          [
                            0.1111111111111111,
                            "#46039f"
                          ],
                          [
                            0.2222222222222222,
                            "#7201a8"
                          ],
                          [
                            0.3333333333333333,
                            "#9c179e"
                          ],
                          [
                            0.4444444444444444,
                            "#bd3786"
                          ],
                          [
                            0.5555555555555556,
                            "#d8576b"
                          ],
                          [
                            0.6666666666666666,
                            "#ed7953"
                          ],
                          [
                            0.7777777777777778,
                            "#fb9f3a"
                          ],
                          [
                            0.8888888888888888,
                            "#fdca26"
                          ],
                          [
                            1,
                            "#f0f921"
                          ]
                        ],
                        "type": "surface"
                      }
                    ],
                    "table": [
                      {
                        "cells": {
                          "fill": {
                            "color": "#EBF0F8"
                          },
                          "line": {
                            "color": "white"
                          }
                        },
                        "header": {
                          "fill": {
                            "color": "#C8D4E3"
                          },
                          "line": {
                            "color": "white"
                          }
                        },
                        "type": "table"
                      }
                    ]
                  },
                  "layout": {
                    "annotationdefaults": {
                      "arrowcolor": "#2a3f5f",
                      "arrowhead": 0,
                      "arrowwidth": 1
                    },
                    "autotypenumbers": "strict",
                    "coloraxis": {
                      "colorbar": {
                        "outlinewidth": 0,
                        "ticks": ""
                      }
                    },
                    "colorscale": {
                      "diverging": [
                        [
                          0,
                          "#8e0152"
                        ],
                        [
                          0.1,
                          "#c51b7d"
                        ],
                        [
                          0.2,
                          "#de77ae"
                        ],
                        [
                          0.3,
                          "#f1b6da"
                        ],
                        [
                          0.4,
                          "#fde0ef"
                        ],
                        [
                          0.5,
                          "#f7f7f7"
                        ],
                        [
                          0.6,
                          "#e6f5d0"
                        ],
                        [
                          0.7,
                          "#b8e186"
                        ],
                        [
                          0.8,
                          "#7fbc41"
                        ],
                        [
                          0.9,
                          "#4d9221"
                        ],
                        [
                          1,
                          "#276419"
                        ]
                      ],
                      "sequential": [
                        [
                          0,
                          "#0d0887"
                        ],
                        [
                          0.1111111111111111,
                          "#46039f"
                        ],
                        [
                          0.2222222222222222,
                          "#7201a8"
                        ],
                        [
                          0.3333333333333333,
                          "#9c179e"
                        ],
                        [
                          0.4444444444444444,
                          "#bd3786"
                        ],
                        [
                          0.5555555555555556,
                          "#d8576b"
                        ],
                        [
                          0.6666666666666666,
                          "#ed7953"
                        ],
                        [
                          0.7777777777777778,
                          "#fb9f3a"
                        ],
                        [
                          0.8888888888888888,
                          "#fdca26"
                        ],
                        [
                          1,
                          "#f0f921"
                        ]
                      ],
                      "sequentialminus": [
                        [
                          0,
                          "#0d0887"
                        ],
                        [
                          0.1111111111111111,
                          "#46039f"
                        ],
                        [
                          0.2222222222222222,
                          "#7201a8"
                        ],
                        [
                          0.3333333333333333,
                          "#9c179e"
                        ],
                        [
                          0.4444444444444444,
                          "#bd3786"
                        ],
                        [
                          0.5555555555555556,
                          "#d8576b"
                        ],
                        [
                          0.6666666666666666,
                          "#ed7953"
                        ],
                        [
                          0.7777777777777778,
                          "#fb9f3a"
                        ],
                        [
                          0.8888888888888888,
                          "#fdca26"
                        ],
                        [
                          1,
                          "#f0f921"
                        ]
                      ]
                    },
                    "colorway": [
                      "#636efa",
                      "#EF553B",
                      "#00cc96",
                      "#ab63fa",
                      "#FFA15A",
                      "#19d3f3",
                      "#FF6692",
                      "#B6E880",
                      "#FF97FF",
                      "#FECB52"
                    ],
                    "font": {
                      "color": "#2a3f5f"
                    },
                    "geo": {
                      "bgcolor": "white",
                      "lakecolor": "white",
                      "landcolor": "#E5ECF6",
                      "showlakes": true,
                      "showland": true,
                      "subunitcolor": "white"
                    },
                    "hoverlabel": {
                      "align": "left"
                    },
                    "hovermode": "closest",
                    "mapbox": {
                      "style": "light"
                    },
                    "paper_bgcolor": "white",
                    "plot_bgcolor": "#E5ECF6",
                    "polar": {
                      "angularaxis": {
                        "gridcolor": "white",
                        "linecolor": "white",
                        "ticks": ""
                      },
                      "bgcolor": "#E5ECF6",
                      "radialaxis": {
                        "gridcolor": "white",
                        "linecolor": "white",
                        "ticks": ""
                      }
                    },
                    "scene": {
                      "xaxis": {
                        "backgroundcolor": "#E5ECF6",
                        "gridcolor": "white",
                        "gridwidth": 2,
                        "linecolor": "white",
                        "showbackground": true,
                        "ticks": "",
                        "zerolinecolor": "white"
                      },
                      "yaxis": {
                        "backgroundcolor": "#E5ECF6",
                        "gridcolor": "white",
                        "gridwidth": 2,
                        "linecolor": "white",
                        "showbackground": true,
                        "ticks": "",
                        "zerolinecolor": "white"
                      },
                      "zaxis": {
                        "backgroundcolor": "#E5ECF6",
                        "gridcolor": "white",
                        "gridwidth": 2,
                        "linecolor": "white",
                        "showbackground": true,
                        "ticks": "",
                        "zerolinecolor": "white"
                      }
                    },
                    "shapedefaults": {
                      "line": {
                        "color": "#2a3f5f"
                      }
                    },
                    "ternary": {
                      "aaxis": {
                        "gridcolor": "white",
                        "linecolor": "white",
                        "ticks": ""
                      },
                      "baxis": {
                        "gridcolor": "white",
                        "linecolor": "white",
                        "ticks": ""
                      },
                      "bgcolor": "#E5ECF6",
                      "caxis": {
                        "gridcolor": "white",
                        "linecolor": "white",
                        "ticks": ""
                      }
                    },
                    "title": {
                      "x": 0.05
                    },
                    "xaxis": {
                      "automargin": true,
                      "gridcolor": "white",
                      "linecolor": "white",
                      "ticks": "",
                      "title": {
                        "standoff": 15
                      },
                      "zerolinecolor": "white",
                      "zerolinewidth": 2
                    },
                    "yaxis": {
                      "automargin": true,
                      "gridcolor": "white",
                      "linecolor": "white",
                      "ticks": "",
                      "title": {
                        "standoff": 15
                      },
                      "zerolinecolor": "white",
                      "zerolinewidth": 2
                    }
                  }
                },
                "title": {
                  "text": "Comparison of mass of a planet with its orbital period"
                },
                "xaxis": {
                  "anchor": "y",
                  "domain": [
                    0,
                    1
                  ],
                  "title": {
                    "text": "mass"
                  }
                },
                "yaxis": {
                  "anchor": "x",
                  "domain": [
                    0,
                    1
                  ],
                  "title": {
                    "text": "orbital_period"
                  }
                }
              }
            },
            "text/html": [
              "<div>                            <div id=\"b02f0da9-253c-462b-b476-51057903da69\" class=\"plotly-graph-div\" style=\"height:525px; width:100%;\"></div>            <script type=\"text/javascript\">                require([\"plotly\"], function(Plotly) {                    window.PLOTLYENV=window.PLOTLYENV || {};                                    if (document.getElementById(\"b02f0da9-253c-462b-b476-51057903da69\")) {                    Plotly.newPlot(                        \"b02f0da9-253c-462b-b476-51057903da69\",                        [{\"hovertemplate\":\"mass=%{x}<br>orbital_period=%{y}<br>distance=%{marker.color}<extra></extra>\",\"legendgroup\":\"\",\"marker\":{\"color\":[77.4,56.95,19.84,110.62,119.47,76.39,18.15,21.41,73.1,74.79,74.79,39.43,97.28,14.08,14.08,14.08,15.36,12.53,12.53,12.53,12.53,12.53,8.52,8.52,8.52,18.11,81.5,97.18,45.52,45.52,165.0,140.0,null,null,145.0,139.0,18.39,130.72,130.72,500.0,500.0,null,null,null,null,20.21,1.35,19.28,3.22,70.42,47.53,38.52,13.79,31.12,52.03,62.66,46.84,46.84,80.64,84.03,56.31,17.43,15.6,92.51,13.47,13.47,13.47,13.47,7.69,145.0,36.0,140.0,12.21,52.4,25.0,26.67,37.54,null,80.0,42.09,42.09,20.1,20.1,50.03,175.44,null,null,null,null,23.1,null,null,200.0,680.0,null,null,null,150.0,150.0,380.0,460.0,345.0,560.0,1150.0,1060.0,1340.0,840.0,920.0,870.0,770.0,1230.0,600.0,null,20.77,10.91,14.97,14.97,14.97,12.12,15.1,15.1,20.03,9.04,10.23,17.95,6.27,6.27,6.27,6.27,10.32,6.8,6.8,6.8,6.8,6.8,6.8,4.54,16.13,16.13,16.13,4.94,8.77,4.7,4.7,4.7,4.7,null,17.62,25.2,19.8,145.0,139.0,135.32,138.0,314.0,342.0,261.0,230.0,480.0,142.5,214.0,214.0,205.0,190.0,235.0,90.0,90.0,166.0,215.0,70.0,254.0,82.0,393.0,396.0,297.0,134.0,204.0,395.0,322.0,193.0,354.0,354.0,283.0,387.0,257.0,535.0,317.0,411.0,249.0,642.0,501.0,344.0,447.0,542.0,322.0,303.0,360.0,453.0,25.64,25.64,23.44,23.44,167.5,7.01,89.85,53.71,115.21,11.11,44.05,32.7,21.85,77.82,131.41,56.5,56.5,100.0,53.28,58.17,150.6,40.32,55.01,35.88,38.52,38.52,16.82,56.34,44.15,38.26,52.85,52.85,39.39,39.39,39.39,39.39,39.39,39.39,17.35,32.56,53.82,53.82,66.49,33.98,33.98,37.16,37.16,300.3,28.6,28.6,66.89,66.89,45.52,35.91,25.54,59.84,50.18,null,78.25,127.88,22.38,43.08,43.08,27.13,6.06,6.06,6.06,35.89,35.89,36.02,44.5,32.31,32.31,89.13,34.6,31.79,51.97,46.51,56.05,18.24,44.54,42.37,56.18,39.56,168.92,54.71,26.5,121.07,53.82,38.01,38.01,38.01,136.8,86.88,117.37,45.01,20.98,37.78,33.24,33.24,33.24,18.21,42.88,42.88,25.59,25.59,25.59,42.43,42.43,99.4,15.56,12.83,12.83,12.83,12.83,12.83,12.83,33.33,43.03,43.03,52.03,52.03,54.94,37.05,93.2,50.43,22.04,32.58,32.58,48.95,36.14,33.41,37.84,37.84,121.36,121.36,87.41,40.73,47.26,31.03,34.07,34.07,28.07,92.51,25.7,25.7,35.8,10.34,32.62,35.59,35.59,80.06,55.04,58.82,12.58,12.58,12.58,null,28.76,51.36,53.05,36.52,94.61,94.61,96.99,64.56,64.56,64.56,28.94,80.58,59.7,41.27,48.64,29.04,32.56,88.26,27.46,27.46,112.23,43.53,33.96,11.15,91.16,42.48,72.57,18.06,74.46,30.88,38.99,22.09,32.32,28.9,42.52,42.52,91.57,149.03,132.8,84.03,221.24,26.21,26.21,21.3,150.38,42.77,60.46,17.99,17.99,130.89,140.85,52.8,30.5,42.0,28.98,164.2,164.2,9.24,138.5,121.07,49.33,53.08,20.82,102.04,37.44,87.87,36.36,91.83,51.26,38.56,138.5,68.54,68.54,65.62,56.92,56.92,59.03,97.66,28.88,37.42,15.71,15.71,28.04,28.04,20.48,40.57,20.43,35.0,110.62,33.01,38.02,88.57,97.66,44.37,133.16,52.83,52.83,52.83,27.45,68.35,38.05,16.57,16.57,67.61,29.76,121.36,57.21,70.97,98.52,24.15,24.15,25.65,25.65,26.91,26.91,26.91,106.38,14.56,14.56,14.56,38.45,121.36,33.46,35.87,106.38,34.57,59.35,126.1,55.19,42.68,42.68,12.87,53.05,59.28,78.86,63.49,76.51,29.55,85.18,182.82,51.87,18.08,18.06,65.79,68.54,68.54,43.4,43.4,35.37,55.1,24.05,49.0,33.48,114.15,68.59,68.59,52.72,52.72,15.28,15.28,15.28,15.28,31.26,69.44,69.44,51.81,37.98,21.92,42.99,50.0,37.88,37.88,43.12,36.32,36.32,64.98,null,44.05,134.95,67.02,127.55,14.98,59.03,59.03,46.73,63.69,27.05,131.75,114.55,115.47,26.15,26.15,26.15,55.93,52.83,52.83,47.37,44.98,47.92,47.92,52.63,17.72,19.25,62.11,15.89,15.89,54.23,189.39,19.89,8.82,8.82,67.39,37.35,46.93,43.57,32.99,32.83,68.35,68.35,46.34,46.34,40.85,47.3,47.3,47.3,26.95,90.33,170.07,55.31,55.31,43.99,352.11,47.08,21.29,55.93,52.72,121.8,40.75,21.52,21.52,38.64,38.64,43.53,43.53,33.29,26.52,37.89,19.72,19.72,54.92,29.94,29.2,null,81.1,289.02,45.23,48.43,52.88,50.45,41.95,94.07,108.46,null,null,307.69,54.92,9.42,50.2,44.8,44.8,23.8,223.21,52.88,52.88,52.88,11.03,25.87,25.87,25.87,11.43,149.25,23.98,31.33,131.93,14.9,44.46,17.24,39.94,39.94,39.94,39.94,262.0,124.22,178.0,222.0,213.0,320.0,38.0,550.0,null,null,null,1330.0,650.0,650.0,650.0,173.0,173.0,613.0,613.0,613.0,613.0,613.0,613.0,600.0,null,980.0,null,61.0,800.0,null,null,null,2119.0,2119.0,290.0,290.0,290.0,290.0,290.0,108.0,190.0,800.0,800.0,1200.0,1200.0,null,null,null,null,null,null,null,null,null,1400.0,1400.0,1400.0,1400.0,1400.0,2100.0,2100.0,303.0,303.0,303.0,303.0,303.0,null,null,null,null,null,1499.0,1645.0,470.0,470.0,66.0,66.0,66.0,600.0,1200.0,2700.0,770.0,38.7,38.7,38.7,1950.0,2250.0,333.0,855.0,855.0,1500.0,1500.0,null,null,null,null,null,null,null,null,null,null,null,null,null,null,null,null,null,null,null,null,null,null,null,null,null,null,null,null,null,null,null,368.0,368.0,368.0,368.0,368.0,200.0,1000.0,null,null,null,1107.0,1107.0,135.0,135.0,135.0,null,null,1180.0,1180.0,800.0,1330.0,1140.0,null,570.0,null,null,null,null,null,null,null,null,null,null,null,null,null,null,null,null,null,null,339.0,339.0,null,null,null,null,780.0,780.0,780.0,780.0,780.0,780.0,780.0,1030.0,null,null,null,null,null,null,null,null,null,null,null,null,null,null,null,null,null,null,null,null,null,null,null,null,null,null,null,null,null,null,null,null,null,null,null,null,null,null,null,null,null,null,null,null,null,null,null,null,null,null,null,null,null,null,null,null,null,null,null,null,null,null,null,null,null,null,null,null,null,null,132.0,null,1056.0,null,null,2000.0,null,null,null,3600.0,null,null,null,2300.0,2800.0,7720.0,7560.0,null,null,null,null,null,null,null,null,null,null,null,2570.0,4080.0,4080.0,1760.0,4970.0,null,null,null,null,600.0,2500.0,null,null,null,1200.0,null,null,null,null,null,null,1200.0,null,null,135.0,120.0,null,8500.0,8500.0,152.3,228.0,492.0,360.0,null,null,408.0,147.0,220.0,300.0,300.0,null,140.0,87.0,90.0,121.7,null,155.0,160.0,null,null,400.0,105.49,250.0,242.0,300.0,null,null,null,250.0,null,70.0,360.0,null,116.14,120.0,null,450.0,343.0,110.0,230.0,180.0,160.0,80.0,null,null,null,200.0,null,170.0,230.0,140.0,200.0,330.0,255.0,455.0,300.0,125.0,400.0,480.0,160.0,330.0,350.0,310.0,380.0,225.0,345.0,340.0,260.0,93.0,550.0,240.0,60.0,470.0,19.2,3200.0,10.1,172.0,148.0,174.0,293.0,260.0],\"coloraxis\":\"coloraxis\",\"symbol\":\"circle\"},\"mode\":\"markers\",\"name\":\"\",\"showlegend\":false,\"x\":[7.1,2.21,2.6,19.4,10.5,4.8,4.64,null,10.3,1.99,0.86,9.88,3.88,2.53,0.54,1.64,0.472,0.8,0.165,3.53,null,0.172,0.016,0.057,0.072,null,null,5.3,3.2,null,null,null,6.05,null,null,null,null,null,null,null,null,null,4.2,null,null,1.8,0.0036,null,1.55,null,7.6,8.78,1.85,null,null,2.8,null,null,1.7,null,null,1.04,3.9,20.6,0.6876,1.981,4.132,1.059,null,null,null,null,null,null,null,null,5.1,10.6,null,0.045,0.33,0.027,0.17,1.47,1.11,21.42,12.47,null,0.91,null,null,null,null,null,null,null,null,null,null,null,null,null,null,null,null,null,null,null,null,null,null,null,null,null,3.91,0.035,0.024,0.079,0.82,1.894,1.6,2.3,0.018,null,null,0.049,0.017,0.022,0.006,0.328,0.018,0.012,0.016,0.008,0.008,0.014,0.035,4.95,0.014,0.036,0.64,0.91,2.2756,0.7142,0.021,0.046,null,3.37,null,0.022,null,null,null,null,null,null,null,null,null,null,null,15.2,null,null,null,null,3.4,null,null,null,null,null,null,null,null,null,null,null,null,null,null,3.4,null,null,null,null,null,null,null,null,null,null,null,null,null,null,null,null,1.25,5.3,0.024,0.0186,3.1,6.1,4.9,0.48,1.6,0.229,1.56,0.8,0.0405,2.07,2.3,2.37,2.37,1.94,1.96,null,7.6,0.48,1.65,0.29,1.11,2.0,0.029,0.63,1.8,14.2,0.7,1.82,0.041,0.038,0.08,0.074,0.067,0.205,0.94,6.21,3.44,0.82,6.54,0.622,0.0788,2.3,1.92,14.0,0.0325,0.036,0.865,5.13,1.88,0.26,0.0696,4.4,14.3,4.6,null,2.7,1.37,0.0378,0.0422,1.07,0.0085,0.00755,0.0151,0.0379,0.0496,1.9,1.99,0.0322,0.06472,1.5,2.61,13.65,7.71,4.01,0.95,1.28,1.45,0.62,1.16,5.59,1.7,9.17,1.373,1.8,0.5,0.0363,0.0498,0.0519,1.3,0.33,3.04,0.79,9.1,null,0.61,0.683,0.624,10.35,2.3,3.366,0.0117,0.0187,0.0162,0.839,13.38,10.7,0.0961,0.0126,0.0208,0.0299,0.011,0.0164,0.0223,4.01,2.54,18.37,0.039,0.027,0.6,25.0,2.49,0.58,0.04,0.1872,0.6579,1.79,0.47,0.249,0.07167,0.35061,5.0,7.0,1.16,0.115,1.71,4.9,0.0413,0.0565,1.13,5.25,3.1548,7.4634,0.38,2.9,0.64,1.26,0.17,6.0,2.82,1.9,0.033,0.038,0.058,6.1,2.0,3.15,3.06,1.87,2.25,2.25,1.15,1.8,8.06,0.396,0.42,2.51,0.197,null,1.34,null,6.86,2.7,null,null,1.3,0.4,0.132,0.01133,1.5,0.92,7.0,1.78,0.22,1.78,8.44,0.057,3.86,0.37,0.0263,0.0318,null,1.2,0.9,0.68,4.0,0.0284,0.04,0.026,1.8,6.8,0.502,0.087,0.36,1.4,1.7,1.16,0.3,0.172,0.45,5.9,2.6,0.05,5.9,0.96,0.098,0.367,0.186,8.3,6.92,11.0,9.61,null,0.21,0.261,2.6,1.29,0.99,0.77,0.054,0.076,0.28,11.09,6.8,2.83,0.27,0.71,1.24,null,0.48,11.68,1.1,0.95,2.1,1.88,0.178,2.13,4.5,1.22,3.71,3.0,0.058,7.2,0.041,0.38,0.224,1.45,3.24,1.6,1.04,2.2,18.15,5.61,1.49,0.0351,0.1507,1.59,0.82,0.0292,0.0382,0.121,2.0,0.0166,0.0358,0.03,0.223,9.76,9.7,5.1,1.9,1.62,3.12,2.9,5.76,2.12,6.56,1.21,0.85,0.96,null,1.33,15.5,0.168,3.0,1.5,2.73,0.0193,0.947,5.02,2.24,2.58,0.85,0.82,9.71,0.75,0.013,10.57,0.12,1.8,1.13,1.9,2.1,0.73,null,1.814,null,null,14.4,0.77,2.29,0.48,2.7,0.36,3.53,1.7,8.02,18.1,0.23,2.88,4.04,0.67,1.83,2.6,2.7,7.8,0.61,null,1.49,0.15,7.03,0.08,0.95,null,1.6,3.3,0.0238,0.64,0.54,0.37,3.69,3.82,0.94,0.75,0.52,1.99,1.26,0.0316,null,5.93,1.502,0.057,1.9,3.1,0.72,0.05318,0.07552,2.5,3.7,3.0,6.9,2.58,0.79,1.85,0.895,17.4,2.44,null,4.05,0.054,1.68,0.266,1.37,2.2,null,null,0.45,9.9,null,1.23,null,0.45,2.3,4.5,0.0087,0.0097,0.101,0.246,0.017,0.33,1.26,2.1,0.65,1.39,2.6,13.0,0.21,10.39,null,0.06,11.1,1.06,1.45,3.09,1.9,7.75,0.71,1.08,6.575,6.9,5.3,2.54,0.0265,0.76,1.42,null,0.47,1.25,3.88,1.28,0.57,0.298,0.036,0.41,0.527,null,9.18,9.0,8.82,null,2.1,1.068,1.94,null,null,null,null,null,null,1.47,null,null,null,null,null,null,null,null,null,null,null,null,null,null,null,null,null,null,null,null,null,null,null,null,null,null,null,null,null,null,null,null,null,null,null,null,null,null,null,null,null,null,null,null,null,null,null,null,null,null,null,null,null,null,null,null,null,null,null,null,null,null,null,null,null,null,null,null,null,null,null,null,null,null,null,null,null,null,null,null,null,null,null,null,null,null,null,null,null,null,null,null,null,null,null,null,null,null,null,null,null,null,null,null,null,null,null,null,null,null,null,null,null,null,null,null,null,null,null,null,null,null,null,null,null,null,null,null,null,null,null,null,null,null,0.947,null,null,null,null,null,null,null,null,null,null,null,null,null,null,null,null,null,null,null,null,null,null,null,null,null,null,null,null,null,null,null,null,null,null,null,null,null,null,null,null,null,null,null,null,null,null,null,null,null,null,null,null,null,null,null,null,null,null,null,null,null,null,null,null,null,null,null,null,null,null,null,null,null,null,null,null,null,null,null,null,null,null,null,null,null,null,null,null,null,null,null,null,null,null,null,null,null,null,null,null,null,null,null,null,null,null,null,null,null,null,null,null,null,null,null,null,null,null,null,null,null,null,null,null,null,null,null,null,19.8,0.34,0.4,1.54,null,null,null,null,null,null,null,null,null,null,null,null,null,null,null,null,null,null,null,null,null,null,null,null,null,null,null,null,null,null,null,null,null,null,null,null,null,null,null,null,null,null,null,null,null,null,null,null,null,null,null,null,null,null,null,null,null,null,null,null,null,null,null,null,null,null,null,null,null,null,null,null,null,null,null,null,null,null,null,null,null,null,null,null,null,null,null,null,null,null,null,null,null,null,null,null,null,null,null,null,null,null,null,null,null,null,null,null,null,null,null,null,null,null,null,null,null,null],\"xaxis\":\"x\",\"y\":[269.3,874.774,763.0,326.03,516.22,185.84,1773.4,798.5,993.3,452.8,883.0,335.1,479.1,1078.0,2391.0,14002.0,4.230785,14.651,44.38,4909.0,0.73654,261.2,4.215,38.021,123.01,116.6884,691.9,952.7,181.4,null,null,null,10220.0,null,null,null,null,5767.0,3321.0,5573.55,2883.5,2900.0,4343.5,5840.0,1916.25,380.8,3.2357,6000.0,2502.0,417.9,594.9,428.5,903.3,1251.0,null,136.75,530.32,3186.0,277.02,187.83,1630.0,39.845,3.3135,305.5,4.617033,241.258,1276.46,3848.86,318280.0,null,null,null,4639.15,null,7336.5,8679.7,655.6,714.3,3.48777,5.6,237.6,3.8728,125.94,268.94,137.48,379.63,621.99,578.2,392.6,10037.5,null,1.5089557,1.7429935,4.2568,9.20205,4.0378962,8.886593,0.853585,3.698,6.21229,95.2738,13.2406,2.99433,2.828042,4.03519,1.51214,5.35227,3.7681,1.9000693,3.89713,9.24285,3.6313,3.57532,246.36,15.76491,8.631,25.6,603.0,2288.0,692.0,7100.0,4100.0,7.3709,2.64385,null,5.36874,12.9292,66.8,3.14942,598.3,7.2004,28.14,91.61,62.24,39.026,256.2,4.6938,1050.3,3.6,35.37,3416.0,1845.0,61.1166,30.0881,1.93778,124.26,1.58040482,133.71,3.33714,2.64561,null,4.4652934,5.6334729,2.899736,3.056536,2.788491,3.852985,3.0763776,3.92289,3.2130598,2.91626,428.5,4.627669,10.863502,2.77596,10.338523,5584.0,5.508023,4.008778,2.875317,4.124481,3.21222,1.212884,3.35524,3.652836,4.234516,3.039577,3.257215,5.723186,2.810595,5.005425,1022.0,2.150008,3.474474,5.452654,3.646706,1.327347,2.797436,4.640382,3.54387,4.457243,2.694047,4.641878,3.332687,2.691548,3.446459,1.354133,3.547851,349.7,6005.0,5.7727,13.505,431.8,533.0,1183.0,3.4442,311.6,62.218,526.62,829.0,15.609,431.88,356.0,360.2,2732.0,675.0,777.0,792.6,177.11,22.09,2496.0,615.0,1275.0,4046.0,5.3978,1313.0,227.0,1634.0,30.052,192.9,5.75962,16.3567,49.747,122.72,602.0,2248.0,989.2,1075.2,1270.2,170.455,711.0,1945.0,37.91,262.709,1708.0,471.6,14.182,53.832,19.382,931.0,4218.0,75.523,17.24,990.0,465.1,359.9,21.21663,772.0,466.2,11.849,33.823,500.0,18.315,40.114,90.309,29.15,85.131,591.9,380.85,22.656,53.881,1214.0,738.459,528.07,1561.0,3668.0,1845.0,423.841,2208.0,17.991,1117.0,385.9,387.1,2819.654,1159.2,912.0,466.0,16.546,51.284,274.49,326.6,18.179,157.54,1049.0,388.0,363.2,154.46,2295.0,843.6,2063.818,55.0,2720.0,5.6363,14.025,33.941,14.3098,2140.2,696.3,407.15,4.3123,9.6184,20.432,34.62,51.76,197.8,264.15,963.0,1.3283,18.357,25.648,327.8,2371.0,36.96,472.0,5.8872,226.93,342.85,890.76,43.6,3.024,4.0845,1353.6,430.0,2500.0,700.0,4.9437,2582.7,1279.0,14.07,95.415,118.96,303.0,201.83,607.06,2.817822,589.64,358.0,572.4,152.6,480.5,1973.0,6.276,8.667,31.56,197.0,851.8,2231.0,3383.0,1260.0,2.54858,188.9,379.1,1800.0,51.645,2473.0,346.6,3.51,418.2,3.971,5.7361,1966.1,111.4357,1001.7,184.02,441.47,220.078,705.0,2.985625,788.0,58.43,2.1375,1695.0,1475.0,2754.0,3.416,2157.0,256.78,49.77,325.81,143.58,13.186,46.025,null,507.0,361.1,498.9,647.3,8.1256,103.49,9.494,436.9,4951.0,439.3,17.054,4970.0,868.0,157.57,383.7,70.46,20.8133,4.113775,127.58,520.0,122.1,778.1,6.495,47.84,5.8881,55.806,199.505,1531.0,2890.0,3630.0,null,48.056,10.8985,443.4,395.8,1624.0,68.27,7.8543,30.93,5.24,835.477,1143.0,324.0,263.3,1657.0,937.7,1046.0,3827.0,83.888,493.7,1114.0,670.0,2597.0,25.827,6.1335,2082.0,63.33,344.95,559.4,4.1547,3008.0,9.6737,1244.0,948.12,454.2,923.8,1840.0,10.7085,883.0,1951.0,974.0,1544.0,3.27,1160.9,258.19,5000.0,12.083,59.519,459.26,464.3,11.577,27.582,106.72,330.0,1125.7,653.22,1928.0,1299.0,386.3,1057.0,176.3,103.95,44.236,1008.0,528.4,1027.0,331.5,2.8758911,4.072,2.391,1096.2,2097.0,689.0,499.4,18.596,3342.0,163.9,408.6,3452.0,194.3,391.9,131.05,842.0,4.6455,359.5546,104.84,521.0,12.62,248.4,1178.4,352.3,643.25,4205.8,9.6386,310.55,8.428198,75.29,1314.0,282.4,606.4,1155.0,5144.0,420.77,58.11289,1749.5,6.403,225.62,2102.0,1145.0,538.0,1523.0,323.6,1290.0,297.3,1016.0,406.6,110.9,71.484,14.476,3.0925,396.03,479.0,663.0,9.3743,962.0,2172.0,956.0,634.23,2950.0,6.838,986.0,3.097,3810.0,456.46,14.275,2.21857578,1136.1,2891.0,17.1,1038.1,4885.0,24.348,74.72,525.8,351.5,18.20163,1289.0,3638.0,1333.0,1035.7,613.8,825.0,255.87,1383.4,null,1931.0,34.873,2831.6,1733.0,279.8,610.0,161.97,1155.7,123.0,875.5,3.52474859,442.1,354.8,2.245715,373.3,951.0,7.2825,10.866,191.99,2277.0,3.93,567.0,1311.0,1294.0,118.45,7.126816,4270.0,1319.0,225.7,5501.0,2093.3,3.8335,672.1,2209.0,3724.7,456.1,3999.0,572.38,26.73,141.6,192.0,501.75,745.7,2443.0,8.7836,3.369,345.72,9017.8,57.0,16.2,6.673855,147.73,952.0,41.397,8.1352,32.03,431.7,null,124.6,17337.5,511.098,null,111.7,5.0505,311.288,170000.0,69000.0,37000.0,18000.0,1.217514,4.1137912,2.7033904,7.8457,2.47063,2.204737,4.8878162,3.21346,3.54846,3.234723,4.885525,3.52254,19.24,38.91,1.592851,0.837495,45.29485,10.3039,13.0241,22.6845,31.9996,46.6888,118.3807,4.4379637,1.7635892,6.790123,4.942782,228.776,1.4857108,3.504725,7.64159,14.85888,9.2869944,160.0,3.6961219,10.854092,77.61184,6.098493,19.57706,2.785755,289.8623,7.1073,10.7421,8.1453,12.3335,6.2385,12.7204,123.0,12.2829,17.2513,15.3348,31.3309,5.9123,8.9858,10.3376,13.2907,29.33434,60.323105,143.34394,20.8613,42.6318,5.90124,8.7522,22.7802,2.896,0.74296,5.66793,13.17562,21.77596,31.7844,41.02902,288.822,131.458,13.83989,16.23855,13.367308,21.301886,39.792187,105.599,21.0874,6.87349,1.855558,1.2137672,0.45328509,1.865169,3.024095,3.24674,2.455239,33.60134,57.011,49.532,303.137,4.7779803,9.6739283,42.8961,982.0,7.2037945,10.9129343,7.81254,9.37647,45.154,85.312,null,7.8773565,16.3850021,18.6489525,38.5583038,8.0109434,12.0717249,27.9481449,42.1516418,10.5016,21.40239,5.7293196,11.6092567,10.2184954,15.5741568,11.8681707,17.9801235,7.1316185,8.9193459,11.9016171,59.87756,5.714932,12.4417,18.16406,122.3874,267.291,9.4341505,138.317,2.15491,5.859944,8.13123,17.815815,15.7259,5.398763,9.605085,580.0,13.722341,242.4613,0.240104,0.342887,3.90512,7.340718,8.884924,1.54492875,3.57878087,0.355,13.485,27.402,7.053,9.522,5.955,12.04,26.444,51.538,9.77,20.09,8.726,12.883,8.306,12.513,282.5255,114.73635,191.2318,10.95416,22.3395,3.743208,10.423648,22.342989,54.32031,7.008151,8.719375,59.73667,91.93913,124.9144,210.60697,331.60059,6.24658,13.749,26.723,4.72674,1460.0,2.50806,820.3,11.5231,16.2385,2.58664,789.0,1.54168,4.60358,6.88705,12.8159,35.3331,5.28696,7.07142,10.3117,16.1457,27.4536,15.9654,179.612,5.4122,6.16486,13.5708,23.9802,43.8445,6.48163,21.2227,4.754,8.92507,8.041,11.776,15.09,22.804,27.50868,16.092,25.5169,13.78164,23.08933,22.951,42.882,36.855,49.412,23.654,50.447,31.884,48.648,17.324,33.006,35.736,54.414,24.806,44.347,5.487,8.291,10.416,13.084,34.921,71.312,17.849,26.136,42.994,88.505,2.42629,4.62332,0.66931,3000.0,2.46502,68.9584,17.833648,3.00516,1.72086123,66.262,40000.0,3.91405,null,null,null,null,2780.0,null,1970.0,null,null,null,null,677.8,6.958,5.118,121.71,null,3600.0,3300.0,3500.0,1825.0,5100.0,null,null,null,null,null,null,2.4855335,3.101278,1.2119189,4.0161,1.4324752,1.689868,3.9791,3.67724,730000.0,3.1606296,4.4264,2.1451,25.262,66.5419,98.2114,36525.0,0.09070629,1.420033,1.3371182,null,null,null,4.2,1.796,3.030065,1.30618581,3.553945,1.4822446,null,1170.0,2.5199449,2.152226,1.846835,1.33823187,1.62843142,3.361006,4.954658,8.158715,3.0927616,3.7224747,1.091423,4.353011,2.243752,3.7520656,3.1186009,3.7354417,0.94145299,0.78884,4.322482,3.5327313,2.9444256,2.34121242,3.764825,2.7566004,3.408821,3.922727,3.4059096,2.718659,1.2198669,4.3176782,3.161575,1.5373653,3.577469,6.871815,4.055259,3.052401,4.9816872,0.813475,2.4238039,3.1260876,1.43037,4.1591399,2.143634,2.7817387,1.9550959,1.7497798,3.6936411,4.465633,4.617101,2.838971,5.01718,7.919585,4.3050011,3.8559,4.411953,4.37809,1.5732918,2.3114243,4.086052,4.61442,2.9036747,2.2167421,2.484193,1.3600309,2.17517632,3.6623866,3.0678504,0.925542,null,3.352057,null,3.94150685,2.615864,3.1915239,4.1250828,4.187757],\"yaxis\":\"y\",\"type\":\"scattergl\"}],                        {\"template\":{\"data\":{\"histogram2dcontour\":[{\"type\":\"histogram2dcontour\",\"colorbar\":{\"outlinewidth\":0,\"ticks\":\"\"},\"colorscale\":[[0.0,\"#0d0887\"],[0.1111111111111111,\"#46039f\"],[0.2222222222222222,\"#7201a8\"],[0.3333333333333333,\"#9c179e\"],[0.4444444444444444,\"#bd3786\"],[0.5555555555555556,\"#d8576b\"],[0.6666666666666666,\"#ed7953\"],[0.7777777777777778,\"#fb9f3a\"],[0.8888888888888888,\"#fdca26\"],[1.0,\"#f0f921\"]]}],\"choropleth\":[{\"type\":\"choropleth\",\"colorbar\":{\"outlinewidth\":0,\"ticks\":\"\"}}],\"histogram2d\":[{\"type\":\"histogram2d\",\"colorbar\":{\"outlinewidth\":0,\"ticks\":\"\"},\"colorscale\":[[0.0,\"#0d0887\"],[0.1111111111111111,\"#46039f\"],[0.2222222222222222,\"#7201a8\"],[0.3333333333333333,\"#9c179e\"],[0.4444444444444444,\"#bd3786\"],[0.5555555555555556,\"#d8576b\"],[0.6666666666666666,\"#ed7953\"],[0.7777777777777778,\"#fb9f3a\"],[0.8888888888888888,\"#fdca26\"],[1.0,\"#f0f921\"]]}],\"heatmap\":[{\"type\":\"heatmap\",\"colorbar\":{\"outlinewidth\":0,\"ticks\":\"\"},\"colorscale\":[[0.0,\"#0d0887\"],[0.1111111111111111,\"#46039f\"],[0.2222222222222222,\"#7201a8\"],[0.3333333333333333,\"#9c179e\"],[0.4444444444444444,\"#bd3786\"],[0.5555555555555556,\"#d8576b\"],[0.6666666666666666,\"#ed7953\"],[0.7777777777777778,\"#fb9f3a\"],[0.8888888888888888,\"#fdca26\"],[1.0,\"#f0f921\"]]}],\"heatmapgl\":[{\"type\":\"heatmapgl\",\"colorbar\":{\"outlinewidth\":0,\"ticks\":\"\"},\"colorscale\":[[0.0,\"#0d0887\"],[0.1111111111111111,\"#46039f\"],[0.2222222222222222,\"#7201a8\"],[0.3333333333333333,\"#9c179e\"],[0.4444444444444444,\"#bd3786\"],[0.5555555555555556,\"#d8576b\"],[0.6666666666666666,\"#ed7953\"],[0.7777777777777778,\"#fb9f3a\"],[0.8888888888888888,\"#fdca26\"],[1.0,\"#f0f921\"]]}],\"contourcarpet\":[{\"type\":\"contourcarpet\",\"colorbar\":{\"outlinewidth\":0,\"ticks\":\"\"}}],\"contour\":[{\"type\":\"contour\",\"colorbar\":{\"outlinewidth\":0,\"ticks\":\"\"},\"colorscale\":[[0.0,\"#0d0887\"],[0.1111111111111111,\"#46039f\"],[0.2222222222222222,\"#7201a8\"],[0.3333333333333333,\"#9c179e\"],[0.4444444444444444,\"#bd3786\"],[0.5555555555555556,\"#d8576b\"],[0.6666666666666666,\"#ed7953\"],[0.7777777777777778,\"#fb9f3a\"],[0.8888888888888888,\"#fdca26\"],[1.0,\"#f0f921\"]]}],\"surface\":[{\"type\":\"surface\",\"colorbar\":{\"outlinewidth\":0,\"ticks\":\"\"},\"colorscale\":[[0.0,\"#0d0887\"],[0.1111111111111111,\"#46039f\"],[0.2222222222222222,\"#7201a8\"],[0.3333333333333333,\"#9c179e\"],[0.4444444444444444,\"#bd3786\"],[0.5555555555555556,\"#d8576b\"],[0.6666666666666666,\"#ed7953\"],[0.7777777777777778,\"#fb9f3a\"],[0.8888888888888888,\"#fdca26\"],[1.0,\"#f0f921\"]]}],\"mesh3d\":[{\"type\":\"mesh3d\",\"colorbar\":{\"outlinewidth\":0,\"ticks\":\"\"}}],\"scatter\":[{\"fillpattern\":{\"fillmode\":\"overlay\",\"size\":10,\"solidity\":0.2},\"type\":\"scatter\"}],\"parcoords\":[{\"type\":\"parcoords\",\"line\":{\"colorbar\":{\"outlinewidth\":0,\"ticks\":\"\"}}}],\"scatterpolargl\":[{\"type\":\"scatterpolargl\",\"marker\":{\"colorbar\":{\"outlinewidth\":0,\"ticks\":\"\"}}}],\"bar\":[{\"error_x\":{\"color\":\"#2a3f5f\"},\"error_y\":{\"color\":\"#2a3f5f\"},\"marker\":{\"line\":{\"color\":\"#E5ECF6\",\"width\":0.5},\"pattern\":{\"fillmode\":\"overlay\",\"size\":10,\"solidity\":0.2}},\"type\":\"bar\"}],\"scattergeo\":[{\"type\":\"scattergeo\",\"marker\":{\"colorbar\":{\"outlinewidth\":0,\"ticks\":\"\"}}}],\"scatterpolar\":[{\"type\":\"scatterpolar\",\"marker\":{\"colorbar\":{\"outlinewidth\":0,\"ticks\":\"\"}}}],\"histogram\":[{\"marker\":{\"pattern\":{\"fillmode\":\"overlay\",\"size\":10,\"solidity\":0.2}},\"type\":\"histogram\"}],\"scattergl\":[{\"type\":\"scattergl\",\"marker\":{\"colorbar\":{\"outlinewidth\":0,\"ticks\":\"\"}}}],\"scatter3d\":[{\"type\":\"scatter3d\",\"line\":{\"colorbar\":{\"outlinewidth\":0,\"ticks\":\"\"}},\"marker\":{\"colorbar\":{\"outlinewidth\":0,\"ticks\":\"\"}}}],\"scattermapbox\":[{\"type\":\"scattermapbox\",\"marker\":{\"colorbar\":{\"outlinewidth\":0,\"ticks\":\"\"}}}],\"scatterternary\":[{\"type\":\"scatterternary\",\"marker\":{\"colorbar\":{\"outlinewidth\":0,\"ticks\":\"\"}}}],\"scattercarpet\":[{\"type\":\"scattercarpet\",\"marker\":{\"colorbar\":{\"outlinewidth\":0,\"ticks\":\"\"}}}],\"carpet\":[{\"aaxis\":{\"endlinecolor\":\"#2a3f5f\",\"gridcolor\":\"white\",\"linecolor\":\"white\",\"minorgridcolor\":\"white\",\"startlinecolor\":\"#2a3f5f\"},\"baxis\":{\"endlinecolor\":\"#2a3f5f\",\"gridcolor\":\"white\",\"linecolor\":\"white\",\"minorgridcolor\":\"white\",\"startlinecolor\":\"#2a3f5f\"},\"type\":\"carpet\"}],\"table\":[{\"cells\":{\"fill\":{\"color\":\"#EBF0F8\"},\"line\":{\"color\":\"white\"}},\"header\":{\"fill\":{\"color\":\"#C8D4E3\"},\"line\":{\"color\":\"white\"}},\"type\":\"table\"}],\"barpolar\":[{\"marker\":{\"line\":{\"color\":\"#E5ECF6\",\"width\":0.5},\"pattern\":{\"fillmode\":\"overlay\",\"size\":10,\"solidity\":0.2}},\"type\":\"barpolar\"}],\"pie\":[{\"automargin\":true,\"type\":\"pie\"}]},\"layout\":{\"autotypenumbers\":\"strict\",\"colorway\":[\"#636efa\",\"#EF553B\",\"#00cc96\",\"#ab63fa\",\"#FFA15A\",\"#19d3f3\",\"#FF6692\",\"#B6E880\",\"#FF97FF\",\"#FECB52\"],\"font\":{\"color\":\"#2a3f5f\"},\"hovermode\":\"closest\",\"hoverlabel\":{\"align\":\"left\"},\"paper_bgcolor\":\"white\",\"plot_bgcolor\":\"#E5ECF6\",\"polar\":{\"bgcolor\":\"#E5ECF6\",\"angularaxis\":{\"gridcolor\":\"white\",\"linecolor\":\"white\",\"ticks\":\"\"},\"radialaxis\":{\"gridcolor\":\"white\",\"linecolor\":\"white\",\"ticks\":\"\"}},\"ternary\":{\"bgcolor\":\"#E5ECF6\",\"aaxis\":{\"gridcolor\":\"white\",\"linecolor\":\"white\",\"ticks\":\"\"},\"baxis\":{\"gridcolor\":\"white\",\"linecolor\":\"white\",\"ticks\":\"\"},\"caxis\":{\"gridcolor\":\"white\",\"linecolor\":\"white\",\"ticks\":\"\"}},\"coloraxis\":{\"colorbar\":{\"outlinewidth\":0,\"ticks\":\"\"}},\"colorscale\":{\"sequential\":[[0.0,\"#0d0887\"],[0.1111111111111111,\"#46039f\"],[0.2222222222222222,\"#7201a8\"],[0.3333333333333333,\"#9c179e\"],[0.4444444444444444,\"#bd3786\"],[0.5555555555555556,\"#d8576b\"],[0.6666666666666666,\"#ed7953\"],[0.7777777777777778,\"#fb9f3a\"],[0.8888888888888888,\"#fdca26\"],[1.0,\"#f0f921\"]],\"sequentialminus\":[[0.0,\"#0d0887\"],[0.1111111111111111,\"#46039f\"],[0.2222222222222222,\"#7201a8\"],[0.3333333333333333,\"#9c179e\"],[0.4444444444444444,\"#bd3786\"],[0.5555555555555556,\"#d8576b\"],[0.6666666666666666,\"#ed7953\"],[0.7777777777777778,\"#fb9f3a\"],[0.8888888888888888,\"#fdca26\"],[1.0,\"#f0f921\"]],\"diverging\":[[0,\"#8e0152\"],[0.1,\"#c51b7d\"],[0.2,\"#de77ae\"],[0.3,\"#f1b6da\"],[0.4,\"#fde0ef\"],[0.5,\"#f7f7f7\"],[0.6,\"#e6f5d0\"],[0.7,\"#b8e186\"],[0.8,\"#7fbc41\"],[0.9,\"#4d9221\"],[1,\"#276419\"]]},\"xaxis\":{\"gridcolor\":\"white\",\"linecolor\":\"white\",\"ticks\":\"\",\"title\":{\"standoff\":15},\"zerolinecolor\":\"white\",\"automargin\":true,\"zerolinewidth\":2},\"yaxis\":{\"gridcolor\":\"white\",\"linecolor\":\"white\",\"ticks\":\"\",\"title\":{\"standoff\":15},\"zerolinecolor\":\"white\",\"automargin\":true,\"zerolinewidth\":2},\"scene\":{\"xaxis\":{\"backgroundcolor\":\"#E5ECF6\",\"gridcolor\":\"white\",\"linecolor\":\"white\",\"showbackground\":true,\"ticks\":\"\",\"zerolinecolor\":\"white\",\"gridwidth\":2},\"yaxis\":{\"backgroundcolor\":\"#E5ECF6\",\"gridcolor\":\"white\",\"linecolor\":\"white\",\"showbackground\":true,\"ticks\":\"\",\"zerolinecolor\":\"white\",\"gridwidth\":2},\"zaxis\":{\"backgroundcolor\":\"#E5ECF6\",\"gridcolor\":\"white\",\"linecolor\":\"white\",\"showbackground\":true,\"ticks\":\"\",\"zerolinecolor\":\"white\",\"gridwidth\":2}},\"shapedefaults\":{\"line\":{\"color\":\"#2a3f5f\"}},\"annotationdefaults\":{\"arrowcolor\":\"#2a3f5f\",\"arrowhead\":0,\"arrowwidth\":1},\"geo\":{\"bgcolor\":\"white\",\"landcolor\":\"#E5ECF6\",\"subunitcolor\":\"white\",\"showland\":true,\"showlakes\":true,\"lakecolor\":\"white\"},\"title\":{\"x\":0.05},\"mapbox\":{\"style\":\"light\"}}},\"xaxis\":{\"anchor\":\"y\",\"domain\":[0.0,1.0],\"title\":{\"text\":\"mass\"}},\"yaxis\":{\"anchor\":\"x\",\"domain\":[0.0,1.0],\"title\":{\"text\":\"orbital_period\"}},\"coloraxis\":{\"colorbar\":{\"title\":{\"text\":\"distance\"}},\"colorscale\":[[0.0,\"#0d0887\"],[0.1111111111111111,\"#46039f\"],[0.2222222222222222,\"#7201a8\"],[0.3333333333333333,\"#9c179e\"],[0.4444444444444444,\"#bd3786\"],[0.5555555555555556,\"#d8576b\"],[0.6666666666666666,\"#ed7953\"],[0.7777777777777778,\"#fb9f3a\"],[0.8888888888888888,\"#fdca26\"],[1.0,\"#f0f921\"]]},\"legend\":{\"tracegroupgap\":0},\"title\":{\"text\":\"Comparison of mass of a planet with its orbital period\"}},                        {\"responsive\": true}                    ).then(function(){\n",
              "                            \n",
              "var gd = document.getElementById('b02f0da9-253c-462b-b476-51057903da69');\n",
              "var x = new MutationObserver(function (mutations, observer) {{\n",
              "        var display = window.getComputedStyle(gd).display;\n",
              "        if (!display || display === 'none') {{\n",
              "            console.log([gd, 'removed!']);\n",
              "            Plotly.purge(gd);\n",
              "            observer.disconnect();\n",
              "        }}\n",
              "}});\n",
              "\n",
              "// Listen for the removal of the full notebook cells\n",
              "var notebookContainer = gd.closest('#notebook-container');\n",
              "if (notebookContainer) {{\n",
              "    x.observe(notebookContainer, {childList: true});\n",
              "}}\n",
              "\n",
              "// Listen for the clearing of the current output cell\n",
              "var outputEl = gd.closest('.output');\n",
              "if (outputEl) {{\n",
              "    x.observe(outputEl, {childList: true});\n",
              "}}\n",
              "\n",
              "                        })                };                });            </script>        </div>"
            ]
          },
          "metadata": {},
          "output_type": "display_data"
        }
      ],
      "source": [
        "px.scatter(planets_df,\n",
        "           title='Comparison of mass of a planet with its orbital period',\n",
        "           x=\"mass\", \n",
        "           y=\"orbital_period\", \n",
        "           color=\"distance\"\n",
        "          )"
      ]
    },
    {
      "cell_type": "markdown",
      "id": "cde3ac62",
      "metadata": {
        "id": "cde3ac62"
      },
      "source": [
        "Let's save our work before continuing."
      ]
    },
    {
      "cell_type": "code",
      "execution_count": null,
      "id": "cf0c27e6",
      "metadata": {
        "colab": {
          "base_uri": "https://localhost:8080/"
        },
        "id": "cf0c27e6",
        "outputId": "7bb7d6ab-6edb-4dac-faf3-b235ba0d69d0"
      },
      "outputs": [
        {
          "data": {
            "application/javascript": [
              "window.require && require([\"base/js/namespace\"],function(Jupyter){Jupyter.notebook.save_checkpoint()})"
            ],
            "text/plain": [
              "<IPython.core.display.Javascript object>"
            ]
          },
          "metadata": {},
          "output_type": "display_data"
        },
        {
          "name": "stdout",
          "output_type": "stream",
          "text": [
            "[jovian] Updating notebook \"ankyhunk-bg4/data-analysis-visualization-practice-assignment\" on https://jovian.ai\u001b[0m\n",
            "[jovian] Committed successfully! https://jovian.ai/ankyhunk-bg4/data-analysis-visualization-practice-assignment\u001b[0m\n"
          ]
        },
        {
          "data": {
            "text/plain": [
              "'https://jovian.ai/ankyhunk-bg4/data-analysis-visualization-practice-assignment'"
            ]
          },
          "execution_count": 63,
          "metadata": {},
          "output_type": "execute_result"
        }
      ],
      "source": [
        "jovian.commit()"
      ]
    },
    {
      "cell_type": "markdown",
      "id": "36fa8c5e",
      "metadata": {
        "id": "36fa8c5e"
      },
      "source": [
        "> **QUESTION 4 (Bar Chart):** The Job Automation Probability dataset, created during a [Future of Employment study from 2013](https://www.oxfordmartin.ox.ac.uk/downloads/academic/The_Future_of_Employment.pdf), estimates the probability of different jobs being automated in the 21st century due to computerization. Crate a bar chart to show the 25 jobs requiring a \"Bachelor's degree\" (and no higher qualification) that are most likely to be automated. Make appropriate modifications to the chart title, axis titles, legend, figure size, font size, colors etc. to make the chart readable and visually appealing."
      ]
    },
    {
      "cell_type": "code",
      "execution_count": null,
      "id": "689f04b8",
      "metadata": {
        "id": "689f04b8"
      },
      "outputs": [],
      "source": [
        "job_automation_url = 'https://raw.githubusercontent.com/plotly/datasets/master/job-automation-probability.csv'"
      ]
    },
    {
      "cell_type": "code",
      "execution_count": null,
      "id": "50844268",
      "metadata": {
        "id": "50844268"
      },
      "outputs": [],
      "source": [
        "job_automation_df = pd.read_csv(job_automation_url)"
      ]
    },
    {
      "cell_type": "code",
      "execution_count": null,
      "id": "e38e9716",
      "metadata": {
        "colab": {
          "base_uri": "https://localhost:8080/",
          "height": 919
        },
        "id": "e38e9716",
        "outputId": "4d2a2f6f-a866-4f99-d583-550eef51a76e"
      },
      "outputs": [
        {
          "data": {
            "text/html": [
              "<div>\n",
              "<style scoped>\n",
              "    .dataframe tbody tr th:only-of-type {\n",
              "        vertical-align: middle;\n",
              "    }\n",
              "\n",
              "    .dataframe tbody tr th {\n",
              "        vertical-align: top;\n",
              "    }\n",
              "\n",
              "    .dataframe thead th {\n",
              "        text-align: right;\n",
              "    }\n",
              "</style>\n",
              "<table border=\"1\" class=\"dataframe\">\n",
              "  <thead>\n",
              "    <tr style=\"text-align: right;\">\n",
              "      <th></th>\n",
              "      <th>_ - rank</th>\n",
              "      <th>_ - code</th>\n",
              "      <th>prob</th>\n",
              "      <th>Average annual wage</th>\n",
              "      <th>education</th>\n",
              "      <th>occupation</th>\n",
              "      <th>short occupation</th>\n",
              "      <th>len</th>\n",
              "      <th>probability</th>\n",
              "      <th>numbEmployed</th>\n",
              "      <th>median_ann_wage</th>\n",
              "      <th>employed_may2016</th>\n",
              "      <th>average_ann_wage</th>\n",
              "    </tr>\n",
              "  </thead>\n",
              "  <tbody>\n",
              "    <tr>\n",
              "      <th>0</th>\n",
              "      <td>624</td>\n",
              "      <td>51-4033</td>\n",
              "      <td>0.9500</td>\n",
              "      <td>34920.0</td>\n",
              "      <td>High school diploma or equivalent</td>\n",
              "      <td>Grinding, Lapping, Polishing and Buffing Machi...</td>\n",
              "      <td>Tool setters, operators and tenders</td>\n",
              "      <td>35</td>\n",
              "      <td>0.9500</td>\n",
              "      <td>74600</td>\n",
              "      <td>32890.0</td>\n",
              "      <td>74600</td>\n",
              "      <td>34920.0</td>\n",
              "    </tr>\n",
              "    <tr>\n",
              "      <th>1</th>\n",
              "      <td>517</td>\n",
              "      <td>51-9012</td>\n",
              "      <td>0.8800</td>\n",
              "      <td>41450.0</td>\n",
              "      <td>High school diploma or equivalent</td>\n",
              "      <td>Separating, Filtering, Clarifying, Precipitati...</td>\n",
              "      <td>Tool setters, operators and tenders</td>\n",
              "      <td>35</td>\n",
              "      <td>0.8800</td>\n",
              "      <td>47160</td>\n",
              "      <td>38360.0</td>\n",
              "      <td>47160</td>\n",
              "      <td>41450.0</td>\n",
              "    </tr>\n",
              "    <tr>\n",
              "      <th>2</th>\n",
              "      <td>484</td>\n",
              "      <td>41-4012</td>\n",
              "      <td>0.8500</td>\n",
              "      <td>68410.0</td>\n",
              "      <td>High school diploma or equivalent</td>\n",
              "      <td>Sales Representatives, Wholesale and Manufactu...</td>\n",
              "      <td>Sales Representatives, Wholesale and Manufactu...</td>\n",
              "      <td>92</td>\n",
              "      <td>0.8500</td>\n",
              "      <td>1404050</td>\n",
              "      <td>57140.0</td>\n",
              "      <td>1404050</td>\n",
              "      <td>68410.0</td>\n",
              "    </tr>\n",
              "    <tr>\n",
              "      <th>3</th>\n",
              "      <td>105</td>\n",
              "      <td>53-1031</td>\n",
              "      <td>0.0290</td>\n",
              "      <td>59800.0</td>\n",
              "      <td>High school diploma or equivalent</td>\n",
              "      <td>First-Line Supervisors of Transportation and M...</td>\n",
              "      <td>Supervisors Transportation</td>\n",
              "      <td>26</td>\n",
              "      <td>0.0290</td>\n",
              "      <td>202760</td>\n",
              "      <td>57270.0</td>\n",
              "      <td>202760</td>\n",
              "      <td>59800.0</td>\n",
              "    </tr>\n",
              "    <tr>\n",
              "      <th>4</th>\n",
              "      <td>620</td>\n",
              "      <td>51-4072</td>\n",
              "      <td>0.9500</td>\n",
              "      <td>32660.0</td>\n",
              "      <td>High school diploma or equivalent</td>\n",
              "      <td>Molding, Coremaking and Casting Machine Setter...</td>\n",
              "      <td>Molding, Coremaking and Casting Machine Setter...</td>\n",
              "      <td>89</td>\n",
              "      <td>0.9500</td>\n",
              "      <td>145560</td>\n",
              "      <td>30480.0</td>\n",
              "      <td>145560</td>\n",
              "      <td>32660.0</td>\n",
              "    </tr>\n",
              "    <tr>\n",
              "      <th>...</th>\n",
              "      <td>...</td>\n",
              "      <td>...</td>\n",
              "      <td>...</td>\n",
              "      <td>...</td>\n",
              "      <td>...</td>\n",
              "      <td>...</td>\n",
              "      <td>...</td>\n",
              "      <td>...</td>\n",
              "      <td>...</td>\n",
              "      <td>...</td>\n",
              "      <td>...</td>\n",
              "      <td>...</td>\n",
              "      <td>...</td>\n",
              "    </tr>\n",
              "    <tr>\n",
              "      <th>697</th>\n",
              "      <td>259</td>\n",
              "      <td>27-2011</td>\n",
              "      <td>0.3700</td>\n",
              "      <td>71313.6</td>\n",
              "      <td>Some college, no degree</td>\n",
              "      <td>Actors</td>\n",
              "      <td>Actors</td>\n",
              "      <td>6</td>\n",
              "      <td>0.3700</td>\n",
              "      <td>48620</td>\n",
              "      <td>33473.0</td>\n",
              "      <td>48620</td>\n",
              "      <td>71313.6</td>\n",
              "    </tr>\n",
              "    <tr>\n",
              "      <th>698</th>\n",
              "      <td>522</td>\n",
              "      <td>51-3011</td>\n",
              "      <td>0.8900</td>\n",
              "      <td>27110.0</td>\n",
              "      <td>No formal educational credential</td>\n",
              "      <td>Bakers</td>\n",
              "      <td>Bakers</td>\n",
              "      <td>6</td>\n",
              "      <td>0.8900</td>\n",
              "      <td>180450</td>\n",
              "      <td>25090.0</td>\n",
              "      <td>180450</td>\n",
              "      <td>27110.0</td>\n",
              "    </tr>\n",
              "    <tr>\n",
              "      <th>699</th>\n",
              "      <td>42</td>\n",
              "      <td>21-2011</td>\n",
              "      <td>0.0081</td>\n",
              "      <td>49450.0</td>\n",
              "      <td>Bachelor's degree</td>\n",
              "      <td>Clergy</td>\n",
              "      <td>Clergy</td>\n",
              "      <td>6</td>\n",
              "      <td>0.0081</td>\n",
              "      <td>49320</td>\n",
              "      <td>45740.0</td>\n",
              "      <td>49320</td>\n",
              "      <td>49450.0</td>\n",
              "    </tr>\n",
              "    <tr>\n",
              "      <th>700</th>\n",
              "      <td>669</td>\n",
              "      <td>41-9012</td>\n",
              "      <td>0.9800</td>\n",
              "      <td>36560.0</td>\n",
              "      <td>No formal educational credential</td>\n",
              "      <td>Models</td>\n",
              "      <td>Models</td>\n",
              "      <td>6</td>\n",
              "      <td>0.9800</td>\n",
              "      <td>4390</td>\n",
              "      <td>21870.0</td>\n",
              "      <td>4390</td>\n",
              "      <td>36560.0</td>\n",
              "    </tr>\n",
              "    <tr>\n",
              "      <th>701</th>\n",
              "      <td>344</td>\n",
              "      <td>47-2082</td>\n",
              "      <td>0.6200</td>\n",
              "      <td>53790.0</td>\n",
              "      <td>No formal educational credential</td>\n",
              "      <td>Tapers</td>\n",
              "      <td>Tapers</td>\n",
              "      <td>6</td>\n",
              "      <td>0.6200</td>\n",
              "      <td>18480</td>\n",
              "      <td>48990.0</td>\n",
              "      <td>18480</td>\n",
              "      <td>53790.0</td>\n",
              "    </tr>\n",
              "  </tbody>\n",
              "</table>\n",
              "<p>702 rows × 13 columns</p>\n",
              "</div>"
            ],
            "text/plain": [
              "     _ - rank _ - code    prob  Average annual wage  \\\n",
              "0         624  51-4033  0.9500              34920.0   \n",
              "1         517  51-9012  0.8800              41450.0   \n",
              "2         484  41-4012  0.8500              68410.0   \n",
              "3         105  53-1031  0.0290              59800.0   \n",
              "4         620  51-4072  0.9500              32660.0   \n",
              "..        ...      ...     ...                  ...   \n",
              "697       259  27-2011  0.3700              71313.6   \n",
              "698       522  51-3011  0.8900              27110.0   \n",
              "699        42  21-2011  0.0081              49450.0   \n",
              "700       669  41-9012  0.9800              36560.0   \n",
              "701       344  47-2082  0.6200              53790.0   \n",
              "\n",
              "                             education  \\\n",
              "0    High school diploma or equivalent   \n",
              "1    High school diploma or equivalent   \n",
              "2    High school diploma or equivalent   \n",
              "3    High school diploma or equivalent   \n",
              "4    High school diploma or equivalent   \n",
              "..                                 ...   \n",
              "697            Some college, no degree   \n",
              "698   No formal educational credential   \n",
              "699                  Bachelor's degree   \n",
              "700   No formal educational credential   \n",
              "701   No formal educational credential   \n",
              "\n",
              "                                            occupation  \\\n",
              "0    Grinding, Lapping, Polishing and Buffing Machi...   \n",
              "1    Separating, Filtering, Clarifying, Precipitati...   \n",
              "2    Sales Representatives, Wholesale and Manufactu...   \n",
              "3    First-Line Supervisors of Transportation and M...   \n",
              "4    Molding, Coremaking and Casting Machine Setter...   \n",
              "..                                                 ...   \n",
              "697                                             Actors   \n",
              "698                                             Bakers   \n",
              "699                                             Clergy   \n",
              "700                                             Models   \n",
              "701                                             Tapers   \n",
              "\n",
              "                                      short occupation  len  probability  \\\n",
              "0                  Tool setters, operators and tenders   35       0.9500   \n",
              "1                  Tool setters, operators and tenders   35       0.8800   \n",
              "2    Sales Representatives, Wholesale and Manufactu...   92       0.8500   \n",
              "3                           Supervisors Transportation   26       0.0290   \n",
              "4    Molding, Coremaking and Casting Machine Setter...   89       0.9500   \n",
              "..                                                 ...  ...          ...   \n",
              "697                                             Actors    6       0.3700   \n",
              "698                                             Bakers    6       0.8900   \n",
              "699                                             Clergy    6       0.0081   \n",
              "700                                             Models    6       0.9800   \n",
              "701                                             Tapers    6       0.6200   \n",
              "\n",
              "     numbEmployed  median_ann_wage employed_may2016  average_ann_wage  \n",
              "0           74600          32890.0            74600           34920.0  \n",
              "1           47160          38360.0            47160           41450.0  \n",
              "2         1404050          57140.0          1404050           68410.0  \n",
              "3          202760          57270.0           202760           59800.0  \n",
              "4          145560          30480.0           145560           32660.0  \n",
              "..            ...              ...              ...               ...  \n",
              "697         48620          33473.0            48620           71313.6  \n",
              "698        180450          25090.0           180450           27110.0  \n",
              "699         49320          45740.0            49320           49450.0  \n",
              "700          4390          21870.0             4390           36560.0  \n",
              "701         18480          48990.0            18480           53790.0  \n",
              "\n",
              "[702 rows x 13 columns]"
            ]
          },
          "execution_count": 66,
          "metadata": {},
          "output_type": "execute_result"
        }
      ],
      "source": [
        "job_automation_df"
      ]
    },
    {
      "cell_type": "code",
      "execution_count": null,
      "id": "fb00fdec",
      "metadata": {
        "colab": {
          "base_uri": "https://localhost:8080/",
          "height": 542
        },
        "id": "fb00fdec",
        "outputId": "8f6e550d-2814-4666-bea3-ba60c673c1fc"
      },
      "outputs": [
        {
          "data": {
            "application/vnd.plotly.v1+json": {
              "config": {
                "plotlyServerURL": "https://plot.ly"
              },
              "data": [
                {
                  "alignmentgroup": "True",
                  "hovertemplate": "probability=%{x}<br>occupation=%{y}<extra></extra>",
                  "legendgroup": "",
                  "marker": {
                    "color": "#636efa",
                    "pattern": {
                      "shape": ""
                    }
                  },
                  "name": "",
                  "offsetgroup": "",
                  "orientation": "h",
                  "showlegend": false,
                  "textposition": "auto",
                  "type": "bar",
                  "x": [
                    0.99,
                    0.99,
                    0.98,
                    0.98,
                    0.96,
                    0.94,
                    0.94,
                    0.94,
                    0.93,
                    0.9,
                    0.9,
                    0.89,
                    0.88,
                    0.87,
                    0.84,
                    0.77,
                    0.73,
                    0.67,
                    0.66,
                    0.65,
                    0.65,
                    0.63,
                    0.61,
                    0.6,
                    0.59
                  ],
                  "xaxis": "x",
                  "y": [
                    "Insurance Underwriters",
                    "Mathematical Technicians",
                    "Credit Analysts",
                    "Loan Officers",
                    "Compensation and Benefits Managers",
                    "Budget Analysts",
                    "Accountants and Auditors",
                    "Agricultural Inspectors",
                    "Tax Examiners and Collectors and Revenue Agents",
                    "Appraisers and Assessors of Real Estate",
                    "Medical and Clinical Laboratory Technologists",
                    "Technical Writers",
                    "Cartographers and Photogrammetrists",
                    "Buyers and Purchasing Agents, Farm Products",
                    "Proofreaders and Copy Markers",
                    "Purchasing Agents, Except Wholesale, Retail and Farm Products",
                    "Administrative Services Managers",
                    "Atmospheric and Space Scientists",
                    "Statistical Assistants",
                    "Social Science Research Assistants",
                    "Computer Support Specialists",
                    "Geoscientists, Except Hydrologists and Geographers",
                    "Market Research Analysts and Marketing Specialists",
                    "Camera Operators, Television, Video and Motion Picture",
                    "Museum Technicians and Conservators"
                  ],
                  "yaxis": "y"
                }
              ],
              "layout": {
                "barmode": "relative",
                "legend": {
                  "tracegroupgap": 0
                },
                "template": {
                  "data": {
                    "bar": [
                      {
                        "error_x": {
                          "color": "#2a3f5f"
                        },
                        "error_y": {
                          "color": "#2a3f5f"
                        },
                        "marker": {
                          "line": {
                            "color": "#E5ECF6",
                            "width": 0.5
                          },
                          "pattern": {
                            "fillmode": "overlay",
                            "size": 10,
                            "solidity": 0.2
                          }
                        },
                        "type": "bar"
                      }
                    ],
                    "barpolar": [
                      {
                        "marker": {
                          "line": {
                            "color": "#E5ECF6",
                            "width": 0.5
                          },
                          "pattern": {
                            "fillmode": "overlay",
                            "size": 10,
                            "solidity": 0.2
                          }
                        },
                        "type": "barpolar"
                      }
                    ],
                    "carpet": [
                      {
                        "aaxis": {
                          "endlinecolor": "#2a3f5f",
                          "gridcolor": "white",
                          "linecolor": "white",
                          "minorgridcolor": "white",
                          "startlinecolor": "#2a3f5f"
                        },
                        "baxis": {
                          "endlinecolor": "#2a3f5f",
                          "gridcolor": "white",
                          "linecolor": "white",
                          "minorgridcolor": "white",
                          "startlinecolor": "#2a3f5f"
                        },
                        "type": "carpet"
                      }
                    ],
                    "choropleth": [
                      {
                        "colorbar": {
                          "outlinewidth": 0,
                          "ticks": ""
                        },
                        "type": "choropleth"
                      }
                    ],
                    "contour": [
                      {
                        "colorbar": {
                          "outlinewidth": 0,
                          "ticks": ""
                        },
                        "colorscale": [
                          [
                            0,
                            "#0d0887"
                          ],
                          [
                            0.1111111111111111,
                            "#46039f"
                          ],
                          [
                            0.2222222222222222,
                            "#7201a8"
                          ],
                          [
                            0.3333333333333333,
                            "#9c179e"
                          ],
                          [
                            0.4444444444444444,
                            "#bd3786"
                          ],
                          [
                            0.5555555555555556,
                            "#d8576b"
                          ],
                          [
                            0.6666666666666666,
                            "#ed7953"
                          ],
                          [
                            0.7777777777777778,
                            "#fb9f3a"
                          ],
                          [
                            0.8888888888888888,
                            "#fdca26"
                          ],
                          [
                            1,
                            "#f0f921"
                          ]
                        ],
                        "type": "contour"
                      }
                    ],
                    "contourcarpet": [
                      {
                        "colorbar": {
                          "outlinewidth": 0,
                          "ticks": ""
                        },
                        "type": "contourcarpet"
                      }
                    ],
                    "heatmap": [
                      {
                        "colorbar": {
                          "outlinewidth": 0,
                          "ticks": ""
                        },
                        "colorscale": [
                          [
                            0,
                            "#0d0887"
                          ],
                          [
                            0.1111111111111111,
                            "#46039f"
                          ],
                          [
                            0.2222222222222222,
                            "#7201a8"
                          ],
                          [
                            0.3333333333333333,
                            "#9c179e"
                          ],
                          [
                            0.4444444444444444,
                            "#bd3786"
                          ],
                          [
                            0.5555555555555556,
                            "#d8576b"
                          ],
                          [
                            0.6666666666666666,
                            "#ed7953"
                          ],
                          [
                            0.7777777777777778,
                            "#fb9f3a"
                          ],
                          [
                            0.8888888888888888,
                            "#fdca26"
                          ],
                          [
                            1,
                            "#f0f921"
                          ]
                        ],
                        "type": "heatmap"
                      }
                    ],
                    "heatmapgl": [
                      {
                        "colorbar": {
                          "outlinewidth": 0,
                          "ticks": ""
                        },
                        "colorscale": [
                          [
                            0,
                            "#0d0887"
                          ],
                          [
                            0.1111111111111111,
                            "#46039f"
                          ],
                          [
                            0.2222222222222222,
                            "#7201a8"
                          ],
                          [
                            0.3333333333333333,
                            "#9c179e"
                          ],
                          [
                            0.4444444444444444,
                            "#bd3786"
                          ],
                          [
                            0.5555555555555556,
                            "#d8576b"
                          ],
                          [
                            0.6666666666666666,
                            "#ed7953"
                          ],
                          [
                            0.7777777777777778,
                            "#fb9f3a"
                          ],
                          [
                            0.8888888888888888,
                            "#fdca26"
                          ],
                          [
                            1,
                            "#f0f921"
                          ]
                        ],
                        "type": "heatmapgl"
                      }
                    ],
                    "histogram": [
                      {
                        "marker": {
                          "pattern": {
                            "fillmode": "overlay",
                            "size": 10,
                            "solidity": 0.2
                          }
                        },
                        "type": "histogram"
                      }
                    ],
                    "histogram2d": [
                      {
                        "colorbar": {
                          "outlinewidth": 0,
                          "ticks": ""
                        },
                        "colorscale": [
                          [
                            0,
                            "#0d0887"
                          ],
                          [
                            0.1111111111111111,
                            "#46039f"
                          ],
                          [
                            0.2222222222222222,
                            "#7201a8"
                          ],
                          [
                            0.3333333333333333,
                            "#9c179e"
                          ],
                          [
                            0.4444444444444444,
                            "#bd3786"
                          ],
                          [
                            0.5555555555555556,
                            "#d8576b"
                          ],
                          [
                            0.6666666666666666,
                            "#ed7953"
                          ],
                          [
                            0.7777777777777778,
                            "#fb9f3a"
                          ],
                          [
                            0.8888888888888888,
                            "#fdca26"
                          ],
                          [
                            1,
                            "#f0f921"
                          ]
                        ],
                        "type": "histogram2d"
                      }
                    ],
                    "histogram2dcontour": [
                      {
                        "colorbar": {
                          "outlinewidth": 0,
                          "ticks": ""
                        },
                        "colorscale": [
                          [
                            0,
                            "#0d0887"
                          ],
                          [
                            0.1111111111111111,
                            "#46039f"
                          ],
                          [
                            0.2222222222222222,
                            "#7201a8"
                          ],
                          [
                            0.3333333333333333,
                            "#9c179e"
                          ],
                          [
                            0.4444444444444444,
                            "#bd3786"
                          ],
                          [
                            0.5555555555555556,
                            "#d8576b"
                          ],
                          [
                            0.6666666666666666,
                            "#ed7953"
                          ],
                          [
                            0.7777777777777778,
                            "#fb9f3a"
                          ],
                          [
                            0.8888888888888888,
                            "#fdca26"
                          ],
                          [
                            1,
                            "#f0f921"
                          ]
                        ],
                        "type": "histogram2dcontour"
                      }
                    ],
                    "mesh3d": [
                      {
                        "colorbar": {
                          "outlinewidth": 0,
                          "ticks": ""
                        },
                        "type": "mesh3d"
                      }
                    ],
                    "parcoords": [
                      {
                        "line": {
                          "colorbar": {
                            "outlinewidth": 0,
                            "ticks": ""
                          }
                        },
                        "type": "parcoords"
                      }
                    ],
                    "pie": [
                      {
                        "automargin": true,
                        "type": "pie"
                      }
                    ],
                    "scatter": [
                      {
                        "fillpattern": {
                          "fillmode": "overlay",
                          "size": 10,
                          "solidity": 0.2
                        },
                        "type": "scatter"
                      }
                    ],
                    "scatter3d": [
                      {
                        "line": {
                          "colorbar": {
                            "outlinewidth": 0,
                            "ticks": ""
                          }
                        },
                        "marker": {
                          "colorbar": {
                            "outlinewidth": 0,
                            "ticks": ""
                          }
                        },
                        "type": "scatter3d"
                      }
                    ],
                    "scattercarpet": [
                      {
                        "marker": {
                          "colorbar": {
                            "outlinewidth": 0,
                            "ticks": ""
                          }
                        },
                        "type": "scattercarpet"
                      }
                    ],
                    "scattergeo": [
                      {
                        "marker": {
                          "colorbar": {
                            "outlinewidth": 0,
                            "ticks": ""
                          }
                        },
                        "type": "scattergeo"
                      }
                    ],
                    "scattergl": [
                      {
                        "marker": {
                          "colorbar": {
                            "outlinewidth": 0,
                            "ticks": ""
                          }
                        },
                        "type": "scattergl"
                      }
                    ],
                    "scattermapbox": [
                      {
                        "marker": {
                          "colorbar": {
                            "outlinewidth": 0,
                            "ticks": ""
                          }
                        },
                        "type": "scattermapbox"
                      }
                    ],
                    "scatterpolar": [
                      {
                        "marker": {
                          "colorbar": {
                            "outlinewidth": 0,
                            "ticks": ""
                          }
                        },
                        "type": "scatterpolar"
                      }
                    ],
                    "scatterpolargl": [
                      {
                        "marker": {
                          "colorbar": {
                            "outlinewidth": 0,
                            "ticks": ""
                          }
                        },
                        "type": "scatterpolargl"
                      }
                    ],
                    "scatterternary": [
                      {
                        "marker": {
                          "colorbar": {
                            "outlinewidth": 0,
                            "ticks": ""
                          }
                        },
                        "type": "scatterternary"
                      }
                    ],
                    "surface": [
                      {
                        "colorbar": {
                          "outlinewidth": 0,
                          "ticks": ""
                        },
                        "colorscale": [
                          [
                            0,
                            "#0d0887"
                          ],
                          [
                            0.1111111111111111,
                            "#46039f"
                          ],
                          [
                            0.2222222222222222,
                            "#7201a8"
                          ],
                          [
                            0.3333333333333333,
                            "#9c179e"
                          ],
                          [
                            0.4444444444444444,
                            "#bd3786"
                          ],
                          [
                            0.5555555555555556,
                            "#d8576b"
                          ],
                          [
                            0.6666666666666666,
                            "#ed7953"
                          ],
                          [
                            0.7777777777777778,
                            "#fb9f3a"
                          ],
                          [
                            0.8888888888888888,
                            "#fdca26"
                          ],
                          [
                            1,
                            "#f0f921"
                          ]
                        ],
                        "type": "surface"
                      }
                    ],
                    "table": [
                      {
                        "cells": {
                          "fill": {
                            "color": "#EBF0F8"
                          },
                          "line": {
                            "color": "white"
                          }
                        },
                        "header": {
                          "fill": {
                            "color": "#C8D4E3"
                          },
                          "line": {
                            "color": "white"
                          }
                        },
                        "type": "table"
                      }
                    ]
                  },
                  "layout": {
                    "annotationdefaults": {
                      "arrowcolor": "#2a3f5f",
                      "arrowhead": 0,
                      "arrowwidth": 1
                    },
                    "autotypenumbers": "strict",
                    "coloraxis": {
                      "colorbar": {
                        "outlinewidth": 0,
                        "ticks": ""
                      }
                    },
                    "colorscale": {
                      "diverging": [
                        [
                          0,
                          "#8e0152"
                        ],
                        [
                          0.1,
                          "#c51b7d"
                        ],
                        [
                          0.2,
                          "#de77ae"
                        ],
                        [
                          0.3,
                          "#f1b6da"
                        ],
                        [
                          0.4,
                          "#fde0ef"
                        ],
                        [
                          0.5,
                          "#f7f7f7"
                        ],
                        [
                          0.6,
                          "#e6f5d0"
                        ],
                        [
                          0.7,
                          "#b8e186"
                        ],
                        [
                          0.8,
                          "#7fbc41"
                        ],
                        [
                          0.9,
                          "#4d9221"
                        ],
                        [
                          1,
                          "#276419"
                        ]
                      ],
                      "sequential": [
                        [
                          0,
                          "#0d0887"
                        ],
                        [
                          0.1111111111111111,
                          "#46039f"
                        ],
                        [
                          0.2222222222222222,
                          "#7201a8"
                        ],
                        [
                          0.3333333333333333,
                          "#9c179e"
                        ],
                        [
                          0.4444444444444444,
                          "#bd3786"
                        ],
                        [
                          0.5555555555555556,
                          "#d8576b"
                        ],
                        [
                          0.6666666666666666,
                          "#ed7953"
                        ],
                        [
                          0.7777777777777778,
                          "#fb9f3a"
                        ],
                        [
                          0.8888888888888888,
                          "#fdca26"
                        ],
                        [
                          1,
                          "#f0f921"
                        ]
                      ],
                      "sequentialminus": [
                        [
                          0,
                          "#0d0887"
                        ],
                        [
                          0.1111111111111111,
                          "#46039f"
                        ],
                        [
                          0.2222222222222222,
                          "#7201a8"
                        ],
                        [
                          0.3333333333333333,
                          "#9c179e"
                        ],
                        [
                          0.4444444444444444,
                          "#bd3786"
                        ],
                        [
                          0.5555555555555556,
                          "#d8576b"
                        ],
                        [
                          0.6666666666666666,
                          "#ed7953"
                        ],
                        [
                          0.7777777777777778,
                          "#fb9f3a"
                        ],
                        [
                          0.8888888888888888,
                          "#fdca26"
                        ],
                        [
                          1,
                          "#f0f921"
                        ]
                      ]
                    },
                    "colorway": [
                      "#636efa",
                      "#EF553B",
                      "#00cc96",
                      "#ab63fa",
                      "#FFA15A",
                      "#19d3f3",
                      "#FF6692",
                      "#B6E880",
                      "#FF97FF",
                      "#FECB52"
                    ],
                    "font": {
                      "color": "#2a3f5f"
                    },
                    "geo": {
                      "bgcolor": "white",
                      "lakecolor": "white",
                      "landcolor": "#E5ECF6",
                      "showlakes": true,
                      "showland": true,
                      "subunitcolor": "white"
                    },
                    "hoverlabel": {
                      "align": "left"
                    },
                    "hovermode": "closest",
                    "mapbox": {
                      "style": "light"
                    },
                    "paper_bgcolor": "white",
                    "plot_bgcolor": "#E5ECF6",
                    "polar": {
                      "angularaxis": {
                        "gridcolor": "white",
                        "linecolor": "white",
                        "ticks": ""
                      },
                      "bgcolor": "#E5ECF6",
                      "radialaxis": {
                        "gridcolor": "white",
                        "linecolor": "white",
                        "ticks": ""
                      }
                    },
                    "scene": {
                      "xaxis": {
                        "backgroundcolor": "#E5ECF6",
                        "gridcolor": "white",
                        "gridwidth": 2,
                        "linecolor": "white",
                        "showbackground": true,
                        "ticks": "",
                        "zerolinecolor": "white"
                      },
                      "yaxis": {
                        "backgroundcolor": "#E5ECF6",
                        "gridcolor": "white",
                        "gridwidth": 2,
                        "linecolor": "white",
                        "showbackground": true,
                        "ticks": "",
                        "zerolinecolor": "white"
                      },
                      "zaxis": {
                        "backgroundcolor": "#E5ECF6",
                        "gridcolor": "white",
                        "gridwidth": 2,
                        "linecolor": "white",
                        "showbackground": true,
                        "ticks": "",
                        "zerolinecolor": "white"
                      }
                    },
                    "shapedefaults": {
                      "line": {
                        "color": "#2a3f5f"
                      }
                    },
                    "ternary": {
                      "aaxis": {
                        "gridcolor": "white",
                        "linecolor": "white",
                        "ticks": ""
                      },
                      "baxis": {
                        "gridcolor": "white",
                        "linecolor": "white",
                        "ticks": ""
                      },
                      "bgcolor": "#E5ECF6",
                      "caxis": {
                        "gridcolor": "white",
                        "linecolor": "white",
                        "ticks": ""
                      }
                    },
                    "title": {
                      "x": 0.05
                    },
                    "xaxis": {
                      "automargin": true,
                      "gridcolor": "white",
                      "linecolor": "white",
                      "ticks": "",
                      "title": {
                        "standoff": 15
                      },
                      "zerolinecolor": "white",
                      "zerolinewidth": 2
                    },
                    "yaxis": {
                      "automargin": true,
                      "gridcolor": "white",
                      "linecolor": "white",
                      "ticks": "",
                      "title": {
                        "standoff": 15
                      },
                      "zerolinecolor": "white",
                      "zerolinewidth": 2
                    }
                  }
                },
                "title": {
                  "text": "Future of Employment Study"
                },
                "xaxis": {
                  "anchor": "y",
                  "domain": [
                    0,
                    1
                  ],
                  "title": {
                    "text": "Probability"
                  }
                },
                "yaxis": {
                  "anchor": "x",
                  "domain": [
                    0,
                    1
                  ],
                  "title": {
                    "text": "Occupation"
                  }
                }
              }
            },
            "text/html": [
              "<div>                            <div id=\"380a24c5-4df7-41b7-b777-c801a656d531\" class=\"plotly-graph-div\" style=\"height:525px; width:100%;\"></div>            <script type=\"text/javascript\">                require([\"plotly\"], function(Plotly) {                    window.PLOTLYENV=window.PLOTLYENV || {};                                    if (document.getElementById(\"380a24c5-4df7-41b7-b777-c801a656d531\")) {                    Plotly.newPlot(                        \"380a24c5-4df7-41b7-b777-c801a656d531\",                        [{\"alignmentgroup\":\"True\",\"hovertemplate\":\"probability=%{x}<br>occupation=%{y}<extra></extra>\",\"legendgroup\":\"\",\"marker\":{\"color\":\"#636efa\",\"pattern\":{\"shape\":\"\"}},\"name\":\"\",\"offsetgroup\":\"\",\"orientation\":\"h\",\"showlegend\":false,\"textposition\":\"auto\",\"x\":[0.99,0.99,0.98,0.98,0.96,0.94,0.94,0.94,0.93,0.9,0.9,0.89,0.88,0.87,0.84,0.77,0.73,0.67,0.66,0.65,0.65,0.63,0.61,0.6,0.59],\"xaxis\":\"x\",\"y\":[\"Insurance Underwriters\",\"Mathematical Technicians\",\"Credit Analysts\",\"Loan Officers\",\"Compensation and Benefits Managers\",\"Budget Analysts\",\"Accountants and Auditors\",\"Agricultural Inspectors\",\"Tax Examiners and Collectors and Revenue Agents\",\"Appraisers and Assessors of Real Estate\",\"Medical and Clinical Laboratory Technologists\",\"Technical Writers\",\"Cartographers and Photogrammetrists\",\"Buyers and Purchasing Agents, Farm Products\",\"Proofreaders and Copy Markers\",\"Purchasing Agents, Except Wholesale, Retail and Farm Products\",\"Administrative Services Managers\",\"Atmospheric and Space Scientists\",\"Statistical Assistants\",\"Social Science Research Assistants\",\"Computer Support Specialists\",\"Geoscientists, Except Hydrologists and Geographers\",\"Market Research Analysts and Marketing Specialists\",\"Camera Operators, Television, Video and Motion Picture\",\"Museum Technicians and Conservators\"],\"yaxis\":\"y\",\"type\":\"bar\"}],                        {\"template\":{\"data\":{\"histogram2dcontour\":[{\"type\":\"histogram2dcontour\",\"colorbar\":{\"outlinewidth\":0,\"ticks\":\"\"},\"colorscale\":[[0.0,\"#0d0887\"],[0.1111111111111111,\"#46039f\"],[0.2222222222222222,\"#7201a8\"],[0.3333333333333333,\"#9c179e\"],[0.4444444444444444,\"#bd3786\"],[0.5555555555555556,\"#d8576b\"],[0.6666666666666666,\"#ed7953\"],[0.7777777777777778,\"#fb9f3a\"],[0.8888888888888888,\"#fdca26\"],[1.0,\"#f0f921\"]]}],\"choropleth\":[{\"type\":\"choropleth\",\"colorbar\":{\"outlinewidth\":0,\"ticks\":\"\"}}],\"histogram2d\":[{\"type\":\"histogram2d\",\"colorbar\":{\"outlinewidth\":0,\"ticks\":\"\"},\"colorscale\":[[0.0,\"#0d0887\"],[0.1111111111111111,\"#46039f\"],[0.2222222222222222,\"#7201a8\"],[0.3333333333333333,\"#9c179e\"],[0.4444444444444444,\"#bd3786\"],[0.5555555555555556,\"#d8576b\"],[0.6666666666666666,\"#ed7953\"],[0.7777777777777778,\"#fb9f3a\"],[0.8888888888888888,\"#fdca26\"],[1.0,\"#f0f921\"]]}],\"heatmap\":[{\"type\":\"heatmap\",\"colorbar\":{\"outlinewidth\":0,\"ticks\":\"\"},\"colorscale\":[[0.0,\"#0d0887\"],[0.1111111111111111,\"#46039f\"],[0.2222222222222222,\"#7201a8\"],[0.3333333333333333,\"#9c179e\"],[0.4444444444444444,\"#bd3786\"],[0.5555555555555556,\"#d8576b\"],[0.6666666666666666,\"#ed7953\"],[0.7777777777777778,\"#fb9f3a\"],[0.8888888888888888,\"#fdca26\"],[1.0,\"#f0f921\"]]}],\"heatmapgl\":[{\"type\":\"heatmapgl\",\"colorbar\":{\"outlinewidth\":0,\"ticks\":\"\"},\"colorscale\":[[0.0,\"#0d0887\"],[0.1111111111111111,\"#46039f\"],[0.2222222222222222,\"#7201a8\"],[0.3333333333333333,\"#9c179e\"],[0.4444444444444444,\"#bd3786\"],[0.5555555555555556,\"#d8576b\"],[0.6666666666666666,\"#ed7953\"],[0.7777777777777778,\"#fb9f3a\"],[0.8888888888888888,\"#fdca26\"],[1.0,\"#f0f921\"]]}],\"contourcarpet\":[{\"type\":\"contourcarpet\",\"colorbar\":{\"outlinewidth\":0,\"ticks\":\"\"}}],\"contour\":[{\"type\":\"contour\",\"colorbar\":{\"outlinewidth\":0,\"ticks\":\"\"},\"colorscale\":[[0.0,\"#0d0887\"],[0.1111111111111111,\"#46039f\"],[0.2222222222222222,\"#7201a8\"],[0.3333333333333333,\"#9c179e\"],[0.4444444444444444,\"#bd3786\"],[0.5555555555555556,\"#d8576b\"],[0.6666666666666666,\"#ed7953\"],[0.7777777777777778,\"#fb9f3a\"],[0.8888888888888888,\"#fdca26\"],[1.0,\"#f0f921\"]]}],\"surface\":[{\"type\":\"surface\",\"colorbar\":{\"outlinewidth\":0,\"ticks\":\"\"},\"colorscale\":[[0.0,\"#0d0887\"],[0.1111111111111111,\"#46039f\"],[0.2222222222222222,\"#7201a8\"],[0.3333333333333333,\"#9c179e\"],[0.4444444444444444,\"#bd3786\"],[0.5555555555555556,\"#d8576b\"],[0.6666666666666666,\"#ed7953\"],[0.7777777777777778,\"#fb9f3a\"],[0.8888888888888888,\"#fdca26\"],[1.0,\"#f0f921\"]]}],\"mesh3d\":[{\"type\":\"mesh3d\",\"colorbar\":{\"outlinewidth\":0,\"ticks\":\"\"}}],\"scatter\":[{\"fillpattern\":{\"fillmode\":\"overlay\",\"size\":10,\"solidity\":0.2},\"type\":\"scatter\"}],\"parcoords\":[{\"type\":\"parcoords\",\"line\":{\"colorbar\":{\"outlinewidth\":0,\"ticks\":\"\"}}}],\"scatterpolargl\":[{\"type\":\"scatterpolargl\",\"marker\":{\"colorbar\":{\"outlinewidth\":0,\"ticks\":\"\"}}}],\"bar\":[{\"error_x\":{\"color\":\"#2a3f5f\"},\"error_y\":{\"color\":\"#2a3f5f\"},\"marker\":{\"line\":{\"color\":\"#E5ECF6\",\"width\":0.5},\"pattern\":{\"fillmode\":\"overlay\",\"size\":10,\"solidity\":0.2}},\"type\":\"bar\"}],\"scattergeo\":[{\"type\":\"scattergeo\",\"marker\":{\"colorbar\":{\"outlinewidth\":0,\"ticks\":\"\"}}}],\"scatterpolar\":[{\"type\":\"scatterpolar\",\"marker\":{\"colorbar\":{\"outlinewidth\":0,\"ticks\":\"\"}}}],\"histogram\":[{\"marker\":{\"pattern\":{\"fillmode\":\"overlay\",\"size\":10,\"solidity\":0.2}},\"type\":\"histogram\"}],\"scattergl\":[{\"type\":\"scattergl\",\"marker\":{\"colorbar\":{\"outlinewidth\":0,\"ticks\":\"\"}}}],\"scatter3d\":[{\"type\":\"scatter3d\",\"line\":{\"colorbar\":{\"outlinewidth\":0,\"ticks\":\"\"}},\"marker\":{\"colorbar\":{\"outlinewidth\":0,\"ticks\":\"\"}}}],\"scattermapbox\":[{\"type\":\"scattermapbox\",\"marker\":{\"colorbar\":{\"outlinewidth\":0,\"ticks\":\"\"}}}],\"scatterternary\":[{\"type\":\"scatterternary\",\"marker\":{\"colorbar\":{\"outlinewidth\":0,\"ticks\":\"\"}}}],\"scattercarpet\":[{\"type\":\"scattercarpet\",\"marker\":{\"colorbar\":{\"outlinewidth\":0,\"ticks\":\"\"}}}],\"carpet\":[{\"aaxis\":{\"endlinecolor\":\"#2a3f5f\",\"gridcolor\":\"white\",\"linecolor\":\"white\",\"minorgridcolor\":\"white\",\"startlinecolor\":\"#2a3f5f\"},\"baxis\":{\"endlinecolor\":\"#2a3f5f\",\"gridcolor\":\"white\",\"linecolor\":\"white\",\"minorgridcolor\":\"white\",\"startlinecolor\":\"#2a3f5f\"},\"type\":\"carpet\"}],\"table\":[{\"cells\":{\"fill\":{\"color\":\"#EBF0F8\"},\"line\":{\"color\":\"white\"}},\"header\":{\"fill\":{\"color\":\"#C8D4E3\"},\"line\":{\"color\":\"white\"}},\"type\":\"table\"}],\"barpolar\":[{\"marker\":{\"line\":{\"color\":\"#E5ECF6\",\"width\":0.5},\"pattern\":{\"fillmode\":\"overlay\",\"size\":10,\"solidity\":0.2}},\"type\":\"barpolar\"}],\"pie\":[{\"automargin\":true,\"type\":\"pie\"}]},\"layout\":{\"autotypenumbers\":\"strict\",\"colorway\":[\"#636efa\",\"#EF553B\",\"#00cc96\",\"#ab63fa\",\"#FFA15A\",\"#19d3f3\",\"#FF6692\",\"#B6E880\",\"#FF97FF\",\"#FECB52\"],\"font\":{\"color\":\"#2a3f5f\"},\"hovermode\":\"closest\",\"hoverlabel\":{\"align\":\"left\"},\"paper_bgcolor\":\"white\",\"plot_bgcolor\":\"#E5ECF6\",\"polar\":{\"bgcolor\":\"#E5ECF6\",\"angularaxis\":{\"gridcolor\":\"white\",\"linecolor\":\"white\",\"ticks\":\"\"},\"radialaxis\":{\"gridcolor\":\"white\",\"linecolor\":\"white\",\"ticks\":\"\"}},\"ternary\":{\"bgcolor\":\"#E5ECF6\",\"aaxis\":{\"gridcolor\":\"white\",\"linecolor\":\"white\",\"ticks\":\"\"},\"baxis\":{\"gridcolor\":\"white\",\"linecolor\":\"white\",\"ticks\":\"\"},\"caxis\":{\"gridcolor\":\"white\",\"linecolor\":\"white\",\"ticks\":\"\"}},\"coloraxis\":{\"colorbar\":{\"outlinewidth\":0,\"ticks\":\"\"}},\"colorscale\":{\"sequential\":[[0.0,\"#0d0887\"],[0.1111111111111111,\"#46039f\"],[0.2222222222222222,\"#7201a8\"],[0.3333333333333333,\"#9c179e\"],[0.4444444444444444,\"#bd3786\"],[0.5555555555555556,\"#d8576b\"],[0.6666666666666666,\"#ed7953\"],[0.7777777777777778,\"#fb9f3a\"],[0.8888888888888888,\"#fdca26\"],[1.0,\"#f0f921\"]],\"sequentialminus\":[[0.0,\"#0d0887\"],[0.1111111111111111,\"#46039f\"],[0.2222222222222222,\"#7201a8\"],[0.3333333333333333,\"#9c179e\"],[0.4444444444444444,\"#bd3786\"],[0.5555555555555556,\"#d8576b\"],[0.6666666666666666,\"#ed7953\"],[0.7777777777777778,\"#fb9f3a\"],[0.8888888888888888,\"#fdca26\"],[1.0,\"#f0f921\"]],\"diverging\":[[0,\"#8e0152\"],[0.1,\"#c51b7d\"],[0.2,\"#de77ae\"],[0.3,\"#f1b6da\"],[0.4,\"#fde0ef\"],[0.5,\"#f7f7f7\"],[0.6,\"#e6f5d0\"],[0.7,\"#b8e186\"],[0.8,\"#7fbc41\"],[0.9,\"#4d9221\"],[1,\"#276419\"]]},\"xaxis\":{\"gridcolor\":\"white\",\"linecolor\":\"white\",\"ticks\":\"\",\"title\":{\"standoff\":15},\"zerolinecolor\":\"white\",\"automargin\":true,\"zerolinewidth\":2},\"yaxis\":{\"gridcolor\":\"white\",\"linecolor\":\"white\",\"ticks\":\"\",\"title\":{\"standoff\":15},\"zerolinecolor\":\"white\",\"automargin\":true,\"zerolinewidth\":2},\"scene\":{\"xaxis\":{\"backgroundcolor\":\"#E5ECF6\",\"gridcolor\":\"white\",\"linecolor\":\"white\",\"showbackground\":true,\"ticks\":\"\",\"zerolinecolor\":\"white\",\"gridwidth\":2},\"yaxis\":{\"backgroundcolor\":\"#E5ECF6\",\"gridcolor\":\"white\",\"linecolor\":\"white\",\"showbackground\":true,\"ticks\":\"\",\"zerolinecolor\":\"white\",\"gridwidth\":2},\"zaxis\":{\"backgroundcolor\":\"#E5ECF6\",\"gridcolor\":\"white\",\"linecolor\":\"white\",\"showbackground\":true,\"ticks\":\"\",\"zerolinecolor\":\"white\",\"gridwidth\":2}},\"shapedefaults\":{\"line\":{\"color\":\"#2a3f5f\"}},\"annotationdefaults\":{\"arrowcolor\":\"#2a3f5f\",\"arrowhead\":0,\"arrowwidth\":1},\"geo\":{\"bgcolor\":\"white\",\"landcolor\":\"#E5ECF6\",\"subunitcolor\":\"white\",\"showland\":true,\"showlakes\":true,\"lakecolor\":\"white\"},\"title\":{\"x\":0.05},\"mapbox\":{\"style\":\"light\"}}},\"xaxis\":{\"anchor\":\"y\",\"domain\":[0.0,1.0],\"title\":{\"text\":\"Probability\"}},\"yaxis\":{\"anchor\":\"x\",\"domain\":[0.0,1.0],\"title\":{\"text\":\"Occupation\"}},\"legend\":{\"tracegroupgap\":0},\"title\":{\"text\":\"Future of Employment Study\"},\"barmode\":\"relative\"},                        {\"responsive\": true}                    ).then(function(){\n",
              "                            \n",
              "var gd = document.getElementById('380a24c5-4df7-41b7-b777-c801a656d531');\n",
              "var x = new MutationObserver(function (mutations, observer) {{\n",
              "        var display = window.getComputedStyle(gd).display;\n",
              "        if (!display || display === 'none') {{\n",
              "            console.log([gd, 'removed!']);\n",
              "            Plotly.purge(gd);\n",
              "            observer.disconnect();\n",
              "        }}\n",
              "}});\n",
              "\n",
              "// Listen for the removal of the full notebook cells\n",
              "var notebookContainer = gd.closest('#notebook-container');\n",
              "if (notebookContainer) {{\n",
              "    x.observe(notebookContainer, {childList: true});\n",
              "}}\n",
              "\n",
              "// Listen for the clearing of the current output cell\n",
              "var outputEl = gd.closest('.output');\n",
              "if (outputEl) {{\n",
              "    x.observe(outputEl, {childList: true});\n",
              "}}\n",
              "\n",
              "                        })                };                });            </script>        </div>"
            ]
          },
          "metadata": {},
          "output_type": "display_data"
        }
      ],
      "source": [
        "fig = px.bar(job_automation_df[job_automation_df.education==\"Bachelor's degree\"].sort_values(by='probability',ascending=False).head(25), \n",
        "             x=\"probability\", \n",
        "             y=\"occupation\", \n",
        "             title=\"Future of Employment Study\"\n",
        "             )\n",
        "fig.update_layout(xaxis_title='Probability',\n",
        "                  yaxis_title='Occupation')\n",
        "fig.show()"
      ]
    },
    {
      "cell_type": "code",
      "execution_count": null,
      "id": "c75db5b3",
      "metadata": {
        "id": "c75db5b3"
      },
      "outputs": [],
      "source": []
    },
    {
      "cell_type": "code",
      "execution_count": null,
      "id": "232f0ab3",
      "metadata": {
        "id": "232f0ab3"
      },
      "outputs": [],
      "source": []
    },
    {
      "cell_type": "markdown",
      "id": "bc596a2d",
      "metadata": {
        "id": "bc596a2d"
      },
      "source": [
        "> **(Optional) Question:** What other insights can you derive from the above data. Create some more visualizations and summarize your insights below."
      ]
    },
    {
      "cell_type": "code",
      "execution_count": null,
      "id": "1f741a82",
      "metadata": {
        "id": "1f741a82"
      },
      "outputs": [],
      "source": []
    },
    {
      "cell_type": "code",
      "execution_count": null,
      "id": "f70a25da",
      "metadata": {
        "id": "f70a25da"
      },
      "outputs": [],
      "source": []
    },
    {
      "cell_type": "markdown",
      "id": "f3a90e41",
      "metadata": {
        "id": "f3a90e41"
      },
      "source": [
        "Let's save our work before continuing."
      ]
    },
    {
      "cell_type": "code",
      "execution_count": null,
      "id": "b13f5a94",
      "metadata": {
        "colab": {
          "base_uri": "https://localhost:8080/"
        },
        "id": "b13f5a94",
        "outputId": "56f66ed8-3c0e-4a1b-a735-f4f2be847046"
      },
      "outputs": [
        {
          "data": {
            "application/javascript": [
              "window.require && require([\"base/js/namespace\"],function(Jupyter){Jupyter.notebook.save_checkpoint()})"
            ],
            "text/plain": [
              "<IPython.core.display.Javascript object>"
            ]
          },
          "metadata": {},
          "output_type": "display_data"
        },
        {
          "name": "stdout",
          "output_type": "stream",
          "text": [
            "[jovian] Updating notebook \"ankyhunk-bg4/data-analysis-visualization-practice-assignment\" on https://jovian.ai\u001b[0m\n",
            "[jovian] Committed successfully! https://jovian.ai/ankyhunk-bg4/data-analysis-visualization-practice-assignment\u001b[0m\n"
          ]
        },
        {
          "data": {
            "text/plain": [
              "'https://jovian.ai/ankyhunk-bg4/data-analysis-visualization-practice-assignment'"
            ]
          },
          "execution_count": 68,
          "metadata": {},
          "output_type": "execute_result"
        }
      ],
      "source": [
        "jovian.commit()"
      ]
    },
    {
      "cell_type": "markdown",
      "id": "eb697c53",
      "metadata": {
        "id": "eb697c53"
      },
      "source": [
        "> **QUESTION 5 (Geographical Map):** `nuclear_waste_url` points to a CSV file containing the locations of several nuclear waste storage sites in the United States. Show these sites as markers on a map of the United States. Clicking on a marker should display the name of the site. Pick the appropriate location, Zoom level and images tiles for the map."
      ]
    },
    {
      "cell_type": "code",
      "execution_count": null,
      "id": "8101bfad",
      "metadata": {
        "id": "8101bfad"
      },
      "outputs": [],
      "source": [
        "nuclear_waste_url = 'https://raw.githubusercontent.com/plotly/datasets/master/Nuclear%20Waste%20Sites%20on%20American%20Campuses.csv'"
      ]
    },
    {
      "cell_type": "code",
      "execution_count": null,
      "id": "fff7dc09",
      "metadata": {
        "id": "fff7dc09"
      },
      "outputs": [],
      "source": [
        "nuclear_waste_df = pd.read_csv(nuclear_waste_url)"
      ]
    },
    {
      "cell_type": "code",
      "execution_count": null,
      "id": "dd582278",
      "metadata": {
        "colab": {
          "base_uri": "https://localhost:8080/",
          "height": 959
        },
        "id": "dd582278",
        "outputId": "16abf04a-0579-45e8-8154-6e91dee72fe7"
      },
      "outputs": [
        {
          "data": {
            "text/html": [
              "<div>\n",
              "<style scoped>\n",
              "    .dataframe tbody tr th:only-of-type {\n",
              "        vertical-align: middle;\n",
              "    }\n",
              "\n",
              "    .dataframe tbody tr th {\n",
              "        vertical-align: top;\n",
              "    }\n",
              "\n",
              "    .dataframe thead th {\n",
              "        text-align: right;\n",
              "    }\n",
              "</style>\n",
              "<table border=\"1\" class=\"dataframe\">\n",
              "  <thead>\n",
              "    <tr style=\"text-align: right;\">\n",
              "      <th></th>\n",
              "      <th>lat</th>\n",
              "      <th>lon</th>\n",
              "      <th>text</th>\n",
              "    </tr>\n",
              "  </thead>\n",
              "  <tbody>\n",
              "    <tr>\n",
              "      <th>0</th>\n",
              "      <td>35.888827</td>\n",
              "      <td>-106.305022</td>\n",
              "      <td>Acid/Pueblo Canyon</td>\n",
              "    </tr>\n",
              "    <tr>\n",
              "      <th>1</th>\n",
              "      <td>39.503487</td>\n",
              "      <td>-84.743859</td>\n",
              "      <td>Alba Craft Shop</td>\n",
              "    </tr>\n",
              "    <tr>\n",
              "      <th>2</th>\n",
              "      <td>44.620822</td>\n",
              "      <td>-123.120917</td>\n",
              "      <td>\"Albany, Oregon, FUSRAP Site\"</td>\n",
              "    </tr>\n",
              "    <tr>\n",
              "      <th>3</th>\n",
              "      <td>40.641371</td>\n",
              "      <td>-80.242936</td>\n",
              "      <td>Aliquippa Forge</td>\n",
              "    </tr>\n",
              "    <tr>\n",
              "      <th>4</th>\n",
              "      <td>39.361063</td>\n",
              "      <td>-84.540750</td>\n",
              "      <td>Associated Aircraft Tool and Manufacturing Co.</td>\n",
              "    </tr>\n",
              "    <tr>\n",
              "      <th>5</th>\n",
              "      <td>39.957354</td>\n",
              "      <td>-83.011455</td>\n",
              "      <td>B &amp; T Metals</td>\n",
              "    </tr>\n",
              "    <tr>\n",
              "      <th>6</th>\n",
              "      <td>41.672189</td>\n",
              "      <td>-83.568625</td>\n",
              "      <td>Baker Brothers</td>\n",
              "    </tr>\n",
              "    <tr>\n",
              "      <th>7</th>\n",
              "      <td>40.746102</td>\n",
              "      <td>-74.006642</td>\n",
              "      <td>Baker and Williams Warehouses</td>\n",
              "    </tr>\n",
              "    <tr>\n",
              "      <th>8</th>\n",
              "      <td>35.899725</td>\n",
              "      <td>-106.290127</td>\n",
              "      <td>\"Bayo Canyon, New Mexico, FUSRAP Site\"</td>\n",
              "    </tr>\n",
              "    <tr>\n",
              "      <th>9</th>\n",
              "      <td>42.841147</td>\n",
              "      <td>-78.834060</td>\n",
              "      <td>Bliss and Laughlin Steel</td>\n",
              "    </tr>\n",
              "    <tr>\n",
              "      <th>10</th>\n",
              "      <td>41.888102</td>\n",
              "      <td>-84.016479</td>\n",
              "      <td>Bridgeport Brass Co.</td>\n",
              "    </tr>\n",
              "    <tr>\n",
              "      <th>11</th>\n",
              "      <td>40.537611</td>\n",
              "      <td>-79.782094</td>\n",
              "      <td>C.H. Schnorr</td>\n",
              "    </tr>\n",
              "    <tr>\n",
              "      <th>12</th>\n",
              "      <td>42.154201</td>\n",
              "      <td>-72.499778</td>\n",
              "      <td>Chapman Valve</td>\n",
              "    </tr>\n",
              "    <tr>\n",
              "      <th>13</th>\n",
              "      <td>34.214928</td>\n",
              "      <td>-105.879321</td>\n",
              "      <td>\"Chupadera Mesa, New Mexico, FUSRAP Site\"</td>\n",
              "    </tr>\n",
              "    <tr>\n",
              "      <th>14</th>\n",
              "      <td>38.687031</td>\n",
              "      <td>-90.167362</td>\n",
              "      <td>\"Dow Chemical Co., Madison Site\"</td>\n",
              "    </tr>\n",
              "    <tr>\n",
              "      <th>15</th>\n",
              "      <td>38.692620</td>\n",
              "      <td>-90.162290</td>\n",
              "      <td>General Steel Industries</td>\n",
              "    </tr>\n",
              "    <tr>\n",
              "      <th>16</th>\n",
              "      <td>37.872571</td>\n",
              "      <td>-122.256179</td>\n",
              "      <td>\"Gilman Hall, University of California at Berk...</td>\n",
              "    </tr>\n",
              "    <tr>\n",
              "      <th>17</th>\n",
              "      <td>39.382249</td>\n",
              "      <td>-84.547111</td>\n",
              "      <td>Hamilton OH Site</td>\n",
              "    </tr>\n",
              "    <tr>\n",
              "      <th>18</th>\n",
              "      <td>40.708736</td>\n",
              "      <td>-74.101281</td>\n",
              "      <td>Jersey City FUSRAP Site</td>\n",
              "    </tr>\n",
              "    <tr>\n",
              "      <th>19</th>\n",
              "      <td>40.577768</td>\n",
              "      <td>-74.496564</td>\n",
              "      <td>Middlesex North Site</td>\n",
              "    </tr>\n",
              "    <tr>\n",
              "      <th>20</th>\n",
              "      <td>41.798684</td>\n",
              "      <td>-87.606937</td>\n",
              "      <td>National Guard Armory</td>\n",
              "    </tr>\n",
              "    <tr>\n",
              "      <th>21</th>\n",
              "      <td>40.470280</td>\n",
              "      <td>-74.476254</td>\n",
              "      <td>\"New Brunswick, NJ, FUSRAP Site\"</td>\n",
              "    </tr>\n",
              "    <tr>\n",
              "      <th>22</th>\n",
              "      <td>43.220906</td>\n",
              "      <td>-78.973731</td>\n",
              "      <td>Niagara Falls Vicinity Properties</td>\n",
              "    </tr>\n",
              "    <tr>\n",
              "      <th>23</th>\n",
              "      <td>36.042730</td>\n",
              "      <td>-84.206653</td>\n",
              "      <td>\"Oak Ridge, TN, Warehouse Site\"</td>\n",
              "    </tr>\n",
              "    <tr>\n",
              "      <th>24</th>\n",
              "      <td>41.400790</td>\n",
              "      <td>-73.072232</td>\n",
              "      <td>Seymour Specialty Wire</td>\n",
              "    </tr>\n",
              "    <tr>\n",
              "      <th>25</th>\n",
              "      <td>42.991837</td>\n",
              "      <td>-78.920101</td>\n",
              "      <td>Tonawanda North FUSRAP Site</td>\n",
              "    </tr>\n",
              "    <tr>\n",
              "      <th>26</th>\n",
              "      <td>41.792480</td>\n",
              "      <td>-87.601036</td>\n",
              "      <td>University of Chicago Metallurgical Laboratory</td>\n",
              "    </tr>\n",
              "    <tr>\n",
              "      <th>27</th>\n",
              "      <td>42.540470</td>\n",
              "      <td>-70.888808</td>\n",
              "      <td>Ventron Corporation</td>\n",
              "    </tr>\n",
              "    <tr>\n",
              "      <th>28</th>\n",
              "      <td>40.969628</td>\n",
              "      <td>-74.270779</td>\n",
              "      <td>Wayne FUSRAP Site</td>\n",
              "    </tr>\n",
              "  </tbody>\n",
              "</table>\n",
              "</div>"
            ],
            "text/plain": [
              "          lat         lon                                               text\n",
              "0   35.888827 -106.305022                                 Acid/Pueblo Canyon\n",
              "1   39.503487  -84.743859                                    Alba Craft Shop\n",
              "2   44.620822 -123.120917                      \"Albany, Oregon, FUSRAP Site\"\n",
              "3   40.641371  -80.242936                                    Aliquippa Forge\n",
              "4   39.361063  -84.540750     Associated Aircraft Tool and Manufacturing Co.\n",
              "5   39.957354  -83.011455                                       B & T Metals\n",
              "6   41.672189  -83.568625                                     Baker Brothers\n",
              "7   40.746102  -74.006642                      Baker and Williams Warehouses\n",
              "8   35.899725 -106.290127             \"Bayo Canyon, New Mexico, FUSRAP Site\"\n",
              "9   42.841147  -78.834060                           Bliss and Laughlin Steel\n",
              "10  41.888102  -84.016479                               Bridgeport Brass Co.\n",
              "11  40.537611  -79.782094                                       C.H. Schnorr\n",
              "12  42.154201  -72.499778                                      Chapman Valve\n",
              "13  34.214928 -105.879321          \"Chupadera Mesa, New Mexico, FUSRAP Site\"\n",
              "14  38.687031  -90.167362                   \"Dow Chemical Co., Madison Site\"\n",
              "15  38.692620  -90.162290                           General Steel Industries\n",
              "16  37.872571 -122.256179  \"Gilman Hall, University of California at Berk...\n",
              "17  39.382249  -84.547111                                   Hamilton OH Site\n",
              "18  40.708736  -74.101281                            Jersey City FUSRAP Site\n",
              "19  40.577768  -74.496564                               Middlesex North Site\n",
              "20  41.798684  -87.606937                              National Guard Armory\n",
              "21  40.470280  -74.476254                   \"New Brunswick, NJ, FUSRAP Site\"\n",
              "22  43.220906  -78.973731                  Niagara Falls Vicinity Properties\n",
              "23  36.042730  -84.206653                    \"Oak Ridge, TN, Warehouse Site\"\n",
              "24  41.400790  -73.072232                             Seymour Specialty Wire\n",
              "25  42.991837  -78.920101                        Tonawanda North FUSRAP Site\n",
              "26  41.792480  -87.601036     University of Chicago Metallurgical Laboratory\n",
              "27  42.540470  -70.888808                                Ventron Corporation\n",
              "28  40.969628  -74.270779                                  Wayne FUSRAP Site"
            ]
          },
          "execution_count": 71,
          "metadata": {},
          "output_type": "execute_result"
        }
      ],
      "source": [
        "nuclear_waste_df"
      ]
    },
    {
      "cell_type": "code",
      "execution_count": null,
      "id": "24d593ae",
      "metadata": {
        "colab": {
          "base_uri": "https://localhost:8080/",
          "height": 763
        },
        "id": "24d593ae",
        "outputId": "fd5b5a6f-6cee-4ec4-fc91-549b8e84b93c"
      },
      "outputs": [
        {
          "data": {
            "text/html": [
              "<div style=\"width:100%;\"><div style=\"position:relative;width:100%;height:0;padding-bottom:60%;\"><span style=\"color:#565656\">Make this Notebook Trusted to load map: File -> Trust Notebook</span><iframe srcdoc=\"&lt;!DOCTYPE html&gt;\n",
              "&lt;html&gt;\n",
              "&lt;head&gt;\n",
              "    \n",
              "    &lt;meta http-equiv=&quot;content-type&quot; content=&quot;text/html; charset=UTF-8&quot; /&gt;\n",
              "    \n",
              "        &lt;script&gt;\n",
              "            L_NO_TOUCH = false;\n",
              "            L_DISABLE_3D = false;\n",
              "        &lt;/script&gt;\n",
              "    \n",
              "    &lt;style&gt;html, body {width: 100%;height: 100%;margin: 0;padding: 0;}&lt;/style&gt;\n",
              "    &lt;style&gt;#map {position:absolute;top:0;bottom:0;right:0;left:0;}&lt;/style&gt;\n",
              "    &lt;script src=&quot;https://cdn.jsdelivr.net/npm/leaflet@1.6.0/dist/leaflet.js&quot;&gt;&lt;/script&gt;\n",
              "    &lt;script src=&quot;https://code.jquery.com/jquery-1.12.4.min.js&quot;&gt;&lt;/script&gt;\n",
              "    &lt;script src=&quot;https://maxcdn.bootstrapcdn.com/bootstrap/3.2.0/js/bootstrap.min.js&quot;&gt;&lt;/script&gt;\n",
              "    &lt;script src=&quot;https://cdnjs.cloudflare.com/ajax/libs/Leaflet.awesome-markers/2.0.2/leaflet.awesome-markers.js&quot;&gt;&lt;/script&gt;\n",
              "    &lt;link rel=&quot;stylesheet&quot; href=&quot;https://cdn.jsdelivr.net/npm/leaflet@1.6.0/dist/leaflet.css&quot;/&gt;\n",
              "    &lt;link rel=&quot;stylesheet&quot; href=&quot;https://maxcdn.bootstrapcdn.com/bootstrap/3.2.0/css/bootstrap.min.css&quot;/&gt;\n",
              "    &lt;link rel=&quot;stylesheet&quot; href=&quot;https://maxcdn.bootstrapcdn.com/bootstrap/3.2.0/css/bootstrap-theme.min.css&quot;/&gt;\n",
              "    &lt;link rel=&quot;stylesheet&quot; href=&quot;https://maxcdn.bootstrapcdn.com/font-awesome/4.6.3/css/font-awesome.min.css&quot;/&gt;\n",
              "    &lt;link rel=&quot;stylesheet&quot; href=&quot;https://cdnjs.cloudflare.com/ajax/libs/Leaflet.awesome-markers/2.0.2/leaflet.awesome-markers.css&quot;/&gt;\n",
              "    &lt;link rel=&quot;stylesheet&quot; href=&quot;https://cdn.jsdelivr.net/gh/python-visualization/folium/folium/templates/leaflet.awesome.rotate.min.css&quot;/&gt;\n",
              "    \n",
              "            &lt;meta name=&quot;viewport&quot; content=&quot;width=device-width,\n",
              "                initial-scale=1.0, maximum-scale=1.0, user-scalable=no&quot; /&gt;\n",
              "            &lt;style&gt;\n",
              "                #map_d75ffde90e3c3e317e3824173747db00 {\n",
              "                    position: relative;\n",
              "                    width: 100.0%;\n",
              "                    height: 100.0%;\n",
              "                    left: 0.0%;\n",
              "                    top: 0.0%;\n",
              "                }\n",
              "            &lt;/style&gt;\n",
              "        \n",
              "&lt;/head&gt;\n",
              "&lt;body&gt;\n",
              "    \n",
              "    \n",
              "            &lt;div class=&quot;folium-map&quot; id=&quot;map_d75ffde90e3c3e317e3824173747db00&quot; &gt;&lt;/div&gt;\n",
              "        \n",
              "&lt;/body&gt;\n",
              "&lt;script&gt;\n",
              "    \n",
              "    \n",
              "            var map_d75ffde90e3c3e317e3824173747db00 = L.map(\n",
              "                &quot;map_d75ffde90e3c3e317e3824173747db00&quot;,\n",
              "                {\n",
              "                    center: [35.8888273, -106.3050223],\n",
              "                    crs: L.CRS.EPSG3857,\n",
              "                    zoom: 5,\n",
              "                    zoomControl: true,\n",
              "                    preferCanvas: false,\n",
              "                }\n",
              "            );\n",
              "\n",
              "            \n",
              "\n",
              "        \n",
              "    \n",
              "            var tile_layer_2ed22bcc781109c57d4a86da3b86dc7a = L.tileLayer(\n",
              "                &quot;https://stamen-tiles-{s}.a.ssl.fastly.net/terrain/{z}/{x}/{y}.jpg&quot;,\n",
              "                {&quot;attribution&quot;: &quot;Map tiles by \\u003ca href=\\&quot;http://stamen.com\\&quot;\\u003eStamen Design\\u003c/a\\u003e, under \\u003ca href=\\&quot;http://creativecommons.org/licenses/by/3.0\\&quot;\\u003eCC BY 3.0\\u003c/a\\u003e. Data by \\u0026copy; \\u003ca href=\\&quot;http://openstreetmap.org\\&quot;\\u003eOpenStreetMap\\u003c/a\\u003e, under \\u003ca href=\\&quot;http://creativecommons.org/licenses/by-sa/3.0\\&quot;\\u003eCC BY SA\\u003c/a\\u003e.&quot;, &quot;detectRetina&quot;: false, &quot;maxNativeZoom&quot;: 18, &quot;maxZoom&quot;: 18, &quot;minZoom&quot;: 0, &quot;noWrap&quot;: false, &quot;opacity&quot;: 1, &quot;subdomains&quot;: &quot;abc&quot;, &quot;tms&quot;: false}\n",
              "            ).addTo(map_d75ffde90e3c3e317e3824173747db00);\n",
              "        \n",
              "    \n",
              "            var marker_846757daba961e080f7ab3d74c5e26e8 = L.marker(\n",
              "                [35.8888273, -106.3050223],\n",
              "                {}\n",
              "            ).addTo(map_d75ffde90e3c3e317e3824173747db00);\n",
              "        \n",
              "    \n",
              "        var popup_e677280f476fc0c9ed254e1c5d8d07d1 = L.popup({&quot;maxWidth&quot;: &quot;100%&quot;});\n",
              "\n",
              "        \n",
              "            \n",
              "                var html_6daef5e282def77f173a1f0f33a40420 = $(`&lt;div id=&quot;html_6daef5e282def77f173a1f0f33a40420&quot; style=&quot;width: 100.0%; height: 100.0%;&quot;&gt;Acid/Pueblo Canyon&lt;/div&gt;`)[0];\n",
              "                popup_e677280f476fc0c9ed254e1c5d8d07d1.setContent(html_6daef5e282def77f173a1f0f33a40420);\n",
              "            \n",
              "        \n",
              "\n",
              "        marker_846757daba961e080f7ab3d74c5e26e8.bindPopup(popup_e677280f476fc0c9ed254e1c5d8d07d1)\n",
              "        ;\n",
              "\n",
              "        \n",
              "    \n",
              "    \n",
              "            marker_846757daba961e080f7ab3d74c5e26e8.bindTooltip(\n",
              "                `&lt;div&gt;\n",
              "                     Click me!\n",
              "                 &lt;/div&gt;`,\n",
              "                {&quot;sticky&quot;: true}\n",
              "            );\n",
              "        \n",
              "    \n",
              "            var marker_73462541b2b29b61050f832461fae8fd = L.marker(\n",
              "                [39.5034873, -84.7438586],\n",
              "                {}\n",
              "            ).addTo(map_d75ffde90e3c3e317e3824173747db00);\n",
              "        \n",
              "    \n",
              "        var popup_5bb1c45a11896f06ade4714f5cb4eaf3 = L.popup({&quot;maxWidth&quot;: &quot;100%&quot;});\n",
              "\n",
              "        \n",
              "            \n",
              "                var html_5b2c644e63741ab7c095105d0671b72a = $(`&lt;div id=&quot;html_5b2c644e63741ab7c095105d0671b72a&quot; style=&quot;width: 100.0%; height: 100.0%;&quot;&gt;Alba Craft Shop&lt;/div&gt;`)[0];\n",
              "                popup_5bb1c45a11896f06ade4714f5cb4eaf3.setContent(html_5b2c644e63741ab7c095105d0671b72a);\n",
              "            \n",
              "        \n",
              "\n",
              "        marker_73462541b2b29b61050f832461fae8fd.bindPopup(popup_5bb1c45a11896f06ade4714f5cb4eaf3)\n",
              "        ;\n",
              "\n",
              "        \n",
              "    \n",
              "    \n",
              "            marker_73462541b2b29b61050f832461fae8fd.bindTooltip(\n",
              "                `&lt;div&gt;\n",
              "                     Click me!\n",
              "                 &lt;/div&gt;`,\n",
              "                {&quot;sticky&quot;: true}\n",
              "            );\n",
              "        \n",
              "    \n",
              "            var marker_f08a68d3045d3d624917345a59b9f418 = L.marker(\n",
              "                [44.6208218, -123.1209165],\n",
              "                {}\n",
              "            ).addTo(map_d75ffde90e3c3e317e3824173747db00);\n",
              "        \n",
              "    \n",
              "        var popup_d993206f55df6cf2bdfb682ade30d666 = L.popup({&quot;maxWidth&quot;: &quot;100%&quot;});\n",
              "\n",
              "        \n",
              "            \n",
              "                var html_6fd2fde9a640cf0f1bf292f54aa80a63 = $(`&lt;div id=&quot;html_6fd2fde9a640cf0f1bf292f54aa80a63&quot; style=&quot;width: 100.0%; height: 100.0%;&quot;&gt;&quot;Albany, Oregon, FUSRAP Site&quot;&lt;/div&gt;`)[0];\n",
              "                popup_d993206f55df6cf2bdfb682ade30d666.setContent(html_6fd2fde9a640cf0f1bf292f54aa80a63);\n",
              "            \n",
              "        \n",
              "\n",
              "        marker_f08a68d3045d3d624917345a59b9f418.bindPopup(popup_d993206f55df6cf2bdfb682ade30d666)\n",
              "        ;\n",
              "\n",
              "        \n",
              "    \n",
              "    \n",
              "            marker_f08a68d3045d3d624917345a59b9f418.bindTooltip(\n",
              "                `&lt;div&gt;\n",
              "                     Click me!\n",
              "                 &lt;/div&gt;`,\n",
              "                {&quot;sticky&quot;: true}\n",
              "            );\n",
              "        \n",
              "    \n",
              "            var marker_13d80c845f5ad0a5d144b8a2c6aa94b1 = L.marker(\n",
              "                [40.641371, -80.242936],\n",
              "                {}\n",
              "            ).addTo(map_d75ffde90e3c3e317e3824173747db00);\n",
              "        \n",
              "    \n",
              "        var popup_6104dca87dc13f709262a4d912c01603 = L.popup({&quot;maxWidth&quot;: &quot;100%&quot;});\n",
              "\n",
              "        \n",
              "            \n",
              "                var html_31f077c097953d744908ba00fa3f7e24 = $(`&lt;div id=&quot;html_31f077c097953d744908ba00fa3f7e24&quot; style=&quot;width: 100.0%; height: 100.0%;&quot;&gt;Aliquippa Forge&lt;/div&gt;`)[0];\n",
              "                popup_6104dca87dc13f709262a4d912c01603.setContent(html_31f077c097953d744908ba00fa3f7e24);\n",
              "            \n",
              "        \n",
              "\n",
              "        marker_13d80c845f5ad0a5d144b8a2c6aa94b1.bindPopup(popup_6104dca87dc13f709262a4d912c01603)\n",
              "        ;\n",
              "\n",
              "        \n",
              "    \n",
              "    \n",
              "            marker_13d80c845f5ad0a5d144b8a2c6aa94b1.bindTooltip(\n",
              "                `&lt;div&gt;\n",
              "                     Click me!\n",
              "                 &lt;/div&gt;`,\n",
              "                {&quot;sticky&quot;: true}\n",
              "            );\n",
              "        \n",
              "    \n",
              "            var marker_df6b9b390bb0413013516a13d2ce9cb4 = L.marker(\n",
              "                [39.361063, -84.54075],\n",
              "                {}\n",
              "            ).addTo(map_d75ffde90e3c3e317e3824173747db00);\n",
              "        \n",
              "    \n",
              "        var popup_3e86baa6d9deede3974b865325bbefed = L.popup({&quot;maxWidth&quot;: &quot;100%&quot;});\n",
              "\n",
              "        \n",
              "            \n",
              "                var html_c94801813bd1ff39758ca66972747f01 = $(`&lt;div id=&quot;html_c94801813bd1ff39758ca66972747f01&quot; style=&quot;width: 100.0%; height: 100.0%;&quot;&gt;Associated Aircraft Tool and Manufacturing Co.&lt;/div&gt;`)[0];\n",
              "                popup_3e86baa6d9deede3974b865325bbefed.setContent(html_c94801813bd1ff39758ca66972747f01);\n",
              "            \n",
              "        \n",
              "\n",
              "        marker_df6b9b390bb0413013516a13d2ce9cb4.bindPopup(popup_3e86baa6d9deede3974b865325bbefed)\n",
              "        ;\n",
              "\n",
              "        \n",
              "    \n",
              "    \n",
              "            marker_df6b9b390bb0413013516a13d2ce9cb4.bindTooltip(\n",
              "                `&lt;div&gt;\n",
              "                     Click me!\n",
              "                 &lt;/div&gt;`,\n",
              "                {&quot;sticky&quot;: true}\n",
              "            );\n",
              "        \n",
              "    \n",
              "            var marker_0101cbe32111c9941245c680a589e6dc = L.marker(\n",
              "                [39.9573541, -83.0114552],\n",
              "                {}\n",
              "            ).addTo(map_d75ffde90e3c3e317e3824173747db00);\n",
              "        \n",
              "    \n",
              "        var popup_ccf7d21994e64c93f4c48def6af053b9 = L.popup({&quot;maxWidth&quot;: &quot;100%&quot;});\n",
              "\n",
              "        \n",
              "            \n",
              "                var html_83385f6a80e1924593680e5ea44126c6 = $(`&lt;div id=&quot;html_83385f6a80e1924593680e5ea44126c6&quot; style=&quot;width: 100.0%; height: 100.0%;&quot;&gt;B &amp; T Metals&lt;/div&gt;`)[0];\n",
              "                popup_ccf7d21994e64c93f4c48def6af053b9.setContent(html_83385f6a80e1924593680e5ea44126c6);\n",
              "            \n",
              "        \n",
              "\n",
              "        marker_0101cbe32111c9941245c680a589e6dc.bindPopup(popup_ccf7d21994e64c93f4c48def6af053b9)\n",
              "        ;\n",
              "\n",
              "        \n",
              "    \n",
              "    \n",
              "            marker_0101cbe32111c9941245c680a589e6dc.bindTooltip(\n",
              "                `&lt;div&gt;\n",
              "                     Click me!\n",
              "                 &lt;/div&gt;`,\n",
              "                {&quot;sticky&quot;: true}\n",
              "            );\n",
              "        \n",
              "    \n",
              "            var marker_163d417e8bf977ec5f83975eff33e2c8 = L.marker(\n",
              "                [41.672189, -83.568625],\n",
              "                {}\n",
              "            ).addTo(map_d75ffde90e3c3e317e3824173747db00);\n",
              "        \n",
              "    \n",
              "        var popup_18dd32fadba6057dc3d9ae4d4b8cafa0 = L.popup({&quot;maxWidth&quot;: &quot;100%&quot;});\n",
              "\n",
              "        \n",
              "            \n",
              "                var html_09a8047c0e383712fab1ee84bc07f5b6 = $(`&lt;div id=&quot;html_09a8047c0e383712fab1ee84bc07f5b6&quot; style=&quot;width: 100.0%; height: 100.0%;&quot;&gt;Baker Brothers&lt;/div&gt;`)[0];\n",
              "                popup_18dd32fadba6057dc3d9ae4d4b8cafa0.setContent(html_09a8047c0e383712fab1ee84bc07f5b6);\n",
              "            \n",
              "        \n",
              "\n",
              "        marker_163d417e8bf977ec5f83975eff33e2c8.bindPopup(popup_18dd32fadba6057dc3d9ae4d4b8cafa0)\n",
              "        ;\n",
              "\n",
              "        \n",
              "    \n",
              "    \n",
              "            marker_163d417e8bf977ec5f83975eff33e2c8.bindTooltip(\n",
              "                `&lt;div&gt;\n",
              "                     Click me!\n",
              "                 &lt;/div&gt;`,\n",
              "                {&quot;sticky&quot;: true}\n",
              "            );\n",
              "        \n",
              "    \n",
              "            var marker_91fabc60329a73256498bbe03d2592fc = L.marker(\n",
              "                [40.746102, -74.0066415],\n",
              "                {}\n",
              "            ).addTo(map_d75ffde90e3c3e317e3824173747db00);\n",
              "        \n",
              "    \n",
              "        var popup_352b8659362b74cc0bd2dcd6c9b8b304 = L.popup({&quot;maxWidth&quot;: &quot;100%&quot;});\n",
              "\n",
              "        \n",
              "            \n",
              "                var html_c30bac44c73e96ee5b90af65df1751f8 = $(`&lt;div id=&quot;html_c30bac44c73e96ee5b90af65df1751f8&quot; style=&quot;width: 100.0%; height: 100.0%;&quot;&gt;Baker and Williams Warehouses&lt;/div&gt;`)[0];\n",
              "                popup_352b8659362b74cc0bd2dcd6c9b8b304.setContent(html_c30bac44c73e96ee5b90af65df1751f8);\n",
              "            \n",
              "        \n",
              "\n",
              "        marker_91fabc60329a73256498bbe03d2592fc.bindPopup(popup_352b8659362b74cc0bd2dcd6c9b8b304)\n",
              "        ;\n",
              "\n",
              "        \n",
              "    \n",
              "    \n",
              "            marker_91fabc60329a73256498bbe03d2592fc.bindTooltip(\n",
              "                `&lt;div&gt;\n",
              "                     Click me!\n",
              "                 &lt;/div&gt;`,\n",
              "                {&quot;sticky&quot;: true}\n",
              "            );\n",
              "        \n",
              "    \n",
              "            var marker_2096841f8d811007df8225dcb535b9ca = L.marker(\n",
              "                [35.8997249, -106.2901271],\n",
              "                {}\n",
              "            ).addTo(map_d75ffde90e3c3e317e3824173747db00);\n",
              "        \n",
              "    \n",
              "        var popup_f108f8cad6e4921e509f676c9fec4af6 = L.popup({&quot;maxWidth&quot;: &quot;100%&quot;});\n",
              "\n",
              "        \n",
              "            \n",
              "                var html_58ce0632c8ec2206af79cc8088ce8476 = $(`&lt;div id=&quot;html_58ce0632c8ec2206af79cc8088ce8476&quot; style=&quot;width: 100.0%; height: 100.0%;&quot;&gt;&quot;Bayo Canyon, New Mexico, FUSRAP Site&quot;&lt;/div&gt;`)[0];\n",
              "                popup_f108f8cad6e4921e509f676c9fec4af6.setContent(html_58ce0632c8ec2206af79cc8088ce8476);\n",
              "            \n",
              "        \n",
              "\n",
              "        marker_2096841f8d811007df8225dcb535b9ca.bindPopup(popup_f108f8cad6e4921e509f676c9fec4af6)\n",
              "        ;\n",
              "\n",
              "        \n",
              "    \n",
              "    \n",
              "            marker_2096841f8d811007df8225dcb535b9ca.bindTooltip(\n",
              "                `&lt;div&gt;\n",
              "                     Click me!\n",
              "                 &lt;/div&gt;`,\n",
              "                {&quot;sticky&quot;: true}\n",
              "            );\n",
              "        \n",
              "    \n",
              "            var marker_cd65b227211d5e8ca2fac0c42536f7b3 = L.marker(\n",
              "                [42.841147, -78.83406],\n",
              "                {}\n",
              "            ).addTo(map_d75ffde90e3c3e317e3824173747db00);\n",
              "        \n",
              "    \n",
              "        var popup_f38d656d7fb7216e021dbea9033825ed = L.popup({&quot;maxWidth&quot;: &quot;100%&quot;});\n",
              "\n",
              "        \n",
              "            \n",
              "                var html_fe07859685d30337e631ae12782334d1 = $(`&lt;div id=&quot;html_fe07859685d30337e631ae12782334d1&quot; style=&quot;width: 100.0%; height: 100.0%;&quot;&gt;Bliss and Laughlin Steel&lt;/div&gt;`)[0];\n",
              "                popup_f38d656d7fb7216e021dbea9033825ed.setContent(html_fe07859685d30337e631ae12782334d1);\n",
              "            \n",
              "        \n",
              "\n",
              "        marker_cd65b227211d5e8ca2fac0c42536f7b3.bindPopup(popup_f38d656d7fb7216e021dbea9033825ed)\n",
              "        ;\n",
              "\n",
              "        \n",
              "    \n",
              "    \n",
              "            marker_cd65b227211d5e8ca2fac0c42536f7b3.bindTooltip(\n",
              "                `&lt;div&gt;\n",
              "                     Click me!\n",
              "                 &lt;/div&gt;`,\n",
              "                {&quot;sticky&quot;: true}\n",
              "            );\n",
              "        \n",
              "    \n",
              "            var marker_ea900499740e6500aa6f87fa1ff19eb8 = L.marker(\n",
              "                [41.8881016, -84.0164792],\n",
              "                {}\n",
              "            ).addTo(map_d75ffde90e3c3e317e3824173747db00);\n",
              "        \n",
              "    \n",
              "        var popup_cecd5d22744dbf7b3d1c5d356744502e = L.popup({&quot;maxWidth&quot;: &quot;100%&quot;});\n",
              "\n",
              "        \n",
              "            \n",
              "                var html_d0649e7899b182e7974711a6cf987e14 = $(`&lt;div id=&quot;html_d0649e7899b182e7974711a6cf987e14&quot; style=&quot;width: 100.0%; height: 100.0%;&quot;&gt;Bridgeport Brass Co.&lt;/div&gt;`)[0];\n",
              "                popup_cecd5d22744dbf7b3d1c5d356744502e.setContent(html_d0649e7899b182e7974711a6cf987e14);\n",
              "            \n",
              "        \n",
              "\n",
              "        marker_ea900499740e6500aa6f87fa1ff19eb8.bindPopup(popup_cecd5d22744dbf7b3d1c5d356744502e)\n",
              "        ;\n",
              "\n",
              "        \n",
              "    \n",
              "    \n",
              "            marker_ea900499740e6500aa6f87fa1ff19eb8.bindTooltip(\n",
              "                `&lt;div&gt;\n",
              "                     Click me!\n",
              "                 &lt;/div&gt;`,\n",
              "                {&quot;sticky&quot;: true}\n",
              "            );\n",
              "        \n",
              "    \n",
              "            var marker_65dc7ada03cd356f625408f9f4267500 = L.marker(\n",
              "                [40.5376109, -79.7820937],\n",
              "                {}\n",
              "            ).addTo(map_d75ffde90e3c3e317e3824173747db00);\n",
              "        \n",
              "    \n",
              "        var popup_09c6f4a4e7e4bf5a16fd072290d1da8f = L.popup({&quot;maxWidth&quot;: &quot;100%&quot;});\n",
              "\n",
              "        \n",
              "            \n",
              "                var html_4ff7e4fd87b4c115a2bc3e5b7440a1d7 = $(`&lt;div id=&quot;html_4ff7e4fd87b4c115a2bc3e5b7440a1d7&quot; style=&quot;width: 100.0%; height: 100.0%;&quot;&gt;C.H. Schnorr&lt;/div&gt;`)[0];\n",
              "                popup_09c6f4a4e7e4bf5a16fd072290d1da8f.setContent(html_4ff7e4fd87b4c115a2bc3e5b7440a1d7);\n",
              "            \n",
              "        \n",
              "\n",
              "        marker_65dc7ada03cd356f625408f9f4267500.bindPopup(popup_09c6f4a4e7e4bf5a16fd072290d1da8f)\n",
              "        ;\n",
              "\n",
              "        \n",
              "    \n",
              "    \n",
              "            marker_65dc7ada03cd356f625408f9f4267500.bindTooltip(\n",
              "                `&lt;div&gt;\n",
              "                     Click me!\n",
              "                 &lt;/div&gt;`,\n",
              "                {&quot;sticky&quot;: true}\n",
              "            );\n",
              "        \n",
              "    \n",
              "            var marker_d370c1c3d54f1acc1362f2c9a00841bd = L.marker(\n",
              "                [42.1542011, -72.4997776],\n",
              "                {}\n",
              "            ).addTo(map_d75ffde90e3c3e317e3824173747db00);\n",
              "        \n",
              "    \n",
              "        var popup_88e2567b4da706f2c0bf819c36f684da = L.popup({&quot;maxWidth&quot;: &quot;100%&quot;});\n",
              "\n",
              "        \n",
              "            \n",
              "                var html_a541a4bd0c26c89f7aba80369abf09b6 = $(`&lt;div id=&quot;html_a541a4bd0c26c89f7aba80369abf09b6&quot; style=&quot;width: 100.0%; height: 100.0%;&quot;&gt;Chapman Valve&lt;/div&gt;`)[0];\n",
              "                popup_88e2567b4da706f2c0bf819c36f684da.setContent(html_a541a4bd0c26c89f7aba80369abf09b6);\n",
              "            \n",
              "        \n",
              "\n",
              "        marker_d370c1c3d54f1acc1362f2c9a00841bd.bindPopup(popup_88e2567b4da706f2c0bf819c36f684da)\n",
              "        ;\n",
              "\n",
              "        \n",
              "    \n",
              "    \n",
              "            marker_d370c1c3d54f1acc1362f2c9a00841bd.bindTooltip(\n",
              "                `&lt;div&gt;\n",
              "                     Click me!\n",
              "                 &lt;/div&gt;`,\n",
              "                {&quot;sticky&quot;: true}\n",
              "            );\n",
              "        \n",
              "    \n",
              "            var marker_1310e7e52a0f03c42ee88a541aeba2ea = L.marker(\n",
              "                [34.214928, -105.8793205],\n",
              "                {}\n",
              "            ).addTo(map_d75ffde90e3c3e317e3824173747db00);\n",
              "        \n",
              "    \n",
              "        var popup_c8bdcec6cb6755b2f895bd486cfce144 = L.popup({&quot;maxWidth&quot;: &quot;100%&quot;});\n",
              "\n",
              "        \n",
              "            \n",
              "                var html_ff18f402eac0b240dd751cd5ad3e796a = $(`&lt;div id=&quot;html_ff18f402eac0b240dd751cd5ad3e796a&quot; style=&quot;width: 100.0%; height: 100.0%;&quot;&gt;&quot;Chupadera Mesa, New Mexico, FUSRAP Site&quot;&lt;/div&gt;`)[0];\n",
              "                popup_c8bdcec6cb6755b2f895bd486cfce144.setContent(html_ff18f402eac0b240dd751cd5ad3e796a);\n",
              "            \n",
              "        \n",
              "\n",
              "        marker_1310e7e52a0f03c42ee88a541aeba2ea.bindPopup(popup_c8bdcec6cb6755b2f895bd486cfce144)\n",
              "        ;\n",
              "\n",
              "        \n",
              "    \n",
              "    \n",
              "            marker_1310e7e52a0f03c42ee88a541aeba2ea.bindTooltip(\n",
              "                `&lt;div&gt;\n",
              "                     Click me!\n",
              "                 &lt;/div&gt;`,\n",
              "                {&quot;sticky&quot;: true}\n",
              "            );\n",
              "        \n",
              "    \n",
              "            var marker_0d76cdfab60ffb0e3551af012abf94a0 = L.marker(\n",
              "                [38.6870307, -90.1673616],\n",
              "                {}\n",
              "            ).addTo(map_d75ffde90e3c3e317e3824173747db00);\n",
              "        \n",
              "    \n",
              "        var popup_a102650be3a2d4c7fc317e5c13347739 = L.popup({&quot;maxWidth&quot;: &quot;100%&quot;});\n",
              "\n",
              "        \n",
              "            \n",
              "                var html_6b4665f88b4a08e032cbf6f03e6905b6 = $(`&lt;div id=&quot;html_6b4665f88b4a08e032cbf6f03e6905b6&quot; style=&quot;width: 100.0%; height: 100.0%;&quot;&gt;&quot;Dow Chemical Co., Madison Site&quot;&lt;/div&gt;`)[0];\n",
              "                popup_a102650be3a2d4c7fc317e5c13347739.setContent(html_6b4665f88b4a08e032cbf6f03e6905b6);\n",
              "            \n",
              "        \n",
              "\n",
              "        marker_0d76cdfab60ffb0e3551af012abf94a0.bindPopup(popup_a102650be3a2d4c7fc317e5c13347739)\n",
              "        ;\n",
              "\n",
              "        \n",
              "    \n",
              "    \n",
              "            marker_0d76cdfab60ffb0e3551af012abf94a0.bindTooltip(\n",
              "                `&lt;div&gt;\n",
              "                     Click me!\n",
              "                 &lt;/div&gt;`,\n",
              "                {&quot;sticky&quot;: true}\n",
              "            );\n",
              "        \n",
              "    \n",
              "            var marker_62fa630473157b75aaa637824f3b252a = L.marker(\n",
              "                [38.6926197, -90.16229],\n",
              "                {}\n",
              "            ).addTo(map_d75ffde90e3c3e317e3824173747db00);\n",
              "        \n",
              "    \n",
              "        var popup_cc58c52d75427330e208a5a9804bb1d0 = L.popup({&quot;maxWidth&quot;: &quot;100%&quot;});\n",
              "\n",
              "        \n",
              "            \n",
              "                var html_d6eda4360dd26cf724ef7911636bf433 = $(`&lt;div id=&quot;html_d6eda4360dd26cf724ef7911636bf433&quot; style=&quot;width: 100.0%; height: 100.0%;&quot;&gt;General Steel Industries&lt;/div&gt;`)[0];\n",
              "                popup_cc58c52d75427330e208a5a9804bb1d0.setContent(html_d6eda4360dd26cf724ef7911636bf433);\n",
              "            \n",
              "        \n",
              "\n",
              "        marker_62fa630473157b75aaa637824f3b252a.bindPopup(popup_cc58c52d75427330e208a5a9804bb1d0)\n",
              "        ;\n",
              "\n",
              "        \n",
              "    \n",
              "    \n",
              "            marker_62fa630473157b75aaa637824f3b252a.bindTooltip(\n",
              "                `&lt;div&gt;\n",
              "                     Click me!\n",
              "                 &lt;/div&gt;`,\n",
              "                {&quot;sticky&quot;: true}\n",
              "            );\n",
              "        \n",
              "    \n",
              "            var marker_524e25b1a438ad66639efcd18c4898a4 = L.marker(\n",
              "                [37.872571, -122.256179],\n",
              "                {}\n",
              "            ).addTo(map_d75ffde90e3c3e317e3824173747db00);\n",
              "        \n",
              "    \n",
              "        var popup_abcecf672db0e05d15c81682b84787b3 = L.popup({&quot;maxWidth&quot;: &quot;100%&quot;});\n",
              "\n",
              "        \n",
              "            \n",
              "                var html_0114b27c2a1504eeed2d2f48808db0c9 = $(`&lt;div id=&quot;html_0114b27c2a1504eeed2d2f48808db0c9&quot; style=&quot;width: 100.0%; height: 100.0%;&quot;&gt;&quot;Gilman Hall, University of California at Berkeley&quot;&lt;/div&gt;`)[0];\n",
              "                popup_abcecf672db0e05d15c81682b84787b3.setContent(html_0114b27c2a1504eeed2d2f48808db0c9);\n",
              "            \n",
              "        \n",
              "\n",
              "        marker_524e25b1a438ad66639efcd18c4898a4.bindPopup(popup_abcecf672db0e05d15c81682b84787b3)\n",
              "        ;\n",
              "\n",
              "        \n",
              "    \n",
              "    \n",
              "            marker_524e25b1a438ad66639efcd18c4898a4.bindTooltip(\n",
              "                `&lt;div&gt;\n",
              "                     Click me!\n",
              "                 &lt;/div&gt;`,\n",
              "                {&quot;sticky&quot;: true}\n",
              "            );\n",
              "        \n",
              "    \n",
              "            var marker_809bc9008a74eb41dc01e2f90f465a8d = L.marker(\n",
              "                [39.3822485, -84.5471105],\n",
              "                {}\n",
              "            ).addTo(map_d75ffde90e3c3e317e3824173747db00);\n",
              "        \n",
              "    \n",
              "        var popup_26f68d966e4b450760763b564830f921 = L.popup({&quot;maxWidth&quot;: &quot;100%&quot;});\n",
              "\n",
              "        \n",
              "            \n",
              "                var html_0e847bb80281ff5e134c41192ff54a39 = $(`&lt;div id=&quot;html_0e847bb80281ff5e134c41192ff54a39&quot; style=&quot;width: 100.0%; height: 100.0%;&quot;&gt;Hamilton OH Site&lt;/div&gt;`)[0];\n",
              "                popup_26f68d966e4b450760763b564830f921.setContent(html_0e847bb80281ff5e134c41192ff54a39);\n",
              "            \n",
              "        \n",
              "\n",
              "        marker_809bc9008a74eb41dc01e2f90f465a8d.bindPopup(popup_26f68d966e4b450760763b564830f921)\n",
              "        ;\n",
              "\n",
              "        \n",
              "    \n",
              "    \n",
              "            marker_809bc9008a74eb41dc01e2f90f465a8d.bindTooltip(\n",
              "                `&lt;div&gt;\n",
              "                     Click me!\n",
              "                 &lt;/div&gt;`,\n",
              "                {&quot;sticky&quot;: true}\n",
              "            );\n",
              "        \n",
              "    \n",
              "            var marker_b2d68fc0f83585dce5b780c47e9c28bb = L.marker(\n",
              "                [40.7087363, -74.1012813],\n",
              "                {}\n",
              "            ).addTo(map_d75ffde90e3c3e317e3824173747db00);\n",
              "        \n",
              "    \n",
              "        var popup_63a87fe75f0725750de7b10f937b9003 = L.popup({&quot;maxWidth&quot;: &quot;100%&quot;});\n",
              "\n",
              "        \n",
              "            \n",
              "                var html_52a9968c6f6e4f60a0dac4ef18aab8a2 = $(`&lt;div id=&quot;html_52a9968c6f6e4f60a0dac4ef18aab8a2&quot; style=&quot;width: 100.0%; height: 100.0%;&quot;&gt;Jersey City FUSRAP Site&lt;/div&gt;`)[0];\n",
              "                popup_63a87fe75f0725750de7b10f937b9003.setContent(html_52a9968c6f6e4f60a0dac4ef18aab8a2);\n",
              "            \n",
              "        \n",
              "\n",
              "        marker_b2d68fc0f83585dce5b780c47e9c28bb.bindPopup(popup_63a87fe75f0725750de7b10f937b9003)\n",
              "        ;\n",
              "\n",
              "        \n",
              "    \n",
              "    \n",
              "            marker_b2d68fc0f83585dce5b780c47e9c28bb.bindTooltip(\n",
              "                `&lt;div&gt;\n",
              "                     Click me!\n",
              "                 &lt;/div&gt;`,\n",
              "                {&quot;sticky&quot;: true}\n",
              "            );\n",
              "        \n",
              "    \n",
              "            var marker_93ed5d6493bbeccd138a0d464f8bf9cc = L.marker(\n",
              "                [40.577768, -74.4965644],\n",
              "                {}\n",
              "            ).addTo(map_d75ffde90e3c3e317e3824173747db00);\n",
              "        \n",
              "    \n",
              "        var popup_743596a6a498867dd6622047935c1f8f = L.popup({&quot;maxWidth&quot;: &quot;100%&quot;});\n",
              "\n",
              "        \n",
              "            \n",
              "                var html_e4847c5d4cb3b7bec2df7ccb4b635ab4 = $(`&lt;div id=&quot;html_e4847c5d4cb3b7bec2df7ccb4b635ab4&quot; style=&quot;width: 100.0%; height: 100.0%;&quot;&gt;Middlesex North Site&lt;/div&gt;`)[0];\n",
              "                popup_743596a6a498867dd6622047935c1f8f.setContent(html_e4847c5d4cb3b7bec2df7ccb4b635ab4);\n",
              "            \n",
              "        \n",
              "\n",
              "        marker_93ed5d6493bbeccd138a0d464f8bf9cc.bindPopup(popup_743596a6a498867dd6622047935c1f8f)\n",
              "        ;\n",
              "\n",
              "        \n",
              "    \n",
              "    \n",
              "            marker_93ed5d6493bbeccd138a0d464f8bf9cc.bindTooltip(\n",
              "                `&lt;div&gt;\n",
              "                     Click me!\n",
              "                 &lt;/div&gt;`,\n",
              "                {&quot;sticky&quot;: true}\n",
              "            );\n",
              "        \n",
              "    \n",
              "            var marker_b214dbeb45dc46afb1246903f027ebf1 = L.marker(\n",
              "                [41.7986843, -87.6069369],\n",
              "                {}\n",
              "            ).addTo(map_d75ffde90e3c3e317e3824173747db00);\n",
              "        \n",
              "    \n",
              "        var popup_b5862afc4b550ca3cdc5987b31d14e7d = L.popup({&quot;maxWidth&quot;: &quot;100%&quot;});\n",
              "\n",
              "        \n",
              "            \n",
              "                var html_0f730f49ac30d652b97e35ebd94a94fc = $(`&lt;div id=&quot;html_0f730f49ac30d652b97e35ebd94a94fc&quot; style=&quot;width: 100.0%; height: 100.0%;&quot;&gt;National Guard Armory&lt;/div&gt;`)[0];\n",
              "                popup_b5862afc4b550ca3cdc5987b31d14e7d.setContent(html_0f730f49ac30d652b97e35ebd94a94fc);\n",
              "            \n",
              "        \n",
              "\n",
              "        marker_b214dbeb45dc46afb1246903f027ebf1.bindPopup(popup_b5862afc4b550ca3cdc5987b31d14e7d)\n",
              "        ;\n",
              "\n",
              "        \n",
              "    \n",
              "    \n",
              "            marker_b214dbeb45dc46afb1246903f027ebf1.bindTooltip(\n",
              "                `&lt;div&gt;\n",
              "                     Click me!\n",
              "                 &lt;/div&gt;`,\n",
              "                {&quot;sticky&quot;: true}\n",
              "            );\n",
              "        \n",
              "    \n",
              "            var marker_132236138fd7ca6efaa50dde703b066f = L.marker(\n",
              "                [40.4702797, -74.4762541],\n",
              "                {}\n",
              "            ).addTo(map_d75ffde90e3c3e317e3824173747db00);\n",
              "        \n",
              "    \n",
              "        var popup_407bbcfd42df2fac84c955875f0c7e97 = L.popup({&quot;maxWidth&quot;: &quot;100%&quot;});\n",
              "\n",
              "        \n",
              "            \n",
              "                var html_546f6cf13d7b2191fb142d5046abc3a1 = $(`&lt;div id=&quot;html_546f6cf13d7b2191fb142d5046abc3a1&quot; style=&quot;width: 100.0%; height: 100.0%;&quot;&gt;&quot;New Brunswick, NJ, FUSRAP Site&quot;&lt;/div&gt;`)[0];\n",
              "                popup_407bbcfd42df2fac84c955875f0c7e97.setContent(html_546f6cf13d7b2191fb142d5046abc3a1);\n",
              "            \n",
              "        \n",
              "\n",
              "        marker_132236138fd7ca6efaa50dde703b066f.bindPopup(popup_407bbcfd42df2fac84c955875f0c7e97)\n",
              "        ;\n",
              "\n",
              "        \n",
              "    \n",
              "    \n",
              "            marker_132236138fd7ca6efaa50dde703b066f.bindTooltip(\n",
              "                `&lt;div&gt;\n",
              "                     Click me!\n",
              "                 &lt;/div&gt;`,\n",
              "                {&quot;sticky&quot;: true}\n",
              "            );\n",
              "        \n",
              "    \n",
              "            var marker_37531bb85c4efe2ed6a1b33d0112fd84 = L.marker(\n",
              "                [43.2209056, -78.9737308],\n",
              "                {}\n",
              "            ).addTo(map_d75ffde90e3c3e317e3824173747db00);\n",
              "        \n",
              "    \n",
              "        var popup_0fb918207717abf49da83a35071149e1 = L.popup({&quot;maxWidth&quot;: &quot;100%&quot;});\n",
              "\n",
              "        \n",
              "            \n",
              "                var html_370eb1a8754c8a31141fbf10ba4d8c03 = $(`&lt;div id=&quot;html_370eb1a8754c8a31141fbf10ba4d8c03&quot; style=&quot;width: 100.0%; height: 100.0%;&quot;&gt;Niagara Falls Vicinity Properties&lt;/div&gt;`)[0];\n",
              "                popup_0fb918207717abf49da83a35071149e1.setContent(html_370eb1a8754c8a31141fbf10ba4d8c03);\n",
              "            \n",
              "        \n",
              "\n",
              "        marker_37531bb85c4efe2ed6a1b33d0112fd84.bindPopup(popup_0fb918207717abf49da83a35071149e1)\n",
              "        ;\n",
              "\n",
              "        \n",
              "    \n",
              "    \n",
              "            marker_37531bb85c4efe2ed6a1b33d0112fd84.bindTooltip(\n",
              "                `&lt;div&gt;\n",
              "                     Click me!\n",
              "                 &lt;/div&gt;`,\n",
              "                {&quot;sticky&quot;: true}\n",
              "            );\n",
              "        \n",
              "    \n",
              "            var marker_bfaac0fea9f6d6d3ebd923bd843f5320 = L.marker(\n",
              "                [36.0427296, -84.2066525],\n",
              "                {}\n",
              "            ).addTo(map_d75ffde90e3c3e317e3824173747db00);\n",
              "        \n",
              "    \n",
              "        var popup_80f71430052aa882a5d489b07479917e = L.popup({&quot;maxWidth&quot;: &quot;100%&quot;});\n",
              "\n",
              "        \n",
              "            \n",
              "                var html_c6ec162c1296169eec2b8c621ca77bc8 = $(`&lt;div id=&quot;html_c6ec162c1296169eec2b8c621ca77bc8&quot; style=&quot;width: 100.0%; height: 100.0%;&quot;&gt;&quot;Oak Ridge, TN, Warehouse Site&quot;&lt;/div&gt;`)[0];\n",
              "                popup_80f71430052aa882a5d489b07479917e.setContent(html_c6ec162c1296169eec2b8c621ca77bc8);\n",
              "            \n",
              "        \n",
              "\n",
              "        marker_bfaac0fea9f6d6d3ebd923bd843f5320.bindPopup(popup_80f71430052aa882a5d489b07479917e)\n",
              "        ;\n",
              "\n",
              "        \n",
              "    \n",
              "    \n",
              "            marker_bfaac0fea9f6d6d3ebd923bd843f5320.bindTooltip(\n",
              "                `&lt;div&gt;\n",
              "                     Click me!\n",
              "                 &lt;/div&gt;`,\n",
              "                {&quot;sticky&quot;: true}\n",
              "            );\n",
              "        \n",
              "    \n",
              "            var marker_7cf46168808fc35f8adfc65942076931 = L.marker(\n",
              "                [41.4007898, -73.072232],\n",
              "                {}\n",
              "            ).addTo(map_d75ffde90e3c3e317e3824173747db00);\n",
              "        \n",
              "    \n",
              "        var popup_74d249722e477a154945b6aa055e93d6 = L.popup({&quot;maxWidth&quot;: &quot;100%&quot;});\n",
              "\n",
              "        \n",
              "            \n",
              "                var html_427af046de4617ad5d681dd9ef89572d = $(`&lt;div id=&quot;html_427af046de4617ad5d681dd9ef89572d&quot; style=&quot;width: 100.0%; height: 100.0%;&quot;&gt;Seymour Specialty Wire&lt;/div&gt;`)[0];\n",
              "                popup_74d249722e477a154945b6aa055e93d6.setContent(html_427af046de4617ad5d681dd9ef89572d);\n",
              "            \n",
              "        \n",
              "\n",
              "        marker_7cf46168808fc35f8adfc65942076931.bindPopup(popup_74d249722e477a154945b6aa055e93d6)\n",
              "        ;\n",
              "\n",
              "        \n",
              "    \n",
              "    \n",
              "            marker_7cf46168808fc35f8adfc65942076931.bindTooltip(\n",
              "                `&lt;div&gt;\n",
              "                     Click me!\n",
              "                 &lt;/div&gt;`,\n",
              "                {&quot;sticky&quot;: true}\n",
              "            );\n",
              "        \n",
              "    \n",
              "            var marker_170bd6ddb709a22de2c94d38e84b8a75 = L.marker(\n",
              "                [42.9918367, -78.9201008],\n",
              "                {}\n",
              "            ).addTo(map_d75ffde90e3c3e317e3824173747db00);\n",
              "        \n",
              "    \n",
              "        var popup_8ab6b646869b372c73afe5c181ffad34 = L.popup({&quot;maxWidth&quot;: &quot;100%&quot;});\n",
              "\n",
              "        \n",
              "            \n",
              "                var html_4b52946a115f343214e29621065f5aac = $(`&lt;div id=&quot;html_4b52946a115f343214e29621065f5aac&quot; style=&quot;width: 100.0%; height: 100.0%;&quot;&gt;Tonawanda North FUSRAP Site&lt;/div&gt;`)[0];\n",
              "                popup_8ab6b646869b372c73afe5c181ffad34.setContent(html_4b52946a115f343214e29621065f5aac);\n",
              "            \n",
              "        \n",
              "\n",
              "        marker_170bd6ddb709a22de2c94d38e84b8a75.bindPopup(popup_8ab6b646869b372c73afe5c181ffad34)\n",
              "        ;\n",
              "\n",
              "        \n",
              "    \n",
              "    \n",
              "            marker_170bd6ddb709a22de2c94d38e84b8a75.bindTooltip(\n",
              "                `&lt;div&gt;\n",
              "                     Click me!\n",
              "                 &lt;/div&gt;`,\n",
              "                {&quot;sticky&quot;: true}\n",
              "            );\n",
              "        \n",
              "    \n",
              "            var marker_e5c1f23543dbf6e6ced3ec75e597bbad = L.marker(\n",
              "                [41.7924797, -87.6010361],\n",
              "                {}\n",
              "            ).addTo(map_d75ffde90e3c3e317e3824173747db00);\n",
              "        \n",
              "    \n",
              "        var popup_cad4a09a6ded0b83f09cb3afd695c658 = L.popup({&quot;maxWidth&quot;: &quot;100%&quot;});\n",
              "\n",
              "        \n",
              "            \n",
              "                var html_7efdd128b02da2d8f8391a556f6416f4 = $(`&lt;div id=&quot;html_7efdd128b02da2d8f8391a556f6416f4&quot; style=&quot;width: 100.0%; height: 100.0%;&quot;&gt;University of Chicago Metallurgical Laboratory&lt;/div&gt;`)[0];\n",
              "                popup_cad4a09a6ded0b83f09cb3afd695c658.setContent(html_7efdd128b02da2d8f8391a556f6416f4);\n",
              "            \n",
              "        \n",
              "\n",
              "        marker_e5c1f23543dbf6e6ced3ec75e597bbad.bindPopup(popup_cad4a09a6ded0b83f09cb3afd695c658)\n",
              "        ;\n",
              "\n",
              "        \n",
              "    \n",
              "    \n",
              "            marker_e5c1f23543dbf6e6ced3ec75e597bbad.bindTooltip(\n",
              "                `&lt;div&gt;\n",
              "                     Click me!\n",
              "                 &lt;/div&gt;`,\n",
              "                {&quot;sticky&quot;: true}\n",
              "            );\n",
              "        \n",
              "    \n",
              "            var marker_2abc12095881294f0e10f3dea60f1d02 = L.marker(\n",
              "                [42.5404703, -70.8888085],\n",
              "                {}\n",
              "            ).addTo(map_d75ffde90e3c3e317e3824173747db00);\n",
              "        \n",
              "    \n",
              "        var popup_e9433af6642fecc470c78f39d28e11e1 = L.popup({&quot;maxWidth&quot;: &quot;100%&quot;});\n",
              "\n",
              "        \n",
              "            \n",
              "                var html_5a8e5c5f97fcbba217be8292d99c3a6b = $(`&lt;div id=&quot;html_5a8e5c5f97fcbba217be8292d99c3a6b&quot; style=&quot;width: 100.0%; height: 100.0%;&quot;&gt;Ventron Corporation&lt;/div&gt;`)[0];\n",
              "                popup_e9433af6642fecc470c78f39d28e11e1.setContent(html_5a8e5c5f97fcbba217be8292d99c3a6b);\n",
              "            \n",
              "        \n",
              "\n",
              "        marker_2abc12095881294f0e10f3dea60f1d02.bindPopup(popup_e9433af6642fecc470c78f39d28e11e1)\n",
              "        ;\n",
              "\n",
              "        \n",
              "    \n",
              "    \n",
              "            marker_2abc12095881294f0e10f3dea60f1d02.bindTooltip(\n",
              "                `&lt;div&gt;\n",
              "                     Click me!\n",
              "                 &lt;/div&gt;`,\n",
              "                {&quot;sticky&quot;: true}\n",
              "            );\n",
              "        \n",
              "    \n",
              "            var marker_f79a59e98cfae0e4b0c9d0b96aff2a36 = L.marker(\n",
              "                [40.9696277, -74.2707793],\n",
              "                {}\n",
              "            ).addTo(map_d75ffde90e3c3e317e3824173747db00);\n",
              "        \n",
              "    \n",
              "        var popup_b09cbbff319dfad160a6b1067ec0edd5 = L.popup({&quot;maxWidth&quot;: &quot;100%&quot;});\n",
              "\n",
              "        \n",
              "            \n",
              "                var html_fb6f4be6fe7549d32e8182da3afe6859 = $(`&lt;div id=&quot;html_fb6f4be6fe7549d32e8182da3afe6859&quot; style=&quot;width: 100.0%; height: 100.0%;&quot;&gt;Wayne FUSRAP Site&lt;/div&gt;`)[0];\n",
              "                popup_b09cbbff319dfad160a6b1067ec0edd5.setContent(html_fb6f4be6fe7549d32e8182da3afe6859);\n",
              "            \n",
              "        \n",
              "\n",
              "        marker_f79a59e98cfae0e4b0c9d0b96aff2a36.bindPopup(popup_b09cbbff319dfad160a6b1067ec0edd5)\n",
              "        ;\n",
              "\n",
              "        \n",
              "    \n",
              "    \n",
              "            marker_f79a59e98cfae0e4b0c9d0b96aff2a36.bindTooltip(\n",
              "                `&lt;div&gt;\n",
              "                     Click me!\n",
              "                 &lt;/div&gt;`,\n",
              "                {&quot;sticky&quot;: true}\n",
              "            );\n",
              "        \n",
              "&lt;/script&gt;\n",
              "&lt;/html&gt;\" style=\"position:absolute;width:100%;height:100%;left:0;top:0;border:none !important;\" allowfullscreen webkitallowfullscreen mozallowfullscreen></iframe></div></div>"
            ],
            "text/plain": [
              "<folium.folium.Map at 0x7ffa34ee2fd0>"
            ]
          },
          "execution_count": 79,
          "metadata": {},
          "output_type": "execute_result"
        }
      ],
      "source": [
        "m=folium.Map(location=[nuclear_waste_df.lat[0],nuclear_waste_df.lon[0]],zoom_start=5,tiles='Stamen Terrain')\n",
        "\n",
        "tooltip = \"Click me!\"\n",
        "for i in range(len(nuclear_waste_df)):\n",
        "  folium.Marker(\n",
        "      [nuclear_waste_df.lat[i],nuclear_waste_df.lon[i]], popup=nuclear_waste_df.text[i], tooltip=tooltip\n",
        "  ).add_to(m)\n",
        "m"
      ]
    },
    {
      "cell_type": "code",
      "execution_count": null,
      "id": "882b5c11",
      "metadata": {
        "id": "882b5c11"
      },
      "outputs": [],
      "source": []
    },
    {
      "cell_type": "markdown",
      "id": "1deb8ec8",
      "metadata": {
        "id": "1deb8ec8"
      },
      "source": [
        "Let's save our work before continuing."
      ]
    },
    {
      "cell_type": "code",
      "execution_count": null,
      "id": "716a1587",
      "metadata": {
        "colab": {
          "base_uri": "https://localhost:8080/"
        },
        "id": "716a1587",
        "outputId": "b6cd7e16-c558-4b6f-b123-3a8133185671"
      },
      "outputs": [
        {
          "data": {
            "application/javascript": [
              "window.require && require([\"base/js/namespace\"],function(Jupyter){Jupyter.notebook.save_checkpoint()})"
            ],
            "text/plain": [
              "<IPython.core.display.Javascript object>"
            ]
          },
          "metadata": {},
          "output_type": "display_data"
        },
        {
          "name": "stdout",
          "output_type": "stream",
          "text": [
            "[jovian] Updating notebook \"ankyhunk-bg4/data-analysis-visualization-practice-assignment\" on https://jovian.ai\u001b[0m\n",
            "[jovian] Committed successfully! https://jovian.ai/ankyhunk-bg4/data-analysis-visualization-practice-assignment\u001b[0m\n"
          ]
        },
        {
          "data": {
            "text/plain": [
              "'https://jovian.ai/ankyhunk-bg4/data-analysis-visualization-practice-assignment'"
            ]
          },
          "execution_count": 73,
          "metadata": {},
          "output_type": "execute_result"
        }
      ],
      "source": [
        "jovian.commit()"
      ]
    },
    {
      "cell_type": "markdown",
      "id": "8405f3ba",
      "metadata": {
        "id": "8405f3ba"
      },
      "source": [
        "### Make a Submission\n",
        "\n",
        "You can make a submission by executing the following cell, or by providing the link to your Jovian notebook on this page: https://jovian.ai/learn/zero-to-data-analyst-bootcamp/assignment/assignment-6-data-analysis-and-visualization-practice"
      ]
    },
    {
      "cell_type": "code",
      "execution_count": null,
      "id": "e735083c",
      "metadata": {
        "colab": {
          "base_uri": "https://localhost:8080/"
        },
        "id": "e735083c",
        "outputId": "eeb5f46f-4063-4710-f5db-cb2e48bc48ea"
      },
      "outputs": [
        {
          "data": {
            "application/javascript": [
              "window.require && require([\"base/js/namespace\"],function(Jupyter){Jupyter.notebook.save_checkpoint()})"
            ],
            "text/plain": [
              "<IPython.core.display.Javascript object>"
            ]
          },
          "metadata": {},
          "output_type": "display_data"
        },
        {
          "name": "stdout",
          "output_type": "stream",
          "text": [
            "[jovian] Updating notebook \"ankyhunk-bg4/data-analysis-visualization-practice-assignment\" on https://jovian.ai\u001b[0m\n",
            "[jovian] Committed successfully! https://jovian.ai/ankyhunk-bg4/data-analysis-visualization-practice-assignment\u001b[0m\n",
            "[jovian] Submitting assignment..\u001b[0m\n",
            "[jovian] Verify your submission at https://jovian.ai/learn/zero-to-data-analyst-bootcamp/assignment/data-analysis-and-visualization-practice\u001b[0m\n"
          ]
        }
      ],
      "source": [
        "jovian.submit('zerotodatascience-dataviz')"
      ]
    },
    {
      "cell_type": "markdown",
      "id": "e977b4eb",
      "metadata": {
        "id": "e977b4eb"
      },
      "source": [
        "You can submit any number of times. Only your final submission will be considered for evaluation.\n",
        "\n",
        "The remaining questions in this assignment are optional."
      ]
    },
    {
      "cell_type": "markdown",
      "id": "00c3fb64",
      "metadata": {
        "id": "00c3fb64"
      },
      "source": [
        "> **(OPTIONAL) QUESTION 7:**  The following dataset contains information about some police deaths in US from 1984 to 2016. Create the following visualizations using this dataset.\n",
        ">\n",
        "> 1. Bar chart showing the total deaths per year for 1984-2016\n",
        "> 2. Line chart comparing the yearly deaths in different states\n",
        "> 3. A heat map overlaid on the map of the United States \n",
        "> 4. A Choropleth comparing the number of police deaths in different states\n",
        "> 5. A word cloud of the different causes of death (remove the string \"Cause of Death:\" for best results)\n",
        "> 6. A [marker cluster](https://georgetsilva.github.io/posts/mapping-points-with-folium/) showing the shootings in the state of California (show person's name on hover)\n",
        "> 7. Bar chart comparing the no. of deaths due to different causes, animated by year\n",
        "> 8. A heatmap of total deaths per state per year i.e. showing \"state\" on one axis and \"year\" on the other axis.\n",
        "> 9. A treemap with three levels: state, city (description), cause\n",
        "> 10. A rug plot showing a timeline of canine deaths."
      ]
    },
    {
      "cell_type": "code",
      "execution_count": null,
      "id": "b8ecf758",
      "metadata": {
        "id": "b8ecf758"
      },
      "outputs": [],
      "source": [
        "police_url = 'https://raw.githubusercontent.com/plotly/datasets/master/US-shooting-incidents.csv'\n",
        "police_df = pd.read_csv(police_url)"
      ]
    },
    {
      "cell_type": "code",
      "execution_count": null,
      "id": "791ca6f4",
      "metadata": {
        "colab": {
          "base_uri": "https://localhost:8080/",
          "height": 1000
        },
        "id": "791ca6f4",
        "outputId": "99e28520-79e5-4a07-fc9c-3d378182ca54"
      },
      "outputs": [
        {
          "data": {
            "text/html": [
              "<div>\n",
              "<style scoped>\n",
              "    .dataframe tbody tr th:only-of-type {\n",
              "        vertical-align: middle;\n",
              "    }\n",
              "\n",
              "    .dataframe tbody tr th {\n",
              "        vertical-align: top;\n",
              "    }\n",
              "\n",
              "    .dataframe thead th {\n",
              "        text-align: right;\n",
              "    }\n",
              "</style>\n",
              "<table border=\"1\" class=\"dataframe\">\n",
              "  <thead>\n",
              "    <tr style=\"text-align: right;\">\n",
              "      <th></th>\n",
              "      <th>Unnamed: 0</th>\n",
              "      <th>person</th>\n",
              "      <th>dept</th>\n",
              "      <th>eow</th>\n",
              "      <th>cause</th>\n",
              "      <th>cause_short</th>\n",
              "      <th>date</th>\n",
              "      <th>year</th>\n",
              "      <th>canine</th>\n",
              "      <th>dept_name</th>\n",
              "      <th>state</th>\n",
              "      <th>description</th>\n",
              "      <th>latitude</th>\n",
              "      <th>longitude</th>\n",
              "      <th>state_name</th>\n",
              "    </tr>\n",
              "  </thead>\n",
              "  <tbody>\n",
              "    <tr>\n",
              "      <th>0</th>\n",
              "      <td>1</td>\n",
              "      <td>K9 Roscoe</td>\n",
              "      <td>Phoenix Police Department, AZ</td>\n",
              "      <td>EOW: Friday, July 13, 1984</td>\n",
              "      <td>Cause of Death: Struck by vehicle</td>\n",
              "      <td>Struck by vehicle</td>\n",
              "      <td>1984-07-13</td>\n",
              "      <td>1984</td>\n",
              "      <td>True</td>\n",
              "      <td>Phoenix Police Department</td>\n",
              "      <td>AZ</td>\n",
              "      <td>Phoenix</td>\n",
              "      <td>33.448143</td>\n",
              "      <td>-112.096962</td>\n",
              "      <td>Arizona</td>\n",
              "    </tr>\n",
              "    <tr>\n",
              "      <th>1</th>\n",
              "      <td>2</td>\n",
              "      <td>Police Officer Roy L. Leon, Jr.</td>\n",
              "      <td>Cotton Plant Police Department, AR</td>\n",
              "      <td>EOW: Friday, July 13, 1984</td>\n",
              "      <td>Cause of Death: Gunfire</td>\n",
              "      <td>Gunfire</td>\n",
              "      <td>1984-07-13</td>\n",
              "      <td>1984</td>\n",
              "      <td>False</td>\n",
              "      <td>Cotton Plant Police Department</td>\n",
              "      <td>AR</td>\n",
              "      <td>Little Rock</td>\n",
              "      <td>34.746613</td>\n",
              "      <td>-92.288986</td>\n",
              "      <td>Arkansas</td>\n",
              "    </tr>\n",
              "    <tr>\n",
              "      <th>2</th>\n",
              "      <td>3</td>\n",
              "      <td>Officer Stanley D. Pounds</td>\n",
              "      <td>Portland Police Bureau, OR</td>\n",
              "      <td>EOW: Wednesday, July 18, 1984</td>\n",
              "      <td>Cause of Death: Automobile accident</td>\n",
              "      <td>Automobile accident</td>\n",
              "      <td>1984-07-18</td>\n",
              "      <td>1984</td>\n",
              "      <td>False</td>\n",
              "      <td>Portland Police Bureau</td>\n",
              "      <td>OR</td>\n",
              "      <td>Salem</td>\n",
              "      <td>44.938461</td>\n",
              "      <td>-123.030403</td>\n",
              "      <td>Oregon</td>\n",
              "    </tr>\n",
              "    <tr>\n",
              "      <th>3</th>\n",
              "      <td>4</td>\n",
              "      <td>Enforcement Agent Ernest Joseph Gray, Jr.</td>\n",
              "      <td>Pennsylvania Public Utility Commission, PA</td>\n",
              "      <td>EOW: Friday, July 20, 1984</td>\n",
              "      <td>Cause of Death: Automobile accident</td>\n",
              "      <td>Automobile accident</td>\n",
              "      <td>1984-07-20</td>\n",
              "      <td>1984</td>\n",
              "      <td>False</td>\n",
              "      <td>Pennsylvania Public Utility Commission</td>\n",
              "      <td>PA</td>\n",
              "      <td>Harrisburg</td>\n",
              "      <td>40.264378</td>\n",
              "      <td>-76.883598</td>\n",
              "      <td>Pennsylvania</td>\n",
              "    </tr>\n",
              "    <tr>\n",
              "      <th>4</th>\n",
              "      <td>5</td>\n",
              "      <td>Police Officer James W. Carozza, Jr.</td>\n",
              "      <td>Greenburgh Police Department, NY</td>\n",
              "      <td>EOW: Friday, July 20, 1984</td>\n",
              "      <td>Cause of Death: Vehicle pursuit</td>\n",
              "      <td>Vehicle pursuit</td>\n",
              "      <td>1984-07-20</td>\n",
              "      <td>1984</td>\n",
              "      <td>False</td>\n",
              "      <td>Greenburgh Police Department</td>\n",
              "      <td>NY</td>\n",
              "      <td>Albany</td>\n",
              "      <td>42.652843</td>\n",
              "      <td>-73.757874</td>\n",
              "      <td>New York</td>\n",
              "    </tr>\n",
              "    <tr>\n",
              "      <th>...</th>\n",
              "      <td>...</td>\n",
              "      <td>...</td>\n",
              "      <td>...</td>\n",
              "      <td>...</td>\n",
              "      <td>...</td>\n",
              "      <td>...</td>\n",
              "      <td>...</td>\n",
              "      <td>...</td>\n",
              "      <td>...</td>\n",
              "      <td>...</td>\n",
              "      <td>...</td>\n",
              "      <td>...</td>\n",
              "      <td>...</td>\n",
              "      <td>...</td>\n",
              "      <td>...</td>\n",
              "    </tr>\n",
              "    <tr>\n",
              "      <th>4994</th>\n",
              "      <td>4995</td>\n",
              "      <td>Deputy Sheriff David Francis Michel, Jr.</td>\n",
              "      <td>Jefferson Parish Sheriff's Office, LA</td>\n",
              "      <td>EOW: Wednesday, June 22, 2016</td>\n",
              "      <td>Cause of Death: Gunfire</td>\n",
              "      <td>Gunfire</td>\n",
              "      <td>2016-06-22</td>\n",
              "      <td>2016</td>\n",
              "      <td>False</td>\n",
              "      <td>Jefferson Parish Sheriff's Office</td>\n",
              "      <td>LA</td>\n",
              "      <td>Baton Rouge</td>\n",
              "      <td>30.457069</td>\n",
              "      <td>-91.187393</td>\n",
              "      <td>Louisiana</td>\n",
              "    </tr>\n",
              "    <tr>\n",
              "      <th>4995</th>\n",
              "      <td>4996</td>\n",
              "      <td>K9 Tyson</td>\n",
              "      <td>Fountain County Sheriff's Office, IN</td>\n",
              "      <td>EOW: Monday, June 27, 2016</td>\n",
              "      <td>Cause of Death: Heat exhaustion</td>\n",
              "      <td>Heat exhaustion</td>\n",
              "      <td>2016-06-27</td>\n",
              "      <td>2016</td>\n",
              "      <td>True</td>\n",
              "      <td>Fountain County Sheriff's Office</td>\n",
              "      <td>IN</td>\n",
              "      <td>Indianapolis</td>\n",
              "      <td>39.768623</td>\n",
              "      <td>-86.162643</td>\n",
              "      <td>Indiana</td>\n",
              "    </tr>\n",
              "    <tr>\n",
              "      <th>4996</th>\n",
              "      <td>4997</td>\n",
              "      <td>K9 Credo</td>\n",
              "      <td>Long Beach Police Department, CA</td>\n",
              "      <td>EOW: Tuesday, June 28, 2016</td>\n",
              "      <td>Cause of Death: Gunfire (Accidental)</td>\n",
              "      <td>Gunfire (Accidental)</td>\n",
              "      <td>2016-06-28</td>\n",
              "      <td>2016</td>\n",
              "      <td>True</td>\n",
              "      <td>Long Beach Police Department</td>\n",
              "      <td>CA</td>\n",
              "      <td>Sacramento</td>\n",
              "      <td>38.576668</td>\n",
              "      <td>-121.493629</td>\n",
              "      <td>California</td>\n",
              "    </tr>\n",
              "    <tr>\n",
              "      <th>4997</th>\n",
              "      <td>4998</td>\n",
              "      <td>Deputy Sheriff Martin Tase Sturgill, II</td>\n",
              "      <td>Humphreys County Sheriff's Office, TN</td>\n",
              "      <td>EOW: Thursday, June 30, 2016</td>\n",
              "      <td>Cause of Death: Heart attack</td>\n",
              "      <td>Heart attack</td>\n",
              "      <td>2016-06-30</td>\n",
              "      <td>2016</td>\n",
              "      <td>False</td>\n",
              "      <td>Humphreys County Sheriff's Office</td>\n",
              "      <td>TN</td>\n",
              "      <td>Nashville</td>\n",
              "      <td>36.165810</td>\n",
              "      <td>-86.784241</td>\n",
              "      <td>Tennessee</td>\n",
              "    </tr>\n",
              "    <tr>\n",
              "      <th>4998</th>\n",
              "      <td>4999</td>\n",
              "      <td>K9 Roscoe</td>\n",
              "      <td>Emmett Police Department, ID</td>\n",
              "      <td>EOW: Friday, July 1, 2016</td>\n",
              "      <td>Cause of Death: Automobile accident</td>\n",
              "      <td>Automobile accident</td>\n",
              "      <td>2016-07-01</td>\n",
              "      <td>2016</td>\n",
              "      <td>True</td>\n",
              "      <td>Emmett Police Department</td>\n",
              "      <td>ID</td>\n",
              "      <td>Boise</td>\n",
              "      <td>43.617775</td>\n",
              "      <td>-116.199722</td>\n",
              "      <td>Idaho</td>\n",
              "    </tr>\n",
              "  </tbody>\n",
              "</table>\n",
              "<p>4999 rows × 15 columns</p>\n",
              "</div>"
            ],
            "text/plain": [
              "      Unnamed: 0                                     person  \\\n",
              "0              1                                  K9 Roscoe   \n",
              "1              2            Police Officer Roy L. Leon, Jr.   \n",
              "2              3                  Officer Stanley D. Pounds   \n",
              "3              4  Enforcement Agent Ernest Joseph Gray, Jr.   \n",
              "4              5       Police Officer James W. Carozza, Jr.   \n",
              "...          ...                                        ...   \n",
              "4994        4995   Deputy Sheriff David Francis Michel, Jr.   \n",
              "4995        4996                                   K9 Tyson   \n",
              "4996        4997                                   K9 Credo   \n",
              "4997        4998    Deputy Sheriff Martin Tase Sturgill, II   \n",
              "4998        4999                                  K9 Roscoe   \n",
              "\n",
              "                                            dept  \\\n",
              "0                  Phoenix Police Department, AZ   \n",
              "1             Cotton Plant Police Department, AR   \n",
              "2                     Portland Police Bureau, OR   \n",
              "3     Pennsylvania Public Utility Commission, PA   \n",
              "4               Greenburgh Police Department, NY   \n",
              "...                                          ...   \n",
              "4994       Jefferson Parish Sheriff's Office, LA   \n",
              "4995        Fountain County Sheriff's Office, IN   \n",
              "4996            Long Beach Police Department, CA   \n",
              "4997       Humphreys County Sheriff's Office, TN   \n",
              "4998                Emmett Police Department, ID   \n",
              "\n",
              "                                eow                                 cause  \\\n",
              "0        EOW: Friday, July 13, 1984     Cause of Death: Struck by vehicle   \n",
              "1        EOW: Friday, July 13, 1984               Cause of Death: Gunfire   \n",
              "2     EOW: Wednesday, July 18, 1984   Cause of Death: Automobile accident   \n",
              "3        EOW: Friday, July 20, 1984   Cause of Death: Automobile accident   \n",
              "4        EOW: Friday, July 20, 1984       Cause of Death: Vehicle pursuit   \n",
              "...                             ...                                   ...   \n",
              "4994  EOW: Wednesday, June 22, 2016               Cause of Death: Gunfire   \n",
              "4995     EOW: Monday, June 27, 2016       Cause of Death: Heat exhaustion   \n",
              "4996    EOW: Tuesday, June 28, 2016  Cause of Death: Gunfire (Accidental)   \n",
              "4997   EOW: Thursday, June 30, 2016          Cause of Death: Heart attack   \n",
              "4998      EOW: Friday, July 1, 2016   Cause of Death: Automobile accident   \n",
              "\n",
              "               cause_short        date  year  canine  \\\n",
              "0        Struck by vehicle  1984-07-13  1984    True   \n",
              "1                  Gunfire  1984-07-13  1984   False   \n",
              "2      Automobile accident  1984-07-18  1984   False   \n",
              "3      Automobile accident  1984-07-20  1984   False   \n",
              "4          Vehicle pursuit  1984-07-20  1984   False   \n",
              "...                    ...         ...   ...     ...   \n",
              "4994               Gunfire  2016-06-22  2016   False   \n",
              "4995       Heat exhaustion  2016-06-27  2016    True   \n",
              "4996  Gunfire (Accidental)  2016-06-28  2016    True   \n",
              "4997          Heart attack  2016-06-30  2016   False   \n",
              "4998   Automobile accident  2016-07-01  2016    True   \n",
              "\n",
              "                                   dept_name state   description   latitude  \\\n",
              "0                  Phoenix Police Department    AZ       Phoenix  33.448143   \n",
              "1             Cotton Plant Police Department    AR   Little Rock  34.746613   \n",
              "2                     Portland Police Bureau    OR         Salem  44.938461   \n",
              "3     Pennsylvania Public Utility Commission    PA    Harrisburg  40.264378   \n",
              "4               Greenburgh Police Department    NY        Albany  42.652843   \n",
              "...                                      ...   ...           ...        ...   \n",
              "4994       Jefferson Parish Sheriff's Office    LA   Baton Rouge  30.457069   \n",
              "4995        Fountain County Sheriff's Office    IN  Indianapolis  39.768623   \n",
              "4996            Long Beach Police Department    CA    Sacramento  38.576668   \n",
              "4997       Humphreys County Sheriff's Office    TN     Nashville  36.165810   \n",
              "4998                Emmett Police Department    ID         Boise  43.617775   \n",
              "\n",
              "       longitude    state_name  \n",
              "0    -112.096962       Arizona  \n",
              "1     -92.288986      Arkansas  \n",
              "2    -123.030403        Oregon  \n",
              "3     -76.883598  Pennsylvania  \n",
              "4     -73.757874      New York  \n",
              "...          ...           ...  \n",
              "4994  -91.187393     Louisiana  \n",
              "4995  -86.162643       Indiana  \n",
              "4996 -121.493629    California  \n",
              "4997  -86.784241     Tennessee  \n",
              "4998 -116.199722         Idaho  \n",
              "\n",
              "[4999 rows x 15 columns]"
            ]
          },
          "execution_count": 76,
          "metadata": {},
          "output_type": "execute_result"
        }
      ],
      "source": [
        "police_df"
      ]
    },
    {
      "cell_type": "code",
      "execution_count": null,
      "id": "4e4d4025",
      "metadata": {
        "id": "4e4d4025"
      },
      "outputs": [],
      "source": []
    },
    {
      "cell_type": "code",
      "execution_count": null,
      "id": "83487dee",
      "metadata": {
        "id": "83487dee"
      },
      "outputs": [],
      "source": []
    },
    {
      "cell_type": "code",
      "execution_count": null,
      "id": "75780742",
      "metadata": {
        "id": "75780742"
      },
      "outputs": [],
      "source": []
    },
    {
      "cell_type": "code",
      "execution_count": null,
      "id": "2deaddbc",
      "metadata": {
        "id": "2deaddbc"
      },
      "outputs": [],
      "source": []
    },
    {
      "cell_type": "code",
      "execution_count": null,
      "id": "1a1f9a04",
      "metadata": {
        "id": "1a1f9a04"
      },
      "outputs": [],
      "source": []
    },
    {
      "cell_type": "markdown",
      "id": "6485cd81",
      "metadata": {
        "id": "6485cd81"
      },
      "source": [
        "Let's save our work before continuing."
      ]
    },
    {
      "cell_type": "code",
      "execution_count": null,
      "id": "09cc632c",
      "metadata": {
        "colab": {
          "base_uri": "https://localhost:8080/"
        },
        "id": "09cc632c",
        "outputId": "bdde561b-608c-47d2-9c54-c7ee66aadcfa"
      },
      "outputs": [
        {
          "data": {
            "application/javascript": [
              "window.require && require([\"base/js/namespace\"],function(Jupyter){Jupyter.notebook.save_checkpoint()})"
            ],
            "text/plain": [
              "<IPython.core.display.Javascript object>"
            ]
          },
          "metadata": {},
          "output_type": "display_data"
        },
        {
          "name": "stdout",
          "output_type": "stream",
          "text": [
            "[jovian] Updating notebook \"ankyhunk-bg4/data-analysis-visualization-practice-assignment\" on https://jovian.ai\u001b[0m\n",
            "[jovian] Committed successfully! https://jovian.ai/ankyhunk-bg4/data-analysis-visualization-practice-assignment\u001b[0m\n"
          ]
        },
        {
          "data": {
            "text/plain": [
              "'https://jovian.ai/ankyhunk-bg4/data-analysis-visualization-practice-assignment'"
            ]
          },
          "execution_count": 80,
          "metadata": {},
          "output_type": "execute_result"
        }
      ],
      "source": [
        "jovian.commit()"
      ]
    },
    {
      "cell_type": "markdown",
      "id": "9eb1db08",
      "metadata": {
        "id": "9eb1db08"
      },
      "source": [
        "## Acknowledgement\n",
        "\n",
        "The datasets in this assignment are taken from the following sources:\n",
        "\n",
        "* Seaborn datasets: https://github.com/mwaskom/seaborn-data\n",
        "* Plotly datasets: https://github.com/plotly/datasets\n",
        "* Five Thirty Eight datasets: https://github.com/fivethirtyeight/data\n",
        "\n",
        "Check this links for many more datasets that can be used for data analysis and visualization."
      ]
    }
  ],
  "metadata": {
    "colab": {
      "provenance": []
    },
    "kernelspec": {
      "display_name": "Python 3 (ipykernel)",
      "language": "python",
      "name": "python3"
    },
    "language_info": {
      "codemirror_mode": {
        "name": "ipython",
        "version": 3
      },
      "file_extension": ".py",
      "mimetype": "text/x-python",
      "name": "python",
      "nbconvert_exporter": "python",
      "pygments_lexer": "ipython3",
      "version": "3.9.6"
    }
  },
  "nbformat": 4,
  "nbformat_minor": 5
}